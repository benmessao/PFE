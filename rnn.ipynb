{
 "cells": [
  {
   "cell_type": "markdown",
   "metadata": {},
   "source": [
    "## Préparation des données"
   ]
  },
  {
   "cell_type": "code",
   "execution_count": null,
   "metadata": {},
   "outputs": [],
   "source": []
  },
  {
   "cell_type": "code",
   "execution_count": 1,
   "metadata": {},
   "outputs": [],
   "source": [
    "import pandas as pd\n",
    "import numpy as np\n",
    "from tensorflow import keras\n",
    "from keras import layers, applications, utils, models, optimizers, Input, callbacks\n",
    "from keras.models import Sequential\n",
    "from keras.layers import Dense, SimpleRNN\n",
    "from sklearn.preprocessing import MinMaxScaler\n",
    "from sklearn.metrics import mean_squared_error\n",
    "import math\n",
    "import matplotlib.pyplot as plt\n",
    "from sklearn.model_selection import train_test_split\n",
    "from sklearn.metrics import confusion_matrix, classification_report\n",
    "import seaborn as sns"
   ]
  },
  {
   "cell_type": "code",
   "execution_count": 3,
   "metadata": {},
   "outputs": [],
   "source": [
    "# Importer les données avec les 14 colonnes sélectionnées via différentes méthodes de feature selection\n",
    "# Colonnes supprimées pour le test : \"distRealSR2\", \"senderPseudo\", \"sender\", \"sendTime\", \"scenario\", \"rcvTime\"\n",
    "\n",
    "data = pd.read_csv(\n",
    "    \"./data/DoS_0709_new_columns.csv\",\n",
    "    usecols=[\n",
    "        \"distance\",\n",
    "        \"distRealSR1\",\n",
    "        \"receiver\",\n",
    "        \"pos_y_rec_f\",\n",
    "        \"pos_x_rec_f\",\n",
    "        \"pos_x_rec\",\n",
    "        \"nb_packets_sent\",\n",
    "        \"messageID\",\n",
    "        \"label\",\n",
    "    ],\n",
    "    index_col=False,\n",
    ")"
   ]
  },
  {
   "cell_type": "code",
   "execution_count": 4,
   "metadata": {},
   "outputs": [
    {
     "name": "stdout",
     "output_type": "stream",
     "text": [
      "Nombre de lignes avant nettoyage :  2000\n",
      "Nombre de lignes après nettoyage :  1974\n"
     ]
    }
   ],
   "source": [
    "# On prend seulement une partie des données choisies aléatoirement pour avoir un nombre aléatoire d'attaques et de comportement normal\n",
    "sample_data = data.sample(2000)\n",
    "\n",
    "print(\"Nombre de lignes avant nettoyage : \", sample_data.shape[0])\n",
    "\n",
    "# On remplace les données infinies par nan si elles existent\n",
    "sample_data.replace([np.inf, -np.inf], np.nan, inplace=True)\n",
    "# Drop les lignes avec nan\n",
    "sample_data.dropna(inplace=True)\n",
    "\n",
    "print(\"Nombre de lignes après nettoyage : \", sample_data.shape[0])"
   ]
  },
  {
   "cell_type": "code",
   "execution_count": 5,
   "metadata": {},
   "outputs": [],
   "source": [
    "# Transformation en array numpy\n",
    "X = np.array(sample_data.drop([\"label\"], axis=1))\n",
    "y = np.array(sample_data[\"label\"])"
   ]
  },
  {
   "cell_type": "code",
   "execution_count": 6,
   "metadata": {},
   "outputs": [],
   "source": [
    "# On remplace les valeurs \"13\" correspondant à une attaque DoS par \"1\" pour utiliser la fonction to_categorical\n",
    "# Dans ce cas, 1 correspond à une attaque et 0 correspond à un message normal\n",
    "for i in range(len(y)):\n",
    "    if y[i]==13:\n",
    "        y[i]=1"
   ]
  },
  {
   "cell_type": "code",
   "execution_count": 7,
   "metadata": {},
   "outputs": [
    {
     "data": {
      "text/plain": [
       "array([1, 0, 0, 1, 0, 0, 1, 0, 1, 1], dtype=int64)"
      ]
     },
     "execution_count": 7,
     "metadata": {},
     "output_type": "execute_result"
    }
   ],
   "source": [
    "# Verification\n",
    "y[:10]"
   ]
  },
  {
   "cell_type": "code",
   "execution_count": 8,
   "metadata": {},
   "outputs": [],
   "source": [
    "y = keras.utils.to_categorical(y, num_classes=2)"
   ]
  },
  {
   "cell_type": "code",
   "execution_count": 9,
   "metadata": {},
   "outputs": [
    {
     "data": {
      "text/plain": [
       "array([[0., 1.],\n",
       "       [1., 0.],\n",
       "       [1., 0.],\n",
       "       [0., 1.],\n",
       "       [1., 0.],\n",
       "       [1., 0.],\n",
       "       [0., 1.],\n",
       "       [1., 0.],\n",
       "       [0., 1.],\n",
       "       [0., 1.]], dtype=float32)"
      ]
     },
     "execution_count": 9,
     "metadata": {},
     "output_type": "execute_result"
    }
   ],
   "source": [
    "# Verification\n",
    "y[:10]"
   ]
  },
  {
   "cell_type": "code",
   "execution_count": 10,
   "metadata": {},
   "outputs": [],
   "source": [
    "# Séparation en données d'entrainement et de test\n",
    "X_train, X_test, y_train, y_test = train_test_split(X, y, test_size=0.1)"
   ]
  },
  {
   "cell_type": "code",
   "execution_count": 11,
   "metadata": {},
   "outputs": [
    {
     "name": "stdout",
     "output_type": "stream",
     "text": [
      "X_train :  (1776, 8)\n",
      "y_train :  (1776, 2)\n",
      "X_test :  (198, 8)\n",
      "y_test :  (198, 2)\n"
     ]
    }
   ],
   "source": [
    "print(\"X_train : \", X_train.shape)\n",
    "print(\"y_train : \", y_train.shape)\n",
    "print(\"X_test : \", X_test.shape)\n",
    "print(\"y_test : \", y_test.shape)"
   ]
  },
  {
   "cell_type": "markdown",
   "metadata": {},
   "source": [
    "## Réseau simple"
   ]
  },
  {
   "cell_type": "code",
   "execution_count": 250,
   "metadata": {},
   "outputs": [],
   "source": [
    "simple_model = keras.Sequential([\n",
    "    layers.Dense(32,input_shape=(X_train.shape[1],), activation='relu'),\n",
    "    layers.BatchNormalization(),\n",
    "    layers.Dense(512, activation='relu'),\n",
    "    layers.BatchNormalization(),\n",
    "    layers.Dense(128, activation='relu'),\n",
    "    layers.Dense(1, activation='sigmoid')\n",
    "])"
   ]
  },
  {
   "cell_type": "code",
   "execution_count": 251,
   "metadata": {},
   "outputs": [],
   "source": [
    "callback = keras.callbacks.EarlyStopping(monitor='val_accuracy', patience=5, restore_best_weights=True)"
   ]
  },
  {
   "cell_type": "code",
   "execution_count": 252,
   "metadata": {},
   "outputs": [],
   "source": [
    "opt = keras.optimizers.SGD(learning_rate=0.1)\n",
    "simple_model.compile(loss='mean_squared_error', optimizer='adam', metrics='accuracy')"
   ]
  },
  {
   "cell_type": "code",
   "execution_count": 253,
   "metadata": {},
   "outputs": [
    {
     "name": "stdout",
     "output_type": "stream",
     "text": [
      "Epoch 1/20\n",
      "10/10 - 5s - loss: 0.3067 - accuracy: 0.5193 - val_loss: 0.2916 - val_accuracy: 0.5412 - 5s/epoch - 458ms/step\n",
      "Epoch 2/20\n",
      "10/10 - 0s - loss: 0.2867 - accuracy: 0.5322 - val_loss: 0.2846 - val_accuracy: 0.4569 - 391ms/epoch - 39ms/step\n",
      "Epoch 3/20\n",
      "10/10 - 0s - loss: 0.2707 - accuracy: 0.5498 - val_loss: 0.2906 - val_accuracy: 0.4494 - 293ms/epoch - 29ms/step\n",
      "Epoch 4/20\n",
      "10/10 - 0s - loss: 0.2758 - accuracy: 0.5297 - val_loss: 0.2822 - val_accuracy: 0.4682 - 281ms/epoch - 28ms/step\n",
      "Epoch 5/20\n",
      "10/10 - 0s - loss: 0.2660 - accuracy: 0.5338 - val_loss: 0.2722 - val_accuracy: 0.4719 - 391ms/epoch - 39ms/step\n",
      "Epoch 6/20\n",
      "10/10 - 0s - loss: 0.2552 - accuracy: 0.5305 - val_loss: 0.2674 - val_accuracy: 0.4775 - 376ms/epoch - 38ms/step\n"
     ]
    }
   ],
   "source": [
    "history = simple_model.fit(X_train, y_train, epochs=20, batch_size=128, verbose=2, validation_split=0.3)"
   ]
  },
  {
   "cell_type": "code",
   "execution_count": 257,
   "metadata": {},
   "outputs": [
    {
     "name": "stdout",
     "output_type": "stream",
     "text": [
      "7/7 [==============================] - 0s 15ms/step - loss: 0.2873 - accuracy: 0.5606\n",
      "Evaluation du modèle : [0.2872598171234131, 0.560606062412262]\n",
      "7/7 [==============================] - 0s 16ms/step\n"
     ]
    },
    {
     "data": {
      "text/plain": [
       "Text(33.0, 0.5, 'True Labels')"
      ]
     },
     "execution_count": 257,
     "metadata": {},
     "output_type": "execute_result"
    },
    {
     "data": {
      "image/png": "[encoded data removed]",
      "text/plain": [
       "<Figure size 432x432 with 1 Axes>"
      ]
     },
     "metadata": {
      "needs_background": "light"
     },
     "output_type": "display_data"
    }
   ],
   "source": [
    "print(f\"Evaluation du modèle : {simple_model.evaluate(X_test, y_test)}\")\n",
    "y_pred = simple_model.predict(X_test)\n",
    "preds = np.round(y_pred).astype(int)\n",
    "cm = confusion_matrix(y_test, preds)\n",
    "fig, ax = plt.subplots(figsize=(6,6)) \n",
    "sns.heatmap(cm, annot=True, cbar=False, cmap='Blues')\n",
    "plt.xlabel('Predicted Labels')\n",
    "plt.ylabel('True Labels')"
   ]
  },
  {
   "cell_type": "markdown",
   "metadata": {},
   "source": [
    "## Test simple avec la bibliothèque Keras\n",
    "https://machinelearningmastery.com/understanding-simple-recurrent-neural-networks-in-keras/"
   ]
  },
  {
   "cell_type": "code",
   "execution_count": 264,
   "metadata": {},
   "outputs": [],
   "source": [
    "def create_RNN(hidden_units, dense_units, input_shape, activation):\n",
    "    '''\n",
    "    hidden_units : nombre de neurones dans la couche SimpleRNN\n",
    "    dense_units : nombre de neurones dans la couche Dense\n",
    "    activation : liste des deux fonctions d'activation\n",
    "    '''\n",
    "    opt = keras.optimizers.SGD(learning_rate=0.1)\n",
    "    model = Sequential()\n",
    "    model.add(SimpleRNN(hidden_units, input_shape=input_shape, return_sequences=True,\n",
    "                        activation=activation[0]))\n",
    "    model.add(SimpleRNN(32, activation=activation[0]))\n",
    "    model.add(keras.layers.BatchNormalization())\n",
    "    model.add(Dense(64, activation=activation[1]))\n",
    "    model.add(Dense(units=dense_units, activation='sigmoid'))\n",
    "    model.compile(loss='mean_squared_error', optimizer=opt, metrics='accuracy')\n",
    "    return model\n",
    "\n",
    "#demo_model = create_RNN(2, 1, (3,1), activation=['linear', 'linear'])\n",
    "\n",
    "demo_model = create_RNN(32, 1, (X_train.shape[1],1), activation=['tanh', 'tanh'])"
   ]
  },
  {
   "cell_type": "code",
   "execution_count": 213,
   "metadata": {},
   "outputs": [],
   "source": [
    "callback = keras.callbacks.EarlyStopping(monitor='val_accuracy', patience=5, restore_best_weights=True)"
   ]
  },
  {
   "cell_type": "code",
   "execution_count": 265,
   "metadata": {},
   "outputs": [
    {
     "name": "stdout",
     "output_type": "stream",
     "text": [
      "Epoch 1/20\n",
      "10/10 - 8s - loss: 0.2622 - accuracy: 0.4952 - val_loss: 0.2533 - val_accuracy: 0.5225 - 8s/epoch - 761ms/step\n",
      "Epoch 2/20\n",
      "10/10 - 0s - loss: 0.2521 - accuracy: 0.5080 - val_loss: 0.2532 - val_accuracy: 0.5206 - 367ms/epoch - 37ms/step\n",
      "Epoch 3/20\n",
      "10/10 - 0s - loss: 0.2489 - accuracy: 0.5466 - val_loss: 0.2527 - val_accuracy: 0.5206 - 301ms/epoch - 30ms/step\n",
      "Epoch 4/20\n",
      "10/10 - 0s - loss: 0.2491 - accuracy: 0.5450 - val_loss: 0.2517 - val_accuracy: 0.5112 - 344ms/epoch - 34ms/step\n",
      "Epoch 5/20\n",
      "10/10 - 0s - loss: 0.2480 - accuracy: 0.5539 - val_loss: 0.2515 - val_accuracy: 0.5243 - 292ms/epoch - 29ms/step\n",
      "Epoch 6/20\n",
      "10/10 - 0s - loss: 0.2467 - accuracy: 0.5603 - val_loss: 0.2510 - val_accuracy: 0.5169 - 300ms/epoch - 30ms/step\n",
      "Epoch 7/20\n",
      "10/10 - 0s - loss: 0.2468 - accuracy: 0.5531 - val_loss: 0.2506 - val_accuracy: 0.5075 - 275ms/epoch - 28ms/step\n",
      "Epoch 8/20\n",
      "10/10 - 0s - loss: 0.2472 - accuracy: 0.5450 - val_loss: 0.2501 - val_accuracy: 0.5075 - 286ms/epoch - 29ms/step\n",
      "Epoch 9/20\n",
      "10/10 - 0s - loss: 0.2477 - accuracy: 0.5627 - val_loss: 0.2508 - val_accuracy: 0.5112 - 250ms/epoch - 25ms/step\n",
      "Epoch 10/20\n",
      "10/10 - 0s - loss: 0.2478 - accuracy: 0.5410 - val_loss: 0.2509 - val_accuracy: 0.5019 - 271ms/epoch - 27ms/step\n",
      "Epoch 11/20\n",
      "10/10 - 0s - loss: 0.2462 - accuracy: 0.5659 - val_loss: 0.2511 - val_accuracy: 0.5112 - 301ms/epoch - 30ms/step\n",
      "Epoch 12/20\n",
      "10/10 - 0s - loss: 0.2454 - accuracy: 0.5611 - val_loss: 0.2508 - val_accuracy: 0.5112 - 434ms/epoch - 43ms/step\n",
      "Epoch 13/20\n",
      "10/10 - 0s - loss: 0.2460 - accuracy: 0.5587 - val_loss: 0.2501 - val_accuracy: 0.5187 - 445ms/epoch - 45ms/step\n",
      "Epoch 14/20\n",
      "10/10 - 0s - loss: 0.2460 - accuracy: 0.5523 - val_loss: 0.2504 - val_accuracy: 0.5056 - 317ms/epoch - 32ms/step\n",
      "Epoch 15/20\n",
      "10/10 - 0s - loss: 0.2454 - accuracy: 0.5603 - val_loss: 0.2512 - val_accuracy: 0.5225 - 414ms/epoch - 41ms/step\n",
      "Epoch 16/20\n",
      "10/10 - 0s - loss: 0.2459 - accuracy: 0.5611 - val_loss: 0.2511 - val_accuracy: 0.5169 - 287ms/epoch - 29ms/step\n",
      "Epoch 17/20\n",
      "10/10 - 0s - loss: 0.2488 - accuracy: 0.5362 - val_loss: 0.2548 - val_accuracy: 0.5131 - 402ms/epoch - 40ms/step\n",
      "Epoch 18/20\n",
      "10/10 - 0s - loss: 0.2458 - accuracy: 0.5643 - val_loss: 0.2506 - val_accuracy: 0.5000 - 383ms/epoch - 38ms/step\n",
      "Epoch 19/20\n",
      "10/10 - 0s - loss: 0.2467 - accuracy: 0.5555 - val_loss: 0.2525 - val_accuracy: 0.5037 - 420ms/epoch - 42ms/step\n",
      "Epoch 20/20\n",
      "10/10 - 0s - loss: 0.2465 - accuracy: 0.5539 - val_loss: 0.2504 - val_accuracy: 0.5037 - 230ms/epoch - 23ms/step\n"
     ]
    }
   ],
   "source": [
    "history = demo_model.fit(X_train, y_train, epochs=20, batch_size=128, verbose=2, validation_split=0.3)"
   ]
  },
  {
   "cell_type": "markdown",
   "metadata": {},
   "source": [
    "Courbes d'apprentissage"
   ]
  },
  {
   "cell_type": "code",
   "execution_count": 266,
   "metadata": {},
   "outputs": [
    {
     "data": {
      "text/plain": [
       "<AxesSubplot:>"
      ]
     },
     "execution_count": 266,
     "metadata": {},
     "output_type": "execute_result"
    },
    {
     "data": {
      "image/png": "[encoded data removed]",
      "text/plain": [
       "<Figure size 432x288 with 1 Axes>"
      ]
     },
     "metadata": {
      "needs_background": "light"
     },
     "output_type": "display_data"
    }
   ],
   "source": [
    "history_df = pd.DataFrame(history.history)\n",
    "history_df.loc[:, ['accuracy', 'val_accuracy']].plot()"
   ]
  },
  {
   "cell_type": "code",
   "execution_count": 267,
   "metadata": {},
   "outputs": [
    {
     "data": {
      "text/plain": [
       "<AxesSubplot:>"
      ]
     },
     "execution_count": 267,
     "metadata": {},
     "output_type": "execute_result"
    },
    {
     "data": {
      "image/png": "[encoded data removed]",
      "text/plain": [
       "<Figure size 432x288 with 1 Axes>"
      ]
     },
     "metadata": {
      "needs_background": "light"
     },
     "output_type": "display_data"
    }
   ],
   "source": [
    "history_df.loc[:, ['loss', 'val_loss']].plot()"
   ]
  },
  {
   "cell_type": "code",
   "execution_count": 268,
   "metadata": {},
   "outputs": [
    {
     "name": "stdout",
     "output_type": "stream",
     "text": [
      "7/7 [==============================] - 0s 8ms/step - loss: 0.2446 - accuracy: 0.5960\n",
      "Evaluation du modèle : [0.24456235766410828, 0.5959596037864685]\n",
      "7/7 [==============================] - 2s 8ms/step\n"
     ]
    },
    {
     "data": {
      "text/plain": [
       "Text(33.0, 0.5, 'True Labels')"
      ]
     },
     "execution_count": 268,
     "metadata": {},
     "output_type": "execute_result"
    },
    {
     "data": {
      "image/png": "[encoded data removed]",
      "text/plain": [
       "<Figure size 432x432 with 1 Axes>"
      ]
     },
     "metadata": {
      "needs_background": "light"
     },
     "output_type": "display_data"
    }
   ],
   "source": [
    "print(f\"Evaluation du modèle : {demo_model.evaluate(X_test, y_test)}\")\n",
    "y_pred = demo_model.predict(X_test)\n",
    "preds = np.round(y_pred).astype(int)\n",
    "cm = confusion_matrix(y_test, preds)\n",
    "fig, ax = plt.subplots(figsize=(6,6)) \n",
    "sns.heatmap(cm, annot=True, cbar=False, cmap='Blues')\n",
    "plt.xlabel('Predicted Labels')\n",
    "plt.ylabel('True Labels')"
   ]
  },
  {
   "cell_type": "markdown",
   "metadata": {},
   "source": [
    "## Test avec LSTM de Keras"
   ]
  },
  {
   "cell_type": "code",
   "execution_count": 269,
   "metadata": {},
   "outputs": [],
   "source": [
    "lstm_model = keras.Sequential([\n",
    "    layers.Dense(32,input_shape=(X_train.shape[1],1), activation='relu'),\n",
    "    layers.LSTM(128),\n",
    "    layers.Dense(1, activation='sigmoid')\n",
    "])"
   ]
  },
  {
   "cell_type": "code",
   "execution_count": 270,
   "metadata": {},
   "outputs": [
    {
     "name": "stdout",
     "output_type": "stream",
     "text": [
      "Model: \"sequential_52\"\n",
      "_________________________________________________________________\n",
      " Layer (type)                Output Shape              Param #   \n",
      "=================================================================\n",
      " dense_117 (Dense)           (None, 8, 32)             64        \n",
      "                                                                 \n",
      " lstm_20 (LSTM)              (None, 128)               82432     \n",
      "                                                                 \n",
      " dense_118 (Dense)           (None, 1)                 129       \n",
      "                                                                 \n",
      "=================================================================\n",
      "Total params: 82,625\n",
      "Trainable params: 82,625\n",
      "Non-trainable params: 0\n",
      "_________________________________________________________________\n"
     ]
    }
   ],
   "source": [
    "lstm_model.summary()"
   ]
  },
  {
   "cell_type": "code",
   "execution_count": 271,
   "metadata": {},
   "outputs": [],
   "source": [
    "lstm_model.compile(loss='binary_crossentropy', optimizer='adam', metrics='accuracy')"
   ]
  },
  {
   "cell_type": "code",
   "execution_count": 273,
   "metadata": {},
   "outputs": [
    {
     "name": "stdout",
     "output_type": "stream",
     "text": [
      "Epoch 1/20\n",
      "39/39 - 2s - loss: 0.6894 - accuracy: 0.5498 - val_loss: 0.6942 - val_accuracy: 0.5449 - 2s/epoch - 41ms/step\n",
      "Epoch 2/20\n",
      "39/39 - 1s - loss: 0.6879 - accuracy: 0.5619 - val_loss: 0.6958 - val_accuracy: 0.5431 - 1s/epoch - 38ms/step\n",
      "Epoch 3/20\n",
      "39/39 - 1s - loss: 0.6847 - accuracy: 0.5635 - val_loss: 0.6951 - val_accuracy: 0.5468 - 1s/epoch - 34ms/step\n",
      "Epoch 4/20\n",
      "39/39 - 1s - loss: 0.6862 - accuracy: 0.5675 - val_loss: 0.6965 - val_accuracy: 0.5412 - 1s/epoch - 27ms/step\n",
      "Epoch 5/20\n",
      "39/39 - 1s - loss: 0.6845 - accuracy: 0.5627 - val_loss: 0.6986 - val_accuracy: 0.5468 - 1s/epoch - 31ms/step\n",
      "Epoch 6/20\n",
      "39/39 - 2s - loss: 0.6848 - accuracy: 0.5619 - val_loss: 0.6969 - val_accuracy: 0.5412 - 2s/epoch - 41ms/step\n",
      "Epoch 7/20\n",
      "39/39 - 1s - loss: 0.6836 - accuracy: 0.5643 - val_loss: 0.6967 - val_accuracy: 0.5375 - 1s/epoch - 36ms/step\n",
      "Epoch 8/20\n",
      "39/39 - 1s - loss: 0.6849 - accuracy: 0.5611 - val_loss: 0.7003 - val_accuracy: 0.4513 - 1s/epoch - 33ms/step\n",
      "Epoch 9/20\n",
      "39/39 - 2s - loss: 0.6827 - accuracy: 0.5675 - val_loss: 0.7017 - val_accuracy: 0.5468 - 2s/epoch - 51ms/step\n",
      "Epoch 10/20\n",
      "39/39 - 1s - loss: 0.6830 - accuracy: 0.5635 - val_loss: 0.6981 - val_accuracy: 0.5337 - 1s/epoch - 26ms/step\n",
      "Epoch 11/20\n",
      "39/39 - 2s - loss: 0.6833 - accuracy: 0.5659 - val_loss: 0.6983 - val_accuracy: 0.5262 - 2s/epoch - 49ms/step\n",
      "Epoch 12/20\n",
      "39/39 - 1s - loss: 0.6848 - accuracy: 0.5627 - val_loss: 0.6968 - val_accuracy: 0.5375 - 1s/epoch - 37ms/step\n",
      "Epoch 13/20\n",
      "39/39 - 1s - loss: 0.6832 - accuracy: 0.5732 - val_loss: 0.6973 - val_accuracy: 0.5412 - 1s/epoch - 29ms/step\n",
      "Epoch 14/20\n",
      "39/39 - 1s - loss: 0.6827 - accuracy: 0.5675 - val_loss: 0.6995 - val_accuracy: 0.5356 - 1s/epoch - 30ms/step\n",
      "Epoch 15/20\n",
      "39/39 - 1s - loss: 0.6834 - accuracy: 0.5651 - val_loss: 0.6973 - val_accuracy: 0.5412 - 1s/epoch - 29ms/step\n",
      "Epoch 16/20\n",
      "39/39 - 1s - loss: 0.6828 - accuracy: 0.5691 - val_loss: 0.6978 - val_accuracy: 0.5431 - 1s/epoch - 30ms/step\n",
      "Epoch 17/20\n",
      "39/39 - 1s - loss: 0.6822 - accuracy: 0.5707 - val_loss: 0.6978 - val_accuracy: 0.5337 - 1s/epoch - 33ms/step\n",
      "Epoch 18/20\n",
      "39/39 - 1s - loss: 0.6832 - accuracy: 0.5659 - val_loss: 0.6999 - val_accuracy: 0.5393 - 1s/epoch - 29ms/step\n",
      "Epoch 19/20\n",
      "39/39 - 1s - loss: 0.6829 - accuracy: 0.5619 - val_loss: 0.6983 - val_accuracy: 0.5393 - 1s/epoch - 30ms/step\n",
      "Epoch 20/20\n",
      "39/39 - 1s - loss: 0.6820 - accuracy: 0.5659 - val_loss: 0.6989 - val_accuracy: 0.5300 - 1s/epoch - 31ms/step\n"
     ]
    }
   ],
   "source": [
    "history = lstm_model.fit(X_train, y_train, epochs=20, batch_size=32, verbose=2, validation_split=0.3)"
   ]
  },
  {
   "cell_type": "markdown",
   "metadata": {},
   "source": [
    "Courbes d'apprentissage"
   ]
  },
  {
   "cell_type": "code",
   "execution_count": 274,
   "metadata": {},
   "outputs": [
    {
     "data": {
      "text/plain": [
       "<AxesSubplot:>"
      ]
     },
     "execution_count": 274,
     "metadata": {},
     "output_type": "execute_result"
    },
    {
     "data": {
      "image/png": "[encoded data removed]",
      "text/plain": [
       "<Figure size 432x288 with 1 Axes>"
      ]
     },
     "metadata": {
      "needs_background": "light"
     },
     "output_type": "display_data"
    }
   ],
   "source": [
    "history_df = pd.DataFrame(history.history)\n",
    "history_df.loc[:, ['accuracy', 'val_accuracy']].plot()"
   ]
  },
  {
   "cell_type": "code",
   "execution_count": 275,
   "metadata": {},
   "outputs": [
    {
     "data": {
      "text/plain": [
       "<AxesSubplot:>"
      ]
     },
     "execution_count": 275,
     "metadata": {},
     "output_type": "execute_result"
    },
    {
     "data": {
      "image/png": "[encoded data removed]",
      "text/plain": [
       "<Figure size 432x288 with 1 Axes>"
      ]
     },
     "metadata": {
      "needs_background": "light"
     },
     "output_type": "display_data"
    }
   ],
   "source": [
    "history_df.loc[:, ['loss', 'val_loss']].plot()"
   ]
  },
  {
   "cell_type": "code",
   "execution_count": 276,
   "metadata": {},
   "outputs": [
    {
     "name": "stdout",
     "output_type": "stream",
     "text": [
      "7/7 [==============================] - 0s 14ms/step - loss: 0.6898 - accuracy: 0.5505\n",
      "Evaluation du modèle : [0.6897702217102051, 0.5505050420761108]\n",
      "7/7 [==============================] - 2s 14ms/step\n"
     ]
    },
    {
     "data": {
      "text/plain": [
       "Text(33.0, 0.5, 'True Labels')"
      ]
     },
     "execution_count": 276,
     "metadata": {},
     "output_type": "execute_result"
    },
    {
     "data": {
      "image/png": "[encoded data removed]",
      "text/plain": [
       "<Figure size 432x432 with 1 Axes>"
      ]
     },
     "metadata": {
      "needs_background": "light"
     },
     "output_type": "display_data"
    }
   ],
   "source": [
    "print(f\"Evaluation du modèle : {lstm_model.evaluate(X_test, y_test)}\")\n",
    "y_pred = lstm_model.predict(X_test)\n",
    "preds = np.round(y_pred).astype(int)\n",
    "cm = confusion_matrix(y_test, preds)\n",
    "fig, ax = plt.subplots(figsize=(6,6)) \n",
    "sns.heatmap(cm, annot=True, cbar=False, cmap='Blues')\n",
    "plt.xlabel('Predicted Labels')\n",
    "plt.ylabel('True Labels')"
   ]
  },
  {
   "cell_type": "markdown",
   "metadata": {},
   "source": [
    "## Test avec mélanges de SimpleRNN et LSTM"
   ]
  },
  {
   "cell_type": "code",
   "execution_count": 287,
   "metadata": {},
   "outputs": [],
   "source": [
    "lstm_rnn_model = keras.Sequential([\n",
    "    layers.Dense(32,input_shape=(X_train.shape[1],1), activation='relu'),\n",
    "    layers.LSTM(128, return_sequences=True, activation='relu'), # return_sequences à True pour que la sortie soit de dimension 3\n",
    "    layers.SimpleRNN(64,activation='relu'),\n",
    "    layers.Dropout(0.2),\n",
    "    layers.Dense(1, activation='sigmoid')\n",
    "])"
   ]
  },
  {
   "cell_type": "code",
   "execution_count": 288,
   "metadata": {},
   "outputs": [],
   "source": [
    "opt = keras.optimizers.SGD(learning_rate=0.1)\n",
    "lstm_rnn_model.compile(loss='binary_crossentropy', optimizer='adam', metrics='accuracy')"
   ]
  },
  {
   "cell_type": "code",
   "execution_count": 289,
   "metadata": {},
   "outputs": [
    {
     "name": "stdout",
     "output_type": "stream",
     "text": [
      "Epoch 1/15\n",
      "39/39 - 11s - loss: 240666.9844 - accuracy: 0.4952 - val_loss: 85654.8594 - val_accuracy: 0.4551 - 11s/epoch - 281ms/step\n",
      "Epoch 2/15\n",
      "39/39 - 2s - loss: 69316.7656 - accuracy: 0.5161 - val_loss: 18742.1719 - val_accuracy: 0.5449 - 2s/epoch - 43ms/step\n",
      "Epoch 3/15\n",
      "39/39 - 2s - loss: 132571.3750 - accuracy: 0.5201 - val_loss: 38687.6758 - val_accuracy: 0.5468 - 2s/epoch - 52ms/step\n",
      "Epoch 4/15\n",
      "39/39 - 1s - loss: 95365.6797 - accuracy: 0.5016 - val_loss: 37363.9844 - val_accuracy: 0.5468 - 1s/epoch - 36ms/step\n",
      "Epoch 5/15\n",
      "39/39 - 1s - loss: 76652.5000 - accuracy: 0.4783 - val_loss: 14067.2314 - val_accuracy: 0.4532 - 1s/epoch - 36ms/step\n",
      "Epoch 6/15\n",
      "39/39 - 2s - loss: 41584.8438 - accuracy: 0.5056 - val_loss: 18024.5117 - val_accuracy: 0.5468 - 2s/epoch - 40ms/step\n",
      "Epoch 7/15\n",
      "39/39 - 1s - loss: 62600.5781 - accuracy: 0.5129 - val_loss: 66093.9297 - val_accuracy: 0.5487 - 1s/epoch - 37ms/step\n",
      "Epoch 8/15\n",
      "39/39 - 2s - loss: 28114.3691 - accuracy: 0.5024 - val_loss: 17212.2949 - val_accuracy: 0.4532 - 2s/epoch - 43ms/step\n",
      "Epoch 9/15\n",
      "39/39 - 1s - loss: 18250.6562 - accuracy: 0.5466 - val_loss: 13591.3018 - val_accuracy: 0.5412 - 1s/epoch - 33ms/step\n",
      "Epoch 10/15\n",
      "39/39 - 1s - loss: 25256.6406 - accuracy: 0.4952 - val_loss: 10335.0605 - val_accuracy: 0.4551 - 1s/epoch - 33ms/step\n",
      "Epoch 11/15\n",
      "39/39 - 1s - loss: 88201.7734 - accuracy: 0.4895 - val_loss: 47540.2266 - val_accuracy: 0.5375 - 1s/epoch - 35ms/step\n",
      "Epoch 12/15\n",
      "39/39 - 2s - loss: 60531.2812 - accuracy: 0.5241 - val_loss: 4382.7910 - val_accuracy: 0.5431 - 2s/epoch - 43ms/step\n",
      "Epoch 13/15\n",
      "39/39 - 1s - loss: 28937.9512 - accuracy: 0.4920 - val_loss: 11128.1738 - val_accuracy: 0.5393 - 1s/epoch - 37ms/step\n",
      "Epoch 14/15\n",
      "39/39 - 1s - loss: 14046.3926 - accuracy: 0.5000 - val_loss: 17288.6641 - val_accuracy: 0.5393 - 1s/epoch - 33ms/step\n",
      "Epoch 15/15\n",
      "39/39 - 2s - loss: 22214.2031 - accuracy: 0.5048 - val_loss: 87086.9219 - val_accuracy: 0.5449 - 2s/epoch - 42ms/step\n"
     ]
    }
   ],
   "source": [
    "history = lstm_rnn_model.fit(X_train, y_train, epochs=15, batch_size=32, verbose=2, validation_split=0.3)"
   ]
  },
  {
   "cell_type": "markdown",
   "metadata": {},
   "source": [
    "Courbes d'apprentissage"
   ]
  },
  {
   "cell_type": "code",
   "execution_count": 290,
   "metadata": {},
   "outputs": [
    {
     "data": {
      "text/plain": [
       "<AxesSubplot:>"
      ]
     },
     "execution_count": 290,
     "metadata": {},
     "output_type": "execute_result"
    },
    {
     "data": {
      "image/png": "[encoded data removed]",
      "text/plain": [
       "<Figure size 432x288 with 1 Axes>"
      ]
     },
     "metadata": {
      "needs_background": "light"
     },
     "output_type": "display_data"
    }
   ],
   "source": [
    "history_df = pd.DataFrame(history.history)\n",
    "history_df.loc[:, ['accuracy', 'val_accuracy']].plot()"
   ]
  },
  {
   "cell_type": "code",
   "execution_count": 291,
   "metadata": {},
   "outputs": [
    {
     "data": {
      "text/plain": [
       "<AxesSubplot:>"
      ]
     },
     "execution_count": 291,
     "metadata": {},
     "output_type": "execute_result"
    },
    {
     "data": {
      "image/png": "[encoded data removed]",
      "text/plain": [
       "<Figure size 432x288 with 1 Axes>"
      ]
     },
     "metadata": {
      "needs_background": "light"
     },
     "output_type": "display_data"
    }
   ],
   "source": [
    "history_df.loc[:, ['loss', 'val_loss']].plot()"
   ]
  },
  {
   "cell_type": "code",
   "execution_count": 292,
   "metadata": {},
   "outputs": [
    {
     "name": "stdout",
     "output_type": "stream",
     "text": [
      "7/7 [==============================] - 0s 25ms/step - loss: 81576.7500 - accuracy: 0.5404\n",
      "Evaluation du modèle : [81576.75, 0.5404040217399597]\n",
      "7/7 [==============================] - 2s 15ms/step\n"
     ]
    },
    {
     "data": {
      "text/plain": [
       "Text(33.0, 0.5, 'True Labels')"
      ]
     },
     "execution_count": 292,
     "metadata": {},
     "output_type": "execute_result"
    },
    {
     "data": {
      "image/png": "[encoded data removed]",
      "text/plain": [
       "<Figure size 432x432 with 1 Axes>"
      ]
     },
     "metadata": {
      "needs_background": "light"
     },
     "output_type": "display_data"
    }
   ],
   "source": [
    "print(f\"Evaluation du modèle : {lstm_rnn_model.evaluate(X_test, y_test)}\")\n",
    "y_pred = lstm_rnn_model.predict(X_test)\n",
    "preds = np.round(y_pred).astype(int)\n",
    "cm = confusion_matrix(y_test, preds)\n",
    "fig, ax = plt.subplots(figsize=(6,6)) \n",
    "sns.heatmap(cm, annot=True, cbar=False, cmap='Blues')\n",
    "plt.xlabel('Predicted Labels')\n",
    "plt.ylabel('True Labels')"
   ]
  },
  {
   "cell_type": "markdown",
   "metadata": {},
   "source": [
    "## Test avec : https://peterroelants.github.io/posts/rnn-implementation-part01/#Final-model"
   ]
  },
  {
   "cell_type": "code",
   "execution_count": 230,
   "metadata": {},
   "outputs": [
    {
     "ename": "ValueError",
     "evalue": "operands could not be broadcast together with shapes (1778,) (1976,2) ",
     "output_type": "error",
     "traceback": [
      "\u001b[1;31m---------------------------------------------------------------------------\u001b[0m",
      "\u001b[1;31mValueError\u001b[0m                                Traceback (most recent call last)",
      "\u001b[1;32mC:\\Users\\CYTECH~1\\AppData\\Local\\Temp/ipykernel_17048/2275757270.py\u001b[0m in \u001b[0;36m<module>\u001b[1;34m\u001b[0m\n\u001b[0;32m     13\u001b[0m \u001b[1;32mfor\u001b[0m \u001b[0mi\u001b[0m \u001b[1;32min\u001b[0m \u001b[0mrange\u001b[0m\u001b[1;33m(\u001b[0m\u001b[1;36m500\u001b[0m\u001b[1;33m)\u001b[0m\u001b[1;33m:\u001b[0m\u001b[1;33m\u001b[0m\u001b[1;33m\u001b[0m\u001b[0m\n\u001b[0;32m     14\u001b[0m     \u001b[1;31m# Get the update values and sign of the last gradient\u001b[0m\u001b[1;33m\u001b[0m\u001b[1;33m\u001b[0m\u001b[1;33m\u001b[0m\u001b[0m\n\u001b[1;32m---> 15\u001b[1;33m     W_delta, W_sign = rnn.update_rprop(\n\u001b[0m\u001b[0;32m     16\u001b[0m         X_train, y, W, W_sign, W_delta, eta_p, eta_n)\n\u001b[0;32m     17\u001b[0m     \u001b[1;31m# Update each weight parameter seperately\u001b[0m\u001b[1;33m\u001b[0m\u001b[1;33m\u001b[0m\u001b[1;33m\u001b[0m\u001b[0m\n",
      "\u001b[1;32mc:\\Users\\CYTech Student\\OneDrive - CY Cergy Paris Université\\Bureau\\PFE\\Dataset\\modeles\\rnn.py\u001b[0m in \u001b[0;36mupdate_rprop\u001b[1;34m(X, t, W, W_prev_sign, W_delta, eta_p, eta_n)\u001b[0m\n\u001b[0;32m     83\u001b[0m     \u001b[1;31m# Perform forward and backward pass to get the gradients\u001b[0m\u001b[1;33m\u001b[0m\u001b[1;33m\u001b[0m\u001b[1;33m\u001b[0m\u001b[0m\n\u001b[0;32m     84\u001b[0m     \u001b[0mS\u001b[0m \u001b[1;33m=\u001b[0m \u001b[0mforward_states\u001b[0m\u001b[1;33m(\u001b[0m\u001b[0mX\u001b[0m\u001b[1;33m,\u001b[0m \u001b[0mW\u001b[0m\u001b[1;33m[\u001b[0m\u001b[1;36m0\u001b[0m\u001b[1;33m]\u001b[0m\u001b[1;33m,\u001b[0m \u001b[0mW\u001b[0m\u001b[1;33m[\u001b[0m\u001b[1;36m1\u001b[0m\u001b[1;33m]\u001b[0m\u001b[1;33m)\u001b[0m\u001b[1;33m\u001b[0m\u001b[1;33m\u001b[0m\u001b[0m\n\u001b[1;32m---> 85\u001b[1;33m     \u001b[0mgrad_out\u001b[0m \u001b[1;33m=\u001b[0m \u001b[0moutput_gradient\u001b[0m\u001b[1;33m(\u001b[0m\u001b[0mS\u001b[0m\u001b[1;33m[\u001b[0m\u001b[1;33m:\u001b[0m\u001b[1;33m,\u001b[0m \u001b[1;33m-\u001b[0m\u001b[1;36m1\u001b[0m\u001b[1;33m]\u001b[0m\u001b[1;33m,\u001b[0m \u001b[0mt\u001b[0m\u001b[1;33m)\u001b[0m\u001b[1;33m\u001b[0m\u001b[1;33m\u001b[0m\u001b[0m\n\u001b[0m\u001b[0;32m     86\u001b[0m     \u001b[0mW_grads\u001b[0m\u001b[1;33m,\u001b[0m \u001b[0m_\u001b[0m \u001b[1;33m=\u001b[0m \u001b[0mbackward_gradient\u001b[0m\u001b[1;33m(\u001b[0m\u001b[0mX\u001b[0m\u001b[1;33m,\u001b[0m \u001b[0mS\u001b[0m\u001b[1;33m,\u001b[0m \u001b[0mgrad_out\u001b[0m\u001b[1;33m,\u001b[0m \u001b[0mW\u001b[0m\u001b[1;33m[\u001b[0m\u001b[1;36m1\u001b[0m\u001b[1;33m]\u001b[0m\u001b[1;33m)\u001b[0m\u001b[1;33m\u001b[0m\u001b[1;33m\u001b[0m\u001b[0m\n\u001b[0;32m     87\u001b[0m     \u001b[0mW_sign\u001b[0m \u001b[1;33m=\u001b[0m \u001b[0mnp\u001b[0m\u001b[1;33m.\u001b[0m\u001b[0msign\u001b[0m\u001b[1;33m(\u001b[0m\u001b[0mW_grads\u001b[0m\u001b[1;33m)\u001b[0m  \u001b[1;31m# Sign of new gradient\u001b[0m\u001b[1;33m\u001b[0m\u001b[1;33m\u001b[0m\u001b[0m\n",
      "\u001b[1;32mc:\\Users\\CYTech Student\\OneDrive - CY Cergy Paris Université\\Bureau\\PFE\\Dataset\\modeles\\rnn.py\u001b[0m in \u001b[0;36moutput_gradient\u001b[1;34m(y, t)\u001b[0m\n\u001b[0;32m     40\u001b[0m     \u001b[0mGradient\u001b[0m \u001b[0mof\u001b[0m \u001b[0mthe\u001b[0m \u001b[0mMSE\u001b[0m \u001b[0mloss\u001b[0m \u001b[0mfunction\u001b[0m \u001b[1;32mwith\u001b[0m \u001b[0mrespect\u001b[0m \u001b[0mto\u001b[0m \u001b[0mthe\u001b[0m \u001b[0moutput\u001b[0m \u001b[0my\u001b[0m\u001b[1;33m.\u001b[0m\u001b[1;33m\u001b[0m\u001b[1;33m\u001b[0m\u001b[0m\n\u001b[0;32m     41\u001b[0m     \"\"\"\n\u001b[1;32m---> 42\u001b[1;33m     \u001b[1;32mreturn\u001b[0m \u001b[1;36m2.0\u001b[0m \u001b[1;33m*\u001b[0m \u001b[1;33m(\u001b[0m\u001b[0my\u001b[0m \u001b[1;33m-\u001b[0m \u001b[0mt\u001b[0m\u001b[1;33m)\u001b[0m\u001b[1;33m\u001b[0m\u001b[1;33m\u001b[0m\u001b[0m\n\u001b[0m\u001b[0;32m     43\u001b[0m \u001b[1;33m\u001b[0m\u001b[0m\n\u001b[0;32m     44\u001b[0m \u001b[1;33m\u001b[0m\u001b[0m\n",
      "\u001b[1;31mValueError\u001b[0m: operands could not be broadcast together with shapes (1778,) (1976,2) "
     ]
    }
   ],
   "source": [
    "import rnn\n",
    "\n",
    "eta_p = 1.2\n",
    "eta_n = 0.5\n",
    "\n",
    "# Set initial parameters\n",
    "W = [-1.5, 2]  # [wx, wRec]\n",
    "W_delta = [0.001, 0.001]  # Update values (Delta) for W\n",
    "W_sign = [0, 0]  # Previous sign of W\n",
    "\n",
    "ls_of_ws = [(W[0], W[1])]  # List of weights to plot\n",
    "# Iterate over 500 iterations\n",
    "for i in range(500):\n",
    "    # Get the update values and sign of the last gradient\n",
    "    W_delta, W_sign = rnn.update_rprop(\n",
    "        X_train, y, W, W_sign, W_delta, eta_p, eta_n)\n",
    "    # Update each weight parameter seperately\n",
    "    for i, _ in enumerate(W):\n",
    "        W[i] -= W_sign[i] * W_delta[i]\n",
    "    ls_of_ws.append((W[0], W[1]))  # Add weights to list to plot\n",
    "\n",
    "print(f'Final weights are: wx = {W[0]:.4f},  wRec = {W[1]:.4f}')"
   ]
  },
  {
   "cell_type": "markdown",
   "metadata": {},
   "source": [
    "## Test avec : https://github.com/WillKoehrsen/recurrent-neural-networks"
   ]
  },
  {
   "cell_type": "code",
   "execution_count": null,
   "metadata": {},
   "outputs": [],
   "source": [
    "from tensorflow import keras\n",
    "from keras import layers, applications, utils, models, optimizers, Input\n",
    "\n",
    "# Modèle déjà existant téléchargé sur le github en titre\n",
    "imported_rnn = keras.models.load_model('./train-embeddings-rnn.h5')"
   ]
  },
  {
   "cell_type": "code",
   "execution_count": null,
   "metadata": {},
   "outputs": [
    {
     "name": "stdout",
     "output_type": "stream",
     "text": [
      "Model: \"sequential_2\"\n",
      "_________________________________________________________________\n",
      " Layer (type)                Output Shape              Param #   \n",
      "=================================================================\n",
      " embedding_2 (Embedding)     (None, None, 100)         1619200   \n",
      "                                                                 \n",
      " lstm_2 (LSTM)               (None, 64)                42240     \n",
      "                                                                 \n",
      " dense_3 (Dense)             (None, 128)               8320      \n",
      "                                                                 \n",
      " dropout_2 (Dropout)         (None, 128)               0         \n",
      "                                                                 \n",
      " dense_4 (Dense)             (None, 16192)             2088768   \n",
      "                                                                 \n",
      "=================================================================\n",
      "Total params: 3,758,528\n",
      "Trainable params: 3,758,528\n",
      "Non-trainable params: 0\n",
      "_________________________________________________________________\n"
     ]
    }
   ],
   "source": [
    "imported_rnn.summary()"
   ]
  },
  {
   "cell_type": "code",
   "execution_count": null,
   "metadata": {},
   "outputs": [],
   "source": [
    "# Ajout de couches d'entrée et de sortie pour que le modèle soit adapté à nos données\n",
    "model = models.Sequential([\n",
    "    Input(shape=(14,)),\n",
    "    layers.Dense(32,activation='relu'),\n",
    "    imported_rnn,\n",
    "    layers.Dense(1, activation='sigmoid')\n",
    "])"
   ]
  },
  {
   "cell_type": "code",
   "execution_count": null,
   "metadata": {},
   "outputs": [
    {
     "name": "stdout",
     "output_type": "stream",
     "text": [
      "Model: \"sequential\"\n",
      "_________________________________________________________________\n",
      " Layer (type)                Output Shape              Param #   \n",
      "=================================================================\n",
      " dense (Dense)               (None, 32)                480       \n",
      "                                                                 \n",
      " sequential_2 (Sequential)   (None, 16192)             3758528   \n",
      "                                                                 \n",
      " dense_1 (Dense)             (None, 1)                 16193     \n",
      "                                                                 \n",
      "=================================================================\n",
      "Total params: 3,775,201\n",
      "Trainable params: 3,775,201\n",
      "Non-trainable params: 0\n",
      "_________________________________________________________________\n"
     ]
    }
   ],
   "source": [
    "model.summary()"
   ]
  },
  {
   "cell_type": "code",
   "execution_count": null,
   "metadata": {},
   "outputs": [],
   "source": [
    "model.compile(optimizer='adam', loss='binary_crossentropy', metrics='accuracy')"
   ]
  },
  {
   "cell_type": "code",
   "execution_count": null,
   "metadata": {},
   "outputs": [],
   "source": [
    "training_history = model.fit(x=X_train, y=y_train, epochs=10, validation_split=0.3, shuffle=True, batch_size=64)\n",
    "\n",
    "# Problème au niveau de la couche embeddings"
   ]
  }
 ],
 "metadata": {
  "kernelspec": {
   "display_name": "Python 3.8.3 64-bit",
   "language": "python",
   "name": "python3"
  },
  "language_info": {
   "codemirror_mode": {
    "name": "ipython",
    "version": 3
   },
   "file_extension": ".py",
   "mimetype": "text/x-python",
   "name": "python",
   "nbconvert_exporter": "python",
   "pygments_lexer": "ipython3",
   "version": "3.8.3"
  },
  "orig_nbformat": 4,
  "vscode": {
   "interpreter": {
    "hash": "570feb405e2e27c949193ac68f46852414290d515b0ba6e5d90d076ed2284471"
   }
  }
 },
 "nbformat": 4,
 "nbformat_minor": 2
}

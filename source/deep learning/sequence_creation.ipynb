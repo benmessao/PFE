{
   "cells": [
      {
         "cell_type": "code",
         "execution_count": 1,
         "metadata": {},
         "outputs": [],
         "source": [
            "import pandas as pd\n",
            "import numpy as np\n",
            "import sys\n",
            "sys.path.append('../src/')\n",
            "import dataset_prep"
         ]
      },
      {
         "attachments": {},
         "cell_type": "markdown",
         "metadata": {},
         "source": [
            "Import de la base de données"
         ]
      },
      {
         "cell_type": "code",
         "execution_count": 2,
         "metadata": {},
         "outputs": [],
         "source": [
            "selected_columns = [\n",
            "\"nb_packets_sent\",\n",
            "\"distance\",\n",
            "\"distRealSR1\",\n",
            "\"pos_y_rec_f\",\n",
            "\"pos_y_rec\",\n",
            "\"pos_x_rec_f\",\n",
            "\"pos_x_rec\",\n",
            "\"pos_x_send\",\n",
            "\"pos_y_send\",\n",
            "\"spd_x_send\",\n",
            "\"spd_y_send\",\n",
            "\"sendTime\",\n",
            "\"receiver\",\n",
            "\"sender\",\n",
            "\"label\"\n",
            "]"
         ]
      },
      {
         "cell_type": "code",
         "execution_count": 3,
         "metadata": {},
         "outputs": [
            {
               "name": "stdout",
               "output_type": "stream",
               "text": [
                  "Nombre de lignes avant nettoyage :  1048575\n",
                  "Nombre de lignes après nettoyage :  1038446\n"
               ]
            }
         ],
         "source": [
            "df = dataset_prep.import_dataset('../../data/1416/merged1.csv', selected_columns)"
         ]
      },
      {
         "attachments": {},
         "cell_type": "markdown",
         "metadata": {},
         "source": [
            "Analyse et vérification des données"
         ]
      },
      {
         "cell_type": "code",
         "execution_count": 4,
         "metadata": {},
         "outputs": [
            {
               "data": {
                  "text/plain": [
                     "array([   9,   15,   21, ..., 6687, 6693, 6699])"
                  ]
               },
               "execution_count": 4,
               "metadata": {},
               "output_type": "execute_result"
            }
         ],
         "source": [
            "senders = np.unique(df[\"sender\"].values)\n",
            "senders"
         ]
      },
      {
         "cell_type": "code",
         "execution_count": 5,
         "metadata": {},
         "outputs": [
            {
               "name": "stdout",
               "output_type": "stream",
               "text": [
                  "1116\n"
               ]
            }
         ],
         "source": [
            "print(len(senders))"
         ]
      },
      {
         "cell_type": "code",
         "execution_count": 6,
         "metadata": {},
         "outputs": [
            {
               "data": {
                  "text/plain": [
                     "Index(['sendTime', 'sender', 'receiver', 'pos_x_send', 'pos_y_send',\n",
                     "       'spd_x_send', 'spd_y_send', 'pos_x_rec', 'pos_y_rec', 'pos_x_rec_f',\n",
                     "       'pos_y_rec_f', 'nb_packets_sent', 'distRealSR1', 'distance'],\n",
                     "      dtype='object')"
                  ]
               },
               "execution_count": 6,
               "metadata": {},
               "output_type": "execute_result"
            }
         ],
         "source": [
            "# Copie de la bdd pour récuperer les colonnes sans impacter la vraie base de données\n",
            "\n",
            "data_copy = df.copy()\n",
            "data_copy = data_copy.drop([\"label\"], axis=1)\n",
            "\n",
            "columns = data_copy.columns\n",
            "columns"
         ]
      },
      {
         "attachments": {},
         "cell_type": "markdown",
         "metadata": {},
         "source": [
            "Amélioration à faire :\n",
            "\n",
            "Séléctionner seulement les sender avec value_counts > 20"
         ]
      },
      {
         "attachments": {},
         "cell_type": "markdown",
         "metadata": {},
         "source": [
            "Séparation de la base de données : diviser pour régner"
         ]
      },
      {
         "cell_type": "code",
         "execution_count": 7,
         "metadata": {},
         "outputs": [],
         "source": [
            "# /!\\ attention à bien utiliser la base de données rangée par sender pour limiter la perte de données\n",
            "# Indice égal à 0, 1 ou 2\n",
            "# Célia = 0\n",
            "# Chléo = 1\n",
            "# Thomas = 2\n",
            "\n",
            "def split_data_in_3(df, indice):\n",
            "    # Division de la bdd en 3\n",
            "    split_data = np.array_split(df,3)\n",
            "\n",
            "    # Division en plusieurs sous-bdd pour diminuer le temps de calcul par exécution\n",
            "    #divided_data = np.array_split(split_data[indice],50)\n",
            "\n",
            "    return split_data"
         ]
      },
      {
         "attachments": {},
         "cell_type": "markdown",
         "metadata": {},
         "source": [
            "/!\\ à bien changer l'indice !!"
         ]
      },
      {
         "cell_type": "code",
         "execution_count": 8,
         "metadata": {},
         "outputs": [],
         "source": [
            "divided_dataframes = split_data_in_3(df.sort_values(\"sender\"),0)"
         ]
      },
      {
         "cell_type": "code",
         "execution_count": 9,
         "metadata": {},
         "outputs": [
            {
               "data": {
                  "text/plain": [
                     "3"
                  ]
               },
               "execution_count": 9,
               "metadata": {},
               "output_type": "execute_result"
            }
         ],
         "source": [
            "len(divided_dataframes)"
         ]
      },
      {
         "attachments": {},
         "cell_type": "markdown",
         "metadata": {},
         "source": [
            "Création des séquences"
         ]
      },
      {
         "cell_type": "code",
         "execution_count": 8,
         "metadata": {},
         "outputs": [],
         "source": [
            "def sequence_creation(df):\n",
            "    senders_sequences = np.array()\n",
            "    senders_label = np.array\n",
            "    for sender in senders:\n",
            "        sender_data_sorted = df.loc[df['sender'] == sender].sort_values(\"sendTime\")\n",
            "        sender_data_sorted = sender_data_sorted.drop([\"label\",\"sender\"], axis=1)\n",
            "        sequence_array = np.array\n",
            "\n",
            "        length = sender_data_sorted.shape[0]\n",
            "        slide = 10\n",
            "        start = 0\n",
            "        end = 20\n",
            "\n",
            "        # On récupère la valeur du label pour ce sender\n",
            "        label = df.loc[df['sender'] == sender]['label'].tolist()[0]\n",
            "        if (length > 20):\n",
            "            senders_label.append(label)\n",
            "\n",
            "        # On vérifie qu'il est possible de faire une séquence de taille 20\n",
            "        while length >= 20:\n",
            "            # Extraction par tranche de 20 avec une inter de 10\n",
            "            sequence = sender_data_sorted[start:end]\n",
            "\n",
            "            # Labels correspondant\n",
            "            #labels =  pd.Series.tolist(sequence[\"label\"])\n",
            "\n",
            "            # On transforme les 13 en 1, cette formule marche toujours si on met d'autres types d'attaques\n",
            "            #labels[:] = [x if x == 0 else 1 for x in labels]\n",
            "\n",
            "            # Attribution des tableaux numpy\n",
            "            sequence_array = np.append(sequence_array, np.array(sequence.values, dtype=object))\n",
            "            #label_array.append(labels)\n",
            "\n",
            "            # Mise à jour des variables\n",
            "            start += slide\n",
            "            end += slide\n",
            "            length -= 10\n",
            "        \n",
            "        if len(sequence_array)>0:\n",
            "            senders_sequences = np.append(senders_sequences, np.array(sequence_array, dtype=object))\n",
            "\n",
            "    \n",
            "    return senders_sequences, senders_label"
         ]
      },
      {
         "cell_type": "code",
         "execution_count": 9,
         "metadata": {},
         "outputs": [],
         "source": [
            "def flat_sequence_creation(df):\n",
            "    senders_sequences = []\n",
            "    senders_label = []\n",
            "\n",
            "    for sender in senders:\n",
            "        # Données d'un seul sender rangée en fonction de l'heure d'envoi\n",
            "        sender_data_sorted = df.loc[df['sender'] == sender].sort_values(\"sendTime\")\n",
            "\n",
            "        # On récupère la valeur du label pour ce sender\n",
            "        \"\"\" On remplasse toute les valeur !=0 en 1 \"\"\"\n",
            "        if sender_data_sorted['label'].tolist()[0] != 0 :\n",
            "            label=1\n",
            "        else :\n",
            "            label = sender_data_sorted['label'].tolist()[0]\n",
            "        #On supprime les colonnes label et sender\n",
            "        sender_data_sorted = sender_data_sorted.drop([\"label\",\"sender\"], axis=1)\n",
            "        \n",
            "        #sequence_array = []\n",
            "\n",
            "        length = sender_data_sorted.shape[0]\n",
            "        slide = 10\n",
            "        start = 0\n",
            "        end = 20\n",
            "\n",
            "        # On vérifie qu'il est possible de faire une séquence de taille 20\n",
            "        while length > 20:\n",
            "            # Extraction par tranche de 20 avec une inter de 10\n",
            "            sequence = sender_data_sorted[start:end]\n",
            "\n",
            "            # Labels correspondant\n",
            "            #labels =  pd.Series.tolist(sequence[\"label\"])\n",
            "\n",
            "            # On transforme les 13 en 1, cette formule marche toujours si on met d'autres types d'attaques\n",
            "            #labels[:] = [x if x == 0 else 1 for x in labels]\n",
            "\n",
            "            # Attribution des tableaux numpy\n",
            "            senders_sequences.append(np.array(sequence.values.tolist(), dtype=np.float32))\n",
            "            senders_label.append(label)\n",
            "\n",
            "            # Mise à jour des variables\n",
            "            start += slide\n",
            "            end += slide\n",
            "            length -= 10\n",
            "\n",
            "    return senders_sequences, senders_label"
         ]
      },
      {
         "attachments": {},
         "cell_type": "markdown",
         "metadata": {},
         "source": [
            "/!\\ à bien changer l'indice !!"
         ]
      },
      {
         "cell_type": "code",
         "execution_count": 10,
         "metadata": {},
         "outputs": [],
         "source": [
            "sorted_dataset = df.sort_values(\"sender\")"
         ]
      },
      {
         "cell_type": "code",
         "execution_count": 11,
         "metadata": {},
         "outputs": [],
         "source": [
            "sequence_test, label_test = flat_sequence_creation(sorted_dataset)\n",
            "#label_test"
         ]
      },
      {
         "attachments": {},
         "cell_type": "markdown",
         "metadata": {},
         "source": [
            "sequence_test, label_test = sequence_creation(df)"
         ]
      },
      {
         "cell_type": "code",
         "execution_count": 12,
         "metadata": {},
         "outputs": [
            {
               "data": {
                  "text/plain": [
                     "102132"
                  ]
               },
               "execution_count": 12,
               "metadata": {},
               "output_type": "execute_result"
            }
         ],
         "source": [
            "len(sequence_test)"
         ]
      },
      {
         "attachments": {},
         "cell_type": "markdown",
         "metadata": {},
         "source": [
            "# Initialisation des données"
         ]
      },
      {
         "cell_type": "code",
         "execution_count": 13,
         "metadata": {},
         "outputs": [
            {
               "name": "stderr",
               "output_type": "stream",
               "text": [
                  "2023-02-03 15:04:06.857839: W tensorflow/stream_executor/platform/default/dso_loader.cc:64] Could not load dynamic library 'libcudart.so.11.0'; dlerror: libcudart.so.11.0: cannot open shared object file: No such file or directory\n",
                  "2023-02-03 15:04:06.857867: I tensorflow/stream_executor/cuda/cudart_stub.cc:29] Ignore above cudart dlerror if you do not have a GPU set up on your machine.\n"
               ]
            }
         ],
         "source": [
            "import pandas as pd\n",
            "import numpy as np\n",
            "from tensorflow import keras\n",
            "from keras import layers, applications, utils, models, optimizers, Input, callbacks\n",
            "from keras.models import Sequential\n",
            "from keras.layers import Dense, SimpleRNN\n",
            "from sklearn.preprocessing import MinMaxScaler\n",
            "from sklearn.metrics import mean_squared_error\n",
            "import math\n",
            "import matplotlib.pyplot as plt\n",
            "from sklearn.model_selection import train_test_split\n",
            "from sklearn.metrics import confusion_matrix, classification_report\n",
            "import seaborn as sns"
         ]
      },
      {
         "cell_type": "code",
         "execution_count": 14,
         "metadata": {},
         "outputs": [],
         "source": [
            "# Transformation en array numpy\n",
            "X = np.array(sequence_test)\n",
            "y = np.array(label_test, dtype=np.float32)"
         ]
      },
      {
         "cell_type": "code",
         "execution_count": null,
         "metadata": {},
         "outputs": [],
         "source": [
            "#X = X[:100]\n",
            "#y = y[:100]"
         ]
      },
      {
         "cell_type": "code",
         "execution_count": 15,
         "metadata": {},
         "outputs": [],
         "source": [
            "# Séparation en données d'entrainement et de test\n",
            "X_train, X_test, y_train, y_test = train_test_split(X, y, test_size=0.1)"
         ]
      },
      {
         "cell_type": "code",
         "execution_count": 16,
         "metadata": {},
         "outputs": [
            {
               "name": "stdout",
               "output_type": "stream",
               "text": [
                  "X_train :  (91918, 20, 13)\n",
                  "y_train :  (91918,)\n",
                  "X_test :  (10214, 20, 13)\n",
                  "y_test :  (10214,)\n"
               ]
            }
         ],
         "source": [
            "print(\"X_train : \", X_train.shape)\n",
            "print(\"y_train : \", y_train.shape)\n",
            "print(\"X_test : \", X_test.shape)\n",
            "print(\"y_test : \", y_test.shape)"
         ]
      },
      {
         "cell_type": "code",
         "execution_count": 17,
         "metadata": {},
         "outputs": [
            {
               "data": {
                  "text/plain": [
                     "array([1., 1., 1., ..., 0., 0., 1.], dtype=float32)"
                  ]
               },
               "execution_count": 17,
               "metadata": {},
               "output_type": "execute_result"
            }
         ],
         "source": [
            "y_train"
         ]
      },
      {
         "attachments": {},
         "cell_type": "markdown",
         "metadata": {},
         "source": [
            "# Modèle dense simple"
         ]
      },
      {
         "cell_type": "code",
         "execution_count": 53,
         "metadata": {},
         "outputs": [],
         "source": [
            "# TODO amélioration du model dense avec du dropout ? \n",
            "simple_model = keras.Sequential([\n",
            "    layers.Dense(128,input_shape=(20, 13), activation='relu'),\n",
            "    #layers.BatchNormalization(), # les batchNormalization fond baisser l'accuracy \n",
            "    layers.Dense(256, activation='relu'),\n",
            "    #layers.BatchNormalization(),\n",
            "    layers.Dense(128, activation='relu'),#64\n",
            "    layers.Dropout(0.2),\n",
            "    layers.Dense(1, activation='linear') # avec relu on perd un peu d'accuracy\n",
            "])"
         ]
      },
      {
         "cell_type": "code",
         "execution_count": 54,
         "metadata": {},
         "outputs": [
            {
               "name": "stdout",
               "output_type": "stream",
               "text": [
                  "INPUT\n",
                  "(None, 20, 13) <dtype: 'float32'>\n",
                  "OUTPUT\n",
                  "(None, 20, 1) <dtype: 'float32'>\n",
                  "LAYERS\n",
                  "dense_17 (None, 20, 13) float32\n",
                  "dense_18 (None, 20, 128) float32\n",
                  "dense_19 (None, 20, 256) float32\n",
                  "dropout (None, 20, 64) float32\n",
                  "dense_20 (None, 20, 64) float32\n"
               ]
            },
            {
               "data": {
                  "text/plain": [
                     "[None, None, None, None, None]"
                  ]
               },
               "execution_count": 54,
               "metadata": {},
               "output_type": "execute_result"
            }
         ],
         "source": [
            "print(\"INPUT\")\n",
            "[print(i.shape, i.dtype) for i in simple_model.inputs]\n",
            "print(\"OUTPUT\")\n",
            "[print(o.shape, o.dtype) for o in simple_model.outputs]\n",
            "print(\"LAYERS\")\n",
            "[print(l.name, l.input_shape, l.dtype) for l in simple_model.layers]"
         ]
      },
      {
         "cell_type": "code",
         "execution_count": 55,
         "metadata": {},
         "outputs": [],
         "source": [
            "callback = keras.callbacks.EarlyStopping(monitor='val_accuracy', patience=5, restore_best_weights=True)\n",
            "#opt = keras.optimizers.SGD(learning_rate=0.01)\n",
            "simple_model.compile(loss='binary_crossentropy', optimizer=\"adam\", metrics='accuracy')"
         ]
      },
      {
         "cell_type": "code",
         "execution_count": 56,
         "metadata": {},
         "outputs": [
            {
               "name": "stdout",
               "output_type": "stream",
               "text": [
                  "Epoch 1/20\n",
                  "503/503 [==============================] - 21s 39ms/step - loss: 8.5749 - accuracy: 0.4441 - val_loss: 8.6270 - val_accuracy: 0.4407\n",
                  "Epoch 2/20\n",
                  "503/503 [==============================] - 19s 37ms/step - loss: 8.5753 - accuracy: 0.4441 - val_loss: 8.6270 - val_accuracy: 0.4407\n",
                  "Epoch 3/20\n",
                  "503/503 [==============================] - 18s 35ms/step - loss: 8.5753 - accuracy: 0.4441 - val_loss: 8.6270 - val_accuracy: 0.4407\n",
                  "Epoch 4/20\n",
                  "503/503 [==============================] - 18s 35ms/step - loss: 8.5753 - accuracy: 0.4441 - val_loss: 8.6270 - val_accuracy: 0.4407\n",
                  "Epoch 5/20\n",
                  "503/503 [==============================] - 18s 36ms/step - loss: 8.5753 - accuracy: 0.4441 - val_loss: 8.6270 - val_accuracy: 0.4407\n",
                  "Epoch 6/20\n",
                  "503/503 [==============================] - 19s 37ms/step - loss: 8.5753 - accuracy: 0.4441 - val_loss: 8.6270 - val_accuracy: 0.4407\n"
               ]
            }
         ],
         "source": [
            "history = simple_model.fit(X_train, y_train, epochs=20, batch_size=128, validation_split=0.3, callbacks=[callback])"
         ]
      },
      {
         "cell_type": "code",
         "execution_count": 57,
         "metadata": {},
         "outputs": [
            {
               "data": {
                  "text/plain": [
                     "<AxesSubplot:>"
                  ]
               },
               "execution_count": 57,
               "metadata": {},
               "output_type": "execute_result"
            },
            {
               "data": {
                  "image/png": "[encoded data removed]",
                  "text/plain": [
                     "<Figure size 432x288 with 1 Axes>"
                  ]
               },
               "metadata": {
                  "needs_background": "light"
               },
               "output_type": "display_data"
            }
         ],
         "source": [
            "history_df = pd.DataFrame(history.history)\n",
            "history_df.loc[:, ['accuracy', 'val_accuracy']].plot()"
         ]
      },
      {
         "cell_type": "code",
         "execution_count": 58,
         "metadata": {},
         "outputs": [
            {
               "data": {
                  "text/plain": [
                     "<AxesSubplot:>"
                  ]
               },
               "execution_count": 58,
               "metadata": {},
               "output_type": "execute_result"
            },
            {
               "data": {
                  "image/png": "[encoded data removed]",
                  "text/plain": [
                     "<Figure size 432x288 with 1 Axes>"
                  ]
               },
               "metadata": {
                  "needs_background": "light"
               },
               "output_type": "display_data"
            }
         ],
         "source": [
            "history_df.loc[:, ['loss', 'val_loss']].plot()"
         ]
      },
      {
         "cell_type": "code",
         "execution_count": 59,
         "metadata": {},
         "outputs": [
            {
               "data": {
                  "text/plain": [
                     "array([[[ -9866.245],\n",
                     "        [ -9886.382],\n",
                     "        [ -9909.033],\n",
                     "        ...,\n",
                     "        [ -9891.693],\n",
                     "        [ -9884.717],\n",
                     "        [ -9867.86 ]],\n",
                     "\n",
                     "       [[-10998.149],\n",
                     "        [-11000.644],\n",
                     "        [-10998.857],\n",
                     "        ...,\n",
                     "        [-10998.949],\n",
                     "        [-10999.287],\n",
                     "        [-10967.738]],\n",
                     "\n",
                     "       [[-10282.078],\n",
                     "        [-10285.951],\n",
                     "        [-10263.607],\n",
                     "        ...,\n",
                     "        [-10288.735],\n",
                     "        [-10288.17 ],\n",
                     "        [-10288.827]],\n",
                     "\n",
                     "       ...,\n",
                     "\n",
                     "       [[ -9776.508],\n",
                     "        [ -9785.494],\n",
                     "        [ -9755.09 ],\n",
                     "        ...,\n",
                     "        [ -9793.449],\n",
                     "        [ -9784.892],\n",
                     "        [ -9754.303]],\n",
                     "\n",
                     "       [[ -9718.923],\n",
                     "        [ -9726.351],\n",
                     "        [ -9719.216],\n",
                     "        ...,\n",
                     "        [ -9719.512],\n",
                     "        [ -9719.254],\n",
                     "        [ -9726.707]],\n",
                     "\n",
                     "       [[-10107.289],\n",
                     "        [-10118.682],\n",
                     "        [-10092.285],\n",
                     "        ...,\n",
                     "        [-10127.26 ],\n",
                     "        [-10108.971],\n",
                     "        [-10093.412]]], dtype=float32)"
                  ]
               },
               "execution_count": 59,
               "metadata": {},
               "output_type": "execute_result"
            }
         ],
         "source": [
            "y_pred=simple_model.predict(X_test)\n",
            "y_pred"
         ]
      },
      {
         "cell_type": "code",
         "execution_count": 60,
         "metadata": {},
         "outputs": [
            {
               "name": "stdout",
               "output_type": "stream",
               "text": [
                  "320/320 [==============================] - 1s 5ms/step - loss: 8.6307 - accuracy: 0.4405\n"
               ]
            },
            {
               "data": {
                  "text/plain": [
                     "[8.630658149719238, 0.44047385454177856]"
                  ]
               },
               "execution_count": 60,
               "metadata": {},
               "output_type": "execute_result"
            }
         ],
         "source": [
            "eval=simple_model.evaluate(X_test, y_test)\n",
            "eval"
         ]
      },
      {
         "attachments": {},
         "cell_type": "markdown",
         "metadata": {},
         "source": [
            "# RNN"
         ]
      },
      {
         "cell_type": "code",
         "execution_count": 109,
         "metadata": {},
         "outputs": [],
         "source": [
            "def create_RNN(hidden_units, dense_units, input_shape, activation):\n",
            "    '''\n",
            "    hidden_units : nombre de neurones dans la couche SimpleRNN\n",
            "    dense_units : nombre de neurones dans la couche Dense\n",
            "    activation : liste des deux fonctions d'activation\n",
            "    '''\n",
            "    #opt = keras.optimizers.SGD(learning_rate=0.01)\n",
            "    model = Sequential()\n",
            "    model.add(SimpleRNN(hidden_units, input_shape=input_shape, return_sequences=True, activation=activation[0]))\n",
            "    model.add(SimpleRNN(32, activation=activation[0])) #32\n",
            "    model.add(layers.BatchNormalization())\n",
            "    model.add(Dense(64, activation=activation[1])) #64\n",
            "    #model.add(layers.Dropout(0.3))\n",
            "    model.add(Dense(units=dense_units, activation='sigmoid'))\n",
            "    model.compile(loss='binary_crossentropy', optimizer='adam', metrics='accuracy')\n",
            "    return model\n",
            "\n",
            "#demo_model = create_RNN(2, 1, (3,1), activation=['linear', 'linear'])\n",
            "\n",
            "rnn_model = create_RNN(32, 1, (20, 13), activation=['relu', 'relu'])\n",
            "callback = keras.callbacks.EarlyStopping(monitor='val_accuracy', patience=5, restore_best_weights=True)"
         ]
      },
      {
         "cell_type": "code",
         "execution_count": 110,
         "metadata": {},
         "outputs": [
            {
               "name": "stdout",
               "output_type": "stream",
               "text": [
                  "Epoch 1/20\n",
                  "503/503 [==============================] - 8s 12ms/step - loss: 0.3442 - accuracy: 0.8482 - val_loss: 0.5721 - val_accuracy: 0.7670\n",
                  "Epoch 2/20\n",
                  "503/503 [==============================] - 4s 9ms/step - loss: 0.3279 - accuracy: 0.8547 - val_loss: 0.6295 - val_accuracy: 0.6819\n",
                  "Epoch 3/20\n",
                  "503/503 [==============================] - 4s 9ms/step - loss: 0.3254 - accuracy: 0.8564 - val_loss: 0.3528 - val_accuracy: 0.8391\n",
                  "Epoch 4/20\n",
                  "503/503 [==============================] - 4s 9ms/step - loss: 0.3236 - accuracy: 0.8567 - val_loss: 0.3400 - val_accuracy: 0.8493\n",
                  "Epoch 5/20\n",
                  "503/503 [==============================] - 5s 10ms/step - loss: 0.3224 - accuracy: 0.8586 - val_loss: 0.3256 - val_accuracy: 0.8541\n",
                  "Epoch 6/20\n",
                  "503/503 [==============================] - 5s 9ms/step - loss: 0.3227 - accuracy: 0.8584 - val_loss: 0.4822 - val_accuracy: 0.7915\n",
                  "Epoch 7/20\n",
                  "503/503 [==============================] - 6s 12ms/step - loss: 0.3194 - accuracy: 0.8596 - val_loss: 0.3366 - val_accuracy: 0.8488\n",
                  "Epoch 8/20\n",
                  "503/503 [==============================] - 5s 9ms/step - loss: 0.3197 - accuracy: 0.8596 - val_loss: 2.7508 - val_accuracy: 0.5616\n",
                  "Epoch 9/20\n",
                  "503/503 [==============================] - 5s 9ms/step - loss: 0.3184 - accuracy: 0.8582 - val_loss: 0.3277 - val_accuracy: 0.8501\n",
                  "Epoch 10/20\n",
                  "503/503 [==============================] - 4s 9ms/step - loss: 0.3146 - accuracy: 0.8598 - val_loss: 0.3853 - val_accuracy: 0.8292\n"
               ]
            }
         ],
         "source": [
            "history = rnn_model.fit(X_train, y_train, epochs=20, batch_size=128, validation_split=0.3, callbacks=[callback])"
         ]
      },
      {
         "cell_type": "code",
         "execution_count": 111,
         "metadata": {},
         "outputs": [
            {
               "data": {
                  "text/plain": [
                     "<AxesSubplot:>"
                  ]
               },
               "execution_count": 111,
               "metadata": {},
               "output_type": "execute_result"
            },
            {
               "data": {
                  "image/png": "[encoded data removed]",
                  "text/plain": [
                     "<Figure size 432x288 with 1 Axes>"
                  ]
               },
               "metadata": {
                  "needs_background": "light"
               },
               "output_type": "display_data"
            }
         ],
         "source": [
            "history_df = pd.DataFrame(history.history)\n",
            "history_df.loc[:, ['accuracy', 'val_accuracy']].plot()"
         ]
      },
      {
         "cell_type": "code",
         "execution_count": 113,
         "metadata": {},
         "outputs": [
            {
               "data": {
                  "text/plain": [
                     "<AxesSubplot:>"
                  ]
               },
               "execution_count": 113,
               "metadata": {},
               "output_type": "execute_result"
            },
            {
               "data": {
                  "image/png": "[encoded data removed]",
                  "text/plain": [
                     "<Figure size 432x288 with 1 Axes>"
                  ]
               },
               "metadata": {
                  "needs_background": "light"
               },
               "output_type": "display_data"
            }
         ],
         "source": [
            "history_df.loc[:, ['loss', 'val_loss']].plot()"
         ]
      },
      {
         "cell_type": "code",
         "execution_count": 101,
         "metadata": {},
         "outputs": [
            {
               "data": {
                  "text/plain": [
                     "array([[0.48462105],\n",
                     "       [1.        ],\n",
                     "       [0.99997735],\n",
                     "       ...,\n",
                     "       [0.1412124 ],\n",
                     "       [0.9508745 ],\n",
                     "       [0.14230323]], dtype=float32)"
                  ]
               },
               "execution_count": 101,
               "metadata": {},
               "output_type": "execute_result"
            }
         ],
         "source": [
            "y_pred=rnn_model.predict(X_test)\n",
            "y_pred"
         ]
      },
      {
         "cell_type": "code",
         "execution_count": 102,
         "metadata": {},
         "outputs": [
            {
               "name": "stdout",
               "output_type": "stream",
               "text": [
                  "              precision    recall  f1-score   support\n",
                  "\n",
                  "         0.0       0.78      0.94      0.85      4499\n",
                  "         1.0       0.94      0.80      0.86      5715\n",
                  "\n",
                  "    accuracy                           0.86     10214\n",
                  "   macro avg       0.86      0.87      0.86     10214\n",
                  "weighted avg       0.87      0.86      0.86     10214\n",
                  "\n"
               ]
            }
         ],
         "source": [
            "# arrondir les prédictions avant de les evalués\n",
            "y_pred = [0 if x < 0.5 else 1 for x in y_pred] \n",
            "\n",
            "print(classification_report(y_test, y_pred))"
         ]
      },
      {
         "cell_type": "code",
         "execution_count": 103,
         "metadata": {},
         "outputs": [
            {
               "name": "stdout",
               "output_type": "stream",
               "text": [
                  "320/320 [==============================] - 2s 5ms/step - loss: 0.3120 - accuracy: 0.8586\n"
               ]
            },
            {
               "data": {
                  "text/plain": [
                     "[0.3119809627532959, 0.8586254119873047]"
                  ]
               },
               "execution_count": 103,
               "metadata": {},
               "output_type": "execute_result"
            }
         ],
         "source": [
            "eval=rnn_model.evaluate(X_test, y_test)\n",
            "eval"
         ]
      },
      {
         "attachments": {},
         "cell_type": "markdown",
         "metadata": {},
         "source": [
            "# Test LSTM"
         ]
      },
      {
         "cell_type": "code",
         "execution_count": 160,
         "metadata": {},
         "outputs": [],
         "source": [
            "lstm_model = keras.Sequential([\n",
            "    layers.Dense(32, input_shape=(20,13), activation='relu'),\n",
            "    layers.LSTM(128, return_sequences=True),\n",
            "    layers.LSTM(128),\n",
            "    #layers.BatchNormalization(),\n",
            "    layers.Dropout(0.2),\n",
            "    layers.Dense(32, activation='relu'),\n",
            "    layers.Dense(1, activation='sigmoid')\n",
            "])"
         ]
      },
      {
         "cell_type": "code",
         "execution_count": 161,
         "metadata": {},
         "outputs": [],
         "source": [
            "callback = keras.callbacks.EarlyStopping(monitor='val_accuracy', patience=5, restore_best_weights=True)\n",
            "#opt = keras.optimizers.SGD(learning_rate=0.01)\n",
            "lstm_model.compile(loss='binary_crossentropy', optimizer='adam', metrics='accuracy')"
         ]
      },
      {
         "cell_type": "code",
         "execution_count": null,
         "metadata": {},
         "outputs": [],
         "source": [
            "lstm_model.summary()"
         ]
      },
      {
         "cell_type": "code",
         "execution_count": 162,
         "metadata": {},
         "outputs": [
            {
               "name": "stdout",
               "output_type": "stream",
               "text": [
                  "Epoch 1/20\n",
                  "503/503 [==============================] - 74s 142ms/step - loss: 0.3780 - accuracy: 0.8294 - val_loss: 0.3549 - val_accuracy: 0.8477\n",
                  "Epoch 2/20\n",
                  "503/503 [==============================] - 140s 278ms/step - loss: 0.3766 - accuracy: 0.8343 - val_loss: 0.3616 - val_accuracy: 0.8503\n",
                  "Epoch 3/20\n",
                  "503/503 [==============================] - 150s 299ms/step - loss: 0.3541 - accuracy: 0.8416 - val_loss: 0.3382 - val_accuracy: 0.8513\n",
                  "Epoch 4/20\n",
                  "503/503 [==============================] - 143s 285ms/step - loss: 0.3486 - accuracy: 0.8452 - val_loss: 0.3356 - val_accuracy: 0.8508\n",
                  "Epoch 5/20\n",
                  "503/503 [==============================] - 159s 317ms/step - loss: 0.3479 - accuracy: 0.8411 - val_loss: 0.3500 - val_accuracy: 0.8515\n",
                  "Epoch 6/20\n",
                  "503/503 [==============================] - 136s 271ms/step - loss: 0.3474 - accuracy: 0.8444 - val_loss: 0.3356 - val_accuracy: 0.8258\n",
                  "Epoch 7/20\n",
                  "503/503 [==============================] - 95s 190ms/step - loss: 0.3395 - accuracy: 0.8481 - val_loss: 0.3465 - val_accuracy: 0.8275\n",
                  "Epoch 8/20\n",
                  "503/503 [==============================] - 99s 196ms/step - loss: 0.3434 - accuracy: 0.8403 - val_loss: 0.3479 - val_accuracy: 0.8336\n",
                  "Epoch 9/20\n",
                  "503/503 [==============================] - 101s 201ms/step - loss: 0.3338 - accuracy: 0.8528 - val_loss: 0.3384 - val_accuracy: 0.8537\n",
                  "Epoch 10/20\n",
                  "503/503 [==============================] - 96s 190ms/step - loss: 0.3367 - accuracy: 0.8490 - val_loss: 0.3298 - val_accuracy: 0.8574\n",
                  "Epoch 11/20\n",
                  "503/503 [==============================] - 95s 189ms/step - loss: 0.3333 - accuracy: 0.8498 - val_loss: 0.3560 - val_accuracy: 0.8351\n",
                  "Epoch 12/20\n",
                  "503/503 [==============================] - 85s 169ms/step - loss: 0.3353 - accuracy: 0.8506 - val_loss: 0.3245 - val_accuracy: 0.8558\n",
                  "Epoch 13/20\n",
                  "503/503 [==============================] - 36s 72ms/step - loss: 0.3302 - accuracy: 0.8527 - val_loss: 0.3292 - val_accuracy: 0.8440\n",
                  "Epoch 14/20\n",
                  "503/503 [==============================] - 37s 74ms/step - loss: 0.3251 - accuracy: 0.8537 - val_loss: 0.3425 - val_accuracy: 0.8487\n",
                  "Epoch 15/20\n",
                  "503/503 [==============================] - 39s 77ms/step - loss: 0.3322 - accuracy: 0.8547 - val_loss: 0.3411 - val_accuracy: 0.8490\n"
               ]
            }
         ],
         "source": [
            "history = lstm_model.fit(X_train, y_train, epochs=20, batch_size=128, validation_split=0.3, callbacks=[callback])"
         ]
      },
      {
         "cell_type": "code",
         "execution_count": 168,
         "metadata": {},
         "outputs": [
            {
               "data": {
                  "text/plain": [
                     "<AxesSubplot:>"
                  ]
               },
               "execution_count": 168,
               "metadata": {},
               "output_type": "execute_result"
            },
            {
               "data": {
                  "image/png": "[encoded data removed]",
                  "text/plain": [
                     "<Figure size 432x288 with 1 Axes>"
                  ]
               },
               "metadata": {
                  "needs_background": "light"
               },
               "output_type": "display_data"
            }
         ],
         "source": [
            "history_df = pd.DataFrame(history.history)\n",
            "history_df.loc[:, ['accuracy', 'val_accuracy']].plot()"
         ]
      },
      {
         "cell_type": "code",
         "execution_count": 169,
         "metadata": {},
         "outputs": [
            {
               "data": {
                  "text/plain": [
                     "<AxesSubplot:>"
                  ]
               },
               "execution_count": 169,
               "metadata": {},
               "output_type": "execute_result"
            },
            {
               "data": {
                  "image/png": "[encoded data removed]",
                  "text/plain": [
                     "<Figure size 432x288 with 1 Axes>"
                  ]
               },
               "metadata": {
                  "needs_background": "light"
               },
               "output_type": "display_data"
            }
         ],
         "source": [
            "history_df.loc[:, ['loss', 'val_loss']].plot()"
         ]
      },
      {
         "cell_type": "code",
         "execution_count": 170,
         "metadata": {},
         "outputs": [
            {
               "data": {
                  "text/plain": [
                     "array([[0.59349227],\n",
                     "       [0.99996895],\n",
                     "       [0.9998843 ],\n",
                     "       ...,\n",
                     "       [0.12268433],\n",
                     "       [0.99964005],\n",
                     "       [0.12643489]], dtype=float32)"
                  ]
               },
               "execution_count": 170,
               "metadata": {},
               "output_type": "execute_result"
            }
         ],
         "source": [
            "y_pred=lstm_model.predict(X_test)\n",
            "y_pred"
         ]
      },
      {
         "cell_type": "code",
         "execution_count": 171,
         "metadata": {},
         "outputs": [
            {
               "name": "stdout",
               "output_type": "stream",
               "text": [
                  "              precision    recall  f1-score   support\n",
                  "\n",
                  "         0.0       0.78      0.94      0.85      4499\n",
                  "         1.0       0.94      0.79      0.86      5715\n",
                  "\n",
                  "    accuracy                           0.85     10214\n",
                  "   macro avg       0.86      0.86      0.85     10214\n",
                  "weighted avg       0.87      0.85      0.86     10214\n",
                  "\n"
               ]
            }
         ],
         "source": [
            "# arrondir les prédictions avant de les evalués\n",
            "y_pred = [0 if x < 0.5 else 1 for x in y_pred] \n",
            "print(classification_report(y_test, y_pred))"
         ]
      },
      {
         "cell_type": "code",
         "execution_count": 172,
         "metadata": {},
         "outputs": [
            {
               "name": "stdout",
               "output_type": "stream",
               "text": [
                  "320/320 [==============================] - 3s 10ms/step - loss: 0.3359 - accuracy: 0.8547\n"
               ]
            },
            {
               "data": {
                  "text/plain": [
                     "[0.33590832352638245, 0.8547092080116272]"
                  ]
               },
               "execution_count": 172,
               "metadata": {},
               "output_type": "execute_result"
            }
         ],
         "source": [
            "eval=lstm_model.evaluate(X_test, y_test)\n",
            "eval"
         ]
      },
      {
         "attachments": {},
         "cell_type": "markdown",
         "metadata": {},
         "source": [
            "# Mélange SimpleRNN et LSTM"
         ]
      },
      {
         "cell_type": "code",
         "execution_count": 182,
         "metadata": {},
         "outputs": [],
         "source": [
            "lstm_rnn_model = keras.Sequential([\n",
            "    layers.Dense(32,input_shape=(20,13), activation='relu'),\n",
            "    layers.LSTM(128, return_sequences=True, activation='relu'), # return_sequences à True pour que la sortie soit de dimension 3\n",
            "    layers.LSTM(128, return_sequences=True, activation='relu'),\n",
            "    layers.Dropout(0.3),\n",
            "    layers.BatchNormalization(),\n",
            "    layers.Dense(32, activation='relu'), #64\n",
            "    layers.SimpleRNN(64,activation='relu', return_sequences=True),\n",
            "    layers.SimpleRNN(32,activation='relu'),\n",
            "    layers.BatchNormalization(),\n",
            "    layers.Dropout(0.3),\n",
            "    layers.Dense(64, activation='relu'),\n",
            "    layers.Dropout(0.5),\n",
            "    layers.Dense(1, activation='sigmoid')\n",
            "])\n",
            "\n",
            "callback = keras.callbacks.EarlyStopping(monitor='val_accuracy', patience=8, restore_best_weights=True)\n",
            "#opt = keras.optimizers.SGD(learning_rate=0.01)\n",
            "lstm_rnn_model.compile(loss='binary_crossentropy', optimizer='adam', metrics='accuracy')"
         ]
      },
      {
         "cell_type": "code",
         "execution_count": 183,
         "metadata": {},
         "outputs": [
            {
               "name": "stdout",
               "output_type": "stream",
               "text": [
                  "Epoch 1/20\n",
                  "503/503 [==============================] - 47s 87ms/step - loss: 0.5854 - accuracy: 0.6671 - val_loss: 2.2392 - val_accuracy: 0.5593\n",
                  "Epoch 2/20\n",
                  "503/503 [==============================] - 39s 78ms/step - loss: 0.4573 - accuracy: 0.7783 - val_loss: 1.2829 - val_accuracy: 0.4407\n",
                  "Epoch 3/20\n",
                  "503/503 [==============================] - 39s 78ms/step - loss: 0.4372 - accuracy: 0.7902 - val_loss: 0.4688 - val_accuracy: 0.7835\n",
                  "Epoch 4/20\n",
                  "503/503 [==============================] - 40s 80ms/step - loss: 0.4135 - accuracy: 0.8033 - val_loss: 0.5892 - val_accuracy: 0.6831\n",
                  "Epoch 5/20\n",
                  "503/503 [==============================] - 40s 79ms/step - loss: 0.3712 - accuracy: 0.8312 - val_loss: 0.6042 - val_accuracy: 0.7164\n",
                  "Epoch 6/20\n",
                  "503/503 [==============================] - 40s 79ms/step - loss: 0.3515 - accuracy: 0.8415 - val_loss: 0.6912 - val_accuracy: 0.6763\n",
                  "Epoch 7/20\n",
                  "503/503 [==============================] - 40s 80ms/step - loss: 0.3447 - accuracy: 0.8448 - val_loss: 0.5253 - val_accuracy: 0.7075\n",
                  "Epoch 8/20\n",
                  "503/503 [==============================] - 40s 79ms/step - loss: 0.3472 - accuracy: 0.8441 - val_loss: 0.8256 - val_accuracy: 0.5389\n",
                  "Epoch 9/20\n",
                  "503/503 [==============================] - 41s 81ms/step - loss: 0.3482 - accuracy: 0.8448 - val_loss: 0.5225 - val_accuracy: 0.7202\n",
                  "Epoch 10/20\n",
                  "503/503 [==============================] - 40s 80ms/step - loss: 0.3629 - accuracy: 0.8383 - val_loss: 0.6012 - val_accuracy: 0.6579\n",
                  "Epoch 11/20\n",
                  "503/503 [==============================] - 39s 78ms/step - loss: 0.3470 - accuracy: 0.8464 - val_loss: 0.6425 - val_accuracy: 0.6133\n"
               ]
            }
         ],
         "source": [
            "history = lstm_rnn_model.fit(X_train, y_train, epochs=20, batch_size=128, validation_split=0.3, callbacks=[callback])"
         ]
      },
      {
         "cell_type": "code",
         "execution_count": 189,
         "metadata": {},
         "outputs": [
            {
               "data": {
                  "text/plain": [
                     "<AxesSubplot:>"
                  ]
               },
               "execution_count": 189,
               "metadata": {},
               "output_type": "execute_result"
            },
            {
               "data": {
                  "image/png": "[encoded data removed]",
                  "text/plain": [
                     "<Figure size 432x288 with 1 Axes>"
                  ]
               },
               "metadata": {
                  "needs_background": "light"
               },
               "output_type": "display_data"
            }
         ],
         "source": [
            "history_df = pd.DataFrame(history.history)\n",
            "history_df.loc[:, ['accuracy', 'val_accuracy']].plot()"
         ]
      },
      {
         "cell_type": "code",
         "execution_count": 190,
         "metadata": {},
         "outputs": [
            {
               "data": {
                  "text/plain": [
                     "<AxesSubplot:>"
                  ]
               },
               "execution_count": 190,
               "metadata": {},
               "output_type": "execute_result"
            },
            {
               "data": {
                  "image/png": "[encoded data removed]",
                  "text/plain": [
                     "<Figure size 432x288 with 1 Axes>"
                  ]
               },
               "metadata": {
                  "needs_background": "light"
               },
               "output_type": "display_data"
            }
         ],
         "source": [
            "history_df.loc[:, ['loss', 'val_loss']].plot()"
         ]
      },
      {
         "cell_type": "code",
         "execution_count": 191,
         "metadata": {},
         "outputs": [
            {
               "data": {
                  "text/plain": [
                     "array([[0.6945452 ],\n",
                     "       [0.9974154 ],\n",
                     "       [0.9844209 ],\n",
                     "       ...,\n",
                     "       [0.40801007],\n",
                     "       [0.94962376],\n",
                     "       [0.42922425]], dtype=float32)"
                  ]
               },
               "execution_count": 191,
               "metadata": {},
               "output_type": "execute_result"
            }
         ],
         "source": [
            "y_pred=lstm_rnn_model.predict(X_test)\n",
            "y_pred"
         ]
      },
      {
         "cell_type": "code",
         "execution_count": 192,
         "metadata": {},
         "outputs": [
            {
               "name": "stdout",
               "output_type": "stream",
               "text": [
                  "              precision    recall  f1-score   support\n",
                  "\n",
                  "         0.0       0.70      0.88      0.78      4499\n",
                  "         1.0       0.88      0.70      0.78      5715\n",
                  "\n",
                  "    accuracy                           0.78     10214\n",
                  "   macro avg       0.79      0.79      0.78     10214\n",
                  "weighted avg       0.80      0.78      0.78     10214\n",
                  "\n"
               ]
            }
         ],
         "source": [
            "# arrondir les prédictions avant de les evalués\n",
            "y_pred = [0 if x < 0.5 else 1 for x in y_pred] \n",
            "print(classification_report(y_test, y_pred))"
         ]
      },
      {
         "cell_type": "code",
         "execution_count": 193,
         "metadata": {},
         "outputs": [
            {
               "name": "stdout",
               "output_type": "stream",
               "text": [
                  "320/320 [==============================] - 3s 11ms/step - loss: 0.4687 - accuracy: 0.7779\n"
               ]
            },
            {
               "data": {
                  "text/plain": [
                     "[0.46868398785591125, 0.7778539061546326]"
                  ]
               },
               "execution_count": 193,
               "metadata": {},
               "output_type": "execute_result"
            }
         ],
         "source": [
            "eval=lstm_rnn_model.evaluate(X_test, y_test)\n",
            "eval"
         ]
      }
   ],
   "metadata": {
      "kernelspec": {
         "display_name": "Python 3",
         "language": "python",
         "name": "python3"
      },
      "language_info": {
         "codemirror_mode": {
            "name": "ipython",
            "version": 3
         },
         "file_extension": ".py",
         "mimetype": "text/x-python",
         "name": "python",
         "nbconvert_exporter": "python",
         "pygments_lexer": "ipython3",
         "version": "3.8.10"
      },
      "orig_nbformat": 4,
      "vscode": {
         "interpreter": {
            "hash": "31f2aee4e71d21fbe5cf8b01ff0e069b9275f58929596ceb00d14d90e3e16cd6"
         }
      }
   },
   "nbformat": 4,
   "nbformat_minor": 2
}

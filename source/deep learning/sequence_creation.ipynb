{
   "cells": [
      {
         "cell_type": "code",
         "execution_count": 1,
         "metadata": {},
         "outputs": [],
         "source": [
            "import pandas as pd\n",
            "import numpy as np\n",
            "import sys\n",
            "sys.path.append('../src/')\n",
            "import dataset_prep"
         ]
      },
      {
         "attachments": {},
         "cell_type": "markdown",
         "metadata": {},
         "source": [
            "Import de la base de données"
         ]
      },
      {
         "cell_type": "code",
         "execution_count": 2,
         "metadata": {},
         "outputs": [],
         "source": [
            "selected_columns = [\n",
            "\"nb_packets_sent\",\n",
            "\"distance\",\n",
            "\"distRealSR1\",\n",
            "\"pos_y_rec_f\",\n",
            "\"pos_y_rec\",\n",
            "\"pos_x_rec_f\",\n",
            "\"pos_x_rec\",\n",
            "\"pos_x_send\",\n",
            "\"pos_y_send\",\n",
            "\"spd_x_send\",\n",
            "\"spd_y_send\",\n",
            "\"sendTime\",\n",
            "\"receiver\",\n",
            "\"sender\",\n",
            "\"label\"\n",
            "]"
         ]
      },
      {
         "cell_type": "code",
         "execution_count": 3,
         "metadata": {},
         "outputs": [
            {
               "name": "stdout",
               "output_type": "stream",
               "text": [
                  "Nombre de lignes avant nettoyage :  1048575\n",
                  "Nombre de lignes après nettoyage :  1038446\n"
               ]
            }
         ],
         "source": [
            "df = dataset_prep.import_dataset('../../data/0709/data0709.csv', selected_columns)"
         ]
      },
      {
         "attachments": {},
         "cell_type": "markdown",
         "metadata": {},
         "source": [
            "Analyse et vérification des données"
         ]
      },
      {
         "cell_type": "code",
         "execution_count": 4,
         "metadata": {},
         "outputs": [
            {
               "data": {
                  "text/plain": [
                     "array([   9,   15,   21, ..., 6687, 6693, 6699])"
                  ]
               },
               "execution_count": 4,
               "metadata": {},
               "output_type": "execute_result"
            }
         ],
         "source": [
            "senders = np.unique(df[\"sender\"].values)\n",
            "senders"
         ]
      },
      {
         "cell_type": "code",
         "execution_count": 5,
         "metadata": {},
         "outputs": [
            {
               "name": "stdout",
               "output_type": "stream",
               "text": [
                  "1116\n"
               ]
            }
         ],
         "source": [
            "print(len(senders))"
         ]
      },
      {
         "cell_type": "code",
         "execution_count": 6,
         "metadata": {},
         "outputs": [
            {
               "data": {
                  "text/plain": [
                     "Index(['sendTime', 'sender', 'receiver', 'pos_x_send', 'pos_y_send',\n",
                     "       'spd_x_send', 'spd_y_send', 'pos_x_rec', 'pos_y_rec', 'pos_x_rec_f',\n",
                     "       'pos_y_rec_f', 'nb_packets_sent', 'distRealSR1', 'distance'],\n",
                     "      dtype='object')"
                  ]
               },
               "execution_count": 6,
               "metadata": {},
               "output_type": "execute_result"
            }
         ],
         "source": [
            "# Copie de la bdd pour récuperer les colonnes sans impacter la vraie base de données\n",
            "\n",
            "data_copy = df.copy()\n",
            "data_copy = data_copy.drop([\"label\"], axis=1)\n",
            "\n",
            "columns = data_copy.columns\n",
            "columns"
         ]
      },
      {
         "attachments": {},
         "cell_type": "markdown",
         "metadata": {},
         "source": [
            "Amélioration à faire :\n",
            "\n",
            "Séléctionner seulement les sender avec value_counts > 20"
         ]
      },
      {
         "attachments": {},
         "cell_type": "markdown",
         "metadata": {},
         "source": [
            "Séparation de la base de données : diviser pour régner"
         ]
      },
      {
         "cell_type": "code",
         "execution_count": 7,
         "metadata": {},
         "outputs": [],
         "source": [
            "# /!\\ attention à bien utiliser la base de données rangée par sender pour limiter la perte de données\n",
            "# Indice égal à 0, 1 ou 2\n",
            "# Célia = 0\n",
            "# Chléo = 1\n",
            "# Thomas = 2\n",
            "\n",
            "def split_data_in_3(df, indice):\n",
            "    # Division de la bdd en 3\n",
            "    split_data = np.array_split(df,3)\n",
            "\n",
            "    # Division en plusieurs sous-bdd pour diminuer le temps de calcul par exécution\n",
            "    #divided_data = np.array_split(split_data[indice],50)\n",
            "\n",
            "    return split_data"
         ]
      },
      {
         "attachments": {},
         "cell_type": "markdown",
         "metadata": {},
         "source": [
            "/!\\ à bien changer l'indice !!"
         ]
      },
      {
         "cell_type": "code",
         "execution_count": 11,
         "metadata": {},
         "outputs": [],
         "source": [
            "divided_dataframes = split_data_in_3(df.sort_values(\"sender\"),0)"
         ]
      },
      {
         "cell_type": "code",
         "execution_count": 12,
         "metadata": {},
         "outputs": [
            {
               "data": {
                  "text/plain": [
                     "3"
                  ]
               },
               "execution_count": 12,
               "metadata": {},
               "output_type": "execute_result"
            }
         ],
         "source": [
            "len(divided_dataframes)"
         ]
      },
      {
         "attachments": {},
         "cell_type": "markdown",
         "metadata": {},
         "source": [
            "Création des séquences"
         ]
      },
      {
         "cell_type": "code",
         "execution_count": 8,
         "metadata": {},
         "outputs": [],
         "source": [
            "def sequence_creation(df):\n",
            "    senders_sequences = np.array()\n",
            "    senders_label = np.array\n",
            "    for sender in senders:\n",
            "        sender_data_sorted = df.loc[df['sender'] == sender].sort_values(\"sendTime\")\n",
            "        sender_data_sorted = sender_data_sorted.drop([\"label\",\"sender\"], axis=1)\n",
            "        sequence_array = np.array\n",
            "\n",
            "        length = sender_data_sorted.shape[0]\n",
            "        slide = 10\n",
            "        start = 0\n",
            "        end = 20\n",
            "\n",
            "        # On récupère la valeur du label pour ce sender\n",
            "        label = df.loc[df['sender'] == sender]['label'].tolist()[0]\n",
            "        if (length > 20):\n",
            "            senders_label.append(label)\n",
            "\n",
            "        # On vérifie qu'il est possible de faire une séquence de taille 20\n",
            "        while length >= 20:\n",
            "            # Extraction par tranche de 20 avec une inter de 10\n",
            "            sequence = sender_data_sorted[start:end]\n",
            "\n",
            "            # Labels correspondant\n",
            "            #labels =  pd.Series.tolist(sequence[\"label\"])\n",
            "\n",
            "            # On transforme les 13 en 1, cette formule marche toujours si on met d'autres types d'attaques\n",
            "            #labels[:] = [x if x == 0 else 1 for x in labels]\n",
            "\n",
            "            # Attribution des tableaux numpy\n",
            "            sequence_array = np.append(sequence_array, np.array(sequence.values, dtype=object))\n",
            "            #label_array.append(labels)\n",
            "\n",
            "            # Mise à jour des variables\n",
            "            start += slide\n",
            "            end += slide\n",
            "            length -= 10\n",
            "        \n",
            "        if len(sequence_array)>0:\n",
            "            senders_sequences = np.append(senders_sequences, np.array(sequence_array, dtype=object))\n",
            "\n",
            "    \n",
            "    return senders_sequences, senders_label"
         ]
      },
      {
         "cell_type": "code",
         "execution_count": 260,
         "metadata": {},
         "outputs": [],
         "source": [
            "def flat_sequence_creation(df):\n",
            "    senders_sequences = []\n",
            "    senders_label = []\n",
            "\n",
            "    for sender in senders:\n",
            "        # Données d'un seul sender rangée en fonction de l'heure d'envoi\n",
            "        sender_data_sorted = df.loc[df['sender'] == sender].sort_values(\"sendTime\")\n",
            "\n",
            "        # On récupère la valeur du label pour ce sender\n",
            "        \"\"\" On remplasse toute les valeur !=0 en 1 \"\"\"\n",
            "        if sender_data_sorted['label'].tolist()[0] != 0 :\n",
            "            label=1\n",
            "        else :\n",
            "            label = sender_data_sorted['label'].tolist()[0]\n",
            "        #On supprime les colonnes label et sender\n",
            "        sender_data_sorted = sender_data_sorted.drop([\"label\",\"sender\"], axis=1)\n",
            "        \n",
            "        #sequence_array = []\n",
            "\n",
            "        length = sender_data_sorted.shape[0]\n",
            "        slide = 10\n",
            "        start = 0\n",
            "        end = 20\n",
            "\n",
            "        # On vérifie qu'il est possible de faire une séquence de taille 20\n",
            "        while length > 20:\n",
            "            # Extraction par tranche de 20 avec une inter de 10\n",
            "            sequence = sender_data_sorted[start:end]\n",
            "\n",
            "            # Labels correspondant\n",
            "            #labels =  pd.Series.tolist(sequence[\"label\"])\n",
            "\n",
            "            # On transforme les 13 en 1, cette formule marche toujours si on met d'autres types d'attaques\n",
            "            #labels[:] = [x if x == 0 else 1 for x in labels]\n",
            "\n",
            "            # Attribution des tableaux numpy\n",
            "            senders_sequences.append(np.array(sequence.values.tolist(), dtype=np.float32))\n",
            "            senders_label.append(label)\n",
            "\n",
            "            # Mise à jour des variables\n",
            "            start += slide\n",
            "            end += slide\n",
            "            length -= 10\n",
            "\n",
            "    return senders_sequences, senders_label"
         ]
      },
      {
         "attachments": {},
         "cell_type": "markdown",
         "metadata": {},
         "source": [
            "/!\\ à bien changer l'indice !!"
         ]
      },
      {
         "cell_type": "code",
         "execution_count": 261,
         "metadata": {},
         "outputs": [],
         "source": [
            "sorted_dataset = df.sort_values(\"sender\")"
         ]
      },
      {
         "cell_type": "code",
         "execution_count": null,
         "metadata": {},
         "outputs": [],
         "source": [
            "sequence_test, label_test = flat_sequence_creation(sorted_dataset)\n",
            "#label_test"
         ]
      },
      {
         "attachments": {},
         "cell_type": "markdown",
         "metadata": {},
         "source": [
            "sequence_test, label_test = sequence_creation(df)"
         ]
      },
      {
         "cell_type": "code",
         "execution_count": 270,
         "metadata": {},
         "outputs": [
            {
               "data": {
                  "text/plain": [
                     "102132"
                  ]
               },
               "execution_count": 270,
               "metadata": {},
               "output_type": "execute_result"
            }
         ],
         "source": [
            "len(sequence_test)"
         ]
      },
      {
         "attachments": {},
         "cell_type": "markdown",
         "metadata": {},
         "source": [
            "# Initialisation des données"
         ]
      },
      {
         "cell_type": "code",
         "execution_count": 264,
         "metadata": {},
         "outputs": [],
         "source": [
            "import pandas as pd\n",
            "import numpy as np\n",
            "from tensorflow import keras\n",
            "from keras import layers, applications, utils, models, optimizers, Input, callbacks\n",
            "from keras.models import Sequential\n",
            "from keras.layers import Dense, SimpleRNN\n",
            "from sklearn.preprocessing import MinMaxScaler\n",
            "from sklearn.metrics import mean_squared_error\n",
            "import math\n",
            "import matplotlib.pyplot as plt\n",
            "from sklearn.model_selection import train_test_split\n",
            "from sklearn.metrics import confusion_matrix, classification_report\n",
            "import seaborn as sns"
         ]
      },
      {
         "cell_type": "code",
         "execution_count": 271,
         "metadata": {},
         "outputs": [],
         "source": [
            "# Transformation en array numpy\n",
            "X = np.array(sequence_test)\n",
            "y = np.array(label_test, dtype=np.float32)"
         ]
      },
      {
         "cell_type": "code",
         "execution_count": 15,
         "metadata": {},
         "outputs": [],
         "source": [
            "X = X[:100]\n",
            "y = y[:100]"
         ]
      },
      {
         "cell_type": "code",
         "execution_count": 350,
         "metadata": {},
         "outputs": [],
         "source": [
            "# Séparation en données d'entrainement et de test\n",
            "X_train, X_test, y_train, y_test = train_test_split(X, y, test_size=0.1)"
         ]
      },
      {
         "cell_type": "code",
         "execution_count": 276,
         "metadata": {},
         "outputs": [
            {
               "name": "stdout",
               "output_type": "stream",
               "text": [
                  "X_train :  (91918, 20, 13)\n",
                  "y_train :  (91918,)\n",
                  "X_test :  (10214, 20, 13)\n",
                  "y_test :  (10214,)\n"
               ]
            }
         ],
         "source": [
            "print(\"X_train : \", X_train.shape)\n",
            "print(\"y_train : \", y_train.shape)\n",
            "print(\"X_test : \", X_test.shape)\n",
            "print(\"y_test : \", y_test.shape)"
         ]
      },
      {
         "cell_type": "code",
         "execution_count": 274,
         "metadata": {},
         "outputs": [
            {
               "data": {
                  "text/plain": [
                     "array([1., 1., 1., ..., 1., 0., 1.], dtype=float32)"
                  ]
               },
               "execution_count": 274,
               "metadata": {},
               "output_type": "execute_result"
            }
         ],
         "source": [
            "y_train"
         ]
      },
      {
         "attachments": {},
         "cell_type": "markdown",
         "metadata": {},
         "source": [
            "# Modèle dense simple"
         ]
      },
      {
         "cell_type": "code",
         "execution_count": 352,
         "metadata": {},
         "outputs": [],
         "source": [
            "# TODO amélioration du model dense avec du dropout ? \n",
            "simple_model = keras.Sequential([\n",
            "    layers.Dense(128,input_shape=(20, 13), activation='relu'),\n",
            "    #layers.BatchNormalization(), # les batchNormalization fond baisser l'accuracy \n",
            "    layers.Dense(256, activation='relu'),\n",
            "    #layers.BatchNormalization(),\n",
            "    layers.Dense(64, activation='relu'),\n",
            "    layers.Dense(1, activation='linear') # avec relu on perd un peu d'accuracy\n",
            "])"
         ]
      },
      {
         "cell_type": "code",
         "execution_count": 342,
         "metadata": {},
         "outputs": [
            {
               "name": "stdout",
               "output_type": "stream",
               "text": [
                  "INPUT\n",
                  "(None, 20, 13) <dtype: 'float32'>\n",
                  "OUTPUT\n",
                  "(None, 20, 1) <dtype: 'float32'>\n",
                  "LAYERS\n",
                  "dense_218 (None, 20, 13) float32\n",
                  "dense_219 (None, 20, 128) float32\n",
                  "dense_220 (None, 20, 256) float32\n",
                  "dense_221 (None, 20, 64) float32\n"
               ]
            },
            {
               "data": {
                  "text/plain": [
                     "[None, None, None, None]"
                  ]
               },
               "execution_count": 342,
               "metadata": {},
               "output_type": "execute_result"
            }
         ],
         "source": [
            "print(\"INPUT\")\n",
            "[print(i.shape, i.dtype) for i in simple_model.inputs]\n",
            "print(\"OUTPUT\")\n",
            "[print(o.shape, o.dtype) for o in simple_model.outputs]\n",
            "print(\"LAYERS\")\n",
            "[print(l.name, l.input_shape, l.dtype) for l in simple_model.layers]"
         ]
      },
      {
         "cell_type": "code",
         "execution_count": 354,
         "metadata": {},
         "outputs": [],
         "source": [
            "callback = keras.callbacks.EarlyStopping(monitor='val_accuracy', patience=5, restore_best_weights=True)\n",
            "opt = keras.optimizers.SGD(learning_rate=0.01)\n",
            "simple_model.compile(loss='binary_crossentropy', optimizer=opt, metrics='accuracy')"
         ]
      },
      {
         "cell_type": "code",
         "execution_count": 355,
         "metadata": {},
         "outputs": [
            {
               "name": "stdout",
               "output_type": "stream",
               "text": [
                  "Epoch 1/20\n",
                  "503/503 [==============================] - 10s 18ms/step - loss: 6.7532 - accuracy: 0.5571 - val_loss: 6.7647 - val_accuracy: 0.5564\n",
                  "Epoch 2/20\n",
                  "503/503 [==============================] - 8s 17ms/step - loss: 6.7532 - accuracy: 0.5571 - val_loss: 6.7647 - val_accuracy: 0.5564\n",
                  "Epoch 3/20\n",
                  "503/503 [==============================] - 7s 14ms/step - loss: 6.7532 - accuracy: 0.5571 - val_loss: 6.7647 - val_accuracy: 0.5564\n",
                  "Epoch 4/20\n",
                  "503/503 [==============================] - 8s 15ms/step - loss: 6.7532 - accuracy: 0.5571 - val_loss: 6.7647 - val_accuracy: 0.5564\n",
                  "Epoch 5/20\n",
                  "503/503 [==============================] - 8s 15ms/step - loss: 6.7532 - accuracy: 0.5571 - val_loss: 6.7647 - val_accuracy: 0.5564\n",
                  "Epoch 6/20\n",
                  "503/503 [==============================] - 7s 14ms/step - loss: 6.7532 - accuracy: 0.5571 - val_loss: 6.7647 - val_accuracy: 0.5564\n"
               ]
            }
         ],
         "source": [
            "history = simple_model.fit(X_train, y_train, epochs=20, batch_size=128, validation_split=0.3, callbacks=[callback])"
         ]
      },
      {
         "cell_type": "code",
         "execution_count": 329,
         "metadata": {},
         "outputs": [
            {
               "data": {
                  "text/plain": [
                     "<AxesSubplot:>"
                  ]
               },
               "execution_count": 329,
               "metadata": {},
               "output_type": "execute_result"
            },
            {
               "data": {
                  "image/png": "[encoded data removed]",
                  "text/plain": [
                     "<Figure size 432x288 with 1 Axes>"
                  ]
               },
               "metadata": {
                  "needs_background": "light"
               },
               "output_type": "display_data"
            }
         ],
         "source": [
            "history_df = pd.DataFrame(history.history)\n",
            "history_df.loc[:, ['accuracy', 'val_accuracy']].plot()"
         ]
      },
      {
         "cell_type": "code",
         "execution_count": 330,
         "metadata": {},
         "outputs": [
            {
               "data": {
                  "text/plain": [
                     "<AxesSubplot:>"
                  ]
               },
               "execution_count": 330,
               "metadata": {},
               "output_type": "execute_result"
            },
            {
               "data": {
                  "image/png": "[encoded data removed]",
                  "text/plain": [
                     "<Figure size 432x288 with 1 Axes>"
                  ]
               },
               "metadata": {
                  "needs_background": "light"
               },
               "output_type": "display_data"
            }
         ],
         "source": [
            "history_df.loc[:, ['loss', 'val_loss']].plot()"
         ]
      },
      {
         "cell_type": "code",
         "execution_count": 331,
         "metadata": {},
         "outputs": [
            {
               "data": {
                  "text/plain": [
                     "array([[[1024.8595 ],\n",
                     "        [1025.1683 ],\n",
                     "        [1014.7306 ],\n",
                     "        ...,\n",
                     "        [1023.7017 ],\n",
                     "        [ 992.0811 ],\n",
                     "        [1024.5472 ]],\n",
                     "\n",
                     "       [[1024.2727 ],\n",
                     "        [1007.96545],\n",
                     "        [1020.08545],\n",
                     "        ...,\n",
                     "        [1012.4677 ],\n",
                     "        [1020.20966],\n",
                     "        [1017.79376]],\n",
                     "\n",
                     "       [[1038.6659 ],\n",
                     "        [1034.0984 ],\n",
                     "        [1081.801  ],\n",
                     "        ...,\n",
                     "        [1080.4236 ],\n",
                     "        [1063.4799 ],\n",
                     "        [1062.8776 ]],\n",
                     "\n",
                     "       ...,\n",
                     "\n",
                     "       [[ 983.48193],\n",
                     "        [ 984.8077 ],\n",
                     "        [ 984.81885],\n",
                     "        ...,\n",
                     "        [ 988.85315],\n",
                     "        [ 941.71246],\n",
                     "        [ 986.9989 ]],\n",
                     "\n",
                     "       [[1126.3313 ],\n",
                     "        [1115.6711 ],\n",
                     "        [1126.5889 ],\n",
                     "        ...,\n",
                     "        [1108.8813 ],\n",
                     "        [1109.2347 ],\n",
                     "        [1099.2633 ]],\n",
                     "\n",
                     "       [[ 959.0586 ],\n",
                     "        [ 958.51965],\n",
                     "        [ 960.2926 ],\n",
                     "        ...,\n",
                     "        [ 952.89215],\n",
                     "        [ 957.19336],\n",
                     "        [ 955.369  ]]], dtype=float32)"
                  ]
               },
               "execution_count": 331,
               "metadata": {},
               "output_type": "execute_result"
            }
         ],
         "source": [
            "y_pred=simple_model.predict(X_test)\n",
            "y_pred"
         ]
      },
      {
         "cell_type": "code",
         "execution_count": 332,
         "metadata": {},
         "outputs": [
            {
               "name": "stdout",
               "output_type": "stream",
               "text": [
                  "320/320 [==============================] - 1s 2ms/step - loss: 6.8109 - accuracy: 0.5534\n"
               ]
            },
            {
               "data": {
                  "text/plain": [
                     "[6.810944080352783, 0.5533581376075745]"
                  ]
               },
               "execution_count": 332,
               "metadata": {},
               "output_type": "execute_result"
            }
         ],
         "source": [
            "eval=simple_model.evaluate(X_test, y_test)\n",
            "eval"
         ]
      },
      {
         "attachments": {},
         "cell_type": "markdown",
         "metadata": {},
         "source": [
            "# RNN"
         ]
      },
      {
         "cell_type": "code",
         "execution_count": 381,
         "metadata": {},
         "outputs": [],
         "source": [
            "def create_RNN(hidden_units, dense_units, input_shape, activation):\n",
            "    '''\n",
            "    hidden_units : nombre de neurones dans la couche SimpleRNN\n",
            "    dense_units : nombre de neurones dans la couche Dense\n",
            "    activation : liste des deux fonctions d'activation\n",
            "    '''\n",
            "    opt = keras.optimizers.SGD(learning_rate=0.01)\n",
            "    model = Sequential()\n",
            "    model.add(SimpleRNN(hidden_units, input_shape=input_shape, return_sequences=True, activation=activation[0]))\n",
            "    model.add(SimpleRNN(32, activation=activation[0]))\n",
            "    model.add(keras.layers.BatchNormalization())\n",
            "    model.add(Dense(64, activation=activation[1]))\n",
            "    model.add(Dense(units=dense_units, activation='sigmoid'))\n",
            "    model.compile(loss='binary_crossentropy', optimizer=opt, metrics='accuracy')\n",
            "    return model\n",
            "\n",
            "#demo_model = create_RNN(2, 1, (3,1), activation=['linear', 'linear'])\n",
            "\n",
            "rnn_model = create_RNN(32, 1, (20, 13), activation=['relu', 'relu'])\n",
            "callback = keras.callbacks.EarlyStopping(monitor='val_accuracy', patience=5, restore_best_weights=True)"
         ]
      },
      {
         "cell_type": "code",
         "execution_count": 397,
         "metadata": {},
         "outputs": [
            {
               "name": "stdout",
               "output_type": "stream",
               "text": [
                  "Epoch 1/20\n",
                  "503/503 [==============================] - 5s 9ms/step - loss: 0.3359 - accuracy: 0.8490 - val_loss: 0.5274 - val_accuracy: 0.6907\n",
                  "Epoch 2/20\n",
                  "503/503 [==============================] - 4s 8ms/step - loss: 0.3344 - accuracy: 0.8504 - val_loss: 0.3678 - val_accuracy: 0.8344\n",
                  "Epoch 3/20\n",
                  "503/503 [==============================] - 5s 9ms/step - loss: 0.3317 - accuracy: 0.8508 - val_loss: 0.3396 - val_accuracy: 0.8497\n",
                  "Epoch 4/20\n",
                  "503/503 [==============================] - 4s 9ms/step - loss: 0.3302 - accuracy: 0.8517 - val_loss: 0.3236 - val_accuracy: 0.8553\n",
                  "Epoch 5/20\n",
                  "503/503 [==============================] - 5s 9ms/step - loss: 0.3295 - accuracy: 0.8512 - val_loss: 0.3320 - val_accuracy: 0.8494\n",
                  "Epoch 6/20\n",
                  "503/503 [==============================] - 5s 9ms/step - loss: 0.3274 - accuracy: 0.8527 - val_loss: 0.3752 - val_accuracy: 0.8304\n",
                  "Epoch 7/20\n",
                  "503/503 [==============================] - 4s 9ms/step - loss: 0.3287 - accuracy: 0.8518 - val_loss: 0.3363 - val_accuracy: 0.8532\n",
                  "Epoch 8/20\n",
                  "503/503 [==============================] - 4s 8ms/step - loss: 0.3382 - accuracy: 0.8498 - val_loss: 0.3306 - val_accuracy: 0.8510\n",
                  "Epoch 9/20\n",
                  "503/503 [==============================] - 5s 9ms/step - loss: 0.3356 - accuracy: 0.8498 - val_loss: 0.3475 - val_accuracy: 0.8443\n"
               ]
            }
         ],
         "source": [
            "history = rnn_model.fit(X_train, y_train, epochs=20, batch_size=128, validation_split=0.3, callbacks=[callback])"
         ]
      },
      {
         "cell_type": "code",
         "execution_count": 398,
         "metadata": {},
         "outputs": [
            {
               "data": {
                  "text/plain": [
                     "<AxesSubplot:>"
                  ]
               },
               "execution_count": 398,
               "metadata": {},
               "output_type": "execute_result"
            },
            {
               "data": {
                  "image/png": "[encoded data removed]",
                  "text/plain": [
                     "<Figure size 432x288 with 1 Axes>"
                  ]
               },
               "metadata": {
                  "needs_background": "light"
               },
               "output_type": "display_data"
            }
         ],
         "source": [
            "history_df = pd.DataFrame(history.history)\n",
            "history_df.loc[:, ['accuracy', 'val_accuracy']].plot()"
         ]
      },
      {
         "cell_type": "code",
         "execution_count": 399,
         "metadata": {},
         "outputs": [
            {
               "data": {
                  "text/plain": [
                     "<AxesSubplot:>"
                  ]
               },
               "execution_count": 399,
               "metadata": {},
               "output_type": "execute_result"
            },
            {
               "data": {
                  "image/png": "[encoded data removed]",
                  "text/plain": [
                     "<Figure size 432x288 with 1 Axes>"
                  ]
               },
               "metadata": {
                  "needs_background": "light"
               },
               "output_type": "display_data"
            }
         ],
         "source": [
            "history_df.loc[:, ['loss', 'val_loss']].plot()"
         ]
      },
      {
         "cell_type": "code",
         "execution_count": 400,
         "metadata": {},
         "outputs": [
            {
               "data": {
                  "text/plain": [
                     "array([[0.19931245],\n",
                     "       [0.99982464],\n",
                     "       [0.8661491 ],\n",
                     "       ...,\n",
                     "       [0.2013936 ],\n",
                     "       [0.99033433],\n",
                     "       [0.62496394]], dtype=float32)"
                  ]
               },
               "execution_count": 400,
               "metadata": {},
               "output_type": "execute_result"
            }
         ],
         "source": [
            "y_pred=rnn_model.predict(X_test)\n",
            "y_pred"
         ]
      },
      {
         "cell_type": "code",
         "execution_count": 401,
         "metadata": {},
         "outputs": [
            {
               "name": "stdout",
               "output_type": "stream",
               "text": [
                  "              precision    recall  f1-score   support\n",
                  "\n",
                  "         0.0       0.77      0.94      0.85      4497\n",
                  "         1.0       0.94      0.78      0.85      5717\n",
                  "\n",
                  "    accuracy                           0.85     10214\n",
                  "   macro avg       0.86      0.86      0.85     10214\n",
                  "weighted avg       0.87      0.85      0.85     10214\n",
                  "\n"
               ]
            }
         ],
         "source": [
            "# arrondir les prédictions avant de les evalués\n",
            "y_pred = [0 if x < 0.5 else 1 for x in y_pred] \n",
            "y_pred\n",
            "print(classification_report(y_test, y_pred))"
         ]
      },
      {
         "cell_type": "code",
         "execution_count": 402,
         "metadata": {},
         "outputs": [
            {
               "name": "stdout",
               "output_type": "stream",
               "text": [
                  "320/320 [==============================] - 1s 3ms/step - loss: 0.3329 - accuracy: 0.8507\n"
               ]
            },
            {
               "data": {
                  "text/plain": [
                     "[0.33293190598487854, 0.8506951332092285]"
                  ]
               },
               "execution_count": 402,
               "metadata": {},
               "output_type": "execute_result"
            }
         ],
         "source": [
            "eval=rnn_model.evaluate(X_test, y_test)\n",
            "eval"
         ]
      },
      {
         "attachments": {},
         "cell_type": "markdown",
         "metadata": {},
         "source": [
            "# Test LSTM"
         ]
      },
      {
         "cell_type": "code",
         "execution_count": 403,
         "metadata": {},
         "outputs": [],
         "source": [
            "lstm_model = keras.Sequential([\n",
            "    layers.Dense(32,input_shape=(20,13), activation='relu'),\n",
            "    layers.LSTM(128),\n",
            "    layers.Dense(1, activation='sigmoid')\n",
            "])"
         ]
      },
      {
         "cell_type": "code",
         "execution_count": 404,
         "metadata": {},
         "outputs": [],
         "source": [
            "callback = keras.callbacks.EarlyStopping(monitor='val_accuracy', patience=5, restore_best_weights=True)\n",
            "opt = keras.optimizers.SGD(learning_rate=0.01)\n",
            "lstm_model.compile(loss='binary_crossentropy', optimizer=opt, metrics='accuracy')"
         ]
      },
      {
         "cell_type": "code",
         "execution_count": 405,
         "metadata": {},
         "outputs": [
            {
               "name": "stdout",
               "output_type": "stream",
               "text": [
                  "Epoch 1/20\n",
                  "2011/2011 [==============================] - 36s 17ms/step - loss: 0.6873 - accuracy: 0.5566 - val_loss: 0.6873 - val_accuracy: 0.5564\n",
                  "Epoch 2/20\n",
                  "2011/2011 [==============================] - 32s 16ms/step - loss: 0.6872 - accuracy: 0.5571 - val_loss: 0.6875 - val_accuracy: 0.5564\n",
                  "Epoch 3/20\n",
                  "2011/2011 [==============================] - 34s 17ms/step - loss: 0.6872 - accuracy: 0.5571 - val_loss: 0.6868 - val_accuracy: 0.5564\n",
                  "Epoch 4/20\n",
                  "2011/2011 [==============================] - 32s 16ms/step - loss: 0.6870 - accuracy: 0.5571 - val_loss: 0.6871 - val_accuracy: 0.5564\n",
                  "Epoch 5/20\n",
                  "2011/2011 [==============================] - 31s 15ms/step - loss: 0.6872 - accuracy: 0.5571 - val_loss: 0.6868 - val_accuracy: 0.5564\n",
                  "Epoch 6/20\n",
                  "2011/2011 [==============================] - 45s 23ms/step - loss: 0.6871 - accuracy: 0.5571 - val_loss: 0.6868 - val_accuracy: 0.5564\n"
               ]
            }
         ],
         "source": [
            "history = lstm_model.fit(X_train, y_train, epochs=20, batch_size=32, validation_split=0.3, callbacks=[callback])"
         ]
      },
      {
         "cell_type": "code",
         "execution_count": 410,
         "metadata": {},
         "outputs": [
            {
               "data": {
                  "text/plain": [
                     "<AxesSubplot:>"
                  ]
               },
               "execution_count": 410,
               "metadata": {},
               "output_type": "execute_result"
            },
            {
               "data": {
                  "image/png": "[encoded data removed]",
                  "text/plain": [
                     "<Figure size 432x288 with 1 Axes>"
                  ]
               },
               "metadata": {
                  "needs_background": "light"
               },
               "output_type": "display_data"
            }
         ],
         "source": [
            "history_df = pd.DataFrame(history.history)\n",
            "history_df.loc[:, ['accuracy', 'val_accuracy']].plot()"
         ]
      },
      {
         "cell_type": "code",
         "execution_count": 411,
         "metadata": {},
         "outputs": [
            {
               "data": {
                  "text/plain": [
                     "<AxesSubplot:>"
                  ]
               },
               "execution_count": 411,
               "metadata": {},
               "output_type": "execute_result"
            },
            {
               "data": {
                  "image/png": "[encoded data removed]",
                  "text/plain": [
                     "<Figure size 432x288 with 1 Axes>"
                  ]
               },
               "metadata": {
                  "needs_background": "light"
               },
               "output_type": "display_data"
            }
         ],
         "source": [
            "history_df.loc[:, ['loss', 'val_loss']].plot()"
         ]
      },
      {
         "cell_type": "code",
         "execution_count": 412,
         "metadata": {},
         "outputs": [
            {
               "data": {
                  "text/plain": [
                     "array([[0.53972477],\n",
                     "       [0.53972477],\n",
                     "       [0.53972477],\n",
                     "       ...,\n",
                     "       [0.53972477],\n",
                     "       [0.53972477],\n",
                     "       [0.53972477]], dtype=float32)"
                  ]
               },
               "execution_count": 412,
               "metadata": {},
               "output_type": "execute_result"
            }
         ],
         "source": [
            "y_pred=lstm_model.predict(X_test)\n",
            "y_pred"
         ]
      },
      {
         "cell_type": "code",
         "execution_count": 413,
         "metadata": {},
         "outputs": [
            {
               "name": "stdout",
               "output_type": "stream",
               "text": [
                  "320/320 [==============================] - 2s 7ms/step - loss: 0.6868 - accuracy: 0.5597\n"
               ]
            },
            {
               "data": {
                  "text/plain": [
                     "[0.6868031024932861, 0.5597219467163086]"
                  ]
               },
               "execution_count": 413,
               "metadata": {},
               "output_type": "execute_result"
            }
         ],
         "source": [
            "eval=lstm_model.evaluate(X_test, y_test)\n",
            "eval"
         ]
      },
      {
         "attachments": {},
         "cell_type": "markdown",
         "metadata": {},
         "source": [
            "# Mélange SimpleRNN et LSTM"
         ]
      },
      {
         "cell_type": "code",
         "execution_count": 422,
         "metadata": {},
         "outputs": [],
         "source": [
            "lstm_rnn_model = keras.Sequential([\n",
            "    layers.Dense(32,input_shape=(20,13), activation='relu'),\n",
            "    layers.LSTM(128, return_sequences=True, activation='relu'), # return_sequences à True pour que la sortie soit de dimension 3\n",
            "    layers.SimpleRNN(64,activation='relu'),\n",
            "    layers.Dropout(0.2),\n",
            "    layers.Dense(1, activation='sigmoid')\n",
            "])\n",
            "\n",
            "callback = keras.callbacks.EarlyStopping(monitor='val_accuracy', patience=5, restore_best_weights=True)\n",
            "opt = keras.optimizers.SGD(learning_rate=0.01)\n",
            "lstm_rnn_model.compile(loss='binary_crossentropy', optimizer=opt, metrics='accuracy')"
         ]
      },
      {
         "cell_type": "code",
         "execution_count": 423,
         "metadata": {},
         "outputs": [
            {
               "name": "stdout",
               "output_type": "stream",
               "text": [
                  "Epoch 1/20\n",
                  "2011/2011 [==============================] - 85s 39ms/step - loss: nan - accuracy: 0.4428 - val_loss: nan - val_accuracy: 0.4436\n",
                  "Epoch 2/20\n",
                  "2011/2011 [==============================] - 76s 38ms/step - loss: nan - accuracy: 0.4429 - val_loss: nan - val_accuracy: 0.4436\n",
                  "Epoch 3/20\n",
                  "2011/2011 [==============================] - 88s 44ms/step - loss: nan - accuracy: 0.4429 - val_loss: nan - val_accuracy: 0.4436\n",
                  "Epoch 4/20\n",
                  "2011/2011 [==============================] - 81s 40ms/step - loss: nan - accuracy: 0.4429 - val_loss: nan - val_accuracy: 0.4436\n",
                  "Epoch 5/20\n",
                  "2011/2011 [==============================] - 74s 37ms/step - loss: nan - accuracy: 0.4429 - val_loss: nan - val_accuracy: 0.4436\n",
                  "Epoch 6/20\n",
                  "2011/2011 [==============================] - 76s 38ms/step - loss: nan - accuracy: 0.4429 - val_loss: nan - val_accuracy: 0.4436\n"
               ]
            }
         ],
         "source": [
            "history = lstm_rnn_model.fit(X_train, y_train, epochs=20, batch_size=32, validation_split=0.3, callbacks=[callback])"
         ]
      },
      {
         "cell_type": "code",
         "execution_count": 428,
         "metadata": {},
         "outputs": [
            {
               "data": {
                  "text/plain": [
                     "<AxesSubplot:>"
                  ]
               },
               "execution_count": 428,
               "metadata": {},
               "output_type": "execute_result"
            },
            {
               "data": {
                  "image/png": "[encoded data removed]",
                  "text/plain": [
                     "<Figure size 432x288 with 1 Axes>"
                  ]
               },
               "metadata": {
                  "needs_background": "light"
               },
               "output_type": "display_data"
            }
         ],
         "source": [
            "history_df = pd.DataFrame(history.history)\n",
            "history_df.loc[:, ['accuracy', 'val_accuracy']].plot()"
         ]
      },
      {
         "cell_type": "code",
         "execution_count": 429,
         "metadata": {},
         "outputs": [
            {
               "data": {
                  "text/plain": [
                     "<AxesSubplot:>"
                  ]
               },
               "execution_count": 429,
               "metadata": {},
               "output_type": "execute_result"
            },
            {
               "data": {
                  "image/png": "[encoded data removed]",
                  "text/plain": [
                     "<Figure size 432x288 with 1 Axes>"
                  ]
               },
               "metadata": {
                  "needs_background": "light"
               },
               "output_type": "display_data"
            }
         ],
         "source": [
            "history_df.loc[:, ['loss', 'val_loss']].plot()"
         ]
      },
      {
         "cell_type": "code",
         "execution_count": 430,
         "metadata": {},
         "outputs": [
            {
               "data": {
                  "text/plain": [
                     "array([[nan],\n",
                     "       [nan],\n",
                     "       [nan],\n",
                     "       ...,\n",
                     "       [nan],\n",
                     "       [nan],\n",
                     "       [nan]], dtype=float32)"
                  ]
               },
               "execution_count": 430,
               "metadata": {},
               "output_type": "execute_result"
            }
         ],
         "source": [
            "y_pred=lstm_rnn_model.predict(X_test)\n",
            "y_pred"
         ]
      },
      {
         "cell_type": "code",
         "execution_count": 431,
         "metadata": {},
         "outputs": [
            {
               "name": "stdout",
               "output_type": "stream",
               "text": [
                  "320/320 [==============================] - 2s 6ms/step - loss: nan - accuracy: 0.4403\n"
               ]
            },
            {
               "data": {
                  "text/plain": [
                     "[nan, 0.4402780532836914]"
                  ]
               },
               "execution_count": 431,
               "metadata": {},
               "output_type": "execute_result"
            }
         ],
         "source": [
            "eval=lstm_rnn_model.evaluate(X_test, y_test)\n",
            "eval"
         ]
      }
   ],
   "metadata": {
      "kernelspec": {
         "display_name": "Python 3",
         "language": "python",
         "name": "python3"
      },
      "language_info": {
         "codemirror_mode": {
            "name": "ipython",
            "version": 3
         },
         "file_extension": ".py",
         "mimetype": "text/x-python",
         "name": "python",
         "nbconvert_exporter": "python",
         "pygments_lexer": "ipython3",
         "version": "3.8.10"
      },
      "orig_nbformat": 4,
      "vscode": {
         "interpreter": {
            "hash": "31f2aee4e71d21fbe5cf8b01ff0e069b9275f58929596ceb00d14d90e3e16cd6"
         }
      }
   },
   "nbformat": 4,
   "nbformat_minor": 2
}

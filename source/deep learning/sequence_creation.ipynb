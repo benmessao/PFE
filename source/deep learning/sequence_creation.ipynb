{
   "cells": [
      {
         "cell_type": "code",
         "execution_count": 1,
         "metadata": {},
         "outputs": [],
         "source": [
            "import pandas as pd\n",
            "import numpy as np\n",
            "import sys\n",
            "sys.path.append('../src/')\n",
            "import dataset_prep"
         ]
      },
      {
         "attachments": {},
         "cell_type": "markdown",
         "metadata": {},
         "source": [
            "Import de la base de données"
         ]
      },
      {
         "cell_type": "code",
         "execution_count": 2,
         "metadata": {},
         "outputs": [],
         "source": [
            "selected_columns = [\n",
            "\"nb_packets_sent\",\n",
            "\"distance\",\n",
            "\"distRealSR1\",\n",
            "\"pos_y_rec_f\",\n",
            "\"pos_y_rec\",\n",
            "\"pos_x_rec_f\",\n",
            "\"pos_x_rec\",\n",
            "\"pos_x_send\",\n",
            "\"pos_y_send\",\n",
            "\"spd_x_send\",\n",
            "\"spd_y_send\",\n",
            "\"sendTime\",\n",
            "\"receiver\",\n",
            "\"sender\",\n",
            "\"label\"\n",
            "]"
         ]
      },
      {
         "cell_type": "code",
         "execution_count": 3,
         "metadata": {},
         "outputs": [
            {
               "name": "stdout",
               "output_type": "stream",
               "text": [
                  "Nombre de lignes avant nettoyage :  1048575\n",
                  "Nombre de lignes après nettoyage :  1038446\n"
               ]
            }
         ],
         "source": [
            "df = dataset_prep.import_dataset('../../data/0709/data0709.csv', selected_columns)"
         ]
      },
      {
         "attachments": {},
         "cell_type": "markdown",
         "metadata": {},
         "source": [
            "Analyse et vérification des données"
         ]
      },
      {
         "cell_type": "code",
         "execution_count": 4,
         "metadata": {},
         "outputs": [
            {
               "data": {
                  "text/plain": [
                     "array([   9,   15,   21, ..., 6687, 6693, 6699])"
                  ]
               },
               "execution_count": 4,
               "metadata": {},
               "output_type": "execute_result"
            }
         ],
         "source": [
            "senders = np.unique(df[\"sender\"].values)\n",
            "senders"
         ]
      },
      {
         "cell_type": "code",
         "execution_count": 5,
         "metadata": {},
         "outputs": [
            {
               "name": "stdout",
               "output_type": "stream",
               "text": [
                  "1116\n"
               ]
            }
         ],
         "source": [
            "print(len(senders))"
         ]
      },
      {
         "cell_type": "code",
         "execution_count": 6,
         "metadata": {},
         "outputs": [
            {
               "data": {
                  "text/plain": [
                     "Index(['sendTime', 'sender', 'receiver', 'pos_x_send', 'pos_y_send',\n",
                     "       'spd_x_send', 'spd_y_send', 'pos_x_rec', 'pos_y_rec', 'pos_x_rec_f',\n",
                     "       'pos_y_rec_f', 'nb_packets_sent', 'distRealSR1', 'distance'],\n",
                     "      dtype='object')"
                  ]
               },
               "execution_count": 6,
               "metadata": {},
               "output_type": "execute_result"
            }
         ],
         "source": [
            "# Copie de la bdd pour récuperer les colonnes sans impacter la vraie base de données\n",
            "\n",
            "data_copy = df.copy()\n",
            "data_copy = data_copy.drop([\"label\"], axis=1)\n",
            "\n",
            "columns = data_copy.columns\n",
            "columns"
         ]
      },
      {
         "attachments": {},
         "cell_type": "markdown",
         "metadata": {},
         "source": [
            "Amélioration à faire :\n",
            "\n",
            "Séléctionner seulement les sender avec value_counts > 20"
         ]
      },
      {
         "attachments": {},
         "cell_type": "markdown",
         "metadata": {},
         "source": [
            "Séparation de la base de données : diviser pour régner"
         ]
      },
      {
         "cell_type": "code",
         "execution_count": 7,
         "metadata": {},
         "outputs": [],
         "source": [
            "# /!\\ attention à bien utiliser la base de données rangée par sender pour limiter la perte de données\n",
            "# Indice égal à 0, 1 ou 2\n",
            "# Célia = 0\n",
            "# Chléo = 1\n",
            "# Thomas = 2\n",
            "\n",
            "def split_data_in_3(df, indice):\n",
            "    # Division de la bdd en 3\n",
            "    split_data = np.array_split(df,3)\n",
            "\n",
            "    # Division en plusieurs sous-bdd pour diminuer le temps de calcul par exécution\n",
            "    #divided_data = np.array_split(split_data[indice],50)\n",
            "\n",
            "    return split_data"
         ]
      },
      {
         "attachments": {},
         "cell_type": "markdown",
         "metadata": {},
         "source": [
            "/!\\ à bien changer l'indice !!"
         ]
      },
      {
         "cell_type": "code",
         "execution_count": 8,
         "metadata": {},
         "outputs": [],
         "source": [
            "divided_dataframes = split_data_in_3(df.sort_values(\"sender\"),0)"
         ]
      },
      {
         "cell_type": "code",
         "execution_count": 9,
         "metadata": {},
         "outputs": [
            {
               "data": {
                  "text/plain": [
                     "3"
                  ]
               },
               "execution_count": 9,
               "metadata": {},
               "output_type": "execute_result"
            }
         ],
         "source": [
            "len(divided_dataframes)"
         ]
      },
      {
         "attachments": {},
         "cell_type": "markdown",
         "metadata": {},
         "source": [
            "Création des séquences"
         ]
      },
      {
         "cell_type": "code",
         "execution_count": 8,
         "metadata": {},
         "outputs": [],
         "source": [
            "def sequence_creation(df):\n",
            "    senders_sequences = np.array()\n",
            "    senders_label = np.array\n",
            "    for sender in senders:\n",
            "        sender_data_sorted = df.loc[df['sender'] == sender].sort_values(\"sendTime\")\n",
            "        sender_data_sorted = sender_data_sorted.drop([\"label\",\"sender\"], axis=1)\n",
            "        sequence_array = np.array\n",
            "\n",
            "        length = sender_data_sorted.shape[0]\n",
            "        slide = 10\n",
            "        start = 0\n",
            "        end = 20\n",
            "\n",
            "        # On récupère la valeur du label pour ce sender\n",
            "        label = df.loc[df['sender'] == sender]['label'].tolist()[0]\n",
            "        if (length > 20):\n",
            "            senders_label.append(label)\n",
            "\n",
            "        # On vérifie qu'il est possible de faire une séquence de taille 20\n",
            "        while length >= 20:\n",
            "            # Extraction par tranche de 20 avec une inter de 10\n",
            "            sequence = sender_data_sorted[start:end]\n",
            "\n",
            "            # Labels correspondant\n",
            "            #labels =  pd.Series.tolist(sequence[\"label\"])\n",
            "\n",
            "            # On transforme les 13 en 1, cette formule marche toujours si on met d'autres types d'attaques\n",
            "            #labels[:] = [x if x == 0 else 1 for x in labels]\n",
            "\n",
            "            # Attribution des tableaux numpy\n",
            "            sequence_array = np.append(sequence_array, np.array(sequence.values, dtype=object))\n",
            "            #label_array.append(labels)\n",
            "\n",
            "            # Mise à jour des variables\n",
            "            start += slide\n",
            "            end += slide\n",
            "            length -= 10\n",
            "        \n",
            "        if len(sequence_array)>0:\n",
            "            senders_sequences = np.append(senders_sequences, np.array(sequence_array, dtype=object))\n",
            "\n",
            "    \n",
            "    return senders_sequences, senders_label"
         ]
      },
      {
         "cell_type": "code",
         "execution_count": 9,
         "metadata": {},
         "outputs": [],
         "source": [
            "def flat_sequence_creation(df):\n",
            "    senders_sequences = []\n",
            "    senders_label = []\n",
            "\n",
            "    for sender in senders:\n",
            "        # Données d'un seul sender rangée en fonction de l'heure d'envoi\n",
            "        sender_data_sorted = df.loc[df['sender'] == sender].sort_values(\"sendTime\")\n",
            "\n",
            "        # On récupère la valeur du label pour ce sender\n",
            "        \"\"\" On remplasse toute les valeur !=0 en 1 \"\"\"\n",
            "        if sender_data_sorted['label'].tolist()[0] != 0 :\n",
            "            label=1\n",
            "        else :\n",
            "            label = sender_data_sorted['label'].tolist()[0]\n",
            "        #On supprime les colonnes label et sender\n",
            "        sender_data_sorted = sender_data_sorted.drop([\"label\",\"sender\"], axis=1)\n",
            "        \n",
            "        #sequence_array = []\n",
            "\n",
            "        length = sender_data_sorted.shape[0]\n",
            "        slide = 10\n",
            "        start = 0\n",
            "        end = 20\n",
            "\n",
            "        # On vérifie qu'il est possible de faire une séquence de taille 20\n",
            "        while length > 20:\n",
            "            # Extraction par tranche de 20 avec une inter de 10\n",
            "            sequence = sender_data_sorted[start:end]\n",
            "\n",
            "            # Labels correspondant\n",
            "            #labels =  pd.Series.tolist(sequence[\"label\"])\n",
            "\n",
            "            # On transforme les 13 en 1, cette formule marche toujours si on met d'autres types d'attaques\n",
            "            #labels[:] = [x if x == 0 else 1 for x in labels]\n",
            "\n",
            "            # Attribution des tableaux numpy\n",
            "            senders_sequences.append(np.array(sequence.values.tolist(), dtype=np.float32))\n",
            "            senders_label.append(label)\n",
            "\n",
            "            # Mise à jour des variables\n",
            "            start += slide\n",
            "            end += slide\n",
            "            length -= 10\n",
            "\n",
            "    return senders_sequences, senders_label"
         ]
      },
      {
         "attachments": {},
         "cell_type": "markdown",
         "metadata": {},
         "source": [
            "/!\\ à bien changer l'indice !!"
         ]
      },
      {
         "cell_type": "code",
         "execution_count": 10,
         "metadata": {},
         "outputs": [],
         "source": [
            "sorted_dataset = df.sort_values(\"sender\")"
         ]
      },
      {
         "cell_type": "code",
         "execution_count": 11,
         "metadata": {},
         "outputs": [],
         "source": [
            "sequence_test, label_test = flat_sequence_creation(sorted_dataset)\n",
            "#label_test"
         ]
      },
      {
         "attachments": {},
         "cell_type": "markdown",
         "metadata": {},
         "source": [
            "sequence_test, label_test = sequence_creation(df)"
         ]
      },
      {
         "cell_type": "code",
         "execution_count": 12,
         "metadata": {},
         "outputs": [
            {
               "data": {
                  "text/plain": [
                     "102132"
                  ]
               },
               "execution_count": 12,
               "metadata": {},
               "output_type": "execute_result"
            }
         ],
         "source": [
            "len(sequence_test)"
         ]
      },
      {
         "attachments": {},
         "cell_type": "markdown",
         "metadata": {},
         "source": [
            "# Initialisation des données"
         ]
      },
      {
         "cell_type": "code",
         "execution_count": 13,
         "metadata": {},
         "outputs": [
            {
               "name": "stderr",
               "output_type": "stream",
               "text": [
                  "2023-02-03 15:04:06.857839: W tensorflow/stream_executor/platform/default/dso_loader.cc:64] Could not load dynamic library 'libcudart.so.11.0'; dlerror: libcudart.so.11.0: cannot open shared object file: No such file or directory\n",
                  "2023-02-03 15:04:06.857867: I tensorflow/stream_executor/cuda/cudart_stub.cc:29] Ignore above cudart dlerror if you do not have a GPU set up on your machine.\n"
               ]
            }
         ],
         "source": [
            "import pandas as pd\n",
            "import numpy as np\n",
            "from tensorflow import keras\n",
            "from keras import layers, applications, utils, models, optimizers, Input, callbacks\n",
            "from keras.models import Sequential\n",
            "from keras.layers import Dense, SimpleRNN\n",
            "from sklearn.preprocessing import MinMaxScaler\n",
            "from sklearn.metrics import mean_squared_error\n",
            "import math\n",
            "import matplotlib.pyplot as plt\n",
            "from sklearn.model_selection import train_test_split\n",
            "from sklearn.metrics import confusion_matrix, classification_report\n",
            "import seaborn as sns"
         ]
      },
      {
         "cell_type": "code",
         "execution_count": 14,
         "metadata": {},
         "outputs": [],
         "source": [
            "# Transformation en array numpy\n",
            "X = np.array(sequence_test)\n",
            "y = np.array(label_test, dtype=np.float32)"
         ]
      },
      {
         "cell_type": "code",
         "execution_count": null,
         "metadata": {},
         "outputs": [],
         "source": [
            "#X = X[:100]\n",
            "#y = y[:100]"
         ]
      },
      {
         "cell_type": "code",
         "execution_count": 15,
         "metadata": {},
         "outputs": [],
         "source": [
            "# Séparation en données d'entrainement et de test\n",
            "X_train, X_test, y_train, y_test = train_test_split(X, y, test_size=0.1)"
         ]
      },
      {
         "cell_type": "code",
         "execution_count": 16,
         "metadata": {},
         "outputs": [
            {
               "name": "stdout",
               "output_type": "stream",
               "text": [
                  "X_train :  (91918, 20, 13)\n",
                  "y_train :  (91918,)\n",
                  "X_test :  (10214, 20, 13)\n",
                  "y_test :  (10214,)\n"
               ]
            }
         ],
         "source": [
            "print(\"X_train : \", X_train.shape)\n",
            "print(\"y_train : \", y_train.shape)\n",
            "print(\"X_test : \", X_test.shape)\n",
            "print(\"y_test : \", y_test.shape)"
         ]
      },
      {
         "cell_type": "code",
         "execution_count": 17,
         "metadata": {},
         "outputs": [
            {
               "data": {
                  "text/plain": [
                     "array([1., 1., 1., ..., 0., 0., 1.], dtype=float32)"
                  ]
               },
               "execution_count": 17,
               "metadata": {},
               "output_type": "execute_result"
            }
         ],
         "source": [
            "y_train"
         ]
      },
      {
         "attachments": {},
         "cell_type": "markdown",
         "metadata": {},
         "source": [
            "# Modèle dense simple"
         ]
      },
      {
         "cell_type": "code",
         "execution_count": 18,
         "metadata": {},
         "outputs": [
            {
               "name": "stderr",
               "output_type": "stream",
               "text": [
                  "2023-02-03 15:04:10.509674: E tensorflow/stream_executor/cuda/cuda_driver.cc:271] failed call to cuInit: CUDA_ERROR_NO_DEVICE: no CUDA-capable device is detected\n",
                  "2023-02-03 15:04:10.509754: I tensorflow/stream_executor/cuda/cuda_diagnostics.cc:156] kernel driver does not appear to be running on this host (student-laptop): /proc/driver/nvidia/version does not exist\n",
                  "2023-02-03 15:04:10.510653: I tensorflow/core/platform/cpu_feature_guard.cc:151] This TensorFlow binary is optimized with oneAPI Deep Neural Network Library (oneDNN) to use the following CPU instructions in performance-critical operations:  AVX2 FMA\n",
                  "To enable them in other operations, rebuild TensorFlow with the appropriate compiler flags.\n"
               ]
            }
         ],
         "source": [
            "# TODO amélioration du model dense avec du dropout ? \n",
            "simple_model = keras.Sequential([\n",
            "    layers.Dense(128,input_shape=(20, 13), activation='relu'),\n",
            "    #layers.BatchNormalization(), # les batchNormalization fond baisser l'accuracy \n",
            "    layers.Dense(256, activation='relu'),\n",
            "    #layers.BatchNormalization(),\n",
            "    layers.Dense(64, activation='relu'),\n",
            "    layers.Dense(1, activation='linear') # avec relu on perd un peu d'accuracy\n",
            "])"
         ]
      },
      {
         "cell_type": "code",
         "execution_count": 19,
         "metadata": {},
         "outputs": [
            {
               "name": "stdout",
               "output_type": "stream",
               "text": [
                  "INPUT\n",
                  "(None, 20, 13) <dtype: 'float32'>\n",
                  "OUTPUT\n",
                  "(None, 20, 1) <dtype: 'float32'>\n",
                  "LAYERS\n",
                  "dense (None, 20, 13) float32\n",
                  "dense_1 (None, 20, 128) float32\n",
                  "dense_2 (None, 20, 256) float32\n",
                  "dense_3 (None, 20, 64) float32\n"
               ]
            },
            {
               "data": {
                  "text/plain": [
                     "[None, None, None, None]"
                  ]
               },
               "execution_count": 19,
               "metadata": {},
               "output_type": "execute_result"
            }
         ],
         "source": [
            "print(\"INPUT\")\n",
            "[print(i.shape, i.dtype) for i in simple_model.inputs]\n",
            "print(\"OUTPUT\")\n",
            "[print(o.shape, o.dtype) for o in simple_model.outputs]\n",
            "print(\"LAYERS\")\n",
            "[print(l.name, l.input_shape, l.dtype) for l in simple_model.layers]"
         ]
      },
      {
         "cell_type": "code",
         "execution_count": 20,
         "metadata": {},
         "outputs": [],
         "source": [
            "callback = keras.callbacks.EarlyStopping(monitor='val_accuracy', patience=5, restore_best_weights=True)\n",
            "#opt = keras.optimizers.SGD(learning_rate=0.01)\n",
            "simple_model.compile(loss='binary_crossentropy', optimizer=\"adam\", metrics='accuracy')"
         ]
      },
      {
         "cell_type": "code",
         "execution_count": 21,
         "metadata": {},
         "outputs": [
            {
               "name": "stdout",
               "output_type": "stream",
               "text": [
                  "Epoch 1/20\n"
               ]
            },
            {
               "name": "stderr",
               "output_type": "stream",
               "text": [
                  "2023-02-03 15:04:10.985415: W tensorflow/core/framework/cpu_allocator_impl.cc:82] Allocation of 66915680 exceeds 10% of free system memory.\n"
               ]
            },
            {
               "name": "stdout",
               "output_type": "stream",
               "text": [
                  "502/503 [============================>.] - ETA: 0s - loss: 6.7729 - accuracy: 0.5559"
               ]
            },
            {
               "name": "stderr",
               "output_type": "stream",
               "text": [
                  "2023-02-03 15:04:18.246505: W tensorflow/core/framework/cpu_allocator_impl.cc:82] Allocation of 28679040 exceeds 10% of free system memory.\n"
               ]
            },
            {
               "name": "stdout",
               "output_type": "stream",
               "text": [
                  "503/503 [==============================] - 8s 15ms/step - loss: 6.7717 - accuracy: 0.5559 - val_loss: 6.7205 - val_accuracy: 0.5593\n",
                  "Epoch 2/20\n",
                  "503/503 [==============================] - 7s 15ms/step - loss: 6.7717 - accuracy: 0.5559 - val_loss: 6.7205 - val_accuracy: 0.5593\n",
                  "Epoch 3/20\n",
                  "503/503 [==============================] - 7s 15ms/step - loss: 6.7717 - accuracy: 0.5559 - val_loss: 6.7205 - val_accuracy: 0.5593\n",
                  "Epoch 4/20\n",
                  "503/503 [==============================] - 7s 14ms/step - loss: 6.7717 - accuracy: 0.5559 - val_loss: 6.7205 - val_accuracy: 0.5593\n",
                  "Epoch 5/20\n",
                  "503/503 [==============================] - 8s 16ms/step - loss: 6.7717 - accuracy: 0.5559 - val_loss: 6.7205 - val_accuracy: 0.5593\n",
                  "Epoch 6/20\n",
                  "503/503 [==============================] - 9s 18ms/step - loss: 6.7717 - accuracy: 0.5559 - val_loss: 6.7205 - val_accuracy: 0.5593\n"
               ]
            }
         ],
         "source": [
            "history = simple_model.fit(X_train, y_train, epochs=20, batch_size=128, validation_split=0.3, callbacks=[callback])"
         ]
      },
      {
         "cell_type": "code",
         "execution_count": 22,
         "metadata": {},
         "outputs": [
            {
               "data": {
                  "text/plain": [
                     "<AxesSubplot:>"
                  ]
               },
               "execution_count": 22,
               "metadata": {},
               "output_type": "execute_result"
            },
            {
               "data": {
                  "image/png": "[encoded data removed]",
                  "text/plain": [
                     "<Figure size 432x288 with 1 Axes>"
                  ]
               },
               "metadata": {
                  "needs_background": "light"
               },
               "output_type": "display_data"
            }
         ],
         "source": [
            "history_df = pd.DataFrame(history.history)\n",
            "history_df.loc[:, ['accuracy', 'val_accuracy']].plot()"
         ]
      },
      {
         "cell_type": "code",
         "execution_count": 23,
         "metadata": {},
         "outputs": [
            {
               "data": {
                  "text/plain": [
                     "<AxesSubplot:>"
                  ]
               },
               "execution_count": 23,
               "metadata": {},
               "output_type": "execute_result"
            },
            {
               "data": {
                  "image/png": "[encoded data removed]",
                  "text/plain": [
                     "<Figure size 432x288 with 1 Axes>"
                  ]
               },
               "metadata": {
                  "needs_background": "light"
               },
               "output_type": "display_data"
            }
         ],
         "source": [
            "history_df.loc[:, ['loss', 'val_loss']].plot()"
         ]
      },
      {
         "cell_type": "code",
         "execution_count": 24,
         "metadata": {},
         "outputs": [
            {
               "data": {
                  "text/plain": [
                     "array([[[1439.8408 ],\n",
                     "        [1432.3217 ],\n",
                     "        [1454.8447 ],\n",
                     "        ...,\n",
                     "        [1449.3008 ],\n",
                     "        [1445.1526 ],\n",
                     "        [1452.309  ]],\n",
                     "\n",
                     "       [[ 648.1592 ],\n",
                     "        [ 651.1008 ],\n",
                     "        [ 653.8641 ],\n",
                     "        ...,\n",
                     "        [ 653.8826 ],\n",
                     "        [ 651.32764],\n",
                     "        [ 678.9124 ]],\n",
                     "\n",
                     "       [[1302.3055 ],\n",
                     "        [1301.0165 ],\n",
                     "        [1317.9642 ],\n",
                     "        ...,\n",
                     "        [1299.8761 ],\n",
                     "        [1302.8456 ],\n",
                     "        [1299.8955 ]],\n",
                     "\n",
                     "       ...,\n",
                     "\n",
                     "       [[1766.335  ],\n",
                     "        [1751.8263 ],\n",
                     "        [1772.3877 ],\n",
                     "        ...,\n",
                     "        [1745.509  ],\n",
                     "        [1742.1807 ],\n",
                     "        [1765.5188 ]],\n",
                     "\n",
                     "       [[1393.2942 ],\n",
                     "        [1392.1058 ],\n",
                     "        [1393.6941 ],\n",
                     "        ...,\n",
                     "        [1393.8336 ],\n",
                     "        [1393.3696 ],\n",
                     "        [1392.1583 ]],\n",
                     "\n",
                     "       [[1659.2631 ],\n",
                     "        [1640.626  ],\n",
                     "        [1676.7991 ],\n",
                     "        ...,\n",
                     "        [1645.1768 ],\n",
                     "        [1662.6428 ],\n",
                     "        [1679.8298 ]]], dtype=float32)"
                  ]
               },
               "execution_count": 24,
               "metadata": {},
               "output_type": "execute_result"
            }
         ],
         "source": [
            "y_pred=simple_model.predict(X_test)\n",
            "y_pred"
         ]
      },
      {
         "cell_type": "code",
         "execution_count": 25,
         "metadata": {},
         "outputs": [
            {
               "name": "stdout",
               "output_type": "stream",
               "text": [
                  "320/320 [==============================] - 1s 2ms/step - loss: 6.7169 - accuracy: 0.5595\n"
               ]
            },
            {
               "data": {
                  "text/plain": [
                     "[6.716886043548584, 0.5595261454582214]"
                  ]
               },
               "execution_count": 25,
               "metadata": {},
               "output_type": "execute_result"
            }
         ],
         "source": [
            "eval=simple_model.evaluate(X_test, y_test)\n",
            "eval"
         ]
      },
      {
         "attachments": {},
         "cell_type": "markdown",
         "metadata": {},
         "source": [
            "# RNN"
         ]
      },
      {
         "cell_type": "code",
         "execution_count": 26,
         "metadata": {},
         "outputs": [],
         "source": [
            "def create_RNN(hidden_units, dense_units, input_shape, activation):\n",
            "    '''\n",
            "    hidden_units : nombre de neurones dans la couche SimpleRNN\n",
            "    dense_units : nombre de neurones dans la couche Dense\n",
            "    activation : liste des deux fonctions d'activation\n",
            "    '''\n",
            "    #opt = keras.optimizers.SGD(learning_rate=0.01)\n",
            "    model = Sequential()\n",
            "    model.add(SimpleRNN(hidden_units, input_shape=input_shape, return_sequences=True, activation=activation[0]))\n",
            "    model.add(SimpleRNN(32, activation=activation[0]))\n",
            "    model.add(keras.layers.BatchNormalization())\n",
            "    model.add(Dense(64, activation=activation[1]))\n",
            "    model.add(Dense(units=dense_units, activation='sigmoid'))\n",
            "    model.compile(loss='binary_crossentropy', optimizer='adam', metrics='accuracy')\n",
            "    return model\n",
            "\n",
            "#demo_model = create_RNN(2, 1, (3,1), activation=['linear', 'linear'])\n",
            "\n",
            "rnn_model = create_RNN(32, 1, (20, 13), activation=['relu', 'relu'])\n",
            "callback = keras.callbacks.EarlyStopping(monitor='val_accuracy', patience=5, restore_best_weights=True)"
         ]
      },
      {
         "cell_type": "code",
         "execution_count": 27,
         "metadata": {},
         "outputs": [
            {
               "name": "stdout",
               "output_type": "stream",
               "text": [
                  "Epoch 1/20\n"
               ]
            },
            {
               "name": "stderr",
               "output_type": "stream",
               "text": [
                  "2023-02-03 15:04:59.824415: W tensorflow/core/framework/cpu_allocator_impl.cc:82] Allocation of 66915680 exceeds 10% of free system memory.\n"
               ]
            },
            {
               "name": "stdout",
               "output_type": "stream",
               "text": [
                  "499/503 [============================>.] - ETA: 0s - loss: 0.3845 - accuracy: 0.8324"
               ]
            },
            {
               "name": "stderr",
               "output_type": "stream",
               "text": [
                  "2023-02-03 15:05:03.854329: W tensorflow/core/framework/cpu_allocator_impl.cc:82] Allocation of 28679040 exceeds 10% of free system memory.\n"
               ]
            },
            {
               "name": "stdout",
               "output_type": "stream",
               "text": [
                  "503/503 [==============================] - 5s 7ms/step - loss: 0.3845 - accuracy: 0.8324 - val_loss: 1.4692 - val_accuracy: 0.5593\n",
                  "Epoch 2/20\n",
                  "503/503 [==============================] - 3s 7ms/step - loss: 0.3570 - accuracy: 0.8458 - val_loss: 0.3412 - val_accuracy: 0.8416\n",
                  "Epoch 3/20\n",
                  "503/503 [==============================] - 3s 7ms/step - loss: 0.3337 - accuracy: 0.8514 - val_loss: 0.3710 - val_accuracy: 0.8273\n",
                  "Epoch 4/20\n",
                  "503/503 [==============================] - 3s 7ms/step - loss: 0.3313 - accuracy: 0.8519 - val_loss: 0.3392 - val_accuracy: 0.8433\n",
                  "Epoch 5/20\n",
                  "503/503 [==============================] - 4s 8ms/step - loss: 0.3294 - accuracy: 0.8534 - val_loss: 0.3914 - val_accuracy: 0.8261\n",
                  "Epoch 6/20\n",
                  "503/503 [==============================] - 4s 8ms/step - loss: 0.3299 - accuracy: 0.8529 - val_loss: 0.3468 - val_accuracy: 0.8399\n",
                  "Epoch 7/20\n",
                  "503/503 [==============================] - 5s 9ms/step - loss: 0.3259 - accuracy: 0.8537 - val_loss: 0.3995 - val_accuracy: 0.8160\n",
                  "Epoch 8/20\n",
                  "503/503 [==============================] - 5s 10ms/step - loss: 0.3245 - accuracy: 0.8557 - val_loss: 0.5232 - val_accuracy: 0.7627\n",
                  "Epoch 9/20\n",
                  "503/503 [==============================] - 4s 8ms/step - loss: 0.3257 - accuracy: 0.8560 - val_loss: 0.3218 - val_accuracy: 0.8563\n",
                  "Epoch 10/20\n",
                  "503/503 [==============================] - 4s 9ms/step - loss: 0.3242 - accuracy: 0.8559 - val_loss: 0.4159 - val_accuracy: 0.8001\n",
                  "Epoch 11/20\n",
                  "503/503 [==============================] - 4s 7ms/step - loss: 0.3219 - accuracy: 0.8568 - val_loss: 0.4420 - val_accuracy: 0.8031\n",
                  "Epoch 12/20\n",
                  "503/503 [==============================] - 4s 7ms/step - loss: 0.3224 - accuracy: 0.8556 - val_loss: 0.3580 - val_accuracy: 0.8415\n",
                  "Epoch 13/20\n",
                  "503/503 [==============================] - 4s 7ms/step - loss: 0.3210 - accuracy: 0.8576 - val_loss: 0.3203 - val_accuracy: 0.8560\n",
                  "Epoch 14/20\n",
                  "503/503 [==============================] - 4s 7ms/step - loss: 0.3205 - accuracy: 0.8571 - val_loss: 0.3521 - val_accuracy: 0.8337\n"
               ]
            }
         ],
         "source": [
            "history = rnn_model.fit(X_train, y_train, epochs=20, batch_size=128, validation_split=0.3, callbacks=[callback])"
         ]
      },
      {
         "cell_type": "code",
         "execution_count": 28,
         "metadata": {},
         "outputs": [
            {
               "data": {
                  "text/plain": [
                     "<AxesSubplot:>"
                  ]
               },
               "execution_count": 28,
               "metadata": {},
               "output_type": "execute_result"
            },
            {
               "data": {
                  "image/png": "[encoded data removed]",
                  "text/plain": [
                     "<Figure size 432x288 with 1 Axes>"
                  ]
               },
               "metadata": {
                  "needs_background": "light"
               },
               "output_type": "display_data"
            }
         ],
         "source": [
            "history_df = pd.DataFrame(history.history)\n",
            "history_df.loc[:, ['accuracy', 'val_accuracy']].plot()"
         ]
      },
      {
         "cell_type": "code",
         "execution_count": 29,
         "metadata": {},
         "outputs": [
            {
               "data": {
                  "text/plain": [
                     "<AxesSubplot:>"
                  ]
               },
               "execution_count": 29,
               "metadata": {},
               "output_type": "execute_result"
            },
            {
               "data": {
                  "image/png": "[encoded data removed]",
                  "text/plain": [
                     "<Figure size 432x288 with 1 Axes>"
                  ]
               },
               "metadata": {
                  "needs_background": "light"
               },
               "output_type": "display_data"
            }
         ],
         "source": [
            "history_df.loc[:, ['loss', 'val_loss']].plot()"
         ]
      },
      {
         "cell_type": "code",
         "execution_count": 30,
         "metadata": {},
         "outputs": [
            {
               "data": {
                  "text/plain": [
                     "array([[0.46484816],\n",
                     "       [0.99999595],\n",
                     "       [0.9999369 ],\n",
                     "       ...,\n",
                     "       [0.20194113],\n",
                     "       [0.95544386],\n",
                     "       [0.2517743 ]], dtype=float32)"
                  ]
               },
               "execution_count": 30,
               "metadata": {},
               "output_type": "execute_result"
            }
         ],
         "source": [
            "y_pred=rnn_model.predict(X_test)\n",
            "y_pred"
         ]
      },
      {
         "cell_type": "code",
         "execution_count": 31,
         "metadata": {},
         "outputs": [
            {
               "name": "stdout",
               "output_type": "stream",
               "text": [
                  "              precision    recall  f1-score   support\n",
                  "\n",
                  "         0.0       0.79      0.91      0.85      4499\n",
                  "         1.0       0.92      0.81      0.86      5715\n",
                  "\n",
                  "    accuracy                           0.86     10214\n",
                  "   macro avg       0.86      0.86      0.86     10214\n",
                  "weighted avg       0.86      0.86      0.86     10214\n",
                  "\n"
               ]
            }
         ],
         "source": [
            "# arrondir les prédictions avant de les evalués\n",
            "y_pred = [0 if x < 0.5 else 1 for x in y_pred] \n",
            "y_pred\n",
            "print(classification_report(y_test, y_pred))"
         ]
      },
      {
         "cell_type": "code",
         "execution_count": 32,
         "metadata": {},
         "outputs": [
            {
               "name": "stdout",
               "output_type": "stream",
               "text": [
                  "320/320 [==============================] - 1s 2ms/step - loss: 0.3249 - accuracy: 0.8556\n"
               ]
            },
            {
               "data": {
                  "text/plain": [
                     "[0.324925035238266, 0.8555903434753418]"
                  ]
               },
               "execution_count": 32,
               "metadata": {},
               "output_type": "execute_result"
            }
         ],
         "source": [
            "eval=rnn_model.evaluate(X_test, y_test)\n",
            "eval"
         ]
      },
      {
         "attachments": {},
         "cell_type": "markdown",
         "metadata": {},
         "source": [
            "# Test LSTM"
         ]
      },
      {
         "cell_type": "code",
         "execution_count": 33,
         "metadata": {},
         "outputs": [],
         "source": [
            "lstm_model = keras.Sequential([\n",
            "    layers.Dense(32, input_shape=(20,13), activation='relu'),\n",
            "    layers.LSTM(128, return_sequences=True),\n",
            "    layers.LSTM(128),\n",
            "    #layers.BatchNormalization(),\n",
            "    layers.Dense(64, activation='relu'),\n",
            "    layers.Dense(1, activation='sigmoid')\n",
            "])"
         ]
      },
      {
         "cell_type": "code",
         "execution_count": 34,
         "metadata": {},
         "outputs": [],
         "source": [
            "callback = keras.callbacks.EarlyStopping(monitor='val_accuracy', patience=5, restore_best_weights=True)\n",
            "#opt = keras.optimizers.SGD(learning_rate=0.01)\n",
            "lstm_model.compile(loss='binary_crossentropy', optimizer='adam', metrics='accuracy')"
         ]
      },
      {
         "cell_type": "code",
         "execution_count": 35,
         "metadata": {},
         "outputs": [
            {
               "name": "stdout",
               "output_type": "stream",
               "text": [
                  "Model: \"sequential_2\"\n",
                  "_________________________________________________________________\n",
                  " Layer (type)                Output Shape              Param #   \n",
                  "=================================================================\n",
                  " dense_6 (Dense)             (None, 20, 32)            448       \n",
                  "                                                                 \n",
                  " lstm (LSTM)                 (None, 20, 128)           82432     \n",
                  "                                                                 \n",
                  " lstm_1 (LSTM)               (None, 128)               131584    \n",
                  "                                                                 \n",
                  " dense_7 (Dense)             (None, 64)                8256      \n",
                  "                                                                 \n",
                  " dense_8 (Dense)             (None, 1)                 65        \n",
                  "                                                                 \n",
                  "=================================================================\n",
                  "Total params: 222,785\n",
                  "Trainable params: 222,785\n",
                  "Non-trainable params: 0\n",
                  "_________________________________________________________________\n"
               ]
            }
         ],
         "source": [
            "lstm_model.summary()"
         ]
      },
      {
         "cell_type": "code",
         "execution_count": 36,
         "metadata": {},
         "outputs": [
            {
               "name": "stdout",
               "output_type": "stream",
               "text": [
                  "Epoch 1/20\n"
               ]
            },
            {
               "name": "stderr",
               "output_type": "stream",
               "text": [
                  "2023-02-03 15:05:57.731552: W tensorflow/core/framework/cpu_allocator_impl.cc:82] Allocation of 66915680 exceeds 10% of free system memory.\n"
               ]
            },
            {
               "name": "stdout",
               "output_type": "stream",
               "text": [
                  "2011/2011 [==============================] - 57s 27ms/step - loss: 0.6861 - accuracy: 0.5555 - val_loss: 0.6869 - val_accuracy: 0.5593\n",
                  "Epoch 2/20\n",
                  "2011/2011 [==============================] - 61s 30ms/step - loss: 0.6877 - accuracy: 0.5559 - val_loss: 0.6866 - val_accuracy: 0.5593\n",
                  "Epoch 3/20\n",
                  "2011/2011 [==============================] - 57s 28ms/step - loss: 0.6875 - accuracy: 0.5559 - val_loss: 0.6881 - val_accuracy: 0.5593\n",
                  "Epoch 4/20\n",
                  "2011/2011 [==============================] - 67s 33ms/step - loss: 0.6875 - accuracy: 0.5558 - val_loss: 0.6867 - val_accuracy: 0.5593\n",
                  "Epoch 5/20\n",
                  "2011/2011 [==============================] - 58s 29ms/step - loss: 0.6873 - accuracy: 0.5559 - val_loss: 0.6861 - val_accuracy: 0.5593\n",
                  "Epoch 6/20\n",
                  "2011/2011 [==============================] - 59s 29ms/step - loss: 0.6873 - accuracy: 0.5559 - val_loss: 0.6863 - val_accuracy: 0.5593\n"
               ]
            }
         ],
         "source": [
            "history = lstm_model.fit(X_train, y_train, epochs=20, batch_size=32, validation_split=0.3, callbacks=[callback])"
         ]
      },
      {
         "cell_type": "code",
         "execution_count": 37,
         "metadata": {},
         "outputs": [
            {
               "data": {
                  "text/plain": [
                     "<AxesSubplot:>"
                  ]
               },
               "execution_count": 37,
               "metadata": {},
               "output_type": "execute_result"
            },
            {
               "data": {
                  "image/png": "[encoded data removed]",
                  "text/plain": [
                     "<Figure size 432x288 with 1 Axes>"
                  ]
               },
               "metadata": {
                  "needs_background": "light"
               },
               "output_type": "display_data"
            }
         ],
         "source": [
            "history_df = pd.DataFrame(history.history)\n",
            "history_df.loc[:, ['accuracy', 'val_accuracy']].plot()"
         ]
      },
      {
         "cell_type": "code",
         "execution_count": 38,
         "metadata": {},
         "outputs": [
            {
               "data": {
                  "text/plain": [
                     "<AxesSubplot:>"
                  ]
               },
               "execution_count": 38,
               "metadata": {},
               "output_type": "execute_result"
            },
            {
               "data": {
                  "image/png": "[encoded data removed]",
                  "text/plain": [
                     "<Figure size 432x288 with 1 Axes>"
                  ]
               },
               "metadata": {
                  "needs_background": "light"
               },
               "output_type": "display_data"
            }
         ],
         "source": [
            "history_df.loc[:, ['loss', 'val_loss']].plot()"
         ]
      },
      {
         "cell_type": "code",
         "execution_count": 39,
         "metadata": {},
         "outputs": [
            {
               "data": {
                  "text/plain": [
                     "array([[0.5397848],\n",
                     "       [0.5397848],\n",
                     "       [0.5397848],\n",
                     "       ...,\n",
                     "       [0.5397848],\n",
                     "       [0.5397848],\n",
                     "       [0.5397848]], dtype=float32)"
                  ]
               },
               "execution_count": 39,
               "metadata": {},
               "output_type": "execute_result"
            }
         ],
         "source": [
            "y_pred=lstm_model.predict(X_test)\n",
            "y_pred"
         ]
      },
      {
         "cell_type": "code",
         "execution_count": 40,
         "metadata": {},
         "outputs": [
            {
               "name": "stdout",
               "output_type": "stream",
               "text": [
                  "              precision    recall  f1-score   support\n",
                  "\n",
                  "         0.0       0.00      0.00      0.00      4499\n",
                  "         1.0       0.56      1.00      0.72      5715\n",
                  "\n",
                  "    accuracy                           0.56     10214\n",
                  "   macro avg       0.28      0.50      0.36     10214\n",
                  "weighted avg       0.31      0.56      0.40     10214\n",
                  "\n"
               ]
            },
            {
               "name": "stderr",
               "output_type": "stream",
               "text": [
                  "/home/cytech/.local/lib/python3.8/site-packages/sklearn/metrics/_classification.py:1272: UndefinedMetricWarning: Precision and F-score are ill-defined and being set to 0.0 in labels with no predicted samples. Use `zero_division` parameter to control this behavior.\n",
                  "  _warn_prf(average, modifier, msg_start, len(result))\n"
               ]
            }
         ],
         "source": [
            "# arrondir les prédictions avant de les evalués\n",
            "y_pred = [0 if x < 0.5 else 1 for x in y_pred] \n",
            "print(classification_report(y_test, y_pred))"
         ]
      },
      {
         "cell_type": "code",
         "execution_count": 41,
         "metadata": {},
         "outputs": [
            {
               "name": "stdout",
               "output_type": "stream",
               "text": [
                  "320/320 [==============================] - 3s 8ms/step - loss: 0.6868 - accuracy: 0.5595\n"
               ]
            },
            {
               "data": {
                  "text/plain": [
                     "[0.6868293881416321, 0.5595261454582214]"
                  ]
               },
               "execution_count": 41,
               "metadata": {},
               "output_type": "execute_result"
            }
         ],
         "source": [
            "eval=lstm_model.evaluate(X_test, y_test)\n",
            "eval"
         ]
      },
      {
         "attachments": {},
         "cell_type": "markdown",
         "metadata": {},
         "source": [
            "# Mélange SimpleRNN et LSTM"
         ]
      },
      {
         "cell_type": "code",
         "execution_count": 45,
         "metadata": {},
         "outputs": [],
         "source": [
            "lstm_rnn_model = keras.Sequential([\n",
            "    layers.Dense(32,input_shape=(20,13), activation='relu'),\n",
            "    layers.LSTM(128, return_sequences=True, activation='relu'), # return_sequences à True pour que la sortie soit de dimension 3\n",
            "    layers.BatchNormalization(),\n",
            "    layers.Dense(64, activation='relu'),\n",
            "    layers.SimpleRNN(64,activation='relu', return_sequences=True),\n",
            "    layers.SimpleRNN(32,activation='relu'),\n",
            "    layers.BatchNormalization(),\n",
            "    layers.Dense(64, activation='relu'),\n",
            "    #layers.Dropout(0.5),\n",
            "    layers.Dense(1, activation='sigmoid')\n",
            "])\n",
            "\n",
            "callback = keras.callbacks.EarlyStopping(monitor='val_accuracy', patience=8, restore_best_weights=True)\n",
            "#opt = keras.optimizers.SGD(learning_rate=0.01)\n",
            "lstm_rnn_model.compile(loss='binary_crossentropy', optimizer='adam', metrics='accuracy')"
         ]
      },
      {
         "cell_type": "code",
         "execution_count": 46,
         "metadata": {},
         "outputs": [
            {
               "name": "stdout",
               "output_type": "stream",
               "text": [
                  "Epoch 1/20\n",
                  "2011/2011 [==============================] - 51s 24ms/step - loss: 0.4054 - accuracy: 0.8131 - val_loss: 0.3370 - val_accuracy: 0.8492\n",
                  "Epoch 2/20\n",
                  "2010/2011 [============================>.] - ETA: 0s - loss: 0.3494 - accuracy: 0.8454"
               ]
            }
         ],
         "source": [
            "history = lstm_rnn_model.fit(X_train, y_train, epochs=20, batch_size=32, validation_split=0.3, callbacks=[callback])"
         ]
      },
      {
         "cell_type": "code",
         "execution_count": null,
         "metadata": {},
         "outputs": [
            {
               "data": {
                  "text/plain": [
                     "<AxesSubplot:>"
                  ]
               },
               "execution_count": 30,
               "metadata": {},
               "output_type": "execute_result"
            },
            {
               "data": {
                  "image/png": "[encoded data removed]",
                  "text/plain": [
                     "<Figure size 432x288 with 1 Axes>"
                  ]
               },
               "metadata": {
                  "needs_background": "light"
               },
               "output_type": "display_data"
            }
         ],
         "source": [
            "history_df = pd.DataFrame(history.history)\n",
            "history_df.loc[:, ['accuracy', 'val_accuracy']].plot()"
         ]
      },
      {
         "cell_type": "code",
         "execution_count": null,
         "metadata": {},
         "outputs": [
            {
               "data": {
                  "text/plain": [
                     "<AxesSubplot:>"
                  ]
               },
               "execution_count": 34,
               "metadata": {},
               "output_type": "execute_result"
            },
            {
               "data": {
                  "image/png": "[encoded data removed]",
                  "text/plain": [
                     "<Figure size 432x288 with 1 Axes>"
                  ]
               },
               "metadata": {
                  "needs_background": "light"
               },
               "output_type": "display_data"
            }
         ],
         "source": [
            "history_df.loc[:, ['loss', 'val_loss']].plot()"
         ]
      },
      {
         "cell_type": "code",
         "execution_count": null,
         "metadata": {},
         "outputs": [
            {
               "data": {
                  "text/plain": [
                     "array([[0.9794315 ],\n",
                     "       [0.56563175],\n",
                     "       [0.5521127 ],\n",
                     "       ...,\n",
                     "       [0.41327995],\n",
                     "       [0.9999872 ],\n",
                     "       [0.7330741 ]], dtype=float32)"
                  ]
               },
               "execution_count": 35,
               "metadata": {},
               "output_type": "execute_result"
            }
         ],
         "source": [
            "y_pred=lstm_rnn_model.predict(X_test)\n",
            "y_pred"
         ]
      },
      {
         "cell_type": "code",
         "execution_count": null,
         "metadata": {},
         "outputs": [],
         "source": [
            "# arrondir les prédictions avant de les evalués\n",
            "y_pred = [0 if x < 0.5 else 1 for x in y_pred] \n",
            "print(classification_report(y_test, y_pred))"
         ]
      },
      {
         "cell_type": "code",
         "execution_count": null,
         "metadata": {},
         "outputs": [
            {
               "name": "stdout",
               "output_type": "stream",
               "text": [
                  "320/320 [==============================] - 2s 6ms/step - loss: 0.7070 - accuracy: 0.5944\n"
               ]
            },
            {
               "data": {
                  "text/plain": [
                     "[0.7070026397705078, 0.594380259513855]"
                  ]
               },
               "execution_count": 36,
               "metadata": {},
               "output_type": "execute_result"
            }
         ],
         "source": [
            "eval=lstm_rnn_model.evaluate(X_test, y_test)\n",
            "eval"
         ]
      }
   ],
   "metadata": {
      "kernelspec": {
         "display_name": "Python 3",
         "language": "python",
         "name": "python3"
      },
      "language_info": {
         "codemirror_mode": {
            "name": "ipython",
            "version": 3
         },
         "file_extension": ".py",
         "mimetype": "text/x-python",
         "name": "python",
         "nbconvert_exporter": "python",
         "pygments_lexer": "ipython3",
         "version": "3.8.10"
      },
      "orig_nbformat": 4,
      "vscode": {
         "interpreter": {
            "hash": "31f2aee4e71d21fbe5cf8b01ff0e069b9275f58929596ceb00d14d90e3e16cd6"
         }
      }
   },
   "nbformat": 4,
   "nbformat_minor": 2
}

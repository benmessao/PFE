{
   "cells": [
      {
         "cell_type": "code",
         "execution_count": 1,
         "metadata": {},
         "outputs": [],
         "source": [
            "import pandas as pd\n",
            "import numpy as np\n",
            "import sys\n",
            "sys.path.append('../src/')\n",
            "import dataset_prep"
         ]
      },
      {
         "attachments": {},
         "cell_type": "markdown",
         "metadata": {},
         "source": [
            "Import de la base de données"
         ]
      },
      {
         "cell_type": "code",
         "execution_count": 2,
         "metadata": {},
         "outputs": [],
         "source": [
            "selected_columns = [\n",
            "\"nb_packets_sent\",\n",
            "\"distance\",\n",
            "\"distRealSR1\",\n",
            "\"pos_y_rec_f\",\n",
            "\"pos_y_rec\",\n",
            "\"pos_x_rec_f\",\n",
            "\"pos_x_rec\",\n",
            "\"pos_x_send\",\n",
            "\"pos_y_send\",\n",
            "\"spd_x_send\",\n",
            "\"spd_y_send\",\n",
            "\"sendTime\",\n",
            "\"receiver\",\n",
            "\"sender\",\n",
            "\"label\"\n",
            "]"
         ]
      },
      {
         "cell_type": "code",
         "execution_count": 3,
         "metadata": {},
         "outputs": [
            {
               "name": "stdout",
               "output_type": "stream",
               "text": [
                  "Nombre de lignes avant nettoyage :  1242779\n",
                  "Nombre de lignes après nettoyage :  1233687\n"
               ]
            }
         ],
         "source": [
            "df = dataset_prep.import_dataset('../../data/1416/merged1.csv', selected_columns)"
         ]
      },
      {
         "attachments": {},
         "cell_type": "markdown",
         "metadata": {},
         "source": [
            "Analyse et vérification des données"
         ]
      },
      {
         "cell_type": "code",
         "execution_count": 4,
         "metadata": {},
         "outputs": [
            {
               "data": {
                  "text/plain": [
                     "array([    9,    15,    21, ..., 10125, 10131, 10137])"
                  ]
               },
               "execution_count": 4,
               "metadata": {},
               "output_type": "execute_result"
            }
         ],
         "source": [
            "senders = np.unique(df[\"sender\"].values)\n",
            "senders"
         ]
      },
      {
         "cell_type": "code",
         "execution_count": 5,
         "metadata": {},
         "outputs": [
            {
               "name": "stdout",
               "output_type": "stream",
               "text": [
                  "1687\n"
               ]
            }
         ],
         "source": [
            "print(len(senders))"
         ]
      },
      {
         "cell_type": "code",
         "execution_count": 6,
         "metadata": {},
         "outputs": [
            {
               "data": {
                  "text/plain": [
                     "Index(['sendTime', 'sender', 'receiver', 'pos_x_send', 'pos_y_send',\n",
                     "       'spd_x_send', 'spd_y_send', 'pos_x_rec', 'pos_y_rec', 'pos_x_rec_f',\n",
                     "       'pos_y_rec_f', 'nb_packets_sent', 'distRealSR1', 'distance'],\n",
                     "      dtype='object')"
                  ]
               },
               "execution_count": 6,
               "metadata": {},
               "output_type": "execute_result"
            }
         ],
         "source": [
            "# Copie de la bdd pour récuperer les colonnes sans impacter la vraie base de données\n",
            "\n",
            "data_copy = df.copy()\n",
            "data_copy = data_copy.drop([\"label\"], axis=1)\n",
            "\n",
            "columns = data_copy.columns\n",
            "columns"
         ]
      },
      {
         "attachments": {},
         "cell_type": "markdown",
         "metadata": {},
         "source": [
            "Amélioration à faire :\n",
            "\n",
            "Séléctionner seulement les sender avec value_counts > 20"
         ]
      },
      {
         "attachments": {},
         "cell_type": "markdown",
         "metadata": {},
         "source": [
            "Séparation de la base de données : diviser pour régner"
         ]
      },
      {
         "cell_type": "code",
         "execution_count": 7,
         "metadata": {},
         "outputs": [],
         "source": [
            "# /!\\ attention à bien utiliser la base de données rangée par sender pour limiter la perte de données\n",
            "# Indice égal à 0, 1 ou 2\n",
            "# Célia = 0\n",
            "# Chléo = 1\n",
            "# Thomas = 2\n",
            "\n",
            "def split_data_in_3(df, indice):\n",
            "    # Division de la bdd en 3\n",
            "    split_data = np.array_split(df,3)\n",
            "\n",
            "    # Division en plusieurs sous-bdd pour diminuer le temps de calcul par exécution\n",
            "    #divided_data = np.array_split(split_data[indice],50)\n",
            "\n",
            "    return split_data"
         ]
      },
      {
         "attachments": {},
         "cell_type": "markdown",
         "metadata": {},
         "source": [
            "/!\\ à bien changer l'indice !!"
         ]
      },
      {
         "cell_type": "code",
         "execution_count": 8,
         "metadata": {},
         "outputs": [],
         "source": [
            "divided_dataframes = split_data_in_3(df.sort_values(\"sender\"),0)"
         ]
      },
      {
         "cell_type": "code",
         "execution_count": 9,
         "metadata": {},
         "outputs": [
            {
               "data": {
                  "text/plain": [
                     "3"
                  ]
               },
               "execution_count": 9,
               "metadata": {},
               "output_type": "execute_result"
            }
         ],
         "source": [
            "len(divided_dataframes)"
         ]
      },
      {
         "attachments": {},
         "cell_type": "markdown",
         "metadata": {},
         "source": [
            "Création des séquences"
         ]
      },
      {
         "cell_type": "code",
         "execution_count": 8,
         "metadata": {},
         "outputs": [],
         "source": [
            "def sequence_creation(df):\n",
            "    senders_sequences = np.array()\n",
            "    senders_label = np.array\n",
            "    for sender in senders:\n",
            "        sender_data_sorted = df.loc[df['sender'] == sender].sort_values(\"sendTime\")\n",
            "        sender_data_sorted = sender_data_sorted.drop([\"label\",\"sender\"], axis=1)\n",
            "        sequence_array = np.array\n",
            "\n",
            "        length = sender_data_sorted.shape[0]\n",
            "        slide = 10\n",
            "        start = 0\n",
            "        end = 20\n",
            "\n",
            "        # On récupère la valeur du label pour ce sender\n",
            "        label = df.loc[df['sender'] == sender]['label'].tolist()[0]\n",
            "        if (length > 20):\n",
            "            senders_label.append(label)\n",
            "\n",
            "        # On vérifie qu'il est possible de faire une séquence de taille 20\n",
            "        while length >= 20:\n",
            "            # Extraction par tranche de 20 avec une inter de 10\n",
            "            sequence = sender_data_sorted[start:end]\n",
            "\n",
            "            # Labels correspondant\n",
            "            #labels =  pd.Series.tolist(sequence[\"label\"])\n",
            "\n",
            "            # On transforme les 13 en 1, cette formule marche toujours si on met d'autres types d'attaques\n",
            "            #labels[:] = [x if x == 0 else 1 for x in labels]\n",
            "\n",
            "            # Attribution des tableaux numpy\n",
            "            sequence_array = np.append(sequence_array, np.array(sequence.values, dtype=object))\n",
            "            #label_array.append(labels)\n",
            "\n",
            "            # Mise à jour des variables\n",
            "            start += slide\n",
            "            end += slide\n",
            "            length -= 10\n",
            "        \n",
            "        if len(sequence_array)>0:\n",
            "            senders_sequences = np.append(senders_sequences, np.array(sequence_array, dtype=object))\n",
            "\n",
            "    \n",
            "    return senders_sequences, senders_label"
         ]
      },
      {
         "cell_type": "code",
         "execution_count": 8,
         "metadata": {},
         "outputs": [],
         "source": [
            "def flat_sequence_creation(df):\n",
            "    senders_sequences = []\n",
            "    senders_label = []\n",
            "\n",
            "    for sender in senders:\n",
            "        # Données d'un seul sender rangée en fonction de l'heure d'envoi\n",
            "        sender_data_sorted = df.loc[df['sender'] == sender].sort_values(\"sendTime\")\n",
            "\n",
            "        # On récupère la valeur du label pour ce sender\n",
            "        \"\"\" On remplasse toute les valeur !=0 en 1 \"\"\"\n",
            "        if sender_data_sorted['label'].tolist()[0] != 0 :\n",
            "            label=1\n",
            "        else :\n",
            "            label = sender_data_sorted['label'].tolist()[0]\n",
            "        #On supprime les colonnes label et sender\n",
            "        sender_data_sorted = sender_data_sorted.drop([\"label\",\"sender\"], axis=1)\n",
            "        \n",
            "        #sequence_array = []\n",
            "\n",
            "        length = sender_data_sorted.shape[0]\n",
            "        slide = 10\n",
            "        start = 0\n",
            "        end = 20\n",
            "\n",
            "        # On vérifie qu'il est possible de faire une séquence de taille 20\n",
            "        while length > 20:\n",
            "            # Extraction par tranche de 20 avec une inter de 10\n",
            "            sequence = sender_data_sorted[start:end]\n",
            "\n",
            "            # Labels correspondant\n",
            "            #labels =  pd.Series.tolist(sequence[\"label\"])\n",
            "\n",
            "            # On transforme les 13 en 1, cette formule marche toujours si on met d'autres types d'attaques\n",
            "            #labels[:] = [x if x == 0 else 1 for x in labels]\n",
            "\n",
            "            # Attribution des tableaux numpy\n",
            "            senders_sequences.append(np.array(sequence.values.tolist(), dtype=np.float32))\n",
            "            senders_label.append(label)\n",
            "\n",
            "            # Mise à jour des variables\n",
            "            start += slide\n",
            "            end += slide\n",
            "            length -= 10\n",
            "\n",
            "    return senders_sequences, senders_label"
         ]
      },
      {
         "attachments": {},
         "cell_type": "markdown",
         "metadata": {},
         "source": [
            "/!\\ à bien changer l'indice !!"
         ]
      },
      {
         "cell_type": "code",
         "execution_count": 9,
         "metadata": {},
         "outputs": [],
         "source": [
            "sorted_dataset = df.sort_values(\"sender\")"
         ]
      },
      {
         "cell_type": "code",
         "execution_count": 10,
         "metadata": {},
         "outputs": [],
         "source": [
            "sequence_test, label_test = flat_sequence_creation(sorted_dataset)\n",
            "#label_test"
         ]
      },
      {
         "attachments": {},
         "cell_type": "markdown",
         "metadata": {},
         "source": [
            "sequence_test, label_test = sequence_creation(df)"
         ]
      },
      {
         "cell_type": "code",
         "execution_count": 11,
         "metadata": {},
         "outputs": [
            {
               "data": {
                  "text/plain": [
                     "120762"
                  ]
               },
               "execution_count": 11,
               "metadata": {},
               "output_type": "execute_result"
            }
         ],
         "source": [
            "len(sequence_test)"
         ]
      },
      {
         "attachments": {},
         "cell_type": "markdown",
         "metadata": {},
         "source": [
            "# Initialisation des données"
         ]
      },
      {
         "cell_type": "code",
         "execution_count": 12,
         "metadata": {},
         "outputs": [
            {
               "name": "stderr",
               "output_type": "stream",
               "text": [
                  "2023-02-17 11:30:43.082956: W tensorflow/stream_executor/platform/default/dso_loader.cc:64] Could not load dynamic library 'libcudart.so.11.0'; dlerror: libcudart.so.11.0: cannot open shared object file: No such file or directory\n",
                  "2023-02-17 11:30:43.083186: I tensorflow/stream_executor/cuda/cudart_stub.cc:29] Ignore above cudart dlerror if you do not have a GPU set up on your machine.\n"
               ]
            }
         ],
         "source": [
            "import pandas as pd\n",
            "import numpy as np\n",
            "from tensorflow import keras\n",
            "from keras import layers, applications, utils, models, optimizers, Input, callbacks\n",
            "from keras.models import Sequential\n",
            "from keras.layers import Dense, SimpleRNN\n",
            "from sklearn.preprocessing import MinMaxScaler\n",
            "from sklearn.metrics import mean_squared_error\n",
            "import math\n",
            "import matplotlib.pyplot as plt\n",
            "from sklearn.model_selection import train_test_split\n",
            "from sklearn.metrics import confusion_matrix, classification_report\n",
            "import seaborn as sns"
         ]
      },
      {
         "cell_type": "code",
         "execution_count": 13,
         "metadata": {},
         "outputs": [],
         "source": [
            "# Transformation en array numpy\n",
            "X = np.array(sequence_test)\n",
            "y = np.array(label_test, dtype=np.float32)"
         ]
      },
      {
         "cell_type": "code",
         "execution_count": null,
         "metadata": {},
         "outputs": [],
         "source": [
            "#X = X[:100]\n",
            "#y = y[:100]"
         ]
      },
      {
         "cell_type": "code",
         "execution_count": 14,
         "metadata": {},
         "outputs": [],
         "source": [
            "# Séparation en données d'entrainement et de test\n",
            "X_train, X_test, y_train, y_test = train_test_split(X, y, test_size=0.1)"
         ]
      },
      {
         "cell_type": "code",
         "execution_count": 15,
         "metadata": {},
         "outputs": [
            {
               "name": "stdout",
               "output_type": "stream",
               "text": [
                  "X_train :  (108685, 20, 13)\n",
                  "y_train :  (108685,)\n",
                  "X_test :  (12077, 20, 13)\n",
                  "y_test :  (12077,)\n"
               ]
            }
         ],
         "source": [
            "print(\"X_train : \", X_train.shape)\n",
            "print(\"y_train : \", y_train.shape)\n",
            "print(\"X_test : \", X_test.shape)\n",
            "print(\"y_test : \", y_test.shape)"
         ]
      },
      {
         "cell_type": "code",
         "execution_count": 16,
         "metadata": {},
         "outputs": [
            {
               "data": {
                  "text/plain": [
                     "array([1., 1., 0., ..., 0., 1., 0.], dtype=float32)"
                  ]
               },
               "execution_count": 16,
               "metadata": {},
               "output_type": "execute_result"
            }
         ],
         "source": [
            "y_train"
         ]
      },
      {
         "attachments": {},
         "cell_type": "markdown",
         "metadata": {},
         "source": [
            "# Modèle dense simple"
         ]
      },
      {
         "cell_type": "code",
         "execution_count": 53,
         "metadata": {},
         "outputs": [],
         "source": [
            "# TODO amélioration du model dense avec du dropout ? \n",
            "simple_model = keras.Sequential([\n",
            "    layers.Dense(128,input_shape=(20, 13), activation='relu'),\n",
            "    #layers.BatchNormalization(), # les batchNormalization fond baisser l'accuracy \n",
            "    layers.Dense(256, activation='relu'),\n",
            "    #layers.BatchNormalization(),\n",
            "    layers.Dense(128, activation='relu'),#64\n",
            "    layers.Dropout(0.2),\n",
            "    layers.Dense(1, activation='linear') # avec relu on perd un peu d'accuracy\n",
            "])"
         ]
      },
      {
         "cell_type": "code",
         "execution_count": 54,
         "metadata": {},
         "outputs": [
            {
               "name": "stdout",
               "output_type": "stream",
               "text": [
                  "INPUT\n",
                  "(None, 20, 13) <dtype: 'float32'>\n",
                  "OUTPUT\n",
                  "(None, 20, 1) <dtype: 'float32'>\n",
                  "LAYERS\n",
                  "dense_17 (None, 20, 13) float32\n",
                  "dense_18 (None, 20, 128) float32\n",
                  "dense_19 (None, 20, 256) float32\n",
                  "dropout (None, 20, 64) float32\n",
                  "dense_20 (None, 20, 64) float32\n"
               ]
            },
            {
               "data": {
                  "text/plain": [
                     "[None, None, None, None, None]"
                  ]
               },
               "execution_count": 54,
               "metadata": {},
               "output_type": "execute_result"
            }
         ],
         "source": [
            "print(\"INPUT\")\n",
            "[print(i.shape, i.dtype) for i in simple_model.inputs]\n",
            "print(\"OUTPUT\")\n",
            "[print(o.shape, o.dtype) for o in simple_model.outputs]\n",
            "print(\"LAYERS\")\n",
            "[print(l.name, l.input_shape, l.dtype) for l in simple_model.layers]"
         ]
      },
      {
         "cell_type": "code",
         "execution_count": 55,
         "metadata": {},
         "outputs": [],
         "source": [
            "callback = keras.callbacks.EarlyStopping(monitor='val_accuracy', patience=5, restore_best_weights=True)\n",
            "#opt = keras.optimizers.SGD(learning_rate=0.01)\n",
            "simple_model.compile(loss='binary_crossentropy', optimizer=\"adam\", metrics='accuracy')"
         ]
      },
      {
         "cell_type": "code",
         "execution_count": 56,
         "metadata": {},
         "outputs": [
            {
               "name": "stdout",
               "output_type": "stream",
               "text": [
                  "Epoch 1/20\n",
                  "503/503 [==============================] - 21s 39ms/step - loss: 8.5749 - accuracy: 0.4441 - val_loss: 8.6270 - val_accuracy: 0.4407\n",
                  "Epoch 2/20\n",
                  "503/503 [==============================] - 19s 37ms/step - loss: 8.5753 - accuracy: 0.4441 - val_loss: 8.6270 - val_accuracy: 0.4407\n",
                  "Epoch 3/20\n",
                  "503/503 [==============================] - 18s 35ms/step - loss: 8.5753 - accuracy: 0.4441 - val_loss: 8.6270 - val_accuracy: 0.4407\n",
                  "Epoch 4/20\n",
                  "503/503 [==============================] - 18s 35ms/step - loss: 8.5753 - accuracy: 0.4441 - val_loss: 8.6270 - val_accuracy: 0.4407\n",
                  "Epoch 5/20\n",
                  "503/503 [==============================] - 18s 36ms/step - loss: 8.5753 - accuracy: 0.4441 - val_loss: 8.6270 - val_accuracy: 0.4407\n",
                  "Epoch 6/20\n",
                  "503/503 [==============================] - 19s 37ms/step - loss: 8.5753 - accuracy: 0.4441 - val_loss: 8.6270 - val_accuracy: 0.4407\n"
               ]
            }
         ],
         "source": [
            "history = simple_model.fit(X_train, y_train, epochs=20, batch_size=128, validation_split=0.3, callbacks=[callback])"
         ]
      },
      {
         "cell_type": "code",
         "execution_count": 57,
         "metadata": {},
         "outputs": [
            {
               "data": {
                  "text/plain": [
                     "<AxesSubplot:>"
                  ]
               },
               "execution_count": 57,
               "metadata": {},
               "output_type": "execute_result"
            },
            {
               "data": {
                  "image/png": "[encoded data removed]",
                  "text/plain": [
                     "<Figure size 432x288 with 1 Axes>"
                  ]
               },
               "metadata": {
                  "needs_background": "light"
               },
               "output_type": "display_data"
            }
         ],
         "source": [
            "history_df = pd.DataFrame(history.history)\n",
            "history_df.loc[:, ['accuracy', 'val_accuracy']].plot()"
         ]
      },
      {
         "cell_type": "code",
         "execution_count": 58,
         "metadata": {},
         "outputs": [
            {
               "data": {
                  "text/plain": [
                     "<AxesSubplot:>"
                  ]
               },
               "execution_count": 58,
               "metadata": {},
               "output_type": "execute_result"
            },
            {
               "data": {
                  "image/png": "[encoded data removed]",
                  "text/plain": [
                     "<Figure size 432x288 with 1 Axes>"
                  ]
               },
               "metadata": {
                  "needs_background": "light"
               },
               "output_type": "display_data"
            }
         ],
         "source": [
            "history_df.loc[:, ['loss', 'val_loss']].plot()"
         ]
      },
      {
         "cell_type": "code",
         "execution_count": 59,
         "metadata": {},
         "outputs": [
            {
               "data": {
                  "text/plain": [
                     "array([[[ -9866.245],\n",
                     "        [ -9886.382],\n",
                     "        [ -9909.033],\n",
                     "        ...,\n",
                     "        [ -9891.693],\n",
                     "        [ -9884.717],\n",
                     "        [ -9867.86 ]],\n",
                     "\n",
                     "       [[-10998.149],\n",
                     "        [-11000.644],\n",
                     "        [-10998.857],\n",
                     "        ...,\n",
                     "        [-10998.949],\n",
                     "        [-10999.287],\n",
                     "        [-10967.738]],\n",
                     "\n",
                     "       [[-10282.078],\n",
                     "        [-10285.951],\n",
                     "        [-10263.607],\n",
                     "        ...,\n",
                     "        [-10288.735],\n",
                     "        [-10288.17 ],\n",
                     "        [-10288.827]],\n",
                     "\n",
                     "       ...,\n",
                     "\n",
                     "       [[ -9776.508],\n",
                     "        [ -9785.494],\n",
                     "        [ -9755.09 ],\n",
                     "        ...,\n",
                     "        [ -9793.449],\n",
                     "        [ -9784.892],\n",
                     "        [ -9754.303]],\n",
                     "\n",
                     "       [[ -9718.923],\n",
                     "        [ -9726.351],\n",
                     "        [ -9719.216],\n",
                     "        ...,\n",
                     "        [ -9719.512],\n",
                     "        [ -9719.254],\n",
                     "        [ -9726.707]],\n",
                     "\n",
                     "       [[-10107.289],\n",
                     "        [-10118.682],\n",
                     "        [-10092.285],\n",
                     "        ...,\n",
                     "        [-10127.26 ],\n",
                     "        [-10108.971],\n",
                     "        [-10093.412]]], dtype=float32)"
                  ]
               },
               "execution_count": 59,
               "metadata": {},
               "output_type": "execute_result"
            }
         ],
         "source": [
            "y_pred=simple_model.predict(X_test)\n",
            "y_pred"
         ]
      },
      {
         "cell_type": "code",
         "execution_count": 60,
         "metadata": {},
         "outputs": [
            {
               "name": "stdout",
               "output_type": "stream",
               "text": [
                  "320/320 [==============================] - 1s 5ms/step - loss: 8.6307 - accuracy: 0.4405\n"
               ]
            },
            {
               "data": {
                  "text/plain": [
                     "[8.630658149719238, 0.44047385454177856]"
                  ]
               },
               "execution_count": 60,
               "metadata": {},
               "output_type": "execute_result"
            }
         ],
         "source": [
            "eval=simple_model.evaluate(X_test, y_test)\n",
            "eval"
         ]
      },
      {
         "attachments": {},
         "cell_type": "markdown",
         "metadata": {},
         "source": [
            "# RNN"
         ]
      },
      {
         "cell_type": "code",
         "execution_count": 49,
         "metadata": {},
         "outputs": [],
         "source": [
            "def create_RNN(hidden_units, dense_units, input_shape, activation):\n",
            "    '''\n",
            "    hidden_units : nombre de neurones dans la couche SimpleRNN\n",
            "    dense_units : nombre de neurones dans la couche Dense\n",
            "    activation : liste des deux fonctions d'activation\n",
            "    '''\n",
            "    #opt = keras.optimizers.SGD(learning_rate=0.01)\n",
            "    model = Sequential()\n",
            "    model.add(Dense(32, input_shape=input_shape, activation=activation[1])) #64\n",
            "    model.add(layers.Dropout(0.2))\n",
            "    model.add(layers.BatchNormalization())\n",
            "    model.add(SimpleRNN(hidden_units, return_sequences=True, activation=activation[0])) #64? 32?\n",
            "    model.add(SimpleRNN(256, activation=activation[0], return_sequences=True)) ####\n",
            "    model.add(SimpleRNN(256, activation=activation[0])) #32\n",
            "    model.add(layers.Dropout(0.2))\n",
            "    model.add(layers.BatchNormalization())\n",
            "    model.add(Dense(units=dense_units, activation='sigmoid'))\n",
            "    model.compile(loss='binary_crossentropy', optimizer='adam', metrics='accuracy')\n",
            "    return model\n",
            "\n",
            "#demo_model = create_RNN(2, 1, (3,1), activation=['linear', 'linear'])\n",
            "\n",
            "rnn_model = create_RNN(256, 1, (20, 13), activation=['relu', 'relu'])\n",
            "callback = keras.callbacks.EarlyStopping(monitor='val_accuracy', patience=5, restore_best_weights=True)"
         ]
      },
      {
         "cell_type": "code",
         "execution_count": 50,
         "metadata": {},
         "outputs": [
            {
               "name": "stdout",
               "output_type": "stream",
               "text": [
                  "Epoch 1/20\n",
                  "595/595 [==============================] - 133s 218ms/step - loss: 0.4436 - accuracy: 0.7774 - val_loss: 0.4277 - val_accuracy: 0.7956\n",
                  "Epoch 2/20\n",
                  "595/595 [==============================] - 54s 91ms/step - loss: 0.4177 - accuracy: 0.7948 - val_loss: 0.4280 - val_accuracy: 0.7976\n",
                  "Epoch 3/20\n",
                  "595/595 [==============================] - 95s 159ms/step - loss: 0.4456 - accuracy: 0.7775 - val_loss: 0.9900 - val_accuracy: 0.5793\n",
                  "Epoch 4/20\n",
                  "595/595 [==============================] - 115s 194ms/step - loss: 0.4176 - accuracy: 0.7972 - val_loss: 0.8986 - val_accuracy: 0.5793\n",
                  "Epoch 5/20\n",
                  "595/595 [==============================] - 120s 201ms/step - loss: 0.4063 - accuracy: 0.8028 - val_loss: 0.5381 - val_accuracy: 0.8233\n",
                  "Epoch 6/20\n",
                  "595/595 [==============================] - 130s 218ms/step - loss: 0.3712 - accuracy: 0.8241 - val_loss: 0.5571 - val_accuracy: 0.5793\n",
                  "Epoch 7/20\n",
                  "595/595 [==============================] - 129s 216ms/step - loss: 0.3824 - accuracy: 0.8180 - val_loss: 0.5785 - val_accuracy: 0.8183\n",
                  "Epoch 8/20\n",
                  "595/595 [==============================] - 113s 190ms/step - loss: 0.3617 - accuracy: 0.8279 - val_loss: 0.5275 - val_accuracy: 0.8310\n",
                  "Epoch 9/20\n",
                  "595/595 [==============================] - 92s 154ms/step - loss: 0.3558 - accuracy: 0.8319 - val_loss: 0.6018 - val_accuracy: 0.5793\n",
                  "Epoch 10/20\n",
                  "595/595 [==============================] - 143s 240ms/step - loss: 0.3677 - accuracy: 0.8238 - val_loss: 0.3770 - val_accuracy: 0.8212\n",
                  "Epoch 11/20\n",
                  "595/595 [==============================] - 93s 156ms/step - loss: 0.3688 - accuracy: 0.8231 - val_loss: 0.4932 - val_accuracy: 0.7562\n",
                  "Epoch 12/20\n",
                  "595/595 [==============================] - 85s 143ms/step - loss: 0.3485 - accuracy: 0.8369 - val_loss: 0.3542 - val_accuracy: 0.8317\n",
                  "Epoch 13/20\n",
                  "595/595 [==============================] - 44s 74ms/step - loss: 0.3441 - accuracy: 0.8387 - val_loss: 0.3343 - val_accuracy: 0.8358\n",
                  "Epoch 14/20\n",
                  "595/595 [==============================] - 43s 73ms/step - loss: 0.3369 - accuracy: 0.8429 - val_loss: 0.3466 - val_accuracy: 0.8417\n",
                  "Epoch 15/20\n",
                  "595/595 [==============================] - 46s 77ms/step - loss: 0.3359 - accuracy: 0.8423 - val_loss: 0.3727 - val_accuracy: 0.8095\n",
                  "Epoch 16/20\n",
                  "595/595 [==============================] - 42s 71ms/step - loss: 0.3468 - accuracy: 0.8373 - val_loss: 0.5331 - val_accuracy: 0.5789\n",
                  "Epoch 17/20\n",
                  "595/595 [==============================] - 41s 69ms/step - loss: 0.4020 - accuracy: 0.8063 - val_loss: 0.6971 - val_accuracy: 0.5793\n",
                  "Epoch 18/20\n",
                  "595/595 [==============================] - 41s 69ms/step - loss: 0.3568 - accuracy: 0.8321 - val_loss: 0.7607 - val_accuracy: 0.5793\n",
                  "Epoch 19/20\n",
                  "595/595 [==============================] - 41s 69ms/step - loss: 0.4134 - accuracy: 0.7944 - val_loss: 0.5687 - val_accuracy: 0.7503\n"
               ]
            }
         ],
         "source": [
            "history = rnn_model.fit(X_train, y_train, epochs=20, batch_size=128, validation_split=0.3, callbacks=[callback])"
         ]
      },
      {
         "cell_type": "code",
         "execution_count": 51,
         "metadata": {},
         "outputs": [
            {
               "data": {
                  "text/plain": [
                     "<AxesSubplot:>"
                  ]
               },
               "execution_count": 51,
               "metadata": {},
               "output_type": "execute_result"
            },
            {
               "data": {
                  "image/png": "[encoded data removed]",
                  "text/plain": [
                     "<Figure size 432x288 with 1 Axes>"
                  ]
               },
               "metadata": {
                  "needs_background": "light"
               },
               "output_type": "display_data"
            }
         ],
         "source": [
            "history_df = pd.DataFrame(history.history)\n",
            "history_df.loc[:, ['accuracy', 'val_accuracy']].plot()"
         ]
      },
      {
         "cell_type": "code",
         "execution_count": 52,
         "metadata": {},
         "outputs": [
            {
               "data": {
                  "text/plain": [
                     "<AxesSubplot:>"
                  ]
               },
               "execution_count": 52,
               "metadata": {},
               "output_type": "execute_result"
            },
            {
               "data": {
                  "image/png": "[encoded data removed]",
                  "text/plain": [
                     "<Figure size 432x288 with 1 Axes>"
                  ]
               },
               "metadata": {
                  "needs_background": "light"
               },
               "output_type": "display_data"
            }
         ],
         "source": [
            "history_df.loc[:, ['loss', 'val_loss']].plot()"
         ]
      },
      {
         "cell_type": "code",
         "execution_count": 53,
         "metadata": {},
         "outputs": [
            {
               "data": {
                  "text/plain": [
                     "array([[0.42039746],\n",
                     "       [0.43516463],\n",
                     "       [0.5806482 ],\n",
                     "       ...,\n",
                     "       [0.5312617 ],\n",
                     "       [0.618416  ],\n",
                     "       [0.32736343]], dtype=float32)"
                  ]
               },
               "execution_count": 53,
               "metadata": {},
               "output_type": "execute_result"
            }
         ],
         "source": [
            "y_pred=rnn_model.predict(X_test)\n",
            "y_pred"
         ]
      },
      {
         "cell_type": "code",
         "execution_count": 55,
         "metadata": {},
         "outputs": [
            {
               "name": "stdout",
               "output_type": "stream",
               "text": [
                  "              precision    recall  f1-score   support\n",
                  "\n",
                  "         0.0       0.81      0.83      0.82      5055\n",
                  "         1.0       0.88      0.86      0.87      7022\n",
                  "\n",
                  "    accuracy                           0.85     12077\n",
                  "   macro avg       0.84      0.85      0.84     12077\n",
                  "weighted avg       0.85      0.85      0.85     12077\n",
                  "\n"
               ]
            }
         ],
         "source": [
            "# arrondir les prédictions avant de les evalués\n",
            "y_pred = [0 if x < 0.5 else 1 for x in y_pred] \n",
            "\n",
            "print(classification_report(y_test, y_pred))"
         ]
      },
      {
         "cell_type": "code",
         "execution_count": 56,
         "metadata": {},
         "outputs": [
            {
               "name": "stdout",
               "output_type": "stream",
               "text": [
                  "378/378 [==============================] - 3s 8ms/step - loss: 0.3414 - accuracy: 0.8481\n"
               ]
            },
            {
               "data": {
                  "text/plain": [
                     "[0.3413558602333069, 0.848141074180603]"
                  ]
               },
               "execution_count": 56,
               "metadata": {},
               "output_type": "execute_result"
            }
         ],
         "source": [
            "eval=rnn_model.evaluate(X_test, y_test)\n",
            "eval"
         ]
      },
      {
         "attachments": {},
         "cell_type": "markdown",
         "metadata": {},
         "source": [
            "# Test LSTM"
         ]
      },
      {
         "cell_type": "code",
         "execution_count": 57,
         "metadata": {},
         "outputs": [],
         "source": [
            "lstm_model = keras.Sequential([\n",
            "    layers.Dense(32, input_shape=(20,13), activation='relu'),\n",
            "    layers.Dropout(0.2),\n",
            "    layers.BatchNormalization(),\n",
            "    layers.LSTM(256, return_sequences=True), #128\n",
            "    layers.LSTM(256, return_sequences=True), #128\n",
            "    layers.LSTM(256), #128\n",
            "    layers.Dropout(0.2),\n",
            "    layers.BatchNormalization(),\n",
            "    #layers.Dense(32, activation='relu'),\n",
            "    layers.Dense(1, activation='sigmoid')\n",
            "])"
         ]
      },
      {
         "cell_type": "code",
         "execution_count": 58,
         "metadata": {},
         "outputs": [],
         "source": [
            "callback = keras.callbacks.EarlyStopping(monitor='val_accuracy', patience=5, restore_best_weights=True)\n",
            "#opt = keras.optimizers.SGD(learning_rate=0.01)\n",
            "lstm_model.compile(loss='binary_crossentropy', optimizer='adam', metrics='accuracy')"
         ]
      },
      {
         "cell_type": "code",
         "execution_count": 59,
         "metadata": {},
         "outputs": [
            {
               "name": "stdout",
               "output_type": "stream",
               "text": [
                  "Model: \"sequential_10\"\n",
                  "_________________________________________________________________\n",
                  " Layer (type)                Output Shape              Param #   \n",
                  "=================================================================\n",
                  " dense_24 (Dense)            (None, 20, 32)            448       \n",
                  "                                                                 \n",
                  " dropout_13 (Dropout)        (None, 20, 32)            0         \n",
                  "                                                                 \n",
                  " batch_normalization_13 (Bat  (None, 20, 32)           128       \n",
                  " chNormalization)                                                \n",
                  "                                                                 \n",
                  " lstm_8 (LSTM)               (None, 20, 256)           295936    \n",
                  "                                                                 \n",
                  " lstm_9 (LSTM)               (None, 20, 256)           525312    \n",
                  "                                                                 \n",
                  " lstm_10 (LSTM)              (None, 256)               525312    \n",
                  "                                                                 \n",
                  " dropout_14 (Dropout)        (None, 256)               0         \n",
                  "                                                                 \n",
                  " batch_normalization_14 (Bat  (None, 256)              1024      \n",
                  " chNormalization)                                                \n",
                  "                                                                 \n",
                  " dense_25 (Dense)            (None, 1)                 257       \n",
                  "                                                                 \n",
                  "=================================================================\n",
                  "Total params: 1,348,417\n",
                  "Trainable params: 1,347,841\n",
                  "Non-trainable params: 576\n",
                  "_________________________________________________________________\n"
               ]
            }
         ],
         "source": [
            "lstm_model.summary()"
         ]
      },
      {
         "cell_type": "code",
         "execution_count": 60,
         "metadata": {},
         "outputs": [
            {
               "name": "stdout",
               "output_type": "stream",
               "text": [
                  "Epoch 1/20\n",
                  "595/595 [==============================] - 186s 301ms/step - loss: 0.4160 - accuracy: 0.7984 - val_loss: 0.3816 - val_accuracy: 0.8161\n",
                  "Epoch 2/20\n",
                  "595/595 [==============================] - 179s 300ms/step - loss: 0.3727 - accuracy: 0.8255 - val_loss: 0.4277 - val_accuracy: 0.7997\n",
                  "Epoch 3/20\n",
                  "595/595 [==============================] - 184s 310ms/step - loss: 0.3610 - accuracy: 0.8309 - val_loss: 0.3576 - val_accuracy: 0.8341\n",
                  "Epoch 4/20\n",
                  "595/595 [==============================] - 185s 310ms/step - loss: 0.3561 - accuracy: 0.8310 - val_loss: 0.3702 - val_accuracy: 0.8370\n",
                  "Epoch 5/20\n",
                  "595/595 [==============================] - 181s 304ms/step - loss: 0.3507 - accuracy: 0.8344 - val_loss: 0.3335 - val_accuracy: 0.8385\n",
                  "Epoch 6/20\n",
                  "595/595 [==============================] - 170s 285ms/step - loss: 0.3484 - accuracy: 0.8364 - val_loss: 0.3491 - val_accuracy: 0.8360\n",
                  "Epoch 7/20\n",
                  "595/595 [==============================] - 185s 310ms/step - loss: 0.3389 - accuracy: 0.8406 - val_loss: 0.3424 - val_accuracy: 0.8402\n",
                  "Epoch 8/20\n",
                  "595/595 [==============================] - 186s 312ms/step - loss: 0.3364 - accuracy: 0.8432 - val_loss: 0.3254 - val_accuracy: 0.8494\n",
                  "Epoch 9/20\n",
                  "595/595 [==============================] - 192s 322ms/step - loss: 0.3273 - accuracy: 0.8477 - val_loss: 0.3162 - val_accuracy: 0.8554\n",
                  "Epoch 10/20\n",
                  "595/595 [==============================] - 193s 325ms/step - loss: 0.3216 - accuracy: 0.8514 - val_loss: 0.3101 - val_accuracy: 0.8625\n",
                  "Epoch 11/20\n",
                  "595/595 [==============================] - 191s 321ms/step - loss: 0.3162 - accuracy: 0.8546 - val_loss: 0.3177 - val_accuracy: 0.8528\n",
                  "Epoch 12/20\n",
                  "595/595 [==============================] - 195s 328ms/step - loss: 0.3105 - accuracy: 0.8573 - val_loss: 0.2938 - val_accuracy: 0.8657\n",
                  "Epoch 13/20\n",
                  "595/595 [==============================] - 196s 329ms/step - loss: 0.3059 - accuracy: 0.8611 - val_loss: 0.2931 - val_accuracy: 0.8637\n",
                  "Epoch 14/20\n",
                  "595/595 [==============================] - 194s 327ms/step - loss: 0.2997 - accuracy: 0.8638 - val_loss: 0.3240 - val_accuracy: 0.8530\n",
                  "Epoch 15/20\n",
                  "595/595 [==============================] - 192s 323ms/step - loss: 0.2960 - accuracy: 0.8668 - val_loss: 0.3121 - val_accuracy: 0.8618\n",
                  "Epoch 16/20\n",
                  "595/595 [==============================] - 190s 319ms/step - loss: 0.2890 - accuracy: 0.8705 - val_loss: 0.3286 - val_accuracy: 0.8461\n",
                  "Epoch 17/20\n",
                  "595/595 [==============================] - 198s 333ms/step - loss: 0.2841 - accuracy: 0.8739 - val_loss: 0.2997 - val_accuracy: 0.8631\n"
               ]
            }
         ],
         "source": [
            "history = lstm_model.fit(X_train, y_train, epochs=20, batch_size=128, validation_split=0.3, callbacks=[callback])"
         ]
      },
      {
         "cell_type": "code",
         "execution_count": 61,
         "metadata": {},
         "outputs": [
            {
               "data": {
                  "text/plain": [
                     "<AxesSubplot:>"
                  ]
               },
               "execution_count": 61,
               "metadata": {},
               "output_type": "execute_result"
            },
            {
               "data": {
                  "image/png": "[encoded data removed]",
                  "text/plain": [
                     "<Figure size 432x288 with 1 Axes>"
                  ]
               },
               "metadata": {
                  "needs_background": "light"
               },
               "output_type": "display_data"
            }
         ],
         "source": [
            "history_df = pd.DataFrame(history.history)\n",
            "history_df.loc[:, ['accuracy', 'val_accuracy']].plot()"
         ]
      },
      {
         "cell_type": "code",
         "execution_count": 62,
         "metadata": {},
         "outputs": [
            {
               "data": {
                  "text/plain": [
                     "<AxesSubplot:>"
                  ]
               },
               "execution_count": 62,
               "metadata": {},
               "output_type": "execute_result"
            },
            {
               "data": {
                  "image/png": "[encoded data removed]",
                  "text/plain": [
                     "<Figure size 432x288 with 1 Axes>"
                  ]
               },
               "metadata": {
                  "needs_background": "light"
               },
               "output_type": "display_data"
            }
         ],
         "source": [
            "history_df.loc[:, ['loss', 'val_loss']].plot()"
         ]
      },
      {
         "cell_type": "code",
         "execution_count": 63,
         "metadata": {},
         "outputs": [
            {
               "data": {
                  "text/plain": [
                     "array([[0.56574476],\n",
                     "       [0.53141433],\n",
                     "       [0.5248579 ],\n",
                     "       ...,\n",
                     "       [0.6434616 ],\n",
                     "       [0.06277391],\n",
                     "       [0.24123731]], dtype=float32)"
                  ]
               },
               "execution_count": 63,
               "metadata": {},
               "output_type": "execute_result"
            }
         ],
         "source": [
            "y_pred=lstm_model.predict(X_test)\n",
            "y_pred"
         ]
      },
      {
         "cell_type": "code",
         "execution_count": 64,
         "metadata": {},
         "outputs": [
            {
               "name": "stdout",
               "output_type": "stream",
               "text": [
                  "              precision    recall  f1-score   support\n",
                  "\n",
                  "         0.0       0.81      0.90      0.85      5055\n",
                  "         1.0       0.92      0.84      0.88      7022\n",
                  "\n",
                  "    accuracy                           0.87     12077\n",
                  "   macro avg       0.86      0.87      0.86     12077\n",
                  "weighted avg       0.87      0.87      0.87     12077\n",
                  "\n"
               ]
            }
         ],
         "source": [
            "# arrondir les prédictions avant de les evalués\n",
            "y_pred = [0 if x < 0.5 else 1 for x in y_pred] \n",
            "print(classification_report(y_test, y_pred))"
         ]
      },
      {
         "cell_type": "code",
         "execution_count": 65,
         "metadata": {},
         "outputs": [
            {
               "name": "stdout",
               "output_type": "stream",
               "text": [
                  "378/378 [==============================] - 15s 39ms/step - loss: 0.2910 - accuracy: 0.8656\n"
               ]
            },
            {
               "data": {
                  "text/plain": [
                     "[0.29104408621788025, 0.8656123280525208]"
                  ]
               },
               "execution_count": 65,
               "metadata": {},
               "output_type": "execute_result"
            }
         ],
         "source": [
            "eval=lstm_model.evaluate(X_test, y_test)\n",
            "eval"
         ]
      },
      {
         "attachments": {},
         "cell_type": "markdown",
         "metadata": {},
         "source": [
            "# Mélange SimpleRNN et LSTM"
         ]
      },
      {
         "cell_type": "code",
         "execution_count": 35,
         "metadata": {},
         "outputs": [],
         "source": [
            "lstm_rnn_model = keras.Sequential([\n",
            "    layers.Dense(32,input_shape=(20,13), activation='relu'),\n",
            "    layers.LSTM(128, return_sequences=True, activation='relu'), # return_sequences à True pour que la sortie soit de dimension 3\n",
            "    layers.LSTM(128, return_sequences=True, activation='relu'),\n",
            "    layers.Dropout(0.3),\n",
            "    layers.BatchNormalization(),\n",
            "    layers.Dense(32, activation='relu'), #64\n",
            "    layers.SimpleRNN(64,activation='relu', return_sequences=True),\n",
            "    layers.SimpleRNN(32,activation='relu'),\n",
            "    layers.BatchNormalization(),\n",
            "    layers.Dropout(0.3),\n",
            "    layers.Dense(64, activation='relu'),\n",
            "    layers.Dropout(0.5),\n",
            "    layers.Dense(1, activation='sigmoid')\n",
            "])\n",
            "\n",
            "callback = keras.callbacks.EarlyStopping(monitor='val_accuracy', patience=8, restore_best_weights=True)\n",
            "#opt = keras.optimizers.SGD(learning_rate=0.01)\n",
            "lstm_rnn_model.compile(loss='binary_crossentropy', optimizer='adam', metrics='accuracy')"
         ]
      },
      {
         "cell_type": "code",
         "execution_count": 36,
         "metadata": {},
         "outputs": [
            {
               "name": "stdout",
               "output_type": "stream",
               "text": [
                  "Epoch 1/20\n"
               ]
            },
            {
               "name": "stderr",
               "output_type": "stream",
               "text": [
                  "2023-02-17 12:23:43.344351: W tensorflow/core/framework/cpu_allocator_impl.cc:82] Allocation of 79122160 exceeds 10% of free system memory.\n"
               ]
            },
            {
               "name": "stdout",
               "output_type": "stream",
               "text": [
                  "177/595 [=======>......................] - ETA: 30s - loss: 0.7345 - accuracy: 0.5339"
               ]
            },
            {
               "ename": "KeyboardInterrupt",
               "evalue": "",
               "output_type": "error",
               "traceback": [
                  "\u001b[0;31m---------------------------------------------------------------------------\u001b[0m",
                  "\u001b[0;31mKeyboardInterrupt\u001b[0m                         Traceback (most recent call last)",
                  "\u001b[1;32m/data/Documents/DocING3/PFE/PFE/source/deep learning/sequence_creation.ipynb Cell 59\u001b[0m in \u001b[0;36m<cell line: 1>\u001b[0;34m()\u001b[0m\n\u001b[0;32m----> <a href='vscode-notebook-cell:/data/Documents/DocING3/PFE/PFE/source/deep%20learning/sequence_creation.ipynb#Y112sZmlsZQ%3D%3D?line=0'>1</a>\u001b[0m history \u001b[39m=\u001b[39m lstm_rnn_model\u001b[39m.\u001b[39;49mfit(X_train, y_train, epochs\u001b[39m=\u001b[39;49m\u001b[39m20\u001b[39;49m, batch_size\u001b[39m=\u001b[39;49m\u001b[39m128\u001b[39;49m, validation_split\u001b[39m=\u001b[39;49m\u001b[39m0.3\u001b[39;49m, callbacks\u001b[39m=\u001b[39;49m[callback])\n",
                  "File \u001b[0;32m~/.local/lib/python3.8/site-packages/keras/utils/traceback_utils.py:64\u001b[0m, in \u001b[0;36mfilter_traceback.<locals>.error_handler\u001b[0;34m(*args, **kwargs)\u001b[0m\n\u001b[1;32m     62\u001b[0m filtered_tb \u001b[39m=\u001b[39m \u001b[39mNone\u001b[39;00m\n\u001b[1;32m     63\u001b[0m \u001b[39mtry\u001b[39;00m:\n\u001b[0;32m---> 64\u001b[0m   \u001b[39mreturn\u001b[39;00m fn(\u001b[39m*\u001b[39;49margs, \u001b[39m*\u001b[39;49m\u001b[39m*\u001b[39;49mkwargs)\n\u001b[1;32m     65\u001b[0m \u001b[39mexcept\u001b[39;00m \u001b[39mException\u001b[39;00m \u001b[39mas\u001b[39;00m e:  \u001b[39m# pylint: disable=broad-except\u001b[39;00m\n\u001b[1;32m     66\u001b[0m   filtered_tb \u001b[39m=\u001b[39m _process_traceback_frames(e\u001b[39m.\u001b[39m__traceback__)\n",
                  "File \u001b[0;32m~/.local/lib/python3.8/site-packages/keras/engine/training.py:1384\u001b[0m, in \u001b[0;36mModel.fit\u001b[0;34m(self, x, y, batch_size, epochs, verbose, callbacks, validation_split, validation_data, shuffle, class_weight, sample_weight, initial_epoch, steps_per_epoch, validation_steps, validation_batch_size, validation_freq, max_queue_size, workers, use_multiprocessing)\u001b[0m\n\u001b[1;32m   1377\u001b[0m \u001b[39mwith\u001b[39;00m tf\u001b[39m.\u001b[39mprofiler\u001b[39m.\u001b[39mexperimental\u001b[39m.\u001b[39mTrace(\n\u001b[1;32m   1378\u001b[0m     \u001b[39m'\u001b[39m\u001b[39mtrain\u001b[39m\u001b[39m'\u001b[39m,\n\u001b[1;32m   1379\u001b[0m     epoch_num\u001b[39m=\u001b[39mepoch,\n\u001b[1;32m   1380\u001b[0m     step_num\u001b[39m=\u001b[39mstep,\n\u001b[1;32m   1381\u001b[0m     batch_size\u001b[39m=\u001b[39mbatch_size,\n\u001b[1;32m   1382\u001b[0m     _r\u001b[39m=\u001b[39m\u001b[39m1\u001b[39m):\n\u001b[1;32m   1383\u001b[0m   callbacks\u001b[39m.\u001b[39mon_train_batch_begin(step)\n\u001b[0;32m-> 1384\u001b[0m   tmp_logs \u001b[39m=\u001b[39m \u001b[39mself\u001b[39;49m\u001b[39m.\u001b[39;49mtrain_function(iterator)\n\u001b[1;32m   1385\u001b[0m   \u001b[39mif\u001b[39;00m data_handler\u001b[39m.\u001b[39mshould_sync:\n\u001b[1;32m   1386\u001b[0m     context\u001b[39m.\u001b[39masync_wait()\n",
                  "File \u001b[0;32m~/.local/lib/python3.8/site-packages/tensorflow/python/util/traceback_utils.py:150\u001b[0m, in \u001b[0;36mfilter_traceback.<locals>.error_handler\u001b[0;34m(*args, **kwargs)\u001b[0m\n\u001b[1;32m    148\u001b[0m filtered_tb \u001b[39m=\u001b[39m \u001b[39mNone\u001b[39;00m\n\u001b[1;32m    149\u001b[0m \u001b[39mtry\u001b[39;00m:\n\u001b[0;32m--> 150\u001b[0m   \u001b[39mreturn\u001b[39;00m fn(\u001b[39m*\u001b[39;49margs, \u001b[39m*\u001b[39;49m\u001b[39m*\u001b[39;49mkwargs)\n\u001b[1;32m    151\u001b[0m \u001b[39mexcept\u001b[39;00m \u001b[39mException\u001b[39;00m \u001b[39mas\u001b[39;00m e:\n\u001b[1;32m    152\u001b[0m   filtered_tb \u001b[39m=\u001b[39m _process_traceback_frames(e\u001b[39m.\u001b[39m__traceback__)\n",
                  "File \u001b[0;32m~/.local/lib/python3.8/site-packages/tensorflow/python/eager/def_function.py:915\u001b[0m, in \u001b[0;36mFunction.__call__\u001b[0;34m(self, *args, **kwds)\u001b[0m\n\u001b[1;32m    912\u001b[0m compiler \u001b[39m=\u001b[39m \u001b[39m\"\u001b[39m\u001b[39mxla\u001b[39m\u001b[39m\"\u001b[39m \u001b[39mif\u001b[39;00m \u001b[39mself\u001b[39m\u001b[39m.\u001b[39m_jit_compile \u001b[39melse\u001b[39;00m \u001b[39m\"\u001b[39m\u001b[39mnonXla\u001b[39m\u001b[39m\"\u001b[39m\n\u001b[1;32m    914\u001b[0m \u001b[39mwith\u001b[39;00m OptionalXlaContext(\u001b[39mself\u001b[39m\u001b[39m.\u001b[39m_jit_compile):\n\u001b[0;32m--> 915\u001b[0m   result \u001b[39m=\u001b[39m \u001b[39mself\u001b[39;49m\u001b[39m.\u001b[39;49m_call(\u001b[39m*\u001b[39;49margs, \u001b[39m*\u001b[39;49m\u001b[39m*\u001b[39;49mkwds)\n\u001b[1;32m    917\u001b[0m new_tracing_count \u001b[39m=\u001b[39m \u001b[39mself\u001b[39m\u001b[39m.\u001b[39mexperimental_get_tracing_count()\n\u001b[1;32m    918\u001b[0m without_tracing \u001b[39m=\u001b[39m (tracing_count \u001b[39m==\u001b[39m new_tracing_count)\n",
                  "File \u001b[0;32m~/.local/lib/python3.8/site-packages/tensorflow/python/eager/def_function.py:947\u001b[0m, in \u001b[0;36mFunction._call\u001b[0;34m(self, *args, **kwds)\u001b[0m\n\u001b[1;32m    944\u001b[0m   \u001b[39mself\u001b[39m\u001b[39m.\u001b[39m_lock\u001b[39m.\u001b[39mrelease()\n\u001b[1;32m    945\u001b[0m   \u001b[39m# In this case we have created variables on the first call, so we run the\u001b[39;00m\n\u001b[1;32m    946\u001b[0m   \u001b[39m# defunned version which is guaranteed to never create variables.\u001b[39;00m\n\u001b[0;32m--> 947\u001b[0m   \u001b[39mreturn\u001b[39;00m \u001b[39mself\u001b[39;49m\u001b[39m.\u001b[39;49m_stateless_fn(\u001b[39m*\u001b[39;49margs, \u001b[39m*\u001b[39;49m\u001b[39m*\u001b[39;49mkwds)  \u001b[39m# pylint: disable=not-callable\u001b[39;00m\n\u001b[1;32m    948\u001b[0m \u001b[39melif\u001b[39;00m \u001b[39mself\u001b[39m\u001b[39m.\u001b[39m_stateful_fn \u001b[39mis\u001b[39;00m \u001b[39mnot\u001b[39;00m \u001b[39mNone\u001b[39;00m:\n\u001b[1;32m    949\u001b[0m   \u001b[39m# Release the lock early so that multiple threads can perform the call\u001b[39;00m\n\u001b[1;32m    950\u001b[0m   \u001b[39m# in parallel.\u001b[39;00m\n\u001b[1;32m    951\u001b[0m   \u001b[39mself\u001b[39m\u001b[39m.\u001b[39m_lock\u001b[39m.\u001b[39mrelease()\n",
                  "File \u001b[0;32m~/.local/lib/python3.8/site-packages/tensorflow/python/eager/function.py:2956\u001b[0m, in \u001b[0;36mFunction.__call__\u001b[0;34m(self, *args, **kwargs)\u001b[0m\n\u001b[1;32m   2953\u001b[0m \u001b[39mwith\u001b[39;00m \u001b[39mself\u001b[39m\u001b[39m.\u001b[39m_lock:\n\u001b[1;32m   2954\u001b[0m   (graph_function,\n\u001b[1;32m   2955\u001b[0m    filtered_flat_args) \u001b[39m=\u001b[39m \u001b[39mself\u001b[39m\u001b[39m.\u001b[39m_maybe_define_function(args, kwargs)\n\u001b[0;32m-> 2956\u001b[0m \u001b[39mreturn\u001b[39;00m graph_function\u001b[39m.\u001b[39;49m_call_flat(\n\u001b[1;32m   2957\u001b[0m     filtered_flat_args, captured_inputs\u001b[39m=\u001b[39;49mgraph_function\u001b[39m.\u001b[39;49mcaptured_inputs)\n",
                  "File \u001b[0;32m~/.local/lib/python3.8/site-packages/tensorflow/python/eager/function.py:1853\u001b[0m, in \u001b[0;36mConcreteFunction._call_flat\u001b[0;34m(self, args, captured_inputs, cancellation_manager)\u001b[0m\n\u001b[1;32m   1849\u001b[0m possible_gradient_type \u001b[39m=\u001b[39m gradients_util\u001b[39m.\u001b[39mPossibleTapeGradientTypes(args)\n\u001b[1;32m   1850\u001b[0m \u001b[39mif\u001b[39;00m (possible_gradient_type \u001b[39m==\u001b[39m gradients_util\u001b[39m.\u001b[39mPOSSIBLE_GRADIENT_TYPES_NONE\n\u001b[1;32m   1851\u001b[0m     \u001b[39mand\u001b[39;00m executing_eagerly):\n\u001b[1;32m   1852\u001b[0m   \u001b[39m# No tape is watching; skip to running the function.\u001b[39;00m\n\u001b[0;32m-> 1853\u001b[0m   \u001b[39mreturn\u001b[39;00m \u001b[39mself\u001b[39m\u001b[39m.\u001b[39m_build_call_outputs(\u001b[39mself\u001b[39;49m\u001b[39m.\u001b[39;49m_inference_function\u001b[39m.\u001b[39;49mcall(\n\u001b[1;32m   1854\u001b[0m       ctx, args, cancellation_manager\u001b[39m=\u001b[39;49mcancellation_manager))\n\u001b[1;32m   1855\u001b[0m forward_backward \u001b[39m=\u001b[39m \u001b[39mself\u001b[39m\u001b[39m.\u001b[39m_select_forward_and_backward_functions(\n\u001b[1;32m   1856\u001b[0m     args,\n\u001b[1;32m   1857\u001b[0m     possible_gradient_type,\n\u001b[1;32m   1858\u001b[0m     executing_eagerly)\n\u001b[1;32m   1859\u001b[0m forward_function, args_with_tangents \u001b[39m=\u001b[39m forward_backward\u001b[39m.\u001b[39mforward()\n",
                  "File \u001b[0;32m~/.local/lib/python3.8/site-packages/tensorflow/python/eager/function.py:499\u001b[0m, in \u001b[0;36m_EagerDefinedFunction.call\u001b[0;34m(self, ctx, args, cancellation_manager)\u001b[0m\n\u001b[1;32m    497\u001b[0m \u001b[39mwith\u001b[39;00m _InterpolateFunctionError(\u001b[39mself\u001b[39m):\n\u001b[1;32m    498\u001b[0m   \u001b[39mif\u001b[39;00m cancellation_manager \u001b[39mis\u001b[39;00m \u001b[39mNone\u001b[39;00m:\n\u001b[0;32m--> 499\u001b[0m     outputs \u001b[39m=\u001b[39m execute\u001b[39m.\u001b[39;49mexecute(\n\u001b[1;32m    500\u001b[0m         \u001b[39mstr\u001b[39;49m(\u001b[39mself\u001b[39;49m\u001b[39m.\u001b[39;49msignature\u001b[39m.\u001b[39;49mname),\n\u001b[1;32m    501\u001b[0m         num_outputs\u001b[39m=\u001b[39;49m\u001b[39mself\u001b[39;49m\u001b[39m.\u001b[39;49m_num_outputs,\n\u001b[1;32m    502\u001b[0m         inputs\u001b[39m=\u001b[39;49margs,\n\u001b[1;32m    503\u001b[0m         attrs\u001b[39m=\u001b[39;49mattrs,\n\u001b[1;32m    504\u001b[0m         ctx\u001b[39m=\u001b[39;49mctx)\n\u001b[1;32m    505\u001b[0m   \u001b[39melse\u001b[39;00m:\n\u001b[1;32m    506\u001b[0m     outputs \u001b[39m=\u001b[39m execute\u001b[39m.\u001b[39mexecute_with_cancellation(\n\u001b[1;32m    507\u001b[0m         \u001b[39mstr\u001b[39m(\u001b[39mself\u001b[39m\u001b[39m.\u001b[39msignature\u001b[39m.\u001b[39mname),\n\u001b[1;32m    508\u001b[0m         num_outputs\u001b[39m=\u001b[39m\u001b[39mself\u001b[39m\u001b[39m.\u001b[39m_num_outputs,\n\u001b[0;32m   (...)\u001b[0m\n\u001b[1;32m    511\u001b[0m         ctx\u001b[39m=\u001b[39mctx,\n\u001b[1;32m    512\u001b[0m         cancellation_manager\u001b[39m=\u001b[39mcancellation_manager)\n",
                  "File \u001b[0;32m~/.local/lib/python3.8/site-packages/tensorflow/python/eager/execute.py:54\u001b[0m, in \u001b[0;36mquick_execute\u001b[0;34m(op_name, num_outputs, inputs, attrs, ctx, name)\u001b[0m\n\u001b[1;32m     52\u001b[0m \u001b[39mtry\u001b[39;00m:\n\u001b[1;32m     53\u001b[0m   ctx\u001b[39m.\u001b[39mensure_initialized()\n\u001b[0;32m---> 54\u001b[0m   tensors \u001b[39m=\u001b[39m pywrap_tfe\u001b[39m.\u001b[39;49mTFE_Py_Execute(ctx\u001b[39m.\u001b[39;49m_handle, device_name, op_name,\n\u001b[1;32m     55\u001b[0m                                       inputs, attrs, num_outputs)\n\u001b[1;32m     56\u001b[0m \u001b[39mexcept\u001b[39;00m core\u001b[39m.\u001b[39m_NotOkStatusException \u001b[39mas\u001b[39;00m e:\n\u001b[1;32m     57\u001b[0m   \u001b[39mif\u001b[39;00m name \u001b[39mis\u001b[39;00m \u001b[39mnot\u001b[39;00m \u001b[39mNone\u001b[39;00m:\n",
                  "\u001b[0;31mKeyboardInterrupt\u001b[0m: "
               ]
            }
         ],
         "source": [
            "history = lstm_rnn_model.fit(X_train, y_train, epochs=20, batch_size=128, validation_split=0.3, callbacks=[callback])"
         ]
      },
      {
         "cell_type": "code",
         "execution_count": 34,
         "metadata": {},
         "outputs": [
            {
               "data": {
                  "text/plain": [
                     "<AxesSubplot:>"
                  ]
               },
               "execution_count": 34,
               "metadata": {},
               "output_type": "execute_result"
            },
            {
               "data": {
                  "image/png": "[encoded data removed]",
                  "text/plain": [
                     "<Figure size 432x288 with 1 Axes>"
                  ]
               },
               "metadata": {
                  "needs_background": "light"
               },
               "output_type": "display_data"
            }
         ],
         "source": [
            "history_df = pd.DataFrame(history.history)\n",
            "history_df.loc[:, ['accuracy', 'val_accuracy']].plot()"
         ]
      },
      {
         "cell_type": "code",
         "execution_count": 33,
         "metadata": {},
         "outputs": [
            {
               "data": {
                  "text/plain": [
                     "<AxesSubplot:>"
                  ]
               },
               "execution_count": 33,
               "metadata": {},
               "output_type": "execute_result"
            },
            {
               "data": {
                  "image/png": "[encoded data removed]",
                  "text/plain": [
                     "<Figure size 432x288 with 1 Axes>"
                  ]
               },
               "metadata": {
                  "needs_background": "light"
               },
               "output_type": "display_data"
            }
         ],
         "source": [
            "history_df.loc[:, ['loss', 'val_loss']].plot()"
         ]
      },
      {
         "cell_type": "code",
         "execution_count": 191,
         "metadata": {},
         "outputs": [
            {
               "data": {
                  "text/plain": [
                     "array([[0.6945452 ],\n",
                     "       [0.9974154 ],\n",
                     "       [0.9844209 ],\n",
                     "       ...,\n",
                     "       [0.40801007],\n",
                     "       [0.94962376],\n",
                     "       [0.42922425]], dtype=float32)"
                  ]
               },
               "execution_count": 191,
               "metadata": {},
               "output_type": "execute_result"
            }
         ],
         "source": [
            "y_pred=lstm_rnn_model.predict(X_test)\n",
            "y_pred"
         ]
      },
      {
         "cell_type": "code",
         "execution_count": 192,
         "metadata": {},
         "outputs": [
            {
               "name": "stdout",
               "output_type": "stream",
               "text": [
                  "              precision    recall  f1-score   support\n",
                  "\n",
                  "         0.0       0.70      0.88      0.78      4499\n",
                  "         1.0       0.88      0.70      0.78      5715\n",
                  "\n",
                  "    accuracy                           0.78     10214\n",
                  "   macro avg       0.79      0.79      0.78     10214\n",
                  "weighted avg       0.80      0.78      0.78     10214\n",
                  "\n"
               ]
            }
         ],
         "source": [
            "# arrondir les prédictions avant de les evalués\n",
            "y_pred = [0 if x < 0.5 else 1 for x in y_pred] \n",
            "print(classification_report(y_test, y_pred))"
         ]
      },
      {
         "cell_type": "code",
         "execution_count": 193,
         "metadata": {},
         "outputs": [
            {
               "name": "stdout",
               "output_type": "stream",
               "text": [
                  "320/320 [==============================] - 3s 11ms/step - loss: 0.4687 - accuracy: 0.7779\n"
               ]
            },
            {
               "data": {
                  "text/plain": [
                     "[0.46868398785591125, 0.7778539061546326]"
                  ]
               },
               "execution_count": 193,
               "metadata": {},
               "output_type": "execute_result"
            }
         ],
         "source": [
            "eval=lstm_rnn_model.evaluate(X_test, y_test)\n",
            "eval"
         ]
      }
   ],
   "metadata": {
      "kernelspec": {
         "display_name": "Python 3",
         "language": "python",
         "name": "python3"
      },
      "language_info": {
         "codemirror_mode": {
            "name": "ipython",
            "version": 3
         },
         "file_extension": ".py",
         "mimetype": "text/x-python",
         "name": "python",
         "nbconvert_exporter": "python",
         "pygments_lexer": "ipython3",
         "version": "3.8.10"
      },
      "orig_nbformat": 4,
      "vscode": {
         "interpreter": {
            "hash": "31f2aee4e71d21fbe5cf8b01ff0e069b9275f58929596ceb00d14d90e3e16cd6"
         }
      }
   },
   "nbformat": 4,
   "nbformat_minor": 2
}

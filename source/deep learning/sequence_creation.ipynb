{
 "cells": [
  {
   "cell_type": "code",
   "execution_count": 1,
   "metadata": {},
   "outputs": [],
   "source": [
    "import pandas as pd\n",
    "import numpy as np\n",
    "import sys\n",
    "sys.path.append('../src/')\n",
    "import dataset_prep"
   ]
  },
  {
   "attachments": {},
   "cell_type": "markdown",
   "metadata": {},
   "source": [
    "Import de la base de données"
   ]
  },
  {
   "cell_type": "code",
   "execution_count": 2,
   "metadata": {},
   "outputs": [],
   "source": [
    "selected_columns = [\n",
    "\"nb_packets_sent\",\n",
    "\"distance\",\n",
    "\"distRealSR1\",\n",
    "\"pos_y_rec_f\",\n",
    "\"pos_y_rec\",\n",
    "\"pos_x_rec_f\",\n",
    "\"pos_x_rec\",\n",
    "\"pos_x_send\",\n",
    "\"pos_y_send\",\n",
    "\"spd_x_send\",\n",
    "\"spd_y_send\",\n",
    "\"sendTime\",\n",
    "\"receiver\",\n",
    "\"sender\",\n",
    "\"label\"\n",
    "]"
   ]
  },
  {
   "cell_type": "code",
   "execution_count": 3,
   "metadata": {},
   "outputs": [],
   "source": [
    "df = dataset_prep.import_dataset('../data/DoS_0709_new_columns.csv', selected_columns)"
   ]
  },
  {
   "cell_type": "code",
   "execution_count": 4,
   "metadata": {},
   "outputs": [
    {
     "name": "stdout",
     "output_type": "stream",
     "text": [
      "Nombre de lignes avant nettoyage :  4753433\n",
      "Nombre de lignes après nettoyage :  4709293\n"
     ]
    }
   ],
   "source": [
    "dataset_prep.clean_dataset(df)"
   ]
  },
  {
   "attachments": {},
   "cell_type": "markdown",
   "metadata": {},
   "source": [
    "Analyse et vérification des données"
   ]
  },
  {
   "cell_type": "code",
   "execution_count": 5,
   "metadata": {},
   "outputs": [
    {
     "data": {
      "text/plain": [
       "array([    9,    15,    21, ..., 24399, 24405, 24411], dtype=int64)"
      ]
     },
     "execution_count": 5,
     "metadata": {},
     "output_type": "execute_result"
    }
   ],
   "source": [
    "senders = np.unique(df[\"sender\"].values)\n",
    "senders"
   ]
  },
  {
   "cell_type": "code",
   "execution_count": 6,
   "metadata": {},
   "outputs": [
    {
     "name": "stdout",
     "output_type": "stream",
     "text": [
      "4067\n"
     ]
    }
   ],
   "source": [
    "print(len(senders))"
   ]
  },
  {
   "cell_type": "code",
   "execution_count": 7,
   "metadata": {},
   "outputs": [
    {
     "data": {
      "text/html": [
       "<div>\n",
       "<style scoped>\n",
       "    .dataframe tbody tr th:only-of-type {\n",
       "        vertical-align: middle;\n",
       "    }\n",
       "\n",
       "    .dataframe tbody tr th {\n",
       "        vertical-align: top;\n",
       "    }\n",
       "\n",
       "    .dataframe thead th {\n",
       "        text-align: right;\n",
       "    }\n",
       "</style>\n",
       "<table border=\"1\" class=\"dataframe\">\n",
       "  <thead>\n",
       "    <tr style=\"text-align: right;\">\n",
       "      <th></th>\n",
       "      <th>sendTime</th>\n",
       "      <th>sender</th>\n",
       "      <th>receiver</th>\n",
       "      <th>pos_x_send</th>\n",
       "      <th>pos_y_send</th>\n",
       "      <th>spd_x_send</th>\n",
       "      <th>spd_y_send</th>\n",
       "      <th>label</th>\n",
       "      <th>pos_x_rec</th>\n",
       "      <th>pos_y_rec</th>\n",
       "      <th>pos_x_rec_f</th>\n",
       "      <th>pos_y_rec_f</th>\n",
       "      <th>nb_packets_sent</th>\n",
       "      <th>distRealSR1</th>\n",
       "      <th>distance</th>\n",
       "    </tr>\n",
       "  </thead>\n",
       "  <tbody>\n",
       "    <tr>\n",
       "      <th>4</th>\n",
       "      <td>25212.602877</td>\n",
       "      <td>9</td>\n",
       "      <td>45</td>\n",
       "      <td>257.604242</td>\n",
       "      <td>141.917136</td>\n",
       "      <td>-2.409908</td>\n",
       "      <td>14.316189</td>\n",
       "      <td>0</td>\n",
       "      <td>265.540271</td>\n",
       "      <td>46.207434</td>\n",
       "      <td>268.539855</td>\n",
       "      <td>49.801087</td>\n",
       "      <td>96</td>\n",
       "      <td>7.936029</td>\n",
       "      <td>96.038156</td>\n",
       "    </tr>\n",
       "    <tr>\n",
       "      <th>5</th>\n",
       "      <td>25213.602877</td>\n",
       "      <td>9</td>\n",
       "      <td>45</td>\n",
       "      <td>255.242943</td>\n",
       "      <td>156.206787</td>\n",
       "      <td>-2.566640</td>\n",
       "      <td>14.210027</td>\n",
       "      <td>0</td>\n",
       "      <td>268.539855</td>\n",
       "      <td>49.801087</td>\n",
       "      <td>268.050977</td>\n",
       "      <td>55.331302</td>\n",
       "      <td>96</td>\n",
       "      <td>13.296912</td>\n",
       "      <td>107.233302</td>\n",
       "    </tr>\n",
       "    <tr>\n",
       "      <th>6</th>\n",
       "      <td>25214.602878</td>\n",
       "      <td>9</td>\n",
       "      <td>45</td>\n",
       "      <td>252.857751</td>\n",
       "      <td>170.495740</td>\n",
       "      <td>-2.342829</td>\n",
       "      <td>14.254332</td>\n",
       "      <td>0</td>\n",
       "      <td>268.050977</td>\n",
       "      <td>55.331302</td>\n",
       "      <td>270.113953</td>\n",
       "      <td>63.318293</td>\n",
       "      <td>96</td>\n",
       "      <td>15.193227</td>\n",
       "      <td>116.162309</td>\n",
       "    </tr>\n",
       "    <tr>\n",
       "      <th>7</th>\n",
       "      <td>25215.602879</td>\n",
       "      <td>9</td>\n",
       "      <td>45</td>\n",
       "      <td>250.525544</td>\n",
       "      <td>184.832952</td>\n",
       "      <td>-2.352874</td>\n",
       "      <td>14.315002</td>\n",
       "      <td>0</td>\n",
       "      <td>270.113953</td>\n",
       "      <td>63.318293</td>\n",
       "      <td>268.836896</td>\n",
       "      <td>72.915064</td>\n",
       "      <td>96</td>\n",
       "      <td>19.588409</td>\n",
       "      <td>123.083379</td>\n",
       "    </tr>\n",
       "    <tr>\n",
       "      <th>8</th>\n",
       "      <td>25216.602880</td>\n",
       "      <td>9</td>\n",
       "      <td>45</td>\n",
       "      <td>248.511212</td>\n",
       "      <td>199.166902</td>\n",
       "      <td>-2.079440</td>\n",
       "      <td>14.360857</td>\n",
       "      <td>0</td>\n",
       "      <td>268.836896</td>\n",
       "      <td>72.915064</td>\n",
       "      <td>267.267270</td>\n",
       "      <td>84.617270</td>\n",
       "      <td>96</td>\n",
       "      <td>20.325683</td>\n",
       "      <td>127.877519</td>\n",
       "    </tr>\n",
       "    <tr>\n",
       "      <th>...</th>\n",
       "      <td>...</td>\n",
       "      <td>...</td>\n",
       "      <td>...</td>\n",
       "      <td>...</td>\n",
       "      <td>...</td>\n",
       "      <td>...</td>\n",
       "      <td>...</td>\n",
       "      <td>...</td>\n",
       "      <td>...</td>\n",
       "      <td>...</td>\n",
       "      <td>...</td>\n",
       "      <td>...</td>\n",
       "      <td>...</td>\n",
       "      <td>...</td>\n",
       "      <td>...</td>\n",
       "    </tr>\n",
       "    <tr>\n",
       "      <th>94</th>\n",
       "      <td>25291.602880</td>\n",
       "      <td>9</td>\n",
       "      <td>225</td>\n",
       "      <td>134.821280</td>\n",
       "      <td>1024.506204</td>\n",
       "      <td>-0.602227</td>\n",
       "      <td>8.137469</td>\n",
       "      <td>0</td>\n",
       "      <td>138.085770</td>\n",
       "      <td>1102.386398</td>\n",
       "      <td>138.801402</td>\n",
       "      <td>1096.647173</td>\n",
       "      <td>96</td>\n",
       "      <td>3.264490</td>\n",
       "      <td>77.948582</td>\n",
       "    </tr>\n",
       "    <tr>\n",
       "      <th>65</th>\n",
       "      <td>25291.602880</td>\n",
       "      <td>9</td>\n",
       "      <td>147</td>\n",
       "      <td>134.821280</td>\n",
       "      <td>1024.506204</td>\n",
       "      <td>-0.602227</td>\n",
       "      <td>8.137469</td>\n",
       "      <td>0</td>\n",
       "      <td>147.593919</td>\n",
       "      <td>898.797866</td>\n",
       "      <td>147.021568</td>\n",
       "      <td>894.975244</td>\n",
       "      <td>96</td>\n",
       "      <td>12.772639</td>\n",
       "      <td>126.355556</td>\n",
       "    </tr>\n",
       "    <tr>\n",
       "      <th>91</th>\n",
       "      <td>25292.602869</td>\n",
       "      <td>9</td>\n",
       "      <td>219</td>\n",
       "      <td>134.539820</td>\n",
       "      <td>1030.197090</td>\n",
       "      <td>-0.270067</td>\n",
       "      <td>3.653434</td>\n",
       "      <td>0</td>\n",
       "      <td>142.457918</td>\n",
       "      <td>1043.790636</td>\n",
       "      <td>143.221108</td>\n",
       "      <td>1033.675922</td>\n",
       "      <td>96</td>\n",
       "      <td>7.918098</td>\n",
       "      <td>15.731521</td>\n",
       "    </tr>\n",
       "    <tr>\n",
       "      <th>95</th>\n",
       "      <td>25292.602869</td>\n",
       "      <td>9</td>\n",
       "      <td>225</td>\n",
       "      <td>134.539820</td>\n",
       "      <td>1030.197090</td>\n",
       "      <td>-0.270067</td>\n",
       "      <td>3.653434</td>\n",
       "      <td>0</td>\n",
       "      <td>138.801402</td>\n",
       "      <td>1096.647173</td>\n",
       "      <td>139.551488</td>\n",
       "      <td>1089.075886</td>\n",
       "      <td>96</td>\n",
       "      <td>4.261582</td>\n",
       "      <td>66.586594</td>\n",
       "    </tr>\n",
       "    <tr>\n",
       "      <th>66</th>\n",
       "      <td>25292.602870</td>\n",
       "      <td>9</td>\n",
       "      <td>147</td>\n",
       "      <td>134.539820</td>\n",
       "      <td>1030.197090</td>\n",
       "      <td>-0.270067</td>\n",
       "      <td>3.653434</td>\n",
       "      <td>0</td>\n",
       "      <td>147.021568</td>\n",
       "      <td>894.975244</td>\n",
       "      <td>143.965279</td>\n",
       "      <td>889.590074</td>\n",
       "      <td>96</td>\n",
       "      <td>12.481748</td>\n",
       "      <td>135.796693</td>\n",
       "    </tr>\n",
       "  </tbody>\n",
       "</table>\n",
       "<p>96 rows × 15 columns</p>\n",
       "</div>"
      ],
      "text/plain": [
       "        sendTime  sender  receiver  pos_x_send   pos_y_send  spd_x_send  \\\n",
       "4   25212.602877       9        45  257.604242   141.917136   -2.409908   \n",
       "5   25213.602877       9        45  255.242943   156.206787   -2.566640   \n",
       "6   25214.602878       9        45  252.857751   170.495740   -2.342829   \n",
       "7   25215.602879       9        45  250.525544   184.832952   -2.352874   \n",
       "8   25216.602880       9        45  248.511212   199.166902   -2.079440   \n",
       "..           ...     ...       ...         ...          ...         ...   \n",
       "94  25291.602880       9       225  134.821280  1024.506204   -0.602227   \n",
       "65  25291.602880       9       147  134.821280  1024.506204   -0.602227   \n",
       "91  25292.602869       9       219  134.539820  1030.197090   -0.270067   \n",
       "95  25292.602869       9       225  134.539820  1030.197090   -0.270067   \n",
       "66  25292.602870       9       147  134.539820  1030.197090   -0.270067   \n",
       "\n",
       "    spd_y_send  label   pos_x_rec    pos_y_rec  pos_x_rec_f  pos_y_rec_f  \\\n",
       "4    14.316189      0  265.540271    46.207434   268.539855    49.801087   \n",
       "5    14.210027      0  268.539855    49.801087   268.050977    55.331302   \n",
       "6    14.254332      0  268.050977    55.331302   270.113953    63.318293   \n",
       "7    14.315002      0  270.113953    63.318293   268.836896    72.915064   \n",
       "8    14.360857      0  268.836896    72.915064   267.267270    84.617270   \n",
       "..         ...    ...         ...          ...          ...          ...   \n",
       "94    8.137469      0  138.085770  1102.386398   138.801402  1096.647173   \n",
       "65    8.137469      0  147.593919   898.797866   147.021568   894.975244   \n",
       "91    3.653434      0  142.457918  1043.790636   143.221108  1033.675922   \n",
       "95    3.653434      0  138.801402  1096.647173   139.551488  1089.075886   \n",
       "66    3.653434      0  147.021568   894.975244   143.965279   889.590074   \n",
       "\n",
       "    nb_packets_sent  distRealSR1    distance  \n",
       "4                96     7.936029   96.038156  \n",
       "5                96    13.296912  107.233302  \n",
       "6                96    15.193227  116.162309  \n",
       "7                96    19.588409  123.083379  \n",
       "8                96    20.325683  127.877519  \n",
       "..              ...          ...         ...  \n",
       "94               96     3.264490   77.948582  \n",
       "65               96    12.772639  126.355556  \n",
       "91               96     7.918098   15.731521  \n",
       "95               96     4.261582   66.586594  \n",
       "66               96    12.481748  135.796693  \n",
       "\n",
       "[96 rows x 15 columns]"
      ]
     },
     "execution_count": 7,
     "metadata": {},
     "output_type": "execute_result"
    }
   ],
   "source": [
    "df.loc[df['sender'] == senders[0]].sort_values(\"sendTime\")"
   ]
  },
  {
   "cell_type": "code",
   "execution_count": 8,
   "metadata": {},
   "outputs": [],
   "source": [
    "# Copie de la bdd pour récuperer les colonnes sans impacter la vraie base de données\n",
    "\n",
    "data_copy = df.copy()\n",
    "data_copy = data_copy.drop([\"label\"], axis=1)\n",
    "\n",
    "columns = data_copy.columns"
   ]
  },
  {
   "attachments": {},
   "cell_type": "markdown",
   "metadata": {},
   "source": [
    "Amélioration à faire :\n",
    "\n",
    "Séléctionner seulement les sender avec value_counts > 20"
   ]
  },
  {
   "attachments": {},
   "cell_type": "markdown",
   "metadata": {},
   "source": [
    "Séparation de la base de données : diviser pour régner"
   ]
  },
  {
   "cell_type": "code",
   "execution_count": 9,
   "metadata": {},
   "outputs": [],
   "source": [
    "# /!\\ attention à bien utiliser la base de données rangée par sender pour limiter la perte de données\n",
    "# Indice égal à 0, 1 ou 2\n",
    "# Célia = 0\n",
    "# Chléo = 1\n",
    "# Thomas = 2\n",
    "\n",
    "def split_data_in_3(df, indice):\n",
    "    # Division de la bdd en 3\n",
    "    split_data = np.array_split(df,3)\n",
    "\n",
    "    # Division en plusieurs sous-bdd pour diminuer le temps de calcul par exécution\n",
    "    #divided_data = np.array_split(split_data[indice],50)\n",
    "\n",
    "    return split_data"
   ]
  },
  {
   "attachments": {},
   "cell_type": "markdown",
   "metadata": {},
   "source": [
    "/!\\ à bien changer l'indice !!"
   ]
  },
  {
   "cell_type": "code",
   "execution_count": 10,
   "metadata": {},
   "outputs": [],
   "source": [
    "divided_dataframes = split_data_in_3(df.sort_values(\"sender\"),0)"
   ]
  },
  {
   "cell_type": "code",
   "execution_count": 11,
   "metadata": {},
   "outputs": [
    {
     "data": {
      "text/plain": [
       "3"
      ]
     },
     "execution_count": 11,
     "metadata": {},
     "output_type": "execute_result"
    }
   ],
   "source": [
    "len(divided_dataframes)"
   ]
  },
  {
   "cell_type": "code",
   "execution_count": null,
   "metadata": {},
   "outputs": [],
   "source": [
    "sequence = (df.loc[df['sender'] == senders[0]].sort_values(\"sendTime\"))[0:20]\n",
    "sequence.values.tolist()"
   ]
  },
  {
   "cell_type": "code",
   "execution_count": 13,
   "metadata": {},
   "outputs": [
    {
     "data": {
      "text/plain": [
       "0"
      ]
     },
     "execution_count": 13,
     "metadata": {},
     "output_type": "execute_result"
    }
   ],
   "source": [
    "df.loc[df['receiver'] == senders[0]]['label'].tolist()[0]"
   ]
  },
  {
   "attachments": {},
   "cell_type": "markdown",
   "metadata": {},
   "source": [
    "Création des séquences"
   ]
  },
  {
   "cell_type": "code",
   "execution_count": 14,
   "metadata": {},
   "outputs": [],
   "source": [
    "def sequence_creation(df):\n",
    "    senders_sequences = []\n",
    "    senders_label = []\n",
    "    for sender in senders:\n",
    "        sender_data_sorted = df.loc[df['sender'] == sender].sort_values(\"sendTime\")\n",
    "        sender_data_sorted = sender_data_sorted.drop([\"label\",\"sender\"], axis=1)\n",
    "        sequence_array = []\n",
    "\n",
    "        length = df.loc[df['receiver'] == sender].shape[0]\n",
    "        slide = 10\n",
    "        start = 0\n",
    "        end = 20\n",
    "\n",
    "        # On récupère la valeur du label pour ce sender\n",
    "        label = df.loc[df['receiver'] == senders[0]]['label'].tolist()[0]\n",
    "        if (length > 20):\n",
    "            senders_label.append(label)\n",
    "\n",
    "        # On vérifie qu'il est possible de faire une séquence de taille 20\n",
    "        while length > 20:\n",
    "            # Extraction par tranche de 20 avec une inter de 10\n",
    "            sequence = sender_data_sorted[start:end]\n",
    "\n",
    "            # Labels correspondant\n",
    "            #labels =  pd.Series.tolist(sequence[\"label\"])\n",
    "\n",
    "            # On transforme les 13 en 1, cette formule marche toujours si on met d'autres types d'attaques\n",
    "            #labels[:] = [x if x == 0 else 1 for x in labels]\n",
    "\n",
    "            # Attribution des tableaux numpy\n",
    "            sequence_array.append(sequence.values.tolist())\n",
    "            #label_array.append(labels)\n",
    "\n",
    "            # Mise à jour des variables\n",
    "            start += slide\n",
    "            end += slide\n",
    "            length -= 10\n",
    "        \n",
    "        if len(sequence_array)>0:\n",
    "            senders_sequences.append(sequence_array)\n",
    "\n",
    "    return senders_sequences, senders_label"
   ]
  },
  {
   "attachments": {},
   "cell_type": "markdown",
   "metadata": {},
   "source": [
    "/!\\ à bien changer l'indice !!"
   ]
  },
  {
   "cell_type": "code",
   "execution_count": 15,
   "metadata": {},
   "outputs": [],
   "source": [
    "sequence_test, label_test = sequence_creation(divided_dataframes[0])"
   ]
  },
  {
   "attachments": {},
   "cell_type": "markdown",
   "metadata": {},
   "source": [
    "Vérification des séquences obtenues"
   ]
  },
  {
   "cell_type": "code",
   "execution_count": 156,
   "metadata": {},
   "outputs": [
    {
     "data": {
      "text/plain": [
       "1699"
      ]
     },
     "execution_count": 156,
     "metadata": {},
     "output_type": "execute_result"
    }
   ],
   "source": [
    "len(sequence_test)"
   ]
  },
  {
   "attachments": {},
   "cell_type": "markdown",
   "metadata": {},
   "source": [
    "Test RNN"
   ]
  },
  {
   "cell_type": "code",
   "execution_count": 17,
   "metadata": {},
   "outputs": [],
   "source": [
    "import pandas as pd\n",
    "import numpy as np\n",
    "from tensorflow import keras\n",
    "from keras import layers, applications, utils, models, optimizers, Input, callbacks\n",
    "from keras.models import Sequential\n",
    "from keras.layers import Dense, SimpleRNN\n",
    "from sklearn.preprocessing import MinMaxScaler\n",
    "from sklearn.metrics import mean_squared_error\n",
    "import math\n",
    "import matplotlib.pyplot as plt\n",
    "from sklearn.model_selection import train_test_split\n",
    "from sklearn.metrics import confusion_matrix, classification_report\n",
    "import seaborn as sns"
   ]
  },
  {
   "cell_type": "code",
   "execution_count": 157,
   "metadata": {},
   "outputs": [],
   "source": [
    "# Transformation en array numpy\n",
    "X = sequence_test\n",
    "y = np.array(label_test)"
   ]
  },
  {
   "cell_type": "code",
   "execution_count": 158,
   "metadata": {},
   "outputs": [],
   "source": [
    "# Séparation en données d'entrainement et de test\n",
    "X_train, X_test, y_train, y_test = train_test_split(X, y, test_size=0.1)"
   ]
  },
  {
   "cell_type": "code",
   "execution_count": 161,
   "metadata": {},
   "outputs": [
    {
     "name": "stdout",
     "output_type": "stream",
     "text": [
      "y_train :  (1529,)\n",
      "y_test :  (170,)\n"
     ]
    }
   ],
   "source": [
    "# print(\"X_train : \", X_train.shape)\n",
    "print(\"y_train : \", y_train.shape)\n",
    "# print(\"X_test : \", X_test.shape)\n",
    "print(\"y_test : \", y_test.shape)"
   ]
  },
  {
   "cell_type": "code",
   "execution_count": 117,
   "metadata": {},
   "outputs": [],
   "source": [
    "X_flat = [item for sitem in X_train[:1][0] for item in sitem]\n",
    "# print(X_flat[:20])\n"
   ]
  },
  {
   "cell_type": "code",
   "execution_count": 167,
   "metadata": {},
   "outputs": [],
   "source": [
    "# X_train = np.asarray(X_train[:20])\n",
    "X_train = np.asarray(X_flat[:1000])\n",
    "y_train = np.asarray(y_train[:1000])"
   ]
  },
  {
   "cell_type": "code",
   "execution_count": null,
   "metadata": {},
   "outputs": [],
   "source": [
    "print(X_train)"
   ]
  },
  {
   "cell_type": "code",
   "execution_count": 168,
   "metadata": {},
   "outputs": [
    {
     "data": {
      "text/plain": [
       "1000"
      ]
     },
     "execution_count": 168,
     "metadata": {},
     "output_type": "execute_result"
    }
   ],
   "source": [
    "len(X_train)"
   ]
  },
  {
   "cell_type": "code",
   "execution_count": 169,
   "metadata": {},
   "outputs": [],
   "source": [
    "simple_model = keras.Sequential([\n",
    "    layers.Dense(32,input_shape=(len(X_train[0]),), activation='relu'),\n",
    "    layers.BatchNormalization(),\n",
    "    layers.Dense(512, activation='relu'),\n",
    "    layers.BatchNormalization(),\n",
    "    layers.Dense(128, activation='relu'),\n",
    "    layers.Dense(1, activation='sigmoid')\n",
    "])"
   ]
  },
  {
   "cell_type": "code",
   "execution_count": 170,
   "metadata": {},
   "outputs": [],
   "source": [
    "callback = keras.callbacks.EarlyStopping(monitor='val_accuracy', patience=5, restore_best_weights=True)"
   ]
  },
  {
   "cell_type": "code",
   "execution_count": 171,
   "metadata": {},
   "outputs": [],
   "source": [
    "opt = keras.optimizers.SGD(learning_rate=0.1)\n",
    "simple_model.compile(loss='mean_squared_error', optimizer='adam', metrics='accuracy')"
   ]
  },
  {
   "cell_type": "code",
   "execution_count": 172,
   "metadata": {},
   "outputs": [
    {
     "name": "stdout",
     "output_type": "stream",
     "text": [
      "Epoch 1/10\n",
      "8/8 - 2s - loss: 0.0949 - accuracy: 0.8590 - 2s/epoch - 238ms/step\n",
      "Epoch 2/10\n",
      "8/8 - 0s - loss: 9.3010e-05 - accuracy: 1.0000 - 29ms/epoch - 4ms/step\n",
      "Epoch 3/10\n",
      "8/8 - 0s - loss: 1.4270e-05 - accuracy: 1.0000 - 28ms/epoch - 3ms/step\n",
      "Epoch 4/10\n",
      "8/8 - 0s - loss: 6.8008e-06 - accuracy: 1.0000 - 31ms/epoch - 4ms/step\n",
      "Epoch 5/10\n",
      "8/8 - 0s - loss: 5.6230e-06 - accuracy: 1.0000 - 27ms/epoch - 3ms/step\n",
      "Epoch 6/10\n",
      "8/8 - 0s - loss: 3.7496e-06 - accuracy: 1.0000 - 25ms/epoch - 3ms/step\n",
      "Epoch 7/10\n",
      "8/8 - 0s - loss: 4.4411e-06 - accuracy: 1.0000 - 26ms/epoch - 3ms/step\n",
      "Epoch 8/10\n",
      "8/8 - 0s - loss: 3.7759e-06 - accuracy: 1.0000 - 33ms/epoch - 4ms/step\n",
      "Epoch 9/10\n",
      "8/8 - 0s - loss: 4.1812e-06 - accuracy: 1.0000 - 31ms/epoch - 4ms/step\n",
      "Epoch 10/10\n",
      "8/8 - 0s - loss: 3.2074e-06 - accuracy: 1.0000 - 31ms/epoch - 4ms/step\n"
     ]
    }
   ],
   "source": [
    "history = simple_model.fit(X_train, y_train, epochs=10, batch_size=128, verbose=2)"
   ]
  }
 ],
 "metadata": {
  "kernelspec": {
   "display_name": "cy",
   "language": "python",
   "name": "python3"
  },
  "language_info": {
   "codemirror_mode": {
    "name": "ipython",
    "version": 3
   },
   "file_extension": ".py",
   "mimetype": "text/x-python",
   "name": "python",
   "nbconvert_exporter": "python",
   "pygments_lexer": "ipython3",
   "version": "3.8.15"
  },
  "orig_nbformat": 4,
  "vscode": {
   "interpreter": {
    "hash": "62676a739a12458da1789023e3b8ff577b389322e46d1a1cbf9699674fd76d84"
   }
  }
 },
 "nbformat": 4,
 "nbformat_minor": 2
}

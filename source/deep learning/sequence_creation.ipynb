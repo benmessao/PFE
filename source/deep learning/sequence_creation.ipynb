{
 "cells": [
  {
   "cell_type": "code",
   "execution_count": 2,
   "metadata": {},
   "outputs": [],
   "source": [
    "import pandas as pd\n",
    "import numpy as np\n",
    "import sys\n",
    "sys.path.append('../src/')\n",
    "import dataset_prep"
   ]
  },
  {
   "attachments": {},
   "cell_type": "markdown",
   "metadata": {},
   "source": [
    "Import de la base de données"
   ]
  },
  {
   "cell_type": "code",
   "execution_count": 3,
   "metadata": {},
   "outputs": [],
   "source": [
    "selected_columns = [\n",
    "\"nb_packets_sent\",\n",
    "\"distance\",\n",
    "\"distRealSR1\",\n",
    "\"pos_y_rec_f\",\n",
    "\"pos_y_rec\",\n",
    "\"pos_x_rec_f\",\n",
    "\"pos_x_rec\",\n",
    "\"pos_x_send\",\n",
    "\"pos_y_send\",\n",
    "\"spd_x_send\",\n",
    "\"spd_y_send\",\n",
    "\"sendTime\",\n",
    "\"receiver\",\n",
    "\"sender\",\n",
    "\"label\"\n",
    "]"
   ]
  },
  {
   "cell_type": "code",
   "execution_count": 4,
   "metadata": {},
   "outputs": [],
   "source": [
    "df = dataset_prep.import_dataset('../data/DoS_0709_new_columns.csv', selected_columns)"
   ]
  },
  {
   "cell_type": "code",
   "execution_count": 5,
   "metadata": {},
   "outputs": [
    {
     "name": "stdout",
     "output_type": "stream",
     "text": [
      "Nombre de lignes avant nettoyage :  4753433\n",
      "Nombre de lignes après nettoyage :  4709293\n"
     ]
    }
   ],
   "source": [
    "dataset_prep.clean_dataset(df)"
   ]
  },
  {
   "attachments": {},
   "cell_type": "markdown",
   "metadata": {},
   "source": [
    "Analyse et vérification des données"
   ]
  },
  {
   "cell_type": "code",
   "execution_count": 6,
   "metadata": {},
   "outputs": [
    {
     "data": {
      "text/plain": [
       "array([    9,    15,    21, ..., 24399, 24405, 24411], dtype=int64)"
      ]
     },
     "execution_count": 6,
     "metadata": {},
     "output_type": "execute_result"
    }
   ],
   "source": [
    "senders = np.unique(df[\"sender\"].values)\n",
    "senders"
   ]
  },
  {
   "cell_type": "code",
   "execution_count": 7,
   "metadata": {},
   "outputs": [
    {
     "name": "stdout",
     "output_type": "stream",
     "text": [
      "4067\n"
     ]
    }
   ],
   "source": [
    "print(len(senders))"
   ]
  },
  {
   "cell_type": "code",
   "execution_count": 8,
   "metadata": {},
   "outputs": [
    {
     "data": {
      "text/html": [
       "<div>\n",
       "<style scoped>\n",
       "    .dataframe tbody tr th:only-of-type {\n",
       "        vertical-align: middle;\n",
       "    }\n",
       "\n",
       "    .dataframe tbody tr th {\n",
       "        vertical-align: top;\n",
       "    }\n",
       "\n",
       "    .dataframe thead th {\n",
       "        text-align: right;\n",
       "    }\n",
       "</style>\n",
       "<table border=\"1\" class=\"dataframe\">\n",
       "  <thead>\n",
       "    <tr style=\"text-align: right;\">\n",
       "      <th></th>\n",
       "      <th>sendTime</th>\n",
       "      <th>sender</th>\n",
       "      <th>receiver</th>\n",
       "      <th>pos_x_send</th>\n",
       "      <th>pos_y_send</th>\n",
       "      <th>spd_x_send</th>\n",
       "      <th>spd_y_send</th>\n",
       "      <th>label</th>\n",
       "      <th>pos_x_rec</th>\n",
       "      <th>pos_y_rec</th>\n",
       "      <th>pos_x_rec_f</th>\n",
       "      <th>pos_y_rec_f</th>\n",
       "      <th>nb_packets_sent</th>\n",
       "      <th>distRealSR1</th>\n",
       "      <th>distance</th>\n",
       "    </tr>\n",
       "  </thead>\n",
       "  <tbody>\n",
       "    <tr>\n",
       "      <th>4</th>\n",
       "      <td>25212.602877</td>\n",
       "      <td>9</td>\n",
       "      <td>45</td>\n",
       "      <td>257.604242</td>\n",
       "      <td>141.917136</td>\n",
       "      <td>-2.409908</td>\n",
       "      <td>14.316189</td>\n",
       "      <td>0</td>\n",
       "      <td>265.540271</td>\n",
       "      <td>46.207434</td>\n",
       "      <td>268.539855</td>\n",
       "      <td>49.801087</td>\n",
       "      <td>96</td>\n",
       "      <td>7.936029</td>\n",
       "      <td>96.038156</td>\n",
       "    </tr>\n",
       "    <tr>\n",
       "      <th>5</th>\n",
       "      <td>25213.602877</td>\n",
       "      <td>9</td>\n",
       "      <td>45</td>\n",
       "      <td>255.242943</td>\n",
       "      <td>156.206787</td>\n",
       "      <td>-2.566640</td>\n",
       "      <td>14.210027</td>\n",
       "      <td>0</td>\n",
       "      <td>268.539855</td>\n",
       "      <td>49.801087</td>\n",
       "      <td>268.050977</td>\n",
       "      <td>55.331302</td>\n",
       "      <td>96</td>\n",
       "      <td>13.296912</td>\n",
       "      <td>107.233302</td>\n",
       "    </tr>\n",
       "    <tr>\n",
       "      <th>6</th>\n",
       "      <td>25214.602878</td>\n",
       "      <td>9</td>\n",
       "      <td>45</td>\n",
       "      <td>252.857751</td>\n",
       "      <td>170.495740</td>\n",
       "      <td>-2.342829</td>\n",
       "      <td>14.254332</td>\n",
       "      <td>0</td>\n",
       "      <td>268.050977</td>\n",
       "      <td>55.331302</td>\n",
       "      <td>270.113953</td>\n",
       "      <td>63.318293</td>\n",
       "      <td>96</td>\n",
       "      <td>15.193227</td>\n",
       "      <td>116.162309</td>\n",
       "    </tr>\n",
       "    <tr>\n",
       "      <th>7</th>\n",
       "      <td>25215.602879</td>\n",
       "      <td>9</td>\n",
       "      <td>45</td>\n",
       "      <td>250.525544</td>\n",
       "      <td>184.832952</td>\n",
       "      <td>-2.352874</td>\n",
       "      <td>14.315002</td>\n",
       "      <td>0</td>\n",
       "      <td>270.113953</td>\n",
       "      <td>63.318293</td>\n",
       "      <td>268.836896</td>\n",
       "      <td>72.915064</td>\n",
       "      <td>96</td>\n",
       "      <td>19.588409</td>\n",
       "      <td>123.083379</td>\n",
       "    </tr>\n",
       "    <tr>\n",
       "      <th>8</th>\n",
       "      <td>25216.602880</td>\n",
       "      <td>9</td>\n",
       "      <td>45</td>\n",
       "      <td>248.511212</td>\n",
       "      <td>199.166902</td>\n",
       "      <td>-2.079440</td>\n",
       "      <td>14.360857</td>\n",
       "      <td>0</td>\n",
       "      <td>268.836896</td>\n",
       "      <td>72.915064</td>\n",
       "      <td>267.267270</td>\n",
       "      <td>84.617270</td>\n",
       "      <td>96</td>\n",
       "      <td>20.325683</td>\n",
       "      <td>127.877519</td>\n",
       "    </tr>\n",
       "    <tr>\n",
       "      <th>...</th>\n",
       "      <td>...</td>\n",
       "      <td>...</td>\n",
       "      <td>...</td>\n",
       "      <td>...</td>\n",
       "      <td>...</td>\n",
       "      <td>...</td>\n",
       "      <td>...</td>\n",
       "      <td>...</td>\n",
       "      <td>...</td>\n",
       "      <td>...</td>\n",
       "      <td>...</td>\n",
       "      <td>...</td>\n",
       "      <td>...</td>\n",
       "      <td>...</td>\n",
       "      <td>...</td>\n",
       "    </tr>\n",
       "    <tr>\n",
       "      <th>94</th>\n",
       "      <td>25291.602880</td>\n",
       "      <td>9</td>\n",
       "      <td>225</td>\n",
       "      <td>134.821280</td>\n",
       "      <td>1024.506204</td>\n",
       "      <td>-0.602227</td>\n",
       "      <td>8.137469</td>\n",
       "      <td>0</td>\n",
       "      <td>138.085770</td>\n",
       "      <td>1102.386398</td>\n",
       "      <td>138.801402</td>\n",
       "      <td>1096.647173</td>\n",
       "      <td>96</td>\n",
       "      <td>3.264490</td>\n",
       "      <td>77.948582</td>\n",
       "    </tr>\n",
       "    <tr>\n",
       "      <th>65</th>\n",
       "      <td>25291.602880</td>\n",
       "      <td>9</td>\n",
       "      <td>147</td>\n",
       "      <td>134.821280</td>\n",
       "      <td>1024.506204</td>\n",
       "      <td>-0.602227</td>\n",
       "      <td>8.137469</td>\n",
       "      <td>0</td>\n",
       "      <td>147.593919</td>\n",
       "      <td>898.797866</td>\n",
       "      <td>147.021568</td>\n",
       "      <td>894.975244</td>\n",
       "      <td>96</td>\n",
       "      <td>12.772639</td>\n",
       "      <td>126.355556</td>\n",
       "    </tr>\n",
       "    <tr>\n",
       "      <th>91</th>\n",
       "      <td>25292.602869</td>\n",
       "      <td>9</td>\n",
       "      <td>219</td>\n",
       "      <td>134.539820</td>\n",
       "      <td>1030.197090</td>\n",
       "      <td>-0.270067</td>\n",
       "      <td>3.653434</td>\n",
       "      <td>0</td>\n",
       "      <td>142.457918</td>\n",
       "      <td>1043.790636</td>\n",
       "      <td>143.221108</td>\n",
       "      <td>1033.675922</td>\n",
       "      <td>96</td>\n",
       "      <td>7.918098</td>\n",
       "      <td>15.731521</td>\n",
       "    </tr>\n",
       "    <tr>\n",
       "      <th>95</th>\n",
       "      <td>25292.602869</td>\n",
       "      <td>9</td>\n",
       "      <td>225</td>\n",
       "      <td>134.539820</td>\n",
       "      <td>1030.197090</td>\n",
       "      <td>-0.270067</td>\n",
       "      <td>3.653434</td>\n",
       "      <td>0</td>\n",
       "      <td>138.801402</td>\n",
       "      <td>1096.647173</td>\n",
       "      <td>139.551488</td>\n",
       "      <td>1089.075886</td>\n",
       "      <td>96</td>\n",
       "      <td>4.261582</td>\n",
       "      <td>66.586594</td>\n",
       "    </tr>\n",
       "    <tr>\n",
       "      <th>66</th>\n",
       "      <td>25292.602870</td>\n",
       "      <td>9</td>\n",
       "      <td>147</td>\n",
       "      <td>134.539820</td>\n",
       "      <td>1030.197090</td>\n",
       "      <td>-0.270067</td>\n",
       "      <td>3.653434</td>\n",
       "      <td>0</td>\n",
       "      <td>147.021568</td>\n",
       "      <td>894.975244</td>\n",
       "      <td>143.965279</td>\n",
       "      <td>889.590074</td>\n",
       "      <td>96</td>\n",
       "      <td>12.481748</td>\n",
       "      <td>135.796693</td>\n",
       "    </tr>\n",
       "  </tbody>\n",
       "</table>\n",
       "<p>96 rows × 15 columns</p>\n",
       "</div>"
      ],
      "text/plain": [
       "        sendTime  sender  receiver  pos_x_send   pos_y_send  spd_x_send  \\\n",
       "4   25212.602877       9        45  257.604242   141.917136   -2.409908   \n",
       "5   25213.602877       9        45  255.242943   156.206787   -2.566640   \n",
       "6   25214.602878       9        45  252.857751   170.495740   -2.342829   \n",
       "7   25215.602879       9        45  250.525544   184.832952   -2.352874   \n",
       "8   25216.602880       9        45  248.511212   199.166902   -2.079440   \n",
       "..           ...     ...       ...         ...          ...         ...   \n",
       "94  25291.602880       9       225  134.821280  1024.506204   -0.602227   \n",
       "65  25291.602880       9       147  134.821280  1024.506204   -0.602227   \n",
       "91  25292.602869       9       219  134.539820  1030.197090   -0.270067   \n",
       "95  25292.602869       9       225  134.539820  1030.197090   -0.270067   \n",
       "66  25292.602870       9       147  134.539820  1030.197090   -0.270067   \n",
       "\n",
       "    spd_y_send  label   pos_x_rec    pos_y_rec  pos_x_rec_f  pos_y_rec_f  \\\n",
       "4    14.316189      0  265.540271    46.207434   268.539855    49.801087   \n",
       "5    14.210027      0  268.539855    49.801087   268.050977    55.331302   \n",
       "6    14.254332      0  268.050977    55.331302   270.113953    63.318293   \n",
       "7    14.315002      0  270.113953    63.318293   268.836896    72.915064   \n",
       "8    14.360857      0  268.836896    72.915064   267.267270    84.617270   \n",
       "..         ...    ...         ...          ...          ...          ...   \n",
       "94    8.137469      0  138.085770  1102.386398   138.801402  1096.647173   \n",
       "65    8.137469      0  147.593919   898.797866   147.021568   894.975244   \n",
       "91    3.653434      0  142.457918  1043.790636   143.221108  1033.675922   \n",
       "95    3.653434      0  138.801402  1096.647173   139.551488  1089.075886   \n",
       "66    3.653434      0  147.021568   894.975244   143.965279   889.590074   \n",
       "\n",
       "    nb_packets_sent  distRealSR1    distance  \n",
       "4                96     7.936029   96.038156  \n",
       "5                96    13.296912  107.233302  \n",
       "6                96    15.193227  116.162309  \n",
       "7                96    19.588409  123.083379  \n",
       "8                96    20.325683  127.877519  \n",
       "..              ...          ...         ...  \n",
       "94               96     3.264490   77.948582  \n",
       "65               96    12.772639  126.355556  \n",
       "91               96     7.918098   15.731521  \n",
       "95               96     4.261582   66.586594  \n",
       "66               96    12.481748  135.796693  \n",
       "\n",
       "[96 rows x 15 columns]"
      ]
     },
     "execution_count": 8,
     "metadata": {},
     "output_type": "execute_result"
    }
   ],
   "source": [
    "df.loc[df['sender'] == senders[0]].sort_values(\"sendTime\")"
   ]
  },
  {
   "cell_type": "code",
   "execution_count": 9,
   "metadata": {},
   "outputs": [],
   "source": [
    "# Copie de la bdd pour récuperer les colonnes sans impacter la vraie base de données\n",
    "\n",
    "data_copy = df.copy()\n",
    "data_copy = data_copy.drop([\"label\"], axis=1)\n",
    "\n",
    "columns = data_copy.columns"
   ]
  },
  {
   "attachments": {},
   "cell_type": "markdown",
   "metadata": {},
   "source": [
    "Amélioration à faire :\n",
    "\n",
    "Séléctionner seulement les sender avec value_counts > 20"
   ]
  },
  {
   "attachments": {},
   "cell_type": "markdown",
   "metadata": {},
   "source": [
    "Séparation de la base de données : diviser pour régner"
   ]
  },
  {
   "cell_type": "code",
   "execution_count": 10,
   "metadata": {},
   "outputs": [],
   "source": [
    "# /!\\ attention à bien utiliser la base de données rangée par sender pour limiter la perte de données\n",
    "# Indice égal à 0, 1 ou 2\n",
    "# Célia = 0\n",
    "# Chléo = 1\n",
    "# Thomas = 2\n",
    "\n",
    "def split_data_in_3(df, indice):\n",
    "    # Division de la bdd en 3\n",
    "    split_data = np.array_split(df,3)\n",
    "\n",
    "    # Division en plusieurs sous-bdd pour diminuer le temps de calcul par exécution\n",
    "    #divided_data = np.array_split(split_data[indice],50)\n",
    "\n",
    "    return split_data"
   ]
  },
  {
   "attachments": {},
   "cell_type": "markdown",
   "metadata": {},
   "source": [
    "/!\\ à bien changer l'indice !!"
   ]
  },
  {
   "cell_type": "code",
   "execution_count": 11,
   "metadata": {},
   "outputs": [],
   "source": [
    "divided_dataframes = split_data_in_3(df.sort_values(\"sender\"),0)"
   ]
  },
  {
   "cell_type": "code",
   "execution_count": 12,
   "metadata": {},
   "outputs": [
    {
     "data": {
      "text/plain": [
       "3"
      ]
     },
     "execution_count": 12,
     "metadata": {},
     "output_type": "execute_result"
    }
   ],
   "source": [
    "len(divided_dataframes)"
   ]
  },
  {
   "cell_type": "code",
   "execution_count": null,
   "metadata": {},
   "outputs": [],
   "source": [
    "sequence = (df.loc[df['sender'] == senders[0]].sort_values(\"sendTime\"))[0:20]\n",
    "sequence.values.tolist()"
   ]
  },
  {
   "cell_type": "code",
   "execution_count": 19,
   "metadata": {},
   "outputs": [
    {
     "data": {
      "text/plain": [
       "0"
      ]
     },
     "execution_count": 19,
     "metadata": {},
     "output_type": "execute_result"
    }
   ],
   "source": [
    "df.loc[df['receiver'] == senders[0]]['label'].tolist()[0]"
   ]
  },
  {
   "attachments": {},
   "cell_type": "markdown",
   "metadata": {},
   "source": [
    "Création des séquences"
   ]
  },
  {
   "cell_type": "code",
   "execution_count": 54,
   "metadata": {},
   "outputs": [],
   "source": [
    "def sequence_creation(df):\n",
    "    senders_sequences = []\n",
    "    senders_label = []\n",
    "    for sender in senders:\n",
    "        sender_data_sorted = df.loc[df['sender'] == sender].sort_values(\"sendTime\")\n",
    "        sender_data_sorted = sender_data_sorted.drop([\"label\",\"sender\"], axis=1)\n",
    "        sequence_array = []\n",
    "\n",
    "        length = df.loc[df['receiver'] == sender].shape[0]\n",
    "        slide = 10\n",
    "        start = 0\n",
    "        end = 20\n",
    "\n",
    "        # On récupère la valeur du label pour ce sender\n",
    "        label = df.loc[df['receiver'] == senders[0]]['label'].tolist()[0]\n",
    "        if (length > 20):\n",
    "            senders_label.append(label)\n",
    "\n",
    "        # On vérifie qu'il est possible de faire une séquence de taille 20\n",
    "        while length > 20:\n",
    "            # Extraction par tranche de 20 avec une inter de 10\n",
    "            sequence = sender_data_sorted[start:end]\n",
    "\n",
    "            # Labels correspondant\n",
    "            #labels =  pd.Series.tolist(sequence[\"label\"])\n",
    "\n",
    "            # On transforme les 13 en 1, cette formule marche toujours si on met d'autres types d'attaques\n",
    "            #labels[:] = [x if x == 0 else 1 for x in labels]\n",
    "\n",
    "            # Attribution des tableaux numpy\n",
    "            sequence_array.append(np.array(sequence.values.tolist()))\n",
    "            #label_array.append(labels)\n",
    "\n",
    "            # Mise à jour des variables\n",
    "            start += slide\n",
    "            end += slide\n",
    "            length -= 10\n",
    "        \n",
    "        if len(sequence_array)>0:\n",
    "            senders_sequences.append(np.array(sequence_array,dtype=object))\n",
    "\n",
    "    \n",
    "    return senders_sequences, senders_label"
   ]
  },
  {
   "attachments": {},
   "cell_type": "markdown",
   "metadata": {},
   "source": [
    "/!\\ à bien changer l'indice !!"
   ]
  },
  {
   "cell_type": "code",
   "execution_count": 55,
   "metadata": {},
   "outputs": [],
   "source": [
    "sequence_test, label_test = sequence_creation(divided_dataframes[0])"
   ]
  },
  {
   "attachments": {},
   "cell_type": "markdown",
   "metadata": {},
   "source": [
    "Vérification des séquences obtenues"
   ]
  },
  {
   "cell_type": "code",
   "execution_count": 56,
   "metadata": {},
   "outputs": [
    {
     "data": {
      "text/plain": [
       "1699"
      ]
     },
     "execution_count": 56,
     "metadata": {},
     "output_type": "execute_result"
    }
   ],
   "source": [
    "len(sequence_test)"
   ]
  },
  {
   "attachments": {},
   "cell_type": "markdown",
   "metadata": {},
   "source": [
    "Test RNN"
   ]
  },
  {
   "cell_type": "code",
   "execution_count": 57,
   "metadata": {},
   "outputs": [],
   "source": [
    "import pandas as pd\n",
    "import numpy as np\n",
    "from tensorflow import keras\n",
    "from keras import layers, applications, utils, models, optimizers, Input, callbacks\n",
    "from keras.models import Sequential\n",
    "from keras.layers import Dense, SimpleRNN\n",
    "from sklearn.preprocessing import MinMaxScaler\n",
    "from sklearn.metrics import mean_squared_error\n",
    "import math\n",
    "import matplotlib.pyplot as plt\n",
    "from sklearn.model_selection import train_test_split\n",
    "from sklearn.metrics import confusion_matrix, classification_report\n",
    "import seaborn as sns"
   ]
  },
  {
   "cell_type": "code",
   "execution_count": 58,
   "metadata": {},
   "outputs": [],
   "source": [
    "# Transformation en array numpy\n",
    "X = np.array(sequence_test, dtype=object)\n",
    "y = np.array(label_test)"
   ]
  },
  {
   "cell_type": "code",
   "execution_count": 59,
   "metadata": {},
   "outputs": [],
   "source": [
    "# Séparation en données d'entrainement et de test\n",
    "X_train, X_test, y_train, y_test = train_test_split(X, y, test_size=0.1)"
   ]
  },
  {
   "cell_type": "code",
   "execution_count": 60,
   "metadata": {},
   "outputs": [
    {
     "name": "stdout",
     "output_type": "stream",
     "text": [
      "X_train :  (1529,)\n",
      "y_train :  (1529,)\n",
      "X_test :  (170,)\n",
      "y_test :  (170,)\n"
     ]
    }
   ],
   "source": [
    "print(\"X_train : \", X_train.shape)\n",
    "print(\"y_train : \", y_train.shape)\n",
    "print(\"X_test : \", X_test.shape)\n",
    "print(\"y_test : \", y_test.shape)"
   ]
  },
  {
   "cell_type": "code",
   "execution_count": 61,
   "metadata": {},
   "outputs": [
    {
     "name": "stdout",
     "output_type": "stream",
     "text": [
      "[[[27121.969094794247 4917.0 1373.2119182717809 ... 954.0\n",
      "   -12.440086090813566 84.42763607490258]\n",
      "  [27121.96909531849 5175.0 1373.2119182717809 ... 954.0\n",
      "   -3.1803472539547784 243.43490109614]\n",
      "  [27121.96909539119 5211.0 1373.2119182717809 ... 954.0\n",
      "   -17.51792900570763 265.75989952873897]\n",
      "  ...\n",
      "  [27124.469098476296 4917.0 1371.1030560822553 ... 954.0\n",
      "   -14.547784986708166 39.30538446919152]\n",
      "  [27124.46909899692 5175.0 1371.1030560822553 ... 954.0\n",
      "   12.227213146410804 196.21466157791727]\n",
      "  [27124.46909906657 5211.0 1371.1030560822553 ... 954.0\n",
      "   1.7189965199670496 217.21664653796012]]\n",
      "\n",
      " [[27123.46908939993 5175.0 1372.1466056957927 ... 954.0\n",
      "   7.455184725423123 213.8924148382509]\n",
      "  [27123.46908947045 5211.0 1372.1466056957927 ... 954.0\n",
      "   -4.34190462173251 235.29776170316305]\n",
      "  [27123.46908991133 5013.0 1372.1466056957927 ... 954.0\n",
      "   -78.124242601775 366.89367059308375]\n",
      "  ...\n",
      "  [27125.469091651805 5211.0 1369.826866125063 ... 954.0\n",
      "   7.831952914466456 197.11973227438637]\n",
      "  [27125.469092087507 5013.0 1369.826866125063 ... 954.0\n",
      "   -59.37819704889603 328.112016011918]\n",
      "  [27125.96909743744 4917.0 1369.826866125063 ... 954.0\n",
      "   -11.594285577903747 20.36747884218865]]\n",
      "\n",
      " [[27124.46909950452 5013.0 1371.1030560822553 ... 954.0\n",
      "   -68.21296166139336 348.9102163098884]\n",
      "  [27124.969087792862 4917.0 1371.1030560822553 ... 954.0\n",
      "   -14.547784986708166 39.30538446919152]\n",
      "  [27124.969088311784 5175.0 1371.1030560822553 ... 954.0\n",
      "   12.227213146410804 196.21466157791727]\n",
      "  ...\n",
      "  [27126.96909437211 4917.0 1368.0340838213092 ... 954.0\n",
      "   -8.060273518847907 8.277205658275058]\n",
      "  [27126.969094748543 5175.0 1368.0340838213092 ... 954.0\n",
      "   19.983969769007672 154.47268910638982]\n",
      "  [27126.96909481515 5211.0 1368.0340838213092 ... 954.0\n",
      "   13.193011382667237 174.83934610852145]]\n",
      "\n",
      " ...\n",
      "\n",
      " [[27194.969100127026 5631.0 835.5840296059959 ... 954.0\n",
      "   95.37311402180978 130.78985407293874]\n",
      "  [27194.96910048948 5547.0 835.5840296059959 ... 954.0\n",
      "   -196.98631027356635 230.82966330554075]\n",
      "  [27195.469094952496 5631.0 844.188252416666 ... 954.0 87.8901468664476\n",
      "   126.2997463227268]\n",
      "  ...\n",
      "  [27198.96908847893 5547.0 875.67367450657 ... 954.0\n",
      "   -205.72192042433997 258.1151914921103]\n",
      "  [27198.96908875872 5763.0 875.67367450657 ... 954.0 265.136994827174\n",
      "   370.7062015107349]\n",
      "  [27199.46909764687 5523.0 886.1779396600738 ... 954.0\n",
      "   181.8176029947532 249.5654779453546]]\n",
      "\n",
      " [[27197.969096322704 5547.0 865.1177165308668 ... 954.0\n",
      "   -205.5288860261594 256.644996217482]\n",
      "  [27197.969096406072 5523.0 865.1177165308668 ... 954.0\n",
      "   204.85758029929752 295.76317548197386]\n",
      "  [27197.969096700035 5763.0 865.1177165308668 ... 954.0\n",
      "   287.0024811890778 401.35336086714]\n",
      "  ...\n",
      "  [27200.469089307247 5523.0 896.3178275718375 ... 954.0\n",
      "   162.70934566775702 222.10100300397391]\n",
      "  [27200.46908946636 5547.0 896.3178275718375 ... 954.0\n",
      "   -203.3150886994731 257.90706226370844]\n",
      "  [27200.46908959657 5763.0 896.3178275718375 ... 954.0\n",
      "   222.1865838428854 309.93315054172564]]\n",
      "\n",
      " [[27199.469097715104 5547.0 886.1779396600738 ... 954.0\n",
      "   -204.65611759047036 258.1133928143973]\n",
      "  [27199.46909794554 5763.0 886.1779396600738 ... 954.0\n",
      "   243.3946785596478 340.1337505780809]\n",
      "  [27199.969092763266 5541.0 886.1779396600738 ... 954.0\n",
      "   36.40834911355967 74.29529199825848]\n",
      "  ...\n",
      "  [27201.469094014952 5547.0 906.1701172061784 ... 954.0\n",
      "   -201.475964412817 257.35453105696]\n",
      "  [27201.469094046606 5763.0 906.1701172061784 ... 954.0\n",
      "   201.878144418794 280.00011177435374]\n",
      "  [27201.96908891577 5541.0 906.1701172061784 ... 954.0\n",
      "   19.51002848993369 35.66662162879676]]]\n"
     ]
    }
   ],
   "source": [
    "print(X_train[0])"
   ]
  },
  {
   "cell_type": "code",
   "execution_count": 62,
   "metadata": {},
   "outputs": [],
   "source": [
    "X_train = X_train[:20]\n",
    "y_train = y_train[:20]"
   ]
  },
  {
   "cell_type": "code",
   "execution_count": 63,
   "metadata": {},
   "outputs": [],
   "source": [
    "simple_model = keras.Sequential([\n",
    "    layers.Dense(32,input_shape=X_train.shape, activation='relu'),\n",
    "    layers.BatchNormalization(),\n",
    "    layers.Dense(512, activation='relu'),\n",
    "    layers.BatchNormalization(),\n",
    "    layers.Dense(128, activation='relu'),\n",
    "    layers.Dense(1, activation='sigmoid')\n",
    "])"
   ]
  },
  {
   "cell_type": "code",
   "execution_count": 64,
   "metadata": {},
   "outputs": [],
   "source": [
    "callback = keras.callbacks.EarlyStopping(monitor='val_accuracy', patience=5, restore_best_weights=True)"
   ]
  },
  {
   "cell_type": "code",
   "execution_count": 65,
   "metadata": {},
   "outputs": [],
   "source": [
    "opt = keras.optimizers.SGD(learning_rate=0.1)\n",
    "simple_model.compile(loss='mean_squared_error', optimizer='adam', metrics='accuracy')"
   ]
  },
  {
   "cell_type": "code",
   "execution_count": 66,
   "metadata": {},
   "outputs": [
    {
     "ename": "ValueError",
     "evalue": "Failed to convert a NumPy array to a Tensor (Unsupported object type numpy.ndarray).",
     "output_type": "error",
     "traceback": [
      "\u001b[1;31m---------------------------------------------------------------------------\u001b[0m",
      "\u001b[1;31mValueError\u001b[0m                                Traceback (most recent call last)",
      "\u001b[1;32mC:\\Users\\CYTECH~1\\AppData\\Local\\Temp/ipykernel_1644/3723633851.py\u001b[0m in \u001b[0;36m<module>\u001b[1;34m\u001b[0m\n\u001b[1;32m----> 1\u001b[1;33m \u001b[0mhistory\u001b[0m \u001b[1;33m=\u001b[0m \u001b[0msimple_model\u001b[0m\u001b[1;33m.\u001b[0m\u001b[0mfit\u001b[0m\u001b[1;33m(\u001b[0m\u001b[0mX_train\u001b[0m\u001b[1;33m,\u001b[0m \u001b[0my_train\u001b[0m\u001b[1;33m,\u001b[0m \u001b[0mepochs\u001b[0m\u001b[1;33m=\u001b[0m\u001b[1;36m10\u001b[0m\u001b[1;33m,\u001b[0m \u001b[0mbatch_size\u001b[0m\u001b[1;33m=\u001b[0m\u001b[1;36m128\u001b[0m\u001b[1;33m,\u001b[0m \u001b[0mverbose\u001b[0m\u001b[1;33m=\u001b[0m\u001b[1;36m2\u001b[0m\u001b[1;33m,\u001b[0m \u001b[0mvalidation_split\u001b[0m\u001b[1;33m=\u001b[0m\u001b[1;36m0.3\u001b[0m\u001b[1;33m)\u001b[0m\u001b[1;33m\u001b[0m\u001b[1;33m\u001b[0m\u001b[0m\n\u001b[0m",
      "\u001b[1;32m~\\AppData\\Roaming\\Python\\Python38\\site-packages\\keras\\utils\\traceback_utils.py\u001b[0m in \u001b[0;36merror_handler\u001b[1;34m(*args, **kwargs)\u001b[0m\n\u001b[0;32m     68\u001b[0m             \u001b[1;31m# To get the full stack trace, call:\u001b[0m\u001b[1;33m\u001b[0m\u001b[1;33m\u001b[0m\u001b[1;33m\u001b[0m\u001b[0m\n\u001b[0;32m     69\u001b[0m             \u001b[1;31m# `tf.debugging.disable_traceback_filtering()`\u001b[0m\u001b[1;33m\u001b[0m\u001b[1;33m\u001b[0m\u001b[1;33m\u001b[0m\u001b[0m\n\u001b[1;32m---> 70\u001b[1;33m             \u001b[1;32mraise\u001b[0m \u001b[0me\u001b[0m\u001b[1;33m.\u001b[0m\u001b[0mwith_traceback\u001b[0m\u001b[1;33m(\u001b[0m\u001b[0mfiltered_tb\u001b[0m\u001b[1;33m)\u001b[0m \u001b[1;32mfrom\u001b[0m \u001b[1;32mNone\u001b[0m\u001b[1;33m\u001b[0m\u001b[1;33m\u001b[0m\u001b[0m\n\u001b[0m\u001b[0;32m     71\u001b[0m         \u001b[1;32mfinally\u001b[0m\u001b[1;33m:\u001b[0m\u001b[1;33m\u001b[0m\u001b[1;33m\u001b[0m\u001b[0m\n\u001b[0;32m     72\u001b[0m             \u001b[1;32mdel\u001b[0m \u001b[0mfiltered_tb\u001b[0m\u001b[1;33m\u001b[0m\u001b[1;33m\u001b[0m\u001b[0m\n",
      "\u001b[1;32m~\\AppData\\Roaming\\Python\\Python38\\site-packages\\tensorflow\\python\\framework\\constant_op.py\u001b[0m in \u001b[0;36mconvert_to_eager_tensor\u001b[1;34m(value, ctx, dtype)\u001b[0m\n\u001b[0;32m    100\u001b[0m       \u001b[0mdtype\u001b[0m \u001b[1;33m=\u001b[0m \u001b[0mdtypes\u001b[0m\u001b[1;33m.\u001b[0m\u001b[0mas_dtype\u001b[0m\u001b[1;33m(\u001b[0m\u001b[0mdtype\u001b[0m\u001b[1;33m)\u001b[0m\u001b[1;33m.\u001b[0m\u001b[0mas_datatype_enum\u001b[0m\u001b[1;33m\u001b[0m\u001b[1;33m\u001b[0m\u001b[0m\n\u001b[0;32m    101\u001b[0m   \u001b[0mctx\u001b[0m\u001b[1;33m.\u001b[0m\u001b[0mensure_initialized\u001b[0m\u001b[1;33m(\u001b[0m\u001b[1;33m)\u001b[0m\u001b[1;33m\u001b[0m\u001b[1;33m\u001b[0m\u001b[0m\n\u001b[1;32m--> 102\u001b[1;33m   \u001b[1;32mreturn\u001b[0m \u001b[0mops\u001b[0m\u001b[1;33m.\u001b[0m\u001b[0mEagerTensor\u001b[0m\u001b[1;33m(\u001b[0m\u001b[0mvalue\u001b[0m\u001b[1;33m,\u001b[0m \u001b[0mctx\u001b[0m\u001b[1;33m.\u001b[0m\u001b[0mdevice_name\u001b[0m\u001b[1;33m,\u001b[0m \u001b[0mdtype\u001b[0m\u001b[1;33m)\u001b[0m\u001b[1;33m\u001b[0m\u001b[1;33m\u001b[0m\u001b[0m\n\u001b[0m\u001b[0;32m    103\u001b[0m \u001b[1;33m\u001b[0m\u001b[0m\n\u001b[0;32m    104\u001b[0m \u001b[1;33m\u001b[0m\u001b[0m\n",
      "\u001b[1;31mValueError\u001b[0m: Failed to convert a NumPy array to a Tensor (Unsupported object type numpy.ndarray)."
     ]
    }
   ],
   "source": [
    "history = simple_model.fit(X_train, y_train, epochs=10, batch_size=128, verbose=2, validation_split=0.3)"
   ]
  }
 ],
 "metadata": {
  "kernelspec": {
   "display_name": "Python 3",
   "language": "python",
   "name": "python3"
  },
  "language_info": {
   "codemirror_mode": {
    "name": "ipython",
    "version": 3
   },
   "file_extension": ".py",
   "mimetype": "text/x-python",
   "name": "python",
   "nbconvert_exporter": "python",
   "pygments_lexer": "ipython3",
   "version": "3.8.3"
  },
  "orig_nbformat": 4,
  "vscode": {
   "interpreter": {
    "hash": "570feb405e2e27c949193ac68f46852414290d515b0ba6e5d90d076ed2284471"
   }
  }
 },
 "nbformat": 4,
 "nbformat_minor": 2
}

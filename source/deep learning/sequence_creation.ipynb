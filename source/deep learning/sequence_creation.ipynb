{
   "cells": [
      {
         "cell_type": "code",
         "execution_count": 1,
         "metadata": {},
         "outputs": [],
         "source": [
            "import pandas as pd\n",
            "import numpy as np\n",
            "import sys\n",
            "sys.path.append('../src/')\n",
            "import dataset_prep"
         ]
      },
      {
         "attachments": {},
         "cell_type": "markdown",
         "metadata": {},
         "source": [
            "### Création des csv avec les nouvelles features"
         ]
      },
      {
         "cell_type": "code",
         "execution_count": 90,
         "metadata": {},
         "outputs": [],
         "source": [
            "# Chemin du dossier contenant tous les .csv\n",
            "data_folder = '../data'"
         ]
      },
      {
         "attachments": {},
         "cell_type": "markdown",
         "metadata": {},
         "source": [
            "Nécessite les csv suivants : \n",
            " - `merged1.csv`  (DoS - 13)\n",
            " - `merged2.csv`   (DoS Random - 14)\n",
            " - `merged3.csv`   (DoS Disruptive - 15)\n",
            " - `merged4.csv`   (Dos Random Sybil - 18)\n",
            " - `merged5.csv`   (Dos Disruptive Sybil - 19)"
         ]
      },
      {
         "cell_type": "code",
         "execution_count": 4,
         "metadata": {},
         "outputs": [],
         "source": [
            "def new_features(merged):\n",
            "    \n",
            "    print(merged.shape)\n",
            "    \n",
            "    sender = []\n",
            "    max_speed1 = []\n",
            "    max_speed2 = []\n",
            "    nb_packets_sent = []\n",
            "\n",
            "\n",
            "    for i in range(len(merged['sender'].unique())):\n",
            "        print(i)\n",
            "        sender.append(merged['sender'].unique()[i])\n",
            "        max_speed1.append(merged[merged['sender'] == merged['sender'].unique()[i]]['spd_x_send'].max())\n",
            "        max_speed2.append(merged[merged['sender'] == merged['sender'].unique()[i]]['spd_y_send'].max())\n",
            "        nb_packets_sent.append(len(merged[merged['sender'] == merged['sender'].unique()[i]]))\n",
            "\n",
            "    senders = pd.DataFrame()\n",
            "    senders['sender'] = sender\n",
            "    senders['max_speed1'] = max_speed1\n",
            "    senders['max_speed2'] = max_speed2\n",
            "    senders['nb_packets_sent'] = nb_packets_sent\n",
            "    \n",
            "    merged = merged.merge(senders, on='sender')\n",
            "    \n",
            "    merged['frequency1'] = abs(merged['spd_x_send'] - merged['max_speed1']/2)\n",
            "    merged['frequency2'] = abs(merged['spd_y_send'] - merged['max_speed2']/2)\n",
            "    \n",
            "    merged = merged.sort_values(by=['sender', 'receiver', 'sendTime'])\n",
            "    merged['time_diff'] = merged.groupby(['sender', 'receiver'])['sendTime'].diff()\n",
            "    \n",
            "    merged['distRealSR1'] = merged['pos_x_rec'] - merged['pos_x_send']\n",
            "    merged['distRealSR2'] = merged['pos_y_rec'] - merged['pos_y_send']\n",
            "    merged['diffSpdSR1'] = merged['spd_x_rec'] - merged['spd_x_send']\n",
            "    merged['diffSpdSR2'] = merged['spd_y_rec'] - merged['spd_y_send']\n",
            "    merged['diffAclSR1'] = merged['acl_x_rec'] - merged['acl_x_send']\n",
            "    merged['diffAclSR2'] = merged['acl_y_rec'] - merged['acl_y_send']\n",
            "    merged['diffHedSR1'] = merged['hed_x_rec'] - merged['hed_x_send']\n",
            "    merged['diffHedSR2'] = merged['hed_y_rec'] - merged['hed_y_send']\n",
            "\n",
            "    merged['deltaPosRec1'] = abs(merged['pos_x_rec'] - merged['pos_x_rec_f'])\n",
            "    merged['deltaPosRec2'] = abs(merged['pos_y_rec'] - merged['pos_y_rec_f'])\n",
            "    merged['deltaSpdRec1'] = abs(merged['spd_x_rec'] - merged['spd_x_rec_f'])\n",
            "    merged['deltaSpdRec2'] = abs(merged['spd_y_rec'] - merged['spd_y_rec_f'])\n",
            "    merged['deltaAclRec1'] = abs(merged['acl_x_rec'] - merged['acl_x_rec_f'])\n",
            "    merged['deltaAclRec2'] = abs(merged['acl_y_rec'] - merged['acl_y_rec_f'])\n",
            "    merged['deltaHedRec1'] = abs(merged['hed_x_rec'] - merged['hed_x_rec_f'])\n",
            "    merged['deltaHedRec2'] = abs(merged['hed_y_rec'] - merged['hed_y_rec_f'])\n",
            "\n",
            "    merged['deltaPos1'] = abs(merged['pos_x_send'] - merged['pos_x_send_f'])\n",
            "    merged['deltaPos2'] = abs(merged['pos_y_send'] - merged['pos_y_send_f'])\n",
            "    merged['deltaSpd1'] = abs(merged['spd_x_send'] - merged['spd_x_send_f'])\n",
            "    merged['deltaSpd2'] = abs(merged['spd_y_send'] - merged['spd_y_send_f'])\n",
            "    merged['deltaAcl1'] = abs(merged['acl_x_send'] - merged['acl_x_send_f'])\n",
            "    merged['deltaAcl2'] = abs(merged['acl_y_send'] - merged['acl_y_send_f'])\n",
            "    merged['deltaHed1'] = abs(merged['hed_x_send'] - merged['hed_x_send_f'])\n",
            "    merged['deltaHed2'] = abs(merged['hed_y_send'] - merged['hed_y_send_f'])\n",
            "\n",
            "    merged['distance'] = np.sqrt(merged['distRealSR1']**2 + merged['distRealSR2']**2)\n",
            "    merged['difSpeed'] = np.sqrt(merged['diffSpdSR1']**2 + merged['diffSpdSR2']**2)\n",
            "    merged['estAoA'] = np.arctan(merged['distRealSR2']/merged['distRealSR1'])\n",
            "    \n",
            "    \n",
            "    return(merged)"
         ]
      },
      {
         "cell_type": "code",
         "execution_count": null,
         "metadata": {},
         "outputs": [],
         "source": [
            "# DoS - 13\n",
            "df_dos_random = pd.read_csv(data_folder + '/merged1.csv')\n",
            "# Create a new csv file with new features from merged2.csv\n",
            "new_features(df_dos_random).to_csv(os.path.join(data_folder + '', 'DoS_0709_new_columns.csv'), index=False)"
         ]
      },
      {
         "cell_type": "code",
         "execution_count": 27,
         "metadata": {},
         "outputs": [],
         "source": [
            "# DoS Random  - 14\n",
            "df_dos_random = pd.read_csv(data_folder + '/merged2.csv')\n",
            "# Create a new csv file with new features from merged2.csv\n",
            "new_features(df_dos_random).to_csv(os.path.join(data_folder + '', 'DoS_Random_0709_new_columns.csv'), index=False)"
         ]
      },
      {
         "cell_type": "code",
         "execution_count": 2,
         "metadata": {},
         "outputs": [],
         "source": [
            "# DoS Disruptive - 15\n",
            "\n",
            "df_dos_disruptive = pd.read_csv(data_folder + '/merged3.csv')\n",
            "\n",
            "new_features(df_dos_disruptive).to_csv(os.path.join(data_folder + '', 'DoS_Disruptive_0709_new_columns.csv'), index=False)"
         ]
      },
      {
         "cell_type": "code",
         "execution_count": null,
         "metadata": {},
         "outputs": [],
         "source": [
            "# DoS Random Sybil - 18\n",
            "df_dos_random_sybil = pd.read_csv(data_folder + '/merged4.csv')\n",
            "\n",
            "new_features(df_dos_random_sybil).to_csv(os.path.join(data_folder + '', 'DoS_Random_Sybil_0709_new_columns.csv'), index=False)"
         ]
      },
      {
         "cell_type": "code",
         "execution_count": null,
         "metadata": {},
         "outputs": [],
         "source": [
            "# DoS Disruptive Sybil - 19\n",
            "df_dos_disruptive_sybil = pd.read_csv(data_folder + '/merged5.csv')\n",
            "\n",
            "new_features(df_dos_disruptive_sybil).to_csv(os.path.join(data_folder + '', 'DoS_Disruptive_Sybil_0709_new_columns.csv'), index=False)"
         ]
      },
      {
         "cell_type": "code",
         "execution_count": 43,
         "metadata": {},
         "outputs": [
            {
               "data": {
                  "text/plain": [
                     "14    2574713\n",
                     "0     2061385\n",
                     "Name: label, dtype: int64"
                  ]
               },
               "execution_count": 43,
               "metadata": {},
               "output_type": "execute_result"
            }
         ],
         "source": [
            "# Vérifiaction des labels\n",
            "# df_dos_random.label.value_counts()"
         ]
      },
      {
         "attachments": {},
         "cell_type": "markdown",
         "metadata": {},
         "source": [
            "## DataFrame selection"
         ]
      },
      {
         "attachments": {},
         "cell_type": "markdown",
         "metadata": {},
         "source": [
            "Import de la base de données"
         ]
      },
      {
         "cell_type": "code",
         "execution_count": 6,
         "metadata": {},
         "outputs": [],
         "source": [
            "# Colonnes choisies - label, sender & sendTime obligatoires\n",
            "selected_columns = [\n",
            "\"nb_packets_sent\",\n",
            "\"distance\",\n",
            "\"distRealSR1\",\n",
            "\"pos_y_rec_f\",\n",
            "\"pos_y_rec\",\n",
            "\"pos_x_rec_f\",\n",
            "\"pos_x_rec\",\n",
            "\"pos_x_send\",\n",
            "\"pos_y_send\",\n",
            "\"spd_x_send\",\n",
            "\"spd_y_send\",\n",
            "\"sendTime\",\n",
            "\"receiver\",\n",
            "\"sender\",\n",
            "\"label\"\n",
            "]"
         ]
      },
      {
         "cell_type": "code",
         "execution_count": 72,
         "metadata": {},
         "outputs": [
            {
               "name": "stdout",
               "output_type": "stream",
               "text": [
                  "Nombre de lignes avant nettoyage :  4753433\n",
                  "Nombre de lignes après nettoyage :  4709293\n"
               ]
            }
         ],
         "source": [
            "# DoS (13)\n",
            "df = dataset_prep.import_dataset(data_folder + '/DoS_0709_new_columns.csv', selected_columns)"
         ]
      },
      {
         "cell_type": "code",
         "execution_count": 91,
         "metadata": {},
         "outputs": [
            {
               "name": "stdout",
               "output_type": "stream",
               "text": [
                  "Nombre de lignes avant nettoyage :  4679311\n",
                  "Nombre de lignes après nettoyage :  4636098\n"
               ]
            }
         ],
         "source": [
            "# DoS Random (14)\n",
            "df = dataset_prep.import_dataset(data_folder + '/DoS_Random_0709_new_columns.csv', selected_columns)"
         ]
      },
      {
         "cell_type": "code",
         "execution_count": 92,
         "metadata": {},
         "outputs": [
            {
               "name": "stdout",
               "output_type": "stream",
               "text": [
                  "Nombre de lignes avant nettoyage :  4667151\n",
                  "Nombre de lignes après nettoyage :  4623869\n"
               ]
            }
         ],
         "source": [
            "# DoS Disruptive (15)\n",
            "df = dataset_prep.import_dataset(data_folder + '/DoS_Disruptive_0709_new_columns.csv', selected_columns)"
         ]
      },
      {
         "cell_type": "code",
         "execution_count": null,
         "metadata": {},
         "outputs": [],
         "source": [
            "# DoS Random Sybil (18)\n",
            "# df = dataset_prep.import_dataset(data_folder + '/DoS_Random_Sybil_0709_new_columns.csv', selected_columns)"
         ]
      },
      {
         "cell_type": "code",
         "execution_count": null,
         "metadata": {},
         "outputs": [],
         "source": [
            "# DoS Disruptive Sybil (19)\n",
            "# df = dataset_prep.import_dataset(data_folder + '/DoS_Disruptive_Sybil_0709_new_columns.csv', selected_columns)"
         ]
      },
      {
         "attachments": {},
         "cell_type": "markdown",
         "metadata": {},
         "source": [
            "## Senders"
         ]
      },
      {
         "cell_type": "code",
         "execution_count": 93,
         "metadata": {},
         "outputs": [
            {
               "name": "stdout",
               "output_type": "stream",
               "text": [
                  "4067\n"
               ]
            }
         ],
         "source": [
            "senders = np.unique(df[\"sender\"].values)\n",
            "# senders\n",
            "\n",
            "# Nombre de senders\n",
            "print(len(senders))"
         ]
      },
      {
         "attachments": {},
         "cell_type": "markdown",
         "metadata": {},
         "source": [
            "#### Split de la base de données (pas utilisé)"
         ]
      },
      {
         "cell_type": "code",
         "execution_count": 47,
         "metadata": {},
         "outputs": [
            {
               "data": {
                  "text/plain": [
                     "Index(['sendTime', 'sender', 'receiver', 'pos_x_send', 'pos_y_send',\n",
                     "       'spd_x_send', 'spd_y_send', 'pos_x_rec', 'pos_y_rec', 'pos_x_rec_f',\n",
                     "       'pos_y_rec_f', 'nb_packets_sent', 'distRealSR1', 'distance'],\n",
                     "      dtype='object')"
                  ]
               },
               "execution_count": 47,
               "metadata": {},
               "output_type": "execute_result"
            }
         ],
         "source": [
            "# Copie de la bdd pour récuperer les colonnes sans impacter la vraie base de données\n",
            "\n",
            "# data_copy = df.copy()\n",
            "# data_copy = data_copy.drop([\"label\"], axis=1)\n",
            "\n",
            "# columns = data_copy.columns\n",
            "# columns"
         ]
      },
      {
         "attachments": {},
         "cell_type": "markdown",
         "metadata": {},
         "source": [
            "Amélioration à faire :\n",
            "\n",
            "Séléctionner seulement les sender avec value_counts > 20"
         ]
      },
      {
         "attachments": {},
         "cell_type": "markdown",
         "metadata": {},
         "source": [
            "Séparation de la base de données : diviser pour régner\n",
            "\n",
            "/!\\ à bien changer l'indice !!"
         ]
      },
      {
         "cell_type": "code",
         "execution_count": 7,
         "metadata": {},
         "outputs": [],
         "source": [
            "# /!\\ attention à bien utiliser la base de données rangée par sender pour limiter la perte de données\n",
            "# Indice égal à 0, 1 ou 2\n",
            "# Célia = 0\n",
            "# Chléo = 1\n",
            "# Thomas = 2\n",
            "\n",
            "def split_data_in_3(df, indice):\n",
            "    # Division de la bdd en 3\n",
            "    split_data = np.array_split(df,3)\n",
            "\n",
            "    # Division en plusieurs sous-bdd pour diminuer le temps de calcul par exécution\n",
            "    #divided_data = np.array_split(split_data[indice],50)\n",
            "\n",
            "    return split_data"
         ]
      },
      {
         "cell_type": "code",
         "execution_count": 8,
         "metadata": {},
         "outputs": [],
         "source": [
            "divided_dataframes = split_data_in_3(df.sort_values(\"sender\"),0)"
         ]
      },
      {
         "cell_type": "code",
         "execution_count": 9,
         "metadata": {},
         "outputs": [
            {
               "data": {
                  "text/plain": [
                     "3"
                  ]
               },
               "execution_count": 9,
               "metadata": {},
               "output_type": "execute_result"
            }
         ],
         "source": [
            "len(divided_dataframes)"
         ]
      },
      {
         "attachments": {},
         "cell_type": "markdown",
         "metadata": {},
         "source": [
            "## Création des séquences\n",
            "\n",
            "On utilise **flat_sequences_creation(df)**"
         ]
      },
      {
         "cell_type": "code",
         "execution_count": 8,
         "metadata": {},
         "outputs": [],
         "source": [
            "def sequence_creation(df):\n",
            "    senders_sequences = np.array()\n",
            "    senders_label = np.array\n",
            "    for sender in senders:\n",
            "        sender_data_sorted = df.loc[df['sender'] == sender].sort_values(\"sendTime\")\n",
            "        sender_data_sorted = sender_data_sorted.drop([\"label\",\"sender\"], axis=1)\n",
            "        sequence_array = np.array\n",
            "\n",
            "        length = sender_data_sorted.shape[0]\n",
            "        slide = 10\n",
            "        start = 0\n",
            "        end = 20\n",
            "\n",
            "        # On récupère la valeur du label pour ce sender\n",
            "        label = df.loc[df['sender'] == sender]['label'].tolist()[0]\n",
            "        if (length > 20):\n",
            "            senders_label.append(label)\n",
            "\n",
            "        # On vérifie qu'il est possible de faire une séquence de taille 20\n",
            "        while length >= 20:\n",
            "            # Extraction par tranche de 20 avec une inter de 10\n",
            "            sequence = sender_data_sorted[start:end]\n",
            "\n",
            "            # Labels correspondant\n",
            "            #labels =  pd.Series.tolist(sequence[\"label\"])\n",
            "\n",
            "            # On transforme les 13 en 1, cette formule marche toujours si on met d'autres types d'attaques\n",
            "            #labels[:] = [x if x == 0 else 1 for x in labels]\n",
            "\n",
            "            # Attribution des tableaux numpy\n",
            "            sequence_array = np.append(sequence_array, np.array(sequence.values, dtype=object))\n",
            "            #label_array.append(labels)\n",
            "\n",
            "            # Mise à jour des variables\n",
            "            start += slide\n",
            "            end += slide\n",
            "            length -= 10\n",
            "        \n",
            "        if len(sequence_array)>0:\n",
            "            senders_sequences = np.append(senders_sequences, np.array(sequence_array, dtype=object))\n",
            "\n",
            "    \n",
            "    return senders_sequences, senders_label"
         ]
      },
      {
         "cell_type": "code",
         "execution_count": 9,
         "metadata": {},
         "outputs": [],
         "source": [
            "def flat_sequence_creation(df):\n",
            "    senders_sequences = []\n",
            "    senders_label = []\n",
            "\n",
            "    for sender in senders:\n",
            "        # Données d'un seul sender rangée en fonction de l'heure d'envoi\n",
            "        sender_data_sorted = df.loc[df['sender'] == sender].sort_values(\"sendTime\")\n",
            "\n",
            "        # On récupère la valeur du label pour ce sender\n",
            "        \"\"\" On remplasse toute les valeur !=0 en 1 \"\"\"\n",
            "        if sender_data_sorted['label'].tolist()[0] != 0 :\n",
            "            label=1\n",
            "        else :\n",
            "            label = sender_data_sorted['label'].tolist()[0]\n",
            "        #On supprime les colonnes label et sender\n",
            "        sender_data_sorted = sender_data_sorted.drop([\"label\",\"sender\"], axis=1)\n",
            "        \n",
            "        #sequence_array = []\n",
            "\n",
            "        length = sender_data_sorted.shape[0]\n",
            "        slide = 10\n",
            "        start = 0\n",
            "        end = 20\n",
            "\n",
            "        # On vérifie qu'il est possible de faire une séquence de taille 20\n",
            "        while length > 20:\n",
            "            # Extraction par tranche de 20 avec une inter de 10\n",
            "            sequence = sender_data_sorted[start:end]\n",
            "\n",
            "            # Labels correspondant\n",
            "            #labels =  pd.Series.tolist(sequence[\"label\"])\n",
            "\n",
            "            # On transforme les 13 en 1, cette formule marche toujours si on met d'autres types d'attaques\n",
            "            #labels[:] = [x if x == 0 else 1 for x in labels]\n",
            "\n",
            "            # Attribution des tableaux numpy\n",
            "            senders_sequences.append(np.array(sequence.values.tolist(), dtype=np.float32))\n",
            "            senders_label.append(label)\n",
            "\n",
            "            # Mise à jour des variables\n",
            "            start += slide\n",
            "            end += slide\n",
            "            length -= 10\n",
            "\n",
            "    return senders_sequences, senders_label"
         ]
      },
      {
         "cell_type": "code",
         "execution_count": 74,
         "metadata": {},
         "outputs": [],
         "source": [
            "sorted_dataset = df.sort_values(\"sender\")"
         ]
      },
      {
         "cell_type": "code",
         "execution_count": 75,
         "metadata": {},
         "outputs": [],
         "source": [
            "sequence_test, label_test = flat_sequence_creation(sorted_dataset)\n",
            "#label_test"
         ]
      },
      {
         "attachments": {},
         "cell_type": "markdown",
         "metadata": {},
         "source": [
            "sequence_test, label_test = sequence_creation(df)"
         ]
      },
      {
         "cell_type": "code",
         "execution_count": 76,
         "metadata": {},
         "outputs": [
            {
               "data": {
                  "text/plain": [
                     "464647"
                  ]
               },
               "execution_count": 76,
               "metadata": {},
               "output_type": "execute_result"
            }
         ],
         "source": [
            "len(sequence_test)"
         ]
      },
      {
         "attachments": {},
         "cell_type": "markdown",
         "metadata": {},
         "source": [
            "# Initialisation des données"
         ]
      },
      {
         "cell_type": "code",
         "execution_count": 13,
         "metadata": {},
         "outputs": [],
         "source": [
            "import pandas as pd\n",
            "import numpy as np\n",
            "from tensorflow import keras\n",
            "from keras import layers, applications, utils, models, optimizers, Input, callbacks\n",
            "from keras.models import Sequential\n",
            "from keras.layers import Dense, SimpleRNN\n",
            "from sklearn.preprocessing import MinMaxScaler\n",
            "from sklearn.metrics import mean_squared_error\n",
            "import math\n",
            "import matplotlib.pyplot as plt\n",
            "from sklearn.model_selection import train_test_split\n",
            "from sklearn.metrics import confusion_matrix, classification_report\n",
            "import seaborn as sns"
         ]
      },
      {
         "cell_type": "code",
         "execution_count": 77,
         "metadata": {},
         "outputs": [],
         "source": [
            "# Transformation en array numpy\n",
            "X = np.array(sequence_test)\n",
            "y = np.array(label_test, dtype=np.float32)"
         ]
      },
      {
         "cell_type": "code",
         "execution_count": 78,
         "metadata": {},
         "outputs": [],
         "source": [
            "# Réduire le temps de training en prenant les 100000 premiers éléments\n",
            "X = X[:100000]\n",
            "y = y[:100000]"
         ]
      },
      {
         "cell_type": "code",
         "execution_count": 79,
         "metadata": {},
         "outputs": [],
         "source": [
            "# Séparation en données d'entrainement et de test\n",
            "X_train, X_test, y_train, y_test = train_test_split(X, y, test_size=0.1)"
         ]
      },
      {
         "cell_type": "code",
         "execution_count": 80,
         "metadata": {},
         "outputs": [
            {
               "name": "stdout",
               "output_type": "stream",
               "text": [
                  "X_train :  (90000, 20, 13)\n",
                  "y_train :  (90000,)\n",
                  "X_test :  (10000, 20, 13)\n",
                  "y_test :  (10000,)\n"
               ]
            }
         ],
         "source": [
            "print(\"X_train : \", X_train.shape)\n",
            "print(\"y_train : \", y_train.shape)\n",
            "print(\"X_test : \", X_test.shape)\n",
            "print(\"y_test : \", y_test.shape)"
         ]
      },
      {
         "cell_type": "code",
         "execution_count": 81,
         "metadata": {},
         "outputs": [
            {
               "data": {
                  "text/plain": [
                     "array([1., 1., 0., ..., 0., 1., 0.], dtype=float32)"
                  ]
               },
               "execution_count": 81,
               "metadata": {},
               "output_type": "execute_result"
            }
         ],
         "source": [
            "y_train"
         ]
      },
      {
         "attachments": {},
         "cell_type": "markdown",
         "metadata": {},
         "source": [
            "# Modèle dense simple"
         ]
      },
      {
         "cell_type": "code",
         "execution_count": 22,
         "metadata": {},
         "outputs": [
            {
               "name": "stderr",
               "output_type": "stream",
               "text": [
                  "2023-02-01 13:51:03.206784: E tensorflow/stream_executor/cuda/cuda_driver.cc:271] failed call to cuInit: CUDA_ERROR_NO_DEVICE: no CUDA-capable device is detected\n",
                  "2023-02-01 13:51:03.206817: I tensorflow/stream_executor/cuda/cuda_diagnostics.cc:156] kernel driver does not appear to be running on this host (student-laptop): /proc/driver/nvidia/version does not exist\n",
                  "2023-02-01 13:51:03.207356: I tensorflow/core/platform/cpu_feature_guard.cc:151] This TensorFlow binary is optimized with oneAPI Deep Neural Network Library (oneDNN) to use the following CPU instructions in performance-critical operations:  AVX2 FMA\n",
                  "To enable them in other operations, rebuild TensorFlow with the appropriate compiler flags.\n"
               ]
            }
         ],
         "source": [
            "# TODO amélioration du model dense avec du dropout ? \n",
            "\n",
            "simple_model = keras.Sequential([\n",
            "    layers.Dense(128,input_shape=(20, 13), activation='relu'),\n",
            "    #layers.BatchNormalization(), # les batchNormalization fond baisser l'accuracy \n",
            "    layers.Dense(256, activation='relu'),\n",
            "    #layers.BatchNormalization(),\n",
            "    layers.Dense(64, activation='relu'),\n",
            "    layers.Dense(1, activation='linear') # avec relu on perd un peu d'accuracy\n",
            "])"
         ]
      },
      {
         "cell_type": "code",
         "execution_count": 23,
         "metadata": {},
         "outputs": [
            {
               "name": "stdout",
               "output_type": "stream",
               "text": [
                  "INPUT\n",
                  "(None, 20, 13) <dtype: 'float32'>\n",
                  "OUTPUT\n",
                  "(None, 20, 1) <dtype: 'float32'>\n",
                  "LAYERS\n",
                  "dense (None, 20, 13) float32\n",
                  "dense_1 (None, 20, 128) float32\n",
                  "dense_2 (None, 20, 256) float32\n",
                  "dense_3 (None, 20, 64) float32\n"
               ]
            },
            {
               "data": {
                  "text/plain": [
                     "[None, None, None, None]"
                  ]
               },
               "execution_count": 23,
               "metadata": {},
               "output_type": "execute_result"
            }
         ],
         "source": [
            "print(\"INPUT\")\n",
            "[print(i.shape, i.dtype) for i in simple_model.inputs]\n",
            "print(\"OUTPUT\")\n",
            "[print(o.shape, o.dtype) for o in simple_model.outputs]\n",
            "print(\"LAYERS\")\n",
            "[print(l.name, l.input_shape, l.dtype) for l in simple_model.layers]"
         ]
      },
      {
         "cell_type": "code",
         "execution_count": 24,
         "metadata": {},
         "outputs": [],
         "source": [
            "callback = keras.callbacks.EarlyStopping(monitor='val_accuracy', patience=5, restore_best_weights=True)\n",
            "opt = keras.optimizers.SGD(learning_rate=0.01)\n",
            "simple_model.compile(loss='binary_crossentropy', optimizer=opt, metrics='accuracy')"
         ]
      },
      {
         "cell_type": "code",
         "execution_count": 25,
         "metadata": {},
         "outputs": [
            {
               "name": "stdout",
               "output_type": "stream",
               "text": [
                  "Epoch 1/20\n"
               ]
            },
            {
               "name": "stderr",
               "output_type": "stream",
               "text": [
                  "2023-02-01 13:51:11.533153: W tensorflow/core/framework/cpu_allocator_impl.cc:82] Allocation of 66915680 exceeds 10% of free system memory.\n"
               ]
            },
            {
               "name": "stdout",
               "output_type": "stream",
               "text": [
                  "500/503 [============================>.] - ETA: 0s - loss: 8.5787 - accuracy: 0.4438"
               ]
            },
            {
               "name": "stderr",
               "output_type": "stream",
               "text": [
                  "2023-02-01 13:51:18.343339: W tensorflow/core/framework/cpu_allocator_impl.cc:82] Allocation of 28679040 exceeds 10% of free system memory.\n"
               ]
            },
            {
               "name": "stdout",
               "output_type": "stream",
               "text": [
                  "503/503 [==============================] - 8s 14ms/step - loss: 8.5796 - accuracy: 0.4438 - val_loss: 8.5840 - val_accuracy: 0.4435\n",
                  "Epoch 2/20\n",
                  "503/503 [==============================] - 8s 15ms/step - loss: 8.5796 - accuracy: 0.4438 - val_loss: 8.5840 - val_accuracy: 0.4435\n",
                  "Epoch 3/20\n",
                  "503/503 [==============================] - 8s 16ms/step - loss: 8.5796 - accuracy: 0.4438 - val_loss: 8.5840 - val_accuracy: 0.4435\n",
                  "Epoch 4/20\n",
                  "503/503 [==============================] - 7s 13ms/step - loss: 8.5796 - accuracy: 0.4438 - val_loss: 8.5840 - val_accuracy: 0.4435\n",
                  "Epoch 5/20\n",
                  "503/503 [==============================] - 7s 13ms/step - loss: 8.5796 - accuracy: 0.4438 - val_loss: 8.5840 - val_accuracy: 0.4435\n",
                  "Epoch 6/20\n",
                  "503/503 [==============================] - 7s 13ms/step - loss: 8.5796 - accuracy: 0.4438 - val_loss: 8.5840 - val_accuracy: 0.4435\n"
               ]
            }
         ],
         "source": [
            "history = simple_model.fit(X_train, y_train, epochs=20, batch_size=128, validation_split=0.3, callbacks=[callback])"
         ]
      },
      {
         "cell_type": "code",
         "execution_count": 26,
         "metadata": {},
         "outputs": [
            {
               "data": {
                  "text/plain": [
                     "<AxesSubplot:>"
                  ]
               },
               "execution_count": 26,
               "metadata": {},
               "output_type": "execute_result"
            },
            {
               "data": {
                  "image/png": "[encoded data removed]",
                  "text/plain": [
                     "<Figure size 432x288 with 1 Axes>"
                  ]
               },
               "metadata": {
                  "needs_background": "light"
               },
               "output_type": "display_data"
            }
         ],
         "source": [
            "history_df = pd.DataFrame(history.history)\n",
            "history_df.loc[:, ['accuracy', 'val_accuracy']].plot()"
         ]
      },
      {
         "cell_type": "code",
         "execution_count": 27,
         "metadata": {},
         "outputs": [
            {
               "data": {
                  "text/plain": [
                     "<AxesSubplot:>"
                  ]
               },
               "execution_count": 27,
               "metadata": {},
               "output_type": "execute_result"
            },
            {
               "data": {
                  "image/png": "[encoded data removed]",
                  "text/plain": [
                     "<Figure size 432x288 with 1 Axes>"
                  ]
               },
               "metadata": {
                  "needs_background": "light"
               },
               "output_type": "display_data"
            }
         ],
         "source": [
            "history_df.loc[:, ['loss', 'val_loss']].plot()"
         ]
      },
      {
         "cell_type": "code",
         "execution_count": 28,
         "metadata": {},
         "outputs": [
            {
               "data": {
                  "text/plain": [
                     "array([[[-2675.2456],\n",
                     "        [-2594.6848],\n",
                     "        [-2536.4214],\n",
                     "        ...,\n",
                     "        [-2671.0312],\n",
                     "        [-2673.9482],\n",
                     "        [-2675.3208]],\n",
                     "\n",
                     "       [[-2535.6345],\n",
                     "        [-2558.4849],\n",
                     "        [-2514.2288],\n",
                     "        ...,\n",
                     "        [-2540.9268],\n",
                     "        [-2514.7249],\n",
                     "        [-2518.0361]],\n",
                     "\n",
                     "       [[-2317.2705],\n",
                     "        [-2313.675 ],\n",
                     "        [-2316.7458],\n",
                     "        ...,\n",
                     "        [-2313.2676],\n",
                     "        [-2317.3103],\n",
                     "        [-2313.7146]],\n",
                     "\n",
                     "       ...,\n",
                     "\n",
                     "       [[-2850.0059],\n",
                     "        [-2889.824 ],\n",
                     "        [-2872.5151],\n",
                     "        ...,\n",
                     "        [-2881.8242],\n",
                     "        [-2888.7388],\n",
                     "        [-2876.1653]],\n",
                     "\n",
                     "       [[-2607.457 ],\n",
                     "        [-2608.5615],\n",
                     "        [-2554.9438],\n",
                     "        ...,\n",
                     "        [-2603.5146],\n",
                     "        [-2607.5068],\n",
                     "        [-2549.032 ]],\n",
                     "\n",
                     "       [[-2176.254 ],\n",
                     "        [-2182.1982],\n",
                     "        [-2185.5642],\n",
                     "        ...,\n",
                     "        [-2134.818 ],\n",
                     "        [-2118.3774],\n",
                     "        [-2165.62  ]]], dtype=float32)"
                  ]
               },
               "execution_count": 28,
               "metadata": {},
               "output_type": "execute_result"
            }
         ],
         "source": [
            "y_pred=simple_model.predict(X_test)\n",
            "y_pred"
         ]
      },
      {
         "cell_type": "code",
         "execution_count": 29,
         "metadata": {},
         "outputs": [
            {
               "name": "stdout",
               "output_type": "stream",
               "text": [
                  "320/320 [==============================] - 1s 3ms/step - loss: 8.7198 - accuracy: 0.4347\n"
               ]
            },
            {
               "data": {
                  "text/plain": [
                     "[8.719759941101074, 0.4346974790096283]"
                  ]
               },
               "execution_count": 29,
               "metadata": {},
               "output_type": "execute_result"
            }
         ],
         "source": [
            "eval=simple_model.evaluate(X_test, y_test)\n",
            "eval"
         ]
      },
      {
         "attachments": {},
         "cell_type": "markdown",
         "metadata": {},
         "source": [
            "# RNN"
         ]
      },
      {
         "cell_type": "code",
         "execution_count": 30,
         "metadata": {},
         "outputs": [],
         "source": [
            "def create_RNN(hidden_units, dense_units, input_shape, activation):\n",
            "    '''\n",
            "    hidden_units : nombre de neurones dans la couche SimpleRNN\n",
            "    dense_units : nombre de neurones dans la couche Dense\n",
            "    activation : liste des deux fonctions d'activation\n",
            "    '''\n",
            "    opt = keras.optimizers.SGD(learning_rate=0.01)\n",
            "    model = Sequential()\n",
            "    model.add(SimpleRNN(hidden_units, input_shape=input_shape, return_sequences=True, activation=activation[0]))\n",
            "    model.add(SimpleRNN(32, activation=activation[0]))\n",
            "    model.add(keras.layers.BatchNormalization())\n",
            "    model.add(Dense(64, activation=activation[1]))\n",
            "    model.add(Dense(units=dense_units, activation='sigmoid'))\n",
            "    model.compile(loss='binary_crossentropy', optimizer=opt, metrics='accuracy')\n",
            "    return model\n",
            "\n",
            "#demo_model = create_RNN(2, 1, (3,1), activation=['linear', 'linear'])\n",
            "\n",
            "rnn_model = create_RNN(32, 1, (20, 13), activation=['relu', 'relu'])\n",
            "callback = keras.callbacks.EarlyStopping(monitor='val_accuracy', patience=5, restore_best_weights=True)"
         ]
      },
      {
         "cell_type": "code",
         "execution_count": 31,
         "metadata": {},
         "outputs": [
            {
               "name": "stdout",
               "output_type": "stream",
               "text": [
                  "Epoch 1/20\n"
               ]
            },
            {
               "name": "stderr",
               "output_type": "stream",
               "text": [
                  "2023-02-01 14:02:22.859087: W tensorflow/core/framework/cpu_allocator_impl.cc:82] Allocation of 66915680 exceeds 10% of free system memory.\n"
               ]
            },
            {
               "name": "stdout",
               "output_type": "stream",
               "text": [
                  "498/503 [============================>.] - ETA: 0s - loss: 0.4202 - accuracy: 0.8221"
               ]
            },
            {
               "name": "stderr",
               "output_type": "stream",
               "text": [
                  "2023-02-01 14:02:28.860898: W tensorflow/core/framework/cpu_allocator_impl.cc:82] Allocation of 28679040 exceeds 10% of free system memory.\n"
               ]
            },
            {
               "name": "stdout",
               "output_type": "stream",
               "text": [
                  "503/503 [==============================] - 7s 11ms/step - loss: 0.4198 - accuracy: 0.8221 - val_loss: 0.3501 - val_accuracy: 0.8445\n",
                  "Epoch 2/20\n",
                  "503/503 [==============================] - 5s 11ms/step - loss: 0.3368 - accuracy: 0.8514 - val_loss: 0.8098 - val_accuracy: 0.6363\n",
                  "Epoch 3/20\n",
                  "503/503 [==============================] - 6s 11ms/step - loss: 0.3346 - accuracy: 0.8521 - val_loss: 0.3379 - val_accuracy: 0.8465\n",
                  "Epoch 4/20\n",
                  "503/503 [==============================] - 5s 11ms/step - loss: 0.3296 - accuracy: 0.8526 - val_loss: 0.4370 - val_accuracy: 0.7911\n",
                  "Epoch 5/20\n",
                  "503/503 [==============================] - 5s 11ms/step - loss: 0.3272 - accuracy: 0.8531 - val_loss: 0.3326 - val_accuracy: 0.8497\n",
                  "Epoch 6/20\n",
                  "503/503 [==============================] - 6s 11ms/step - loss: 0.3259 - accuracy: 0.8545 - val_loss: 0.3301 - val_accuracy: 0.8478\n",
                  "Epoch 7/20\n",
                  "503/503 [==============================] - 6s 11ms/step - loss: 0.3239 - accuracy: 0.8565 - val_loss: 0.3863 - val_accuracy: 0.8265\n",
                  "Epoch 8/20\n",
                  "503/503 [==============================] - 5s 10ms/step - loss: 0.3229 - accuracy: 0.8563 - val_loss: 0.4056 - val_accuracy: 0.8072\n",
                  "Epoch 9/20\n",
                  "503/503 [==============================] - 6s 13ms/step - loss: 0.3220 - accuracy: 0.8578 - val_loss: 0.3352 - val_accuracy: 0.8504\n",
                  "Epoch 10/20\n",
                  "503/503 [==============================] - 5s 10ms/step - loss: 0.3373 - accuracy: 0.8509 - val_loss: 0.6707 - val_accuracy: 0.6127\n",
                  "Epoch 11/20\n",
                  "503/503 [==============================] - 5s 9ms/step - loss: 0.3355 - accuracy: 0.8521 - val_loss: 0.9603 - val_accuracy: 0.5968\n",
                  "Epoch 12/20\n",
                  "503/503 [==============================] - 5s 9ms/step - loss: 0.3349 - accuracy: 0.8529 - val_loss: 0.4102 - val_accuracy: 0.7926\n",
                  "Epoch 13/20\n",
                  "503/503 [==============================] - 4s 9ms/step - loss: 0.3333 - accuracy: 0.8529 - val_loss: 1.6078 - val_accuracy: 0.5692\n",
                  "Epoch 14/20\n",
                  "503/503 [==============================] - 4s 9ms/step - loss: 0.3336 - accuracy: 0.8523 - val_loss: 0.3577 - val_accuracy: 0.8372\n"
               ]
            }
         ],
         "source": [
            "history = rnn_model.fit(X_train, y_train, epochs=20, batch_size=128, validation_split=0.3, callbacks=[callback])"
         ]
      },
      {
         "cell_type": "code",
         "execution_count": 32,
         "metadata": {},
         "outputs": [
            {
               "data": {
                  "text/plain": [
                     "<AxesSubplot:>"
                  ]
               },
               "execution_count": 32,
               "metadata": {},
               "output_type": "execute_result"
            },
            {
               "data": {
                  "image/png": "[encoded data removed]",
                  "text/plain": [
                     "<Figure size 432x288 with 1 Axes>"
                  ]
               },
               "metadata": {
                  "needs_background": "light"
               },
               "output_type": "display_data"
            }
         ],
         "source": [
            "history_df = pd.DataFrame(history.history)\n",
            "history_df.loc[:, ['accuracy', 'val_accuracy']].plot()"
         ]
      },
      {
         "cell_type": "code",
         "execution_count": 33,
         "metadata": {},
         "outputs": [
            {
               "data": {
                  "text/plain": [
                     "<AxesSubplot:>"
                  ]
               },
               "execution_count": 33,
               "metadata": {},
               "output_type": "execute_result"
            },
            {
               "data": {
                  "image/png": "[encoded data removed]",
                  "text/plain": [
                     "<Figure size 432x288 with 1 Axes>"
                  ]
               },
               "metadata": {
                  "needs_background": "light"
               },
               "output_type": "display_data"
            }
         ],
         "source": [
            "history_df.loc[:, ['loss', 'val_loss']].plot()"
         ]
      },
      {
         "cell_type": "code",
         "execution_count": 34,
         "metadata": {},
         "outputs": [
            {
               "data": {
                  "text/plain": [
                     "array([[0.0814237 ],\n",
                     "       [0.25599977],\n",
                     "       [0.99995077],\n",
                     "       ...,\n",
                     "       [0.11677942],\n",
                     "       [0.6047377 ],\n",
                     "       [0.9872718 ]], dtype=float32)"
                  ]
               },
               "execution_count": 34,
               "metadata": {},
               "output_type": "execute_result"
            }
         ],
         "source": [
            "y_pred=rnn_model.predict(X_test)\n",
            "y_pred"
         ]
      },
      {
         "cell_type": "code",
         "execution_count": 35,
         "metadata": {},
         "outputs": [
            {
               "name": "stdout",
               "output_type": "stream",
               "text": [
                  "              precision    recall  f1-score   support\n",
                  "\n",
                  "         0.0       0.80      0.87      0.83      4440\n",
                  "         1.0       0.89      0.83      0.86      5774\n",
                  "\n",
                  "    accuracy                           0.85     10214\n",
                  "   macro avg       0.85      0.85      0.85     10214\n",
                  "weighted avg       0.85      0.85      0.85     10214\n",
                  "\n"
               ]
            }
         ],
         "source": [
            "# arrondir les prédictions avant de les evalués\n",
            "y_pred = [0 if x < 0.5 else 1 for x in y_pred] \n",
            "y_pred\n",
            "print(classification_report(y_test, y_pred))"
         ]
      },
      {
         "cell_type": "code",
         "execution_count": 36,
         "metadata": {},
         "outputs": [
            {
               "name": "stdout",
               "output_type": "stream",
               "text": [
                  "320/320 [==============================] - 1s 3ms/step - loss: 0.3330 - accuracy: 0.8488\n"
               ]
            },
            {
               "data": {
                  "text/plain": [
                     "[0.332971453666687, 0.8488349318504333]"
                  ]
               },
               "execution_count": 36,
               "metadata": {},
               "output_type": "execute_result"
            }
         ],
         "source": [
            "eval=rnn_model.evaluate(X_test, y_test)\n",
            "eval"
         ]
      },
      {
         "attachments": {},
         "cell_type": "markdown",
         "metadata": {},
         "source": [
            "# Test LSTM"
         ]
      },
      {
         "cell_type": "code",
         "execution_count": 119,
         "metadata": {},
         "outputs": [],
         "source": [
            "lstm_model = keras.Sequential([\n",
            "    layers.Dense(32, input_shape=(20,13), activation='relu'),\n",
            "    layers.LSTM(128, return_sequences=True),\n",
            "    layers.LSTM(128),\n",
            "    #layers.BatchNormalization(),\n",
            "    layers.Dense(64, activation='relu'),\n",
            "    layers.Dense(1, activation='sigmoid')\n",
            "])"
         ]
      },
      {
         "cell_type": "code",
         "execution_count": 121,
         "metadata": {},
         "outputs": [],
         "source": [
            "callback = keras.callbacks.EarlyStopping(monitor='val_accuracy', patience=5, restore_best_weights=True)\n",
            "opt = keras.optimizers.SGD(learning_rate=0.01)\n",
            "lstm_model.compile(loss='binary_crossentropy', optimizer=opt, metrics='accuracy')"
         ]
      },
      {
         "cell_type": "code",
         "execution_count": null,
         "metadata": {},
         "outputs": [],
         "source": [
            "lstm_model.summary()"
         ]
      },
      {
         "cell_type": "code",
         "execution_count": 123,
         "metadata": {},
         "outputs": [
            {
               "name": "stdout",
               "output_type": "stream",
               "text": [
                  "Epoch 1/20\n",
                  "394/394 [==============================] - 27s 51ms/step - loss: 0.6845 - accuracy: 0.5667 - val_loss: 0.6855 - val_accuracy: 0.5652\n",
                  "Epoch 2/20\n",
                  "394/394 [==============================] - 18s 46ms/step - loss: 0.6847 - accuracy: 0.5671 - val_loss: 0.6848 - val_accuracy: 0.5652\n",
                  "Epoch 3/20\n",
                  "394/394 [==============================] - 17s 43ms/step - loss: 0.6847 - accuracy: 0.5671 - val_loss: 0.6848 - val_accuracy: 0.5652\n",
                  "Epoch 4/20\n",
                  "394/394 [==============================] - 17s 43ms/step - loss: 0.6847 - accuracy: 0.5671 - val_loss: 0.6848 - val_accuracy: 0.5652\n",
                  "Epoch 5/20\n",
                  "394/394 [==============================] - 17s 43ms/step - loss: 0.6844 - accuracy: 0.5671 - val_loss: 0.6846 - val_accuracy: 0.5652\n",
                  "Epoch 6/20\n",
                  "394/394 [==============================] - 18s 46ms/step - loss: 0.6845 - accuracy: 0.5671 - val_loss: 0.6846 - val_accuracy: 0.5652\n"
               ]
            }
         ],
         "source": [
            "history = lstm_model.fit(X_train, y_train, epochs=20, batch_size=32, validation_split=0.3, callbacks=[callback])"
         ]
      },
      {
         "cell_type": "code",
         "execution_count": 124,
         "metadata": {},
         "outputs": [
            {
               "data": {
                  "text/plain": [
                     "<AxesSubplot: >"
                  ]
               },
               "execution_count": 124,
               "metadata": {},
               "output_type": "execute_result"
            },
            {
               "data": {
                  "image/png": "[encoded data removed]",
                  "text/plain": [
                     "<Figure size 640x480 with 1 Axes>"
                  ]
               },
               "metadata": {},
               "output_type": "display_data"
            }
         ],
         "source": [
            "history_df = pd.DataFrame(history.history)\n",
            "history_df.loc[:, ['accuracy', 'val_accuracy']].plot()"
         ]
      },
      {
         "cell_type": "code",
         "execution_count": 125,
         "metadata": {},
         "outputs": [
            {
               "data": {
                  "text/plain": [
                     "<AxesSubplot: >"
                  ]
               },
               "execution_count": 125,
               "metadata": {},
               "output_type": "execute_result"
            },
            {
               "data": {
                  "image/png": "[encoded data removed]",
                  "text/plain": [
                     "<Figure size 640x480 with 1 Axes>"
                  ]
               },
               "metadata": {},
               "output_type": "display_data"
            }
         ],
         "source": [
            "history_df.loc[:, ['loss', 'val_loss']].plot()"
         ]
      },
      {
         "cell_type": "code",
         "execution_count": 119,
         "metadata": {},
         "outputs": [
            {
               "data": {
                  "text/plain": [
                     "array([[0.54696834],\n",
                     "       [0.54696834],\n",
                     "       [0.54696834],\n",
                     "       ...,\n",
                     "       [0.54696834],\n",
                     "       [0.54696834],\n",
                     "       [0.54696834]], dtype=float32)"
                  ]
               },
               "execution_count": 119,
               "metadata": {},
               "output_type": "execute_result"
            }
         ],
         "source": [
            "y_pred=lstm_model.predict(X_test)\n",
            "y_pred"
         ]
      },
      {
         "cell_type": "code",
         "execution_count": 120,
         "metadata": {},
         "outputs": [
            {
               "name": "stdout",
               "output_type": "stream",
               "text": [
                  "320/320 [==============================] - 3s 9ms/step - loss: 0.6846 - accuracy: 0.5653\n"
               ]
            },
            {
               "data": {
                  "text/plain": [
                     "[0.6846228241920471, 0.5653025507926941]"
                  ]
               },
               "execution_count": 120,
               "metadata": {},
               "output_type": "execute_result"
            }
         ],
         "source": [
            "eval=lstm_model.evaluate(X_test, y_test)\n",
            "eval"
         ]
      },
      {
         "attachments": {},
         "cell_type": "markdown",
         "metadata": {},
         "source": [
            "# Mélange SimpleRNN et LSTM"
         ]
      },
      {
         "cell_type": "code",
         "execution_count": 126,
         "metadata": {},
         "outputs": [],
         "source": [
            "lstm_rnn_model = keras.Sequential([\n",
            "    layers.Dense(32,input_shape=(20,13), activation='relu'),\n",
            "    layers.LSTM(128, return_sequences=True, activation='relu'), # return_sequences à True pour que la sortie soit de dimension 3\n",
            "    layers.BatchNormalization(),\n",
            "    layers.Dense(64, activation='relu'),\n",
            "    layers.SimpleRNN(64,activation='relu', return_sequences=True),\n",
            "    layers.SimpleRNN(32,activation='relu'),\n",
            "    layers.BatchNormalization(),\n",
            "    layers.Dense(64, activation='relu'),\n",
            "    #layers.Dropout(0.5),\n",
            "    layers.Dense(1, activation='sigmoid')\n",
            "])\n",
            "\n",
            "callback = keras.callbacks.EarlyStopping(monitor='val_accuracy', patience=8, restore_best_weights=True)\n",
            "opt = keras.optimizers.SGD(learning_rate=0.01)\n",
            "lstm_rnn_model.compile(loss='binary_crossentropy', optimizer=opt, metrics='accuracy')"
         ]
      },
      {
         "cell_type": "code",
         "execution_count": 127,
         "metadata": {},
         "outputs": [
            {
               "name": "stdout",
               "output_type": "stream",
               "text": [
                  "Epoch 1/25\n",
                  "394/394 [==============================] - 58s 137ms/step - loss: 0.5769 - accuracy: 0.6630 - val_loss: 2909.3411 - val_accuracy: 0.5652\n",
                  "Epoch 2/25\n",
                  "394/394 [==============================] - 17s 43ms/step - loss: 0.4208 - accuracy: 0.7880 - val_loss: 4.5898 - val_accuracy: 0.5652\n",
                  "Epoch 3/25\n",
                  "394/394 [==============================] - 18s 47ms/step - loss: 0.3692 - accuracy: 0.8277 - val_loss: 2.1021 - val_accuracy: 0.5650\n",
                  "Epoch 4/25\n",
                  "394/394 [==============================] - 20s 52ms/step - loss: 0.3320 - accuracy: 0.8589 - val_loss: 101.0154 - val_accuracy: 0.5652\n",
                  "Epoch 5/25\n",
                  "394/394 [==============================] - 19s 48ms/step - loss: 0.2869 - accuracy: 0.8816 - val_loss: 37.9704 - val_accuracy: 0.4348\n",
                  "Epoch 6/25\n",
                  "394/394 [==============================] - 19s 48ms/step - loss: 0.2521 - accuracy: 0.8998 - val_loss: 15.6581 - val_accuracy: 0.5652\n",
                  "Epoch 7/25\n",
                  "394/394 [==============================] - 16s 42ms/step - loss: 0.2346 - accuracy: 0.9095 - val_loss: 7.4290 - val_accuracy: 0.5652\n",
                  "Epoch 8/25\n",
                  "394/394 [==============================] - 18s 47ms/step - loss: 0.2079 - accuracy: 0.9198 - val_loss: 1.6234 - val_accuracy: 0.5731\n",
                  "Epoch 9/25\n",
                  "394/394 [==============================] - 19s 49ms/step - loss: 0.2276 - accuracy: 0.9087 - val_loss: 31.7241 - val_accuracy: 0.4963\n",
                  "Epoch 10/25\n",
                  "394/394 [==============================] - 18s 46ms/step - loss: 0.2069 - accuracy: 0.9144 - val_loss: 1.0863 - val_accuracy: 0.5570\n",
                  "Epoch 11/25\n",
                  "394/394 [==============================] - 17s 43ms/step - loss: 0.2066 - accuracy: 0.9227 - val_loss: 21.5315 - val_accuracy: 0.4348\n",
                  "Epoch 12/25\n",
                  "394/394 [==============================] - 17s 43ms/step - loss: 0.1760 - accuracy: 0.9336 - val_loss: nan - val_accuracy: 0.4348\n",
                  "Epoch 13/25\n",
                  "394/394 [==============================] - 20s 51ms/step - loss: 0.1558 - accuracy: 0.9453 - val_loss: nan - val_accuracy: 0.4348\n",
                  "Epoch 14/25\n",
                  "394/394 [==============================] - 23s 60ms/step - loss: 0.1516 - accuracy: 0.9455 - val_loss: nan - val_accuracy: 0.4348\n",
                  "Epoch 15/25\n",
                  "394/394 [==============================] - 18s 45ms/step - loss: 0.1351 - accuracy: 0.9491 - val_loss: nan - val_accuracy: 0.4348\n",
                  "Epoch 16/25\n",
                  "394/394 [==============================] - 17s 43ms/step - loss: 0.1312 - accuracy: 0.9533 - val_loss: nan - val_accuracy: 0.4348\n"
               ]
            }
         ],
         "source": [
            "history = lstm_rnn_model.fit(X_train, y_train, epochs=25, batch_size=32, validation_split=0.3, callbacks=[callback])"
         ]
      },
      {
         "cell_type": "code",
         "execution_count": 129,
         "metadata": {},
         "outputs": [
            {
               "data": {
                  "text/plain": [
                     "<AxesSubplot: >"
                  ]
               },
               "execution_count": 129,
               "metadata": {},
               "output_type": "execute_result"
            },
            {
               "data": {
                  "image/png": "[encoded data removed]",
                  "text/plain": [
                     "<Figure size 640x480 with 1 Axes>"
                  ]
               },
               "metadata": {},
               "output_type": "display_data"
            }
         ],
         "source": [
            "history_df = pd.DataFrame(history.history)\n",
            "history_df.loc[:, ['accuracy', 'val_accuracy']].plot()"
         ]
      },
      {
         "cell_type": "code",
         "execution_count": 130,
         "metadata": {},
         "outputs": [
            {
               "data": {
                  "text/plain": [
                     "<AxesSubplot: >"
                  ]
               },
               "execution_count": 130,
               "metadata": {},
               "output_type": "execute_result"
            },
            {
               "data": {
                  "image/png": "[encoded data removed]",
                  "text/plain": [
                     "<Figure size 640x480 with 1 Axes>"
                  ]
               },
               "metadata": {},
               "output_type": "display_data"
            }
         ],
         "source": [
            "history_df.loc[:, ['loss', 'val_loss']].plot()"
         ]
      },
      {
         "cell_type": "code",
         "execution_count": 131,
         "metadata": {},
         "outputs": [
            {
               "name": "stdout",
               "output_type": "stream",
               "text": [
                  "63/63 [==============================] - 2s 16ms/step\n"
               ]
            },
            {
               "data": {
                  "text/plain": [
                     "array([[0.9998226 ],\n",
                     "       [0.9999999 ],\n",
                     "       [0.99991626],\n",
                     "       ...,\n",
                     "       [0.9995111 ],\n",
                     "       [0.9235139 ],\n",
                     "       [0.9999978 ]], dtype=float32)"
                  ]
               },
               "execution_count": 131,
               "metadata": {},
               "output_type": "execute_result"
            }
         ],
         "source": [
            "y_pred=lstm_rnn_model.predict(X_test)\n",
            "y_pred"
         ]
      },
      {
         "cell_type": "code",
         "execution_count": 132,
         "metadata": {},
         "outputs": [
            {
               "name": "stdout",
               "output_type": "stream",
               "text": [
                  "63/63 [==============================] - 1s 23ms/step - loss: 1.6335 - accuracy: 0.5675\n"
               ]
            },
            {
               "data": {
                  "text/plain": [
                     "[1.6334964036941528, 0.5674999952316284]"
                  ]
               },
               "execution_count": 132,
               "metadata": {},
               "output_type": "execute_result"
            }
         ],
         "source": [
            "eval=lstm_rnn_model.evaluate(X_test, y_test)\n",
            "eval"
         ]
      },
      {
         "cell_type": "code",
         "execution_count": 133,
         "metadata": {},
         "outputs": [
            {
               "name": "stdout",
               "output_type": "stream",
               "text": [
                  "63/63 [==============================] - 2s 29ms/step - loss: 1.6335 - accuracy: 0.5675\n",
                  "Evaluation du modèle : [1.6334964036941528, 0.5674999952316284]\n",
                  "63/63 [==============================] - 1s 15ms/step\n"
               ]
            },
            {
               "data": {
                  "text/plain": [
                     "Text(45.722222222222214, 0.5, 'True Labels')"
                  ]
               },
               "execution_count": 133,
               "metadata": {},
               "output_type": "execute_result"
            },
            {
               "data": {
                  "image/png": "[encoded data removed]",
                  "text/plain": [
                     "<Figure size 600x600 with 1 Axes>"
                  ]
               },
               "metadata": {},
               "output_type": "display_data"
            }
         ],
         "source": [
            "print(f\"Evaluation du modèle : {lstm_rnn_model.evaluate(X_test, y_test)}\")\n",
            "y_pred = lstm_rnn_model.predict(X_test)\n",
            "preds = np.round(y_pred).astype(int)\n",
            "cm = confusion_matrix(y_test, preds)\n",
            "fig, ax = plt.subplots(figsize=(6,6)) \n",
            "sns.heatmap(cm, annot=True, cbar=False, cmap='Blues')\n",
            "plt.xlabel('Predicted Labels')\n",
            "plt.ylabel('True Labels')"
         ]
      },
      {
         "attachments": {},
         "cell_type": "markdown",
         "metadata": {},
         "source": [
            "# Simple GRU"
         ]
      },
      {
         "cell_type": "code",
         "execution_count": 82,
         "metadata": {},
         "outputs": [],
         "source": [
            "simple_GRU = keras.models.Sequential()\n",
            "simple_GRU.add( keras.layers.Dense(32,input_shape=(20,13), activation='relu'))\n",
            "simple_GRU.add( keras.layers.Dropout(0.2) )\n",
            "simple_GRU.add( keras.layers.BatchNormalization() )\n",
            "simple_GRU.add( keras.layers.GRU(100, return_sequences=False, activation='relu') )\n",
            "simple_GRU.add( keras.layers.Dropout(0.2) )\n",
            "simple_GRU.add( keras.layers.BatchNormalization() )\n",
            "simple_GRU.add( keras.layers.Dense(64, activation='relu') )\n",
            "simple_GRU.add( keras.layers.Dropout(0.2) )\n",
            "simple_GRU.add( keras.layers.Dense(1, activation='sigmoid') )\n"
         ]
      },
      {
         "cell_type": "code",
         "execution_count": 83,
         "metadata": {},
         "outputs": [],
         "source": [
            "callback = keras.callbacks.EarlyStopping(monitor='val_accuracy', patience=5, restore_best_weights=True)\n",
            "opt = keras.optimizers.SGD(learning_rate=0.01)\n",
            "simple_GRU.compile(loss='binary_crossentropy', optimizer=opt, metrics='accuracy')"
         ]
      },
      {
         "cell_type": "code",
         "execution_count": 84,
         "metadata": {},
         "outputs": [
            {
               "name": "stdout",
               "output_type": "stream",
               "text": [
                  "Epoch 1/25\n",
                  "1969/1969 [==============================] - 34s 16ms/step - loss: 0.4397 - accuracy: 0.7920 - val_loss: 0.3459 - val_accuracy: 0.8461\n",
                  "Epoch 2/25\n",
                  "1969/1969 [==============================] - 30s 15ms/step - loss: 0.3673 - accuracy: 0.8372 - val_loss: 0.3430 - val_accuracy: 0.8524\n",
                  "Epoch 3/25\n",
                  "1969/1969 [==============================] - 31s 16ms/step - loss: 0.3574 - accuracy: 0.8395 - val_loss: 0.3431 - val_accuracy: 0.8494\n",
                  "Epoch 4/25\n",
                  "1969/1969 [==============================] - 30s 15ms/step - loss: 0.3530 - accuracy: 0.8407 - val_loss: 0.4077 - val_accuracy: 0.8220\n",
                  "Epoch 5/25\n",
                  "1969/1969 [==============================] - 30s 15ms/step - loss: 0.3541 - accuracy: 0.8407 - val_loss: 0.4371 - val_accuracy: 0.8011\n",
                  "Epoch 6/25\n",
                  "1969/1969 [==============================] - 31s 16ms/step - loss: 0.3527 - accuracy: 0.8419 - val_loss: 0.3536 - val_accuracy: 0.8417\n",
                  "Epoch 7/25\n",
                  "1969/1969 [==============================] - 32s 16ms/step - loss: 0.3513 - accuracy: 0.8421 - val_loss: 0.3686 - val_accuracy: 0.8314\n"
               ]
            }
         ],
         "source": [
            "history = simple_GRU.fit(X_train, y_train, epochs=25, batch_size=32, validation_split=0.3, callbacks=[callback])"
         ]
      },
      {
         "cell_type": "code",
         "execution_count": 85,
         "metadata": {},
         "outputs": [
            {
               "data": {
                  "text/plain": [
                     "<AxesSubplot: >"
                  ]
               },
               "execution_count": 85,
               "metadata": {},
               "output_type": "execute_result"
            },
            {
               "data": {
                  "image/png": "[encoded data removed]",
                  "text/plain": [
                     "<Figure size 640x480 with 1 Axes>"
                  ]
               },
               "metadata": {},
               "output_type": "display_data"
            }
         ],
         "source": [
            "history_df = pd.DataFrame(history.history)\n",
            "history_df.loc[:, ['accuracy', 'val_accuracy']].plot()"
         ]
      },
      {
         "cell_type": "code",
         "execution_count": 86,
         "metadata": {},
         "outputs": [
            {
               "data": {
                  "text/plain": [
                     "<AxesSubplot: >"
                  ]
               },
               "execution_count": 86,
               "metadata": {},
               "output_type": "execute_result"
            },
            {
               "data": {
                  "image/png": "[encoded data removed]",
                  "text/plain": [
                     "<Figure size 640x480 with 1 Axes>"
                  ]
               },
               "metadata": {},
               "output_type": "display_data"
            }
         ],
         "source": [
            "history_df.loc[:, ['loss', 'val_loss']].plot()"
         ]
      },
      {
         "cell_type": "code",
         "execution_count": 87,
         "metadata": {},
         "outputs": [
            {
               "name": "stdout",
               "output_type": "stream",
               "text": [
                  "313/313 [==============================] - 2s 6ms/step\n"
               ]
            },
            {
               "data": {
                  "text/plain": [
                     "array([[0.99817896],\n",
                     "       [0.8805643 ],\n",
                     "       [0.9832715 ],\n",
                     "       ...,\n",
                     "       [0.32451648],\n",
                     "       [0.24189532],\n",
                     "       [0.9985351 ]], dtype=float32)"
                  ]
               },
               "execution_count": 87,
               "metadata": {},
               "output_type": "execute_result"
            }
         ],
         "source": [
            "y_pred=simple_GRU.predict(X_test)\n",
            "y_pred"
         ]
      },
      {
         "cell_type": "code",
         "execution_count": 88,
         "metadata": {},
         "outputs": [
            {
               "name": "stdout",
               "output_type": "stream",
               "text": [
                  "313/313 [==============================] - 2s 6ms/step - loss: 0.3417 - accuracy: 0.8551\n"
               ]
            },
            {
               "data": {
                  "text/plain": [
                     "[0.34168919920921326, 0.8550999760627747]"
                  ]
               },
               "execution_count": 88,
               "metadata": {},
               "output_type": "execute_result"
            }
         ],
         "source": [
            "eval=simple_GRU.evaluate(X_test, y_test)\n",
            "eval"
         ]
      },
      {
         "cell_type": "code",
         "execution_count": 89,
         "metadata": {},
         "outputs": [
            {
               "name": "stdout",
               "output_type": "stream",
               "text": [
                  "313/313 [==============================] - 2s 6ms/step - loss: 0.3417 - accuracy: 0.8551\n",
                  "Evaluation du modèle : [0.34168919920921326, 0.8550999760627747]\n",
                  "313/313 [==============================] - 2s 6ms/step\n"
               ]
            },
            {
               "data": {
                  "text/plain": [
                     "Text(45.722222222222214, 0.5, 'True Labels')"
                  ]
               },
               "execution_count": 89,
               "metadata": {},
               "output_type": "execute_result"
            },
            {
               "data": {
                  "image/png": "[encoded data removed]",
                  "text/plain": [
                     "<Figure size 600x600 with 1 Axes>"
                  ]
               },
               "metadata": {},
               "output_type": "display_data"
            }
         ],
         "source": [
            "print(f\"Evaluation du modèle : {simple_GRU.evaluate(X_test, y_test)}\")\n",
            "y_pred = simple_GRU.predict(X_test)\n",
            "preds = np.round(y_pred).astype(int)\n",
            "cm = confusion_matrix(y_test, preds)\n",
            "fig, ax = plt.subplots(figsize=(6,6)) \n",
            "sns.heatmap(cm, annot=True, cbar=False, cmap='Blues')\n",
            "plt.xlabel('Predicted Labels')\n",
            "plt.ylabel('True Labels')"
         ]
      }
   ],
   "metadata": {
      "kernelspec": {
         "display_name": "cy",
         "language": "python",
         "name": "python3"
      },
      "language_info": {
         "codemirror_mode": {
            "name": "ipython",
            "version": 3
         },
         "file_extension": ".py",
         "mimetype": "text/x-python",
         "name": "python",
         "nbconvert_exporter": "python",
         "pygments_lexer": "ipython3",
         "version": "3.8.15"
      },
      "orig_nbformat": 4,
      "vscode": {
         "interpreter": {
            "hash": "62676a739a12458da1789023e3b8ff577b389322e46d1a1cbf9699674fd76d84"
         }
      }
   },
   "nbformat": 4,
   "nbformat_minor": 2
}

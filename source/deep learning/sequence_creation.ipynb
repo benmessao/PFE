{
 "cells": [
  {
   "cell_type": "code",
   "execution_count": 1,
   "metadata": {},
   "outputs": [],
   "source": [
    "import pandas as pd\n",
    "import numpy as np\n",
    "import sys\n",
    "sys.path.append('../src/')\n",
    "import dataset_prep"
   ]
  },
  {
   "attachments": {},
   "cell_type": "markdown",
   "metadata": {},
   "source": [
    "Import de la base de données"
   ]
  },
  {
   "cell_type": "code",
   "execution_count": 2,
   "metadata": {},
   "outputs": [],
   "source": [
    "selected_columns = [\n",
    "\"nb_packets_sent\",\n",
    "\"distance\",\n",
    "\"distRealSR1\",\n",
    "\"pos_y_rec_f\",\n",
    "\"pos_y_rec\",\n",
    "\"pos_x_rec_f\",\n",
    "\"pos_x_rec\",\n",
    "\"pos_x_send\",\n",
    "\"pos_y_send\",\n",
    "\"spd_x_send\",\n",
    "\"spd_y_send\",\n",
    "\"sendTime\",\n",
    "\"receiver\",\n",
    "\"sender\",\n",
    "\"label\"\n",
    "]"
   ]
  },
  {
   "cell_type": "code",
   "execution_count": 3,
   "metadata": {},
   "outputs": [
    {
     "name": "stdout",
     "output_type": "stream",
     "text": [
      "Nombre de lignes avant nettoyage :  4753433\n",
      "Nombre de lignes après nettoyage :  4709293\n"
     ]
    }
   ],
   "source": [
    "df = dataset_prep.import_dataset('../data/DoS_0709_new_columns.csv', selected_columns)"
   ]
  },
  {
   "attachments": {},
   "cell_type": "markdown",
   "metadata": {},
   "source": [
    "Analyse et vérification des données"
   ]
  },
  {
   "cell_type": "code",
   "execution_count": 4,
   "metadata": {},
   "outputs": [
    {
     "data": {
      "text/plain": [
       "array([    9,    15,    21, ..., 24399, 24405, 24411], dtype=int64)"
      ]
     },
     "execution_count": 4,
     "metadata": {},
     "output_type": "execute_result"
    }
   ],
   "source": [
    "senders = np.unique(df[\"sender\"].values)\n",
    "senders"
   ]
  },
  {
   "cell_type": "code",
   "execution_count": 5,
   "metadata": {},
   "outputs": [
    {
     "name": "stdout",
     "output_type": "stream",
     "text": [
      "4067\n"
     ]
    }
   ],
   "source": [
    "print(len(senders))"
   ]
  },
  {
   "cell_type": "code",
   "execution_count": 6,
   "metadata": {},
   "outputs": [
    {
     "data": {
      "text/html": [
       "<div>\n",
       "<style scoped>\n",
       "    .dataframe tbody tr th:only-of-type {\n",
       "        vertical-align: middle;\n",
       "    }\n",
       "\n",
       "    .dataframe tbody tr th {\n",
       "        vertical-align: top;\n",
       "    }\n",
       "\n",
       "    .dataframe thead th {\n",
       "        text-align: right;\n",
       "    }\n",
       "</style>\n",
       "<table border=\"1\" class=\"dataframe\">\n",
       "  <thead>\n",
       "    <tr style=\"text-align: right;\">\n",
       "      <th></th>\n",
       "      <th>sendTime</th>\n",
       "      <th>sender</th>\n",
       "      <th>receiver</th>\n",
       "      <th>pos_x_send</th>\n",
       "      <th>pos_y_send</th>\n",
       "      <th>spd_x_send</th>\n",
       "      <th>spd_y_send</th>\n",
       "      <th>label</th>\n",
       "      <th>pos_x_rec</th>\n",
       "      <th>pos_y_rec</th>\n",
       "      <th>pos_x_rec_f</th>\n",
       "      <th>pos_y_rec_f</th>\n",
       "      <th>nb_packets_sent</th>\n",
       "      <th>distRealSR1</th>\n",
       "      <th>distance</th>\n",
       "    </tr>\n",
       "  </thead>\n",
       "  <tbody>\n",
       "    <tr>\n",
       "      <th>4</th>\n",
       "      <td>25212.602877</td>\n",
       "      <td>9</td>\n",
       "      <td>45</td>\n",
       "      <td>257.604242</td>\n",
       "      <td>141.917136</td>\n",
       "      <td>-2.409908</td>\n",
       "      <td>14.316189</td>\n",
       "      <td>0</td>\n",
       "      <td>265.540271</td>\n",
       "      <td>46.207434</td>\n",
       "      <td>268.539855</td>\n",
       "      <td>49.801087</td>\n",
       "      <td>96</td>\n",
       "      <td>7.936029</td>\n",
       "      <td>96.038156</td>\n",
       "    </tr>\n",
       "    <tr>\n",
       "      <th>5</th>\n",
       "      <td>25213.602877</td>\n",
       "      <td>9</td>\n",
       "      <td>45</td>\n",
       "      <td>255.242943</td>\n",
       "      <td>156.206787</td>\n",
       "      <td>-2.566640</td>\n",
       "      <td>14.210027</td>\n",
       "      <td>0</td>\n",
       "      <td>268.539855</td>\n",
       "      <td>49.801087</td>\n",
       "      <td>268.050977</td>\n",
       "      <td>55.331302</td>\n",
       "      <td>96</td>\n",
       "      <td>13.296912</td>\n",
       "      <td>107.233302</td>\n",
       "    </tr>\n",
       "    <tr>\n",
       "      <th>6</th>\n",
       "      <td>25214.602878</td>\n",
       "      <td>9</td>\n",
       "      <td>45</td>\n",
       "      <td>252.857751</td>\n",
       "      <td>170.495740</td>\n",
       "      <td>-2.342829</td>\n",
       "      <td>14.254332</td>\n",
       "      <td>0</td>\n",
       "      <td>268.050977</td>\n",
       "      <td>55.331302</td>\n",
       "      <td>270.113953</td>\n",
       "      <td>63.318293</td>\n",
       "      <td>96</td>\n",
       "      <td>15.193227</td>\n",
       "      <td>116.162309</td>\n",
       "    </tr>\n",
       "    <tr>\n",
       "      <th>7</th>\n",
       "      <td>25215.602879</td>\n",
       "      <td>9</td>\n",
       "      <td>45</td>\n",
       "      <td>250.525544</td>\n",
       "      <td>184.832952</td>\n",
       "      <td>-2.352874</td>\n",
       "      <td>14.315002</td>\n",
       "      <td>0</td>\n",
       "      <td>270.113953</td>\n",
       "      <td>63.318293</td>\n",
       "      <td>268.836896</td>\n",
       "      <td>72.915064</td>\n",
       "      <td>96</td>\n",
       "      <td>19.588409</td>\n",
       "      <td>123.083379</td>\n",
       "    </tr>\n",
       "    <tr>\n",
       "      <th>8</th>\n",
       "      <td>25216.602880</td>\n",
       "      <td>9</td>\n",
       "      <td>45</td>\n",
       "      <td>248.511212</td>\n",
       "      <td>199.166902</td>\n",
       "      <td>-2.079440</td>\n",
       "      <td>14.360857</td>\n",
       "      <td>0</td>\n",
       "      <td>268.836896</td>\n",
       "      <td>72.915064</td>\n",
       "      <td>267.267270</td>\n",
       "      <td>84.617270</td>\n",
       "      <td>96</td>\n",
       "      <td>20.325683</td>\n",
       "      <td>127.877519</td>\n",
       "    </tr>\n",
       "    <tr>\n",
       "      <th>...</th>\n",
       "      <td>...</td>\n",
       "      <td>...</td>\n",
       "      <td>...</td>\n",
       "      <td>...</td>\n",
       "      <td>...</td>\n",
       "      <td>...</td>\n",
       "      <td>...</td>\n",
       "      <td>...</td>\n",
       "      <td>...</td>\n",
       "      <td>...</td>\n",
       "      <td>...</td>\n",
       "      <td>...</td>\n",
       "      <td>...</td>\n",
       "      <td>...</td>\n",
       "      <td>...</td>\n",
       "    </tr>\n",
       "    <tr>\n",
       "      <th>94</th>\n",
       "      <td>25291.602880</td>\n",
       "      <td>9</td>\n",
       "      <td>225</td>\n",
       "      <td>134.821280</td>\n",
       "      <td>1024.506204</td>\n",
       "      <td>-0.602227</td>\n",
       "      <td>8.137469</td>\n",
       "      <td>0</td>\n",
       "      <td>138.085770</td>\n",
       "      <td>1102.386398</td>\n",
       "      <td>138.801402</td>\n",
       "      <td>1096.647173</td>\n",
       "      <td>96</td>\n",
       "      <td>3.264490</td>\n",
       "      <td>77.948582</td>\n",
       "    </tr>\n",
       "    <tr>\n",
       "      <th>65</th>\n",
       "      <td>25291.602880</td>\n",
       "      <td>9</td>\n",
       "      <td>147</td>\n",
       "      <td>134.821280</td>\n",
       "      <td>1024.506204</td>\n",
       "      <td>-0.602227</td>\n",
       "      <td>8.137469</td>\n",
       "      <td>0</td>\n",
       "      <td>147.593919</td>\n",
       "      <td>898.797866</td>\n",
       "      <td>147.021568</td>\n",
       "      <td>894.975244</td>\n",
       "      <td>96</td>\n",
       "      <td>12.772639</td>\n",
       "      <td>126.355556</td>\n",
       "    </tr>\n",
       "    <tr>\n",
       "      <th>91</th>\n",
       "      <td>25292.602869</td>\n",
       "      <td>9</td>\n",
       "      <td>219</td>\n",
       "      <td>134.539820</td>\n",
       "      <td>1030.197090</td>\n",
       "      <td>-0.270067</td>\n",
       "      <td>3.653434</td>\n",
       "      <td>0</td>\n",
       "      <td>142.457918</td>\n",
       "      <td>1043.790636</td>\n",
       "      <td>143.221108</td>\n",
       "      <td>1033.675922</td>\n",
       "      <td>96</td>\n",
       "      <td>7.918098</td>\n",
       "      <td>15.731521</td>\n",
       "    </tr>\n",
       "    <tr>\n",
       "      <th>95</th>\n",
       "      <td>25292.602869</td>\n",
       "      <td>9</td>\n",
       "      <td>225</td>\n",
       "      <td>134.539820</td>\n",
       "      <td>1030.197090</td>\n",
       "      <td>-0.270067</td>\n",
       "      <td>3.653434</td>\n",
       "      <td>0</td>\n",
       "      <td>138.801402</td>\n",
       "      <td>1096.647173</td>\n",
       "      <td>139.551488</td>\n",
       "      <td>1089.075886</td>\n",
       "      <td>96</td>\n",
       "      <td>4.261582</td>\n",
       "      <td>66.586594</td>\n",
       "    </tr>\n",
       "    <tr>\n",
       "      <th>66</th>\n",
       "      <td>25292.602870</td>\n",
       "      <td>9</td>\n",
       "      <td>147</td>\n",
       "      <td>134.539820</td>\n",
       "      <td>1030.197090</td>\n",
       "      <td>-0.270067</td>\n",
       "      <td>3.653434</td>\n",
       "      <td>0</td>\n",
       "      <td>147.021568</td>\n",
       "      <td>894.975244</td>\n",
       "      <td>143.965279</td>\n",
       "      <td>889.590074</td>\n",
       "      <td>96</td>\n",
       "      <td>12.481748</td>\n",
       "      <td>135.796693</td>\n",
       "    </tr>\n",
       "  </tbody>\n",
       "</table>\n",
       "<p>96 rows × 15 columns</p>\n",
       "</div>"
      ],
      "text/plain": [
       "        sendTime  sender  receiver  pos_x_send   pos_y_send  spd_x_send  \\\n",
       "4   25212.602877       9        45  257.604242   141.917136   -2.409908   \n",
       "5   25213.602877       9        45  255.242943   156.206787   -2.566640   \n",
       "6   25214.602878       9        45  252.857751   170.495740   -2.342829   \n",
       "7   25215.602879       9        45  250.525544   184.832952   -2.352874   \n",
       "8   25216.602880       9        45  248.511212   199.166902   -2.079440   \n",
       "..           ...     ...       ...         ...          ...         ...   \n",
       "94  25291.602880       9       225  134.821280  1024.506204   -0.602227   \n",
       "65  25291.602880       9       147  134.821280  1024.506204   -0.602227   \n",
       "91  25292.602869       9       219  134.539820  1030.197090   -0.270067   \n",
       "95  25292.602869       9       225  134.539820  1030.197090   -0.270067   \n",
       "66  25292.602870       9       147  134.539820  1030.197090   -0.270067   \n",
       "\n",
       "    spd_y_send  label   pos_x_rec    pos_y_rec  pos_x_rec_f  pos_y_rec_f  \\\n",
       "4    14.316189      0  265.540271    46.207434   268.539855    49.801087   \n",
       "5    14.210027      0  268.539855    49.801087   268.050977    55.331302   \n",
       "6    14.254332      0  268.050977    55.331302   270.113953    63.318293   \n",
       "7    14.315002      0  270.113953    63.318293   268.836896    72.915064   \n",
       "8    14.360857      0  268.836896    72.915064   267.267270    84.617270   \n",
       "..         ...    ...         ...          ...          ...          ...   \n",
       "94    8.137469      0  138.085770  1102.386398   138.801402  1096.647173   \n",
       "65    8.137469      0  147.593919   898.797866   147.021568   894.975244   \n",
       "91    3.653434      0  142.457918  1043.790636   143.221108  1033.675922   \n",
       "95    3.653434      0  138.801402  1096.647173   139.551488  1089.075886   \n",
       "66    3.653434      0  147.021568   894.975244   143.965279   889.590074   \n",
       "\n",
       "    nb_packets_sent  distRealSR1    distance  \n",
       "4                96     7.936029   96.038156  \n",
       "5                96    13.296912  107.233302  \n",
       "6                96    15.193227  116.162309  \n",
       "7                96    19.588409  123.083379  \n",
       "8                96    20.325683  127.877519  \n",
       "..              ...          ...         ...  \n",
       "94               96     3.264490   77.948582  \n",
       "65               96    12.772639  126.355556  \n",
       "91               96     7.918098   15.731521  \n",
       "95               96     4.261582   66.586594  \n",
       "66               96    12.481748  135.796693  \n",
       "\n",
       "[96 rows x 15 columns]"
      ]
     },
     "execution_count": 6,
     "metadata": {},
     "output_type": "execute_result"
    }
   ],
   "source": [
    "df.loc[df['sender'] == senders[0]].sort_values(\"sendTime\")"
   ]
  },
  {
   "cell_type": "code",
   "execution_count": 7,
   "metadata": {},
   "outputs": [],
   "source": [
    "# Copie de la bdd pour récuperer les colonnes sans impacter la vraie base de données\n",
    "\n",
    "data_copy = df.copy()\n",
    "data_copy = data_copy.drop([\"label\"], axis=1)\n",
    "\n",
    "columns = data_copy.columns"
   ]
  },
  {
   "attachments": {},
   "cell_type": "markdown",
   "metadata": {},
   "source": [
    "Amélioration à faire :\n",
    "\n",
    "Séléctionner seulement les sender avec value_counts > 20"
   ]
  },
  {
   "attachments": {},
   "cell_type": "markdown",
   "metadata": {},
   "source": [
    "Séparation de la base de données : diviser pour régner"
   ]
  },
  {
   "cell_type": "code",
   "execution_count": 8,
   "metadata": {},
   "outputs": [],
   "source": [
    "# /!\\ attention à bien utiliser la base de données rangée par sender pour limiter la perte de données\n",
    "# Indice égal à 0, 1 ou 2\n",
    "# Célia = 0\n",
    "# Chléo = 1\n",
    "# Thomas = 2\n",
    "\n",
    "def split_data_in_3(df, indice):\n",
    "    # Division de la bdd en 3\n",
    "    split_data = np.array_split(df,3)\n",
    "\n",
    "    # Division en plusieurs sous-bdd pour diminuer le temps de calcul par exécution\n",
    "    #divided_data = np.array_split(split_data[indice],50)\n",
    "\n",
    "    return split_data"
   ]
  },
  {
   "attachments": {},
   "cell_type": "markdown",
   "metadata": {},
   "source": [
    "/!\\ à bien changer l'indice !!"
   ]
  },
  {
   "cell_type": "code",
   "execution_count": 16,
   "metadata": {},
   "outputs": [],
   "source": [
    "divided_dataframes = split_data_in_3(df.sort_values(\"sender\"),0)"
   ]
  },
  {
   "cell_type": "code",
   "execution_count": 17,
   "metadata": {},
   "outputs": [
    {
     "data": {
      "text/plain": [
       "3"
      ]
     },
     "execution_count": 17,
     "metadata": {},
     "output_type": "execute_result"
    }
   ],
   "source": [
    "len(divided_dataframes)"
   ]
  },
  {
   "cell_type": "code",
   "execution_count": null,
   "metadata": {},
   "outputs": [],
   "source": [
    "sequence = (df.loc[df['sender'] == senders[0]].sort_values(\"sendTime\"))[0:20]\n",
    "sequence.values.tolist()"
   ]
  },
  {
   "cell_type": "code",
   "execution_count": 22,
   "metadata": {},
   "outputs": [
    {
     "data": {
      "text/plain": [
       "202"
      ]
     },
     "execution_count": 22,
     "metadata": {},
     "output_type": "execute_result"
    }
   ],
   "source": [
    "df.loc[df['receiver'] == senders[7]]['label'].shape[0]"
   ]
  },
  {
   "cell_type": "code",
   "execution_count": 26,
   "metadata": {},
   "outputs": [
    {
     "data": {
      "text/plain": [
       "0"
      ]
     },
     "execution_count": 26,
     "metadata": {},
     "output_type": "execute_result"
    }
   ],
   "source": [
    "label = df.loc[df['sender'] == senders[0]]['label'].tolist()[0]\n",
    "label"
   ]
  },
  {
   "attachments": {},
   "cell_type": "markdown",
   "metadata": {},
   "source": [
    "Création des séquences"
   ]
  },
  {
   "cell_type": "code",
   "execution_count": 23,
   "metadata": {},
   "outputs": [],
   "source": [
    "def sequence_creation(df):\n",
    "    senders_sequences = []\n",
    "    senders_label = []\n",
    "    for sender in senders:\n",
    "        sender_data_sorted = df.loc[df['sender'] == sender].sort_values(\"sendTime\")\n",
    "        sender_data_sorted = sender_data_sorted.drop([\"label\",\"sender\"], axis=1)\n",
    "        sequence_array = []\n",
    "\n",
    "        length = sender_data_sorted.shape[0]\n",
    "        slide = 10\n",
    "        start = 0\n",
    "        end = 20\n",
    "\n",
    "        # On récupère la valeur du label pour ce sender\n",
    "        label = df.loc[df['sender'] == sender]['label'].tolist()[0]\n",
    "        if (length > 20):\n",
    "            senders_label.append(label)\n",
    "\n",
    "        # On vérifie qu'il est possible de faire une séquence de taille 20\n",
    "        while length > 20:\n",
    "            # Extraction par tranche de 20 avec une inter de 10\n",
    "            sequence = sender_data_sorted[start:end]\n",
    "\n",
    "            # Labels correspondant\n",
    "            #labels =  pd.Series.tolist(sequence[\"label\"])\n",
    "\n",
    "            # On transforme les 13 en 1, cette formule marche toujours si on met d'autres types d'attaques\n",
    "            #labels[:] = [x if x == 0 else 1 for x in labels]\n",
    "\n",
    "            # Attribution des tableaux numpy\n",
    "            sequence_array.append(np.array(sequence.values.tolist()))\n",
    "            #label_array.append(labels)\n",
    "\n",
    "            # Mise à jour des variables\n",
    "            start += slide\n",
    "            end += slide\n",
    "            length -= 10\n",
    "        \n",
    "        if len(sequence_array)>0:\n",
    "            senders_sequences.append(np.array(sequence_array,dtype=object))\n",
    "\n",
    "    \n",
    "    return senders_sequences, senders_label"
   ]
  },
  {
   "cell_type": "code",
   "execution_count": null,
   "metadata": {},
   "outputs": [],
   "source": [
    "for sender in senders:\n",
    "    # Données d'un seul sender rangée en fonction de l'heure d'envoi\n",
    "    sender_data_sorted = df.loc[df['sender'] == sender].sort_values(\"sendTime\")\n",
    "    # On récupère la valeur du label pour ce sender\n",
    "    print(sender_data_sorted['label'].tolist()[0])"
   ]
  },
  {
   "cell_type": "code",
   "execution_count": 9,
   "metadata": {},
   "outputs": [],
   "source": [
    "def flat_sequence_creation(df):\n",
    "    senders_sequences = []\n",
    "    senders_label = []\n",
    "\n",
    "    for sender in senders:\n",
    "        # Données d'un seul sender rangée en fonction de l'heure d'envoi\n",
    "        sender_data_sorted = df.loc[df['sender'] == sender].sort_values(\"sendTime\")\n",
    "        # On récupère la valeur du label pour ce sender\n",
    "        label = sender_data_sorted['label'].tolist()[0]\n",
    "        #On supprime les colonnes label et sender\n",
    "        sender_data_sorted = sender_data_sorted.drop([\"label\",\"sender\"], axis=1)\n",
    "        \n",
    "        #sequence_array = []\n",
    "\n",
    "        length = sender_data_sorted.shape[0]\n",
    "        slide = 10\n",
    "        start = 0\n",
    "        end = 20\n",
    "\n",
    "        # On vérifie qu'il est possible de faire une séquence de taille 20\n",
    "        while length > 20:\n",
    "            # Extraction par tranche de 20 avec une inter de 10\n",
    "            sequence = sender_data_sorted[start:end]\n",
    "\n",
    "            # Labels correspondant\n",
    "            #labels =  pd.Series.tolist(sequence[\"label\"])\n",
    "\n",
    "            # On transforme les 13 en 1, cette formule marche toujours si on met d'autres types d'attaques\n",
    "            #labels[:] = [x if x == 0 else 1 for x in labels]\n",
    "\n",
    "            # Attribution des tableaux numpy\n",
    "            senders_sequences.append(np.array(sequence.values.tolist(), dtype=np.float32))\n",
    "            senders_label.append(label)\n",
    "\n",
    "            # Mise à jour des variables\n",
    "            start += slide\n",
    "            end += slide\n",
    "            length -= 10\n",
    "\n",
    "    return senders_sequences, senders_label"
   ]
  },
  {
   "attachments": {},
   "cell_type": "markdown",
   "metadata": {},
   "source": [
    "/!\\ à bien changer l'indice !!"
   ]
  },
  {
   "cell_type": "code",
   "execution_count": 10,
   "metadata": {},
   "outputs": [],
   "source": [
    "sorted_dataset = df.sort_values(\"sender\")"
   ]
  },
  {
   "cell_type": "code",
   "execution_count": 11,
   "metadata": {},
   "outputs": [],
   "source": [
    "sequence_test, label_test = flat_sequence_creation(sorted_dataset)"
   ]
  },
  {
   "attachments": {},
   "cell_type": "markdown",
   "metadata": {},
   "source": [
    "Vérification des séquences obtenues"
   ]
  },
  {
   "cell_type": "code",
   "execution_count": 66,
   "metadata": {},
   "outputs": [
    {
     "data": {
      "text/plain": [
       "464647"
      ]
     },
     "execution_count": 66,
     "metadata": {},
     "output_type": "execute_result"
    }
   ],
   "source": [
    "len(sequence_test)"
   ]
  },
  {
   "attachments": {},
   "cell_type": "markdown",
   "metadata": {},
   "source": [
    "Initialisation des données"
   ]
  },
  {
   "cell_type": "code",
   "execution_count": 12,
   "metadata": {},
   "outputs": [],
   "source": [
    "import pandas as pd\n",
    "import numpy as np\n",
    "from tensorflow import keras\n",
    "from keras import layers, applications, utils, models, optimizers, Input, callbacks\n",
    "from keras.models import Sequential\n",
    "from keras.layers import Dense, SimpleRNN\n",
    "from sklearn.preprocessing import MinMaxScaler\n",
    "from sklearn.metrics import mean_squared_error\n",
    "import math\n",
    "import matplotlib.pyplot as plt\n",
    "from sklearn.model_selection import train_test_split\n",
    "from sklearn.metrics import confusion_matrix, classification_report\n",
    "import seaborn as sns"
   ]
  },
  {
   "cell_type": "code",
   "execution_count": 13,
   "metadata": {},
   "outputs": [],
   "source": [
    "# Transformation en array numpy\n",
    "X = np.array(sequence_test)\n",
    "y = np.array(label_test, dtype=np.float32)"
   ]
  },
  {
   "cell_type": "code",
   "execution_count": 14,
   "metadata": {},
   "outputs": [],
   "source": [
    "X = X[:100]\n",
    "y = y[:100]"
   ]
  },
  {
   "cell_type": "code",
   "execution_count": 15,
   "metadata": {},
   "outputs": [],
   "source": [
    "# Séparation en données d'entrainement et de test\n",
    "X_train, X_test, y_train, y_test = train_test_split(X, y, test_size=0.1)"
   ]
  },
  {
   "cell_type": "code",
   "execution_count": 16,
   "metadata": {},
   "outputs": [
    {
     "name": "stdout",
     "output_type": "stream",
     "text": [
      "X_train :  (90, 20, 13)\n",
      "y_train :  (90,)\n",
      "X_test :  (10, 20, 13)\n",
      "y_test :  (10,)\n"
     ]
    }
   ],
   "source": [
    "print(\"X_train : \", X_train.shape)\n",
    "print(\"y_train : \", y_train.shape)\n",
    "print(\"X_test : \", X_test.shape)\n",
    "print(\"y_test : \", y_test.shape)"
   ]
  },
  {
   "attachments": {},
   "cell_type": "markdown",
   "metadata": {},
   "source": [
    "Modèle dense simple"
   ]
  },
  {
   "cell_type": "code",
   "execution_count": 59,
   "metadata": {},
   "outputs": [],
   "source": [
    "simple_model = keras.Sequential([\n",
    "    layers.Dense(32,input_shape=(20, 13), activation='linear'),\n",
    "    layers.BatchNormalization(),\n",
    "    layers.Dense(512, activation='linear'),\n",
    "    layers.BatchNormalization(),\n",
    "    layers.Dense(128, activation='linear'),\n",
    "    layers.Dense(1, activation='linear')\n",
    "])"
   ]
  },
  {
   "cell_type": "code",
   "execution_count": 60,
   "metadata": {},
   "outputs": [
    {
     "name": "stdout",
     "output_type": "stream",
     "text": [
      "INPUT\n",
      "(None, 20, 13) <dtype: 'float32'>\n",
      "OUTPUT\n",
      "(None, 20, 1) <dtype: 'float32'>\n",
      "LAYERS\n",
      "dense_38 (None, 20, 13) float32\n",
      "batch_normalization_11 (None, 20, 32) float32\n",
      "dense_39 (None, 20, 32) float32\n",
      "batch_normalization_12 (None, 20, 512) float32\n",
      "dense_40 (None, 20, 512) float32\n",
      "dense_41 (None, 20, 128) float32\n"
     ]
    },
    {
     "data": {
      "text/plain": [
       "[None, None, None, None, None, None]"
      ]
     },
     "execution_count": 60,
     "metadata": {},
     "output_type": "execute_result"
    }
   ],
   "source": [
    "print(\"INPUT\")\n",
    "[print(i.shape, i.dtype) for i in simple_model.inputs]\n",
    "print(\"OUTPUT\")\n",
    "[print(o.shape, o.dtype) for o in simple_model.outputs]\n",
    "print(\"LAYERS\")\n",
    "[print(l.name, l.input_shape, l.dtype) for l in simple_model.layers]"
   ]
  },
  {
   "cell_type": "code",
   "execution_count": 61,
   "metadata": {},
   "outputs": [],
   "source": [
    "callback = keras.callbacks.EarlyStopping(monitor='val_accuracy', patience=5, restore_best_weights=True)\n",
    "opt = keras.optimizers.SGD(learning_rate=0.1)\n",
    "simple_model.compile(loss='mean_squared_error', optimizer='adam', metrics='accuracy')"
   ]
  },
  {
   "cell_type": "code",
   "execution_count": 62,
   "metadata": {},
   "outputs": [
    {
     "name": "stdout",
     "output_type": "stream",
     "text": [
      "Epoch 1/10\n",
      "1/1 - 3s - loss: 62.1674 - accuracy: 0.4220 - val_loss: 43023.6055 - val_accuracy: 0.0000e+00 - 3s/epoch - 3s/step\n",
      "Epoch 2/10\n",
      "1/1 - 0s - loss: 84.3478 - accuracy: 0.1915 - val_loss: 17740.8535 - val_accuracy: 0.0000e+00 - 181ms/epoch - 181ms/step\n",
      "Epoch 3/10\n",
      "1/1 - 0s - loss: 61.1593 - accuracy: 0.3044 - val_loss: 18018.4062 - val_accuracy: 0.0000e+00 - 115ms/epoch - 115ms/step\n",
      "Epoch 4/10\n",
      "1/1 - 0s - loss: 64.4186 - accuracy: 0.4683 - val_loss: 21587.2793 - val_accuracy: 0.0000e+00 - 93ms/epoch - 93ms/step\n",
      "Epoch 5/10\n",
      "1/1 - 0s - loss: 70.4563 - accuracy: 0.4683 - val_loss: 21219.3613 - val_accuracy: 0.0000e+00 - 99ms/epoch - 99ms/step\n",
      "Epoch 6/10\n",
      "1/1 - 0s - loss: 64.7439 - accuracy: 0.4672 - val_loss: 18351.2812 - val_accuracy: 0.0000e+00 - 89ms/epoch - 89ms/step\n",
      "Epoch 7/10\n",
      "1/1 - 0s - loss: 58.3530 - accuracy: 0.4084 - val_loss: 14575.6084 - val_accuracy: 0.0000e+00 - 104ms/epoch - 104ms/step\n",
      "Epoch 8/10\n",
      "1/1 - 0s - loss: 58.1529 - accuracy: 0.3267 - val_loss: 10582.6270 - val_accuracy: 0.0000e+00 - 88ms/epoch - 88ms/step\n",
      "Epoch 9/10\n",
      "1/1 - 0s - loss: 61.3353 - accuracy: 0.2211 - val_loss: 7086.2432 - val_accuracy: 0.0000e+00 - 111ms/epoch - 111ms/step\n",
      "Epoch 10/10\n",
      "1/1 - 0s - loss: 62.1281 - accuracy: 0.2034 - val_loss: 4561.7866 - val_accuracy: 0.0000e+00 - 101ms/epoch - 101ms/step\n"
     ]
    }
   ],
   "source": [
    "history = simple_model.fit(X_train, y_train, epochs=10, batch_size=128, verbose=2, validation_split=0.3)"
   ]
  },
  {
   "attachments": {},
   "cell_type": "markdown",
   "metadata": {},
   "source": [
    "RNN"
   ]
  },
  {
   "cell_type": "code",
   "execution_count": 35,
   "metadata": {},
   "outputs": [],
   "source": [
    "def create_RNN(hidden_units, dense_units, input_shape, activation):\n",
    "    '''\n",
    "    hidden_units : nombre de neurones dans la couche SimpleRNN\n",
    "    dense_units : nombre de neurones dans la couche Dense\n",
    "    activation : liste des deux fonctions d'activation\n",
    "    '''\n",
    "    opt = keras.optimizers.SGD(learning_rate=0.1)\n",
    "    model = Sequential()\n",
    "    model.add(SimpleRNN(hidden_units, input_shape=input_shape, return_sequences=True,\n",
    "                        activation=activation[0]))\n",
    "    model.add(SimpleRNN(32, activation=activation[0]))\n",
    "    model.add(keras.layers.BatchNormalization())\n",
    "    model.add(Dense(64, activation=activation[1]))\n",
    "    model.add(Dense(units=dense_units, activation='sigmoid'))\n",
    "    model.compile(loss='mean_squared_error', optimizer=opt, metrics='accuracy')\n",
    "    return model\n",
    "\n",
    "#demo_model = create_RNN(2, 1, (3,1), activation=['linear', 'linear'])\n",
    "\n",
    "demo_model = create_RNN(32, 1, (20, 13), activation=['linear', 'linear'])\n",
    "callback = keras.callbacks.EarlyStopping(monitor='val_accuracy', patience=5, restore_best_weights=True)"
   ]
  },
  {
   "cell_type": "code",
   "execution_count": 36,
   "metadata": {},
   "outputs": [
    {
     "name": "stdout",
     "output_type": "stream",
     "text": [
      "Epoch 1/10\n",
      "1/1 - 4s - loss: 57.1470 - accuracy: 0.2258 - val_loss: 57.1786 - val_accuracy: 0.0000e+00 - 4s/epoch - 4s/step\n",
      "Epoch 2/10\n",
      "1/1 - 0s - loss: 58.3737 - accuracy: 0.0968 - val_loss: 57.1786 - val_accuracy: 0.0000e+00 - 68ms/epoch - 68ms/step\n",
      "Epoch 3/10\n",
      "1/1 - 0s - loss: 53.2212 - accuracy: 0.3710 - val_loss: 66.3929 - val_accuracy: 0.6071 - 66ms/epoch - 66ms/step\n",
      "Epoch 4/10\n",
      "1/1 - 0s - loss: 53.0257 - accuracy: 0.6452 - val_loss: 66.3929 - val_accuracy: 0.6071 - 70ms/epoch - 70ms/step\n",
      "Epoch 5/10\n",
      "1/1 - 0s - loss: 53.0301 - accuracy: 0.6452 - val_loss: 66.3929 - val_accuracy: 0.6071 - 67ms/epoch - 67ms/step\n",
      "Epoch 6/10\n",
      "1/1 - 0s - loss: 52.8777 - accuracy: 0.6129 - val_loss: 66.3929 - val_accuracy: 0.6071 - 67ms/epoch - 67ms/step\n",
      "Epoch 7/10\n",
      "1/1 - 0s - loss: 52.1462 - accuracy: 0.4677 - val_loss: 66.3929 - val_accuracy: 0.6071 - 73ms/epoch - 73ms/step\n",
      "Epoch 8/10\n",
      "1/1 - 0s - loss: 51.5777 - accuracy: 0.3548 - val_loss: 66.3929 - val_accuracy: 0.6071 - 65ms/epoch - 65ms/step\n",
      "Epoch 9/10\n",
      "1/1 - 0s - loss: 51.5126 - accuracy: 0.4194 - val_loss: 66.3929 - val_accuracy: 0.6071 - 129ms/epoch - 129ms/step\n",
      "Epoch 10/10\n",
      "1/1 - 0s - loss: 51.3619 - accuracy: 0.3710 - val_loss: 66.3929 - val_accuracy: 0.6071 - 115ms/epoch - 115ms/step\n"
     ]
    }
   ],
   "source": [
    "history = demo_model.fit(X_train, y_train, epochs=10, batch_size=128, verbose=2, validation_split=0.3)"
   ]
  },
  {
   "cell_type": "code",
   "execution_count": 37,
   "metadata": {},
   "outputs": [
    {
     "data": {
      "text/plain": [
       "<AxesSubplot:>"
      ]
     },
     "execution_count": 37,
     "metadata": {},
     "output_type": "execute_result"
    },
    {
     "data": {
      "image/png": "[encoded data removed]",
      "text/plain": [
       "<Figure size 432x288 with 1 Axes>"
      ]
     },
     "metadata": {
      "needs_background": "light"
     },
     "output_type": "display_data"
    }
   ],
   "source": [
    "history_df = pd.DataFrame(history.history)\n",
    "history_df.loc[:, ['accuracy', 'val_accuracy']].plot()"
   ]
  },
  {
   "cell_type": "code",
   "execution_count": 38,
   "metadata": {},
   "outputs": [
    {
     "data": {
      "text/plain": [
       "<AxesSubplot:>"
      ]
     },
     "execution_count": 38,
     "metadata": {},
     "output_type": "execute_result"
    },
    {
     "data": {
      "image/png": "[encoded data removed]",
      "text/plain": [
       "<Figure size 432x288 with 1 Axes>"
      ]
     },
     "metadata": {
      "needs_background": "light"
     },
     "output_type": "display_data"
    }
   ],
   "source": [
    "history_df.loc[:, ['loss', 'val_loss']].plot()"
   ]
  },
  {
   "attachments": {},
   "cell_type": "markdown",
   "metadata": {},
   "source": [
    "Test LSTM"
   ]
  },
  {
   "cell_type": "code",
   "execution_count": 42,
   "metadata": {},
   "outputs": [],
   "source": [
    "lstm_model = keras.Sequential([\n",
    "    layers.Dense(32,input_shape=(20,13), activation='relu'),\n",
    "    layers.LSTM(128),\n",
    "    layers.Dense(1, activation='linear')\n",
    "])"
   ]
  },
  {
   "cell_type": "code",
   "execution_count": 43,
   "metadata": {},
   "outputs": [],
   "source": [
    "lstm_model.compile(loss='binary_crossentropy', optimizer='adam', metrics='accuracy')"
   ]
  },
  {
   "cell_type": "code",
   "execution_count": 44,
   "metadata": {},
   "outputs": [
    {
     "name": "stdout",
     "output_type": "stream",
     "text": [
      "Epoch 1/20\n",
      "2/2 - 4s - loss: 40.4161 - accuracy: 0.6452 - val_loss: 60.4555 - val_accuracy: 0.6071 - 4s/epoch - 2s/step\n",
      "Epoch 2/20\n",
      "2/2 - 0s - loss: 30.7184 - accuracy: 0.6452 - val_loss: 14.8860 - val_accuracy: 0.6071 - 152ms/epoch - 76ms/step\n",
      "Epoch 3/20\n",
      "2/2 - 0s - loss: 12.9856 - accuracy: 0.6452 - val_loss: 11.7683 - val_accuracy: 0.6071 - 107ms/epoch - 54ms/step\n",
      "Epoch 4/20\n",
      "2/2 - 0s - loss: 10.3741 - accuracy: 0.6452 - val_loss: 9.8314 - val_accuracy: 0.6071 - 70ms/epoch - 35ms/step\n",
      "Epoch 5/20\n",
      "2/2 - 0s - loss: 8.6974 - accuracy: 0.6452 - val_loss: 8.4407 - val_accuracy: 0.6071 - 85ms/epoch - 43ms/step\n",
      "Epoch 6/20\n",
      "2/2 - 0s - loss: 7.5427 - accuracy: 0.6452 - val_loss: 7.3518 - val_accuracy: 0.6071 - 81ms/epoch - 41ms/step\n",
      "Epoch 7/20\n",
      "2/2 - 0s - loss: 6.5833 - accuracy: 0.6452 - val_loss: 6.4628 - val_accuracy: 0.6071 - 72ms/epoch - 36ms/step\n",
      "Epoch 8/20\n",
      "2/2 - 0s - loss: 6.8925 - accuracy: 0.6452 - val_loss: 7.3355 - val_accuracy: 0.6071 - 79ms/epoch - 40ms/step\n",
      "Epoch 9/20\n",
      "2/2 - 0s - loss: 6.3382 - accuracy: 0.6452 - val_loss: 6.4974 - val_accuracy: 0.6071 - 65ms/epoch - 32ms/step\n",
      "Epoch 10/20\n",
      "2/2 - 0s - loss: 5.6330 - accuracy: 0.6452 - val_loss: 4.4131 - val_accuracy: 0.6071 - 69ms/epoch - 34ms/step\n",
      "Epoch 11/20\n",
      "2/2 - 0s - loss: 4.0218 - accuracy: 0.6452 - val_loss: 3.8643 - val_accuracy: 0.6071 - 77ms/epoch - 38ms/step\n",
      "Epoch 12/20\n",
      "2/2 - 0s - loss: 3.5494 - accuracy: 0.6452 - val_loss: 3.3593 - val_accuracy: 0.6071 - 70ms/epoch - 35ms/step\n",
      "Epoch 13/20\n",
      "2/2 - 0s - loss: 3.0583 - accuracy: 0.6452 - val_loss: 3.4508 - val_accuracy: 0.6071 - 63ms/epoch - 32ms/step\n",
      "Epoch 14/20\n",
      "2/2 - 0s - loss: 3.0248 - accuracy: 0.6452 - val_loss: 2.9978 - val_accuracy: 0.6071 - 87ms/epoch - 43ms/step\n",
      "Epoch 15/20\n",
      "2/2 - 0s - loss: 2.6867 - accuracy: 0.6452 - val_loss: 2.5831 - val_accuracy: 0.6071 - 78ms/epoch - 39ms/step\n",
      "Epoch 16/20\n",
      "2/2 - 0s - loss: 2.3025 - accuracy: 0.6452 - val_loss: 2.1928 - val_accuracy: 0.6071 - 96ms/epoch - 48ms/step\n",
      "Epoch 17/20\n",
      "2/2 - 0s - loss: 1.9717 - accuracy: 0.6452 - val_loss: 2.3378 - val_accuracy: 0.6071 - 83ms/epoch - 41ms/step\n",
      "Epoch 18/20\n",
      "2/2 - 0s - loss: 2.1196 - accuracy: 0.6452 - val_loss: 1.9803 - val_accuracy: 0.6071 - 77ms/epoch - 38ms/step\n",
      "Epoch 19/20\n",
      "2/2 - 0s - loss: 1.7672 - accuracy: 0.6452 - val_loss: 1.6420 - val_accuracy: 0.6071 - 85ms/epoch - 42ms/step\n",
      "Epoch 20/20\n",
      "2/2 - 0s - loss: 1.4590 - accuracy: 0.6452 - val_loss: 1.3093 - val_accuracy: 0.6071 - 97ms/epoch - 48ms/step\n"
     ]
    }
   ],
   "source": [
    "history = lstm_model.fit(X_train, y_train, epochs=20, batch_size=32, verbose=2, validation_split=0.3)"
   ]
  },
  {
   "attachments": {},
   "cell_type": "markdown",
   "metadata": {},
   "source": [
    "Mélange SimpleRNN et LSTM"
   ]
  },
  {
   "cell_type": "code",
   "execution_count": 55,
   "metadata": {},
   "outputs": [],
   "source": [
    "lstm_rnn_model = keras.Sequential([\n",
    "    layers.Dense(32,input_shape=(20,13), activation='linear'),\n",
    "    layers.LSTM(128, return_sequences=True, activation='linear'), # return_sequences à True pour que la sortie soit de dimension 3\n",
    "    layers.SimpleRNN(64,activation='linear'),\n",
    "    layers.Dropout(0.2),\n",
    "    layers.Dense(1, activation='linear')\n",
    "])\n",
    "\n",
    "opt = keras.optimizers.SGD(learning_rate=0.1)\n",
    "lstm_rnn_model.compile(loss='binary_crossentropy', optimizer='adam', metrics='accuracy')"
   ]
  },
  {
   "cell_type": "code",
   "execution_count": 56,
   "metadata": {},
   "outputs": [
    {
     "name": "stdout",
     "output_type": "stream",
     "text": [
      "Epoch 1/50\n",
      "2/2 - 4s - loss: 41.9468 - accuracy: 0.5323 - val_loss: 51.9281 - val_accuracy: 0.5714 - 4s/epoch - 2s/step\n",
      "Epoch 2/50\n",
      "2/2 - 0s - loss: 35.5152 - accuracy: 0.5484 - val_loss: 51.9281 - val_accuracy: 0.5714 - 106ms/epoch - 53ms/step\n",
      "Epoch 3/50\n",
      "2/2 - 0s - loss: 53.5804 - accuracy: 0.5806 - val_loss: 51.9281 - val_accuracy: 0.5714 - 107ms/epoch - 54ms/step\n",
      "Epoch 4/50\n",
      "2/2 - 0s - loss: 36.2530 - accuracy: 0.5000 - val_loss: 51.9281 - val_accuracy: 0.5714 - 97ms/epoch - 49ms/step\n",
      "Epoch 5/50\n",
      "2/2 - 0s - loss: 35.0232 - accuracy: 0.5806 - val_loss: 51.9281 - val_accuracy: 0.5714 - 98ms/epoch - 49ms/step\n",
      "Epoch 6/50\n",
      "2/2 - 0s - loss: 60.7500 - accuracy: 0.5161 - val_loss: 51.9281 - val_accuracy: 0.5714 - 229ms/epoch - 114ms/step\n",
      "Epoch 7/50\n",
      "2/2 - 0s - loss: 29.5754 - accuracy: 0.5323 - val_loss: 51.9281 - val_accuracy: 0.5714 - 217ms/epoch - 109ms/step\n",
      "Epoch 8/50\n",
      "2/2 - 0s - loss: 10.5263 - accuracy: 0.5645 - val_loss: 51.9281 - val_accuracy: 0.5714 - 153ms/epoch - 77ms/step\n",
      "Epoch 9/50\n",
      "2/2 - 0s - loss: 23.1437 - accuracy: 0.5484 - val_loss: 51.9281 - val_accuracy: 0.5714 - 169ms/epoch - 84ms/step\n",
      "Epoch 10/50\n",
      "2/2 - 0s - loss: 42.1928 - accuracy: 0.5161 - val_loss: 51.9281 - val_accuracy: 0.5714 - 162ms/epoch - 81ms/step\n",
      "Epoch 11/50\n",
      "2/2 - 0s - loss: 42.1928 - accuracy: 0.5161 - val_loss: 51.9281 - val_accuracy: 0.5714 - 152ms/epoch - 76ms/step\n",
      "Epoch 12/50\n",
      "2/2 - 0s - loss: 54.3183 - accuracy: 0.5323 - val_loss: 51.9281 - val_accuracy: 0.5714 - 128ms/epoch - 64ms/step\n",
      "Epoch 13/50\n",
      "2/2 - 0s - loss: 29.5754 - accuracy: 0.5323 - val_loss: 51.9281 - val_accuracy: 0.5714 - 113ms/epoch - 57ms/step\n",
      "Epoch 14/50\n",
      "2/2 - 0s - loss: 35.2692 - accuracy: 0.5645 - val_loss: 51.9281 - val_accuracy: 0.5714 - 106ms/epoch - 53ms/step\n",
      "Epoch 15/50\n",
      "2/2 - 0s - loss: 54.3183 - accuracy: 0.5323 - val_loss: 51.9281 - val_accuracy: 0.5714 - 103ms/epoch - 52ms/step\n",
      "Epoch 16/50\n",
      "2/2 - 0s - loss: 35.2692 - accuracy: 0.5645 - val_loss: 51.9281 - val_accuracy: 0.5714 - 106ms/epoch - 53ms/step\n",
      "Epoch 17/50\n",
      "2/2 - 0s - loss: 47.8866 - accuracy: 0.5484 - val_loss: 51.9281 - val_accuracy: 0.5714 - 115ms/epoch - 58ms/step\n",
      "Epoch 18/50\n",
      "2/2 - 0s - loss: 35.7611 - accuracy: 0.5323 - val_loss: 51.9281 - val_accuracy: 0.5714 - 118ms/epoch - 59ms/step\n",
      "Epoch 19/50\n",
      "2/2 - 0s - loss: 41.9468 - accuracy: 0.5323 - val_loss: 51.9281 - val_accuracy: 0.5714 - 108ms/epoch - 54ms/step\n",
      "Epoch 20/50\n",
      "2/2 - 0s - loss: 35.2692 - accuracy: 0.5645 - val_loss: 51.9281 - val_accuracy: 0.5714 - 99ms/epoch - 49ms/step\n",
      "Epoch 21/50\n",
      "2/2 - 0s - loss: 35.2692 - accuracy: 0.5645 - val_loss: 51.9281 - val_accuracy: 0.5714 - 99ms/epoch - 50ms/step\n",
      "Epoch 22/50\n",
      "2/2 - 0s - loss: 10.0344 - accuracy: 0.5968 - val_loss: 51.9281 - val_accuracy: 0.5714 - 103ms/epoch - 51ms/step\n",
      "Epoch 23/50\n",
      "2/2 - 0s - loss: 22.8977 - accuracy: 0.5645 - val_loss: 51.9281 - val_accuracy: 0.5714 - 125ms/epoch - 63ms/step\n",
      "Epoch 24/50\n",
      "2/2 - 0s - loss: 29.3294 - accuracy: 0.5484 - val_loss: 51.9281 - val_accuracy: 0.5714 - 116ms/epoch - 58ms/step\n",
      "Epoch 25/50\n",
      "2/2 - 0s - loss: 22.6518 - accuracy: 0.5806 - val_loss: 51.9281 - val_accuracy: 0.5714 - 108ms/epoch - 54ms/step\n",
      "Epoch 26/50\n",
      "2/2 - 0s - loss: 30.0673 - accuracy: 0.5000 - val_loss: 51.9281 - val_accuracy: 0.5714 - 113ms/epoch - 57ms/step\n",
      "Epoch 27/50\n",
      "2/2 - 0s - loss: 35.2692 - accuracy: 0.5645 - val_loss: 51.9281 - val_accuracy: 0.5714 - 117ms/epoch - 58ms/step\n",
      "Epoch 28/50\n",
      "2/2 - 0s - loss: 47.8866 - accuracy: 0.5484 - val_loss: 51.9281 - val_accuracy: 0.5714 - 124ms/epoch - 62ms/step\n",
      "Epoch 29/50\n",
      "2/2 - 0s - loss: 36.2530 - accuracy: 0.5000 - val_loss: 51.9281 - val_accuracy: 0.5714 - 100ms/epoch - 50ms/step\n",
      "Epoch 30/50\n",
      "2/2 - 0s - loss: 24.1275 - accuracy: 0.4839 - val_loss: 51.9281 - val_accuracy: 0.5714 - 101ms/epoch - 50ms/step\n",
      "Epoch 31/50\n",
      "2/2 - 0s - loss: 23.3897 - accuracy: 0.5323 - val_loss: 51.9281 - val_accuracy: 0.5714 - 104ms/epoch - 52ms/step\n",
      "Epoch 32/50\n",
      "2/2 - 0s - loss: 30.0673 - accuracy: 0.5000 - val_loss: 51.9281 - val_accuracy: 0.5714 - 103ms/epoch - 51ms/step\n",
      "Epoch 33/50\n",
      "2/2 - 0s - loss: 29.5754 - accuracy: 0.5323 - val_loss: 51.9281 - val_accuracy: 0.5714 - 120ms/epoch - 60ms/step\n",
      "Epoch 34/50\n",
      "2/2 - 0s - loss: 34.7773 - accuracy: 0.5968 - val_loss: 51.9281 - val_accuracy: 0.5714 - 130ms/epoch - 65ms/step\n",
      "Epoch 35/50\n",
      "2/2 - 0s - loss: 35.2692 - accuracy: 0.5645 - val_loss: 51.9281 - val_accuracy: 0.5714 - 109ms/epoch - 55ms/step\n",
      "Epoch 36/50\n",
      "2/2 - 0s - loss: 23.3897 - accuracy: 0.5323 - val_loss: 51.9281 - val_accuracy: 0.5714 - 100ms/epoch - 50ms/step\n",
      "Epoch 37/50\n",
      "2/2 - 0s - loss: 23.1437 - accuracy: 0.5484 - val_loss: 51.9281 - val_accuracy: 0.5714 - 105ms/epoch - 52ms/step\n",
      "Epoch 38/50\n",
      "2/2 - 0s - loss: 28.5916 - accuracy: 0.5968 - val_loss: 51.9281 - val_accuracy: 0.5714 - 105ms/epoch - 52ms/step\n",
      "Epoch 39/50\n",
      "2/2 - 0s - loss: 41.2090 - accuracy: 0.5806 - val_loss: 51.9281 - val_accuracy: 0.5714 - 99ms/epoch - 49ms/step\n",
      "Epoch 40/50\n",
      "2/2 - 0s - loss: 48.3785 - accuracy: 0.5161 - val_loss: 51.9281 - val_accuracy: 0.5714 - 134ms/epoch - 67ms/step\n",
      "Epoch 41/50\n",
      "2/2 - 0s - loss: 48.3785 - accuracy: 0.5161 - val_loss: 51.9281 - val_accuracy: 0.5714 - 126ms/epoch - 63ms/step\n",
      "Epoch 42/50\n",
      "2/2 - 0s - loss: 41.4549 - accuracy: 0.5645 - val_loss: 51.9281 - val_accuracy: 0.5714 - 106ms/epoch - 53ms/step\n",
      "Epoch 43/50\n",
      "2/2 - 0s - loss: 22.8977 - accuracy: 0.5645 - val_loss: 51.9281 - val_accuracy: 0.5714 - 91ms/epoch - 46ms/step\n",
      "Epoch 44/50\n",
      "2/2 - 0s - loss: 35.7611 - accuracy: 0.5323 - val_loss: 51.9281 - val_accuracy: 0.5714 - 99ms/epoch - 50ms/step\n",
      "Epoch 45/50\n",
      "2/2 - 0s - loss: 35.5152 - accuracy: 0.5484 - val_loss: 51.9281 - val_accuracy: 0.5714 - 119ms/epoch - 59ms/step\n",
      "Epoch 46/50\n",
      "2/2 - 0s - loss: 53.5804 - accuracy: 0.5806 - val_loss: 51.9281 - val_accuracy: 0.5714 - 130ms/epoch - 65ms/step\n",
      "Epoch 47/50\n",
      "2/2 - 0s - loss: 53.0885 - accuracy: 0.6129 - val_loss: 51.9281 - val_accuracy: 0.5714 - 135ms/epoch - 68ms/step\n",
      "Epoch 48/50\n",
      "2/2 - 0s - loss: 34.7773 - accuracy: 0.5968 - val_loss: 51.9281 - val_accuracy: 0.5714 - 103ms/epoch - 51ms/step\n",
      "Epoch 49/50\n",
      "2/2 - 0s - loss: 47.3947 - accuracy: 0.5806 - val_loss: 51.9281 - val_accuracy: 0.5714 - 102ms/epoch - 51ms/step\n",
      "Epoch 50/50\n",
      "2/2 - 0s - loss: 34.7773 - accuracy: 0.5968 - val_loss: 51.9281 - val_accuracy: 0.5714 - 119ms/epoch - 59ms/step\n"
     ]
    }
   ],
   "source": [
    "history = lstm_rnn_model.fit(X_train, y_train, epochs=50, batch_size=32, verbose=2, validation_split=0.3)"
   ]
  },
  {
   "cell_type": "code",
   "execution_count": 57,
   "metadata": {},
   "outputs": [
    {
     "data": {
      "text/plain": [
       "<AxesSubplot:>"
      ]
     },
     "execution_count": 57,
     "metadata": {},
     "output_type": "execute_result"
    },
    {
     "data": {
      "image/png": "[encoded data removed]",
      "text/plain": [
       "<Figure size 432x288 with 1 Axes>"
      ]
     },
     "metadata": {
      "needs_background": "light"
     },
     "output_type": "display_data"
    }
   ],
   "source": [
    "history_df = pd.DataFrame(history.history)\n",
    "history_df.loc[:, ['accuracy', 'val_accuracy']].plot()"
   ]
  },
  {
   "cell_type": "code",
   "execution_count": 58,
   "metadata": {},
   "outputs": [
    {
     "data": {
      "text/plain": [
       "<AxesSubplot:>"
      ]
     },
     "execution_count": 58,
     "metadata": {},
     "output_type": "execute_result"
    },
    {
     "data": {
      "image/png": "[encoded data removed]",
      "text/plain": [
       "<Figure size 432x288 with 1 Axes>"
      ]
     },
     "metadata": {
      "needs_background": "light"
     },
     "output_type": "display_data"
    }
   ],
   "source": [
    "history_df.loc[:, ['loss', 'val_loss']].plot()"
   ]
  }
 ],
 "metadata": {
  "kernelspec": {
   "display_name": "Python 3",
   "language": "python",
   "name": "python3"
  },
  "language_info": {
   "codemirror_mode": {
    "name": "ipython",
    "version": 3
   },
   "file_extension": ".py",
   "mimetype": "text/x-python",
   "name": "python",
   "nbconvert_exporter": "python",
   "pygments_lexer": "ipython3",
   "version": "3.8.3"
  },
  "orig_nbformat": 4,
  "vscode": {
   "interpreter": {
    "hash": "570feb405e2e27c949193ac68f46852414290d515b0ba6e5d90d076ed2284471"
   }
  }
 },
 "nbformat": 4,
 "nbformat_minor": 2
}

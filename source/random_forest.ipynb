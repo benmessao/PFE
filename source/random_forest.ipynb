{
 "cells": [
  {
   "cell_type": "code",
   "execution_count": 1,
   "metadata": {},
   "outputs": [],
   "source": [
    "import numpy as np\n",
    "import pandas as pd\n",
    "import matplotlib.pyplot as plt\n",
    "import seaborn as sns\n",
    "import dataset_prep"
   ]
  },
  {
   "cell_type": "code",
   "execution_count": 3,
   "metadata": {},
   "outputs": [],
   "source": [
    "data = dataset_prep.import_dataset(\"data/DoS_0709_new_columns.csv\")"
   ]
  },
  {
   "cell_type": "code",
   "execution_count": 5,
   "metadata": {},
   "outputs": [
    {
     "name": "stdout",
     "output_type": "stream",
     "text": [
      "Nombre de lignes avant nettoyage :  4753433\n",
      "Nombre de lignes après nettoyage :  4709293\n"
     ]
    }
   ],
   "source": [
    "dataset_prep.clean_dataset(data)"
   ]
  },
  {
   "cell_type": "code",
   "execution_count": 6,
   "metadata": {},
   "outputs": [],
   "source": [
    "data = dataset_prep.sample_dataset(data, 50000)"
   ]
  },
  {
   "cell_type": "code",
   "execution_count": 7,
   "metadata": {},
   "outputs": [
    {
     "data": {
      "text/plain": [
       "(50000, 8)"
      ]
     },
     "execution_count": 7,
     "metadata": {},
     "output_type": "execute_result"
    }
   ],
   "source": [
    "data.shape"
   ]
  },
  {
   "cell_type": "code",
   "execution_count": 11,
   "metadata": {},
   "outputs": [
    {
     "data": {
      "text/plain": [
       "13    28202\n",
       "0     21798\n",
       "Name: label, dtype: int64"
      ]
     },
     "execution_count": 11,
     "metadata": {},
     "output_type": "execute_result"
    }
   ],
   "source": [
    "data[\"label\"].value_counts()"
   ]
  },
  {
   "cell_type": "code",
   "execution_count": 16,
   "metadata": {},
   "outputs": [],
   "source": [
    "from sklearn.model_selection import train_test_split\n",
    "\n",
    "X = np.array(data.drop([\"label\"], axis=1))\n",
    "y = np.array(data[\"label\"])\n",
    "\n",
    "for i in range(len(y)):\n",
    "    if y[i] == 13:\n",
    "        y[i] = 1\n",
    "\n",
    "# Séparation en données d'entrainement et de test\n",
    "X_train, X_test, y_train, y_test = train_test_split(X, y, test_size=0.1)"
   ]
  },
  {
   "cell_type": "code",
   "execution_count": 17,
   "metadata": {},
   "outputs": [
    {
     "name": "stdout",
     "output_type": "stream",
     "text": [
      "Model accuracy score with 10 decision-trees : 0.8674\n"
     ]
    }
   ],
   "source": [
    "# import Random Forest classifier\n",
    "from sklearn.ensemble import RandomForestClassifier\n",
    "from sklearn.metrics import classification_report\n",
    "\n",
    "# instantiate the classifier \n",
    "rfc = RandomForestClassifier(random_state=0)\n",
    "\n",
    "# fit the model\n",
    "rfc.fit(X_train, y_train)\n",
    "\n",
    "# Predict the Test set results\n",
    "y_pred = rfc.predict(X_test)\n",
    "\n",
    "# Check accuracy score \n",
    "from sklearn.metrics import accuracy_score\n",
    "\n",
    "print('Model accuracy score with 10 decision-trees : {0:0.4f}'. format(accuracy_score(y_test, y_pred)))\n",
    "\n",
    "print(classification_report(y_test, y_pred))"
   ]
  },
  {
   "cell_type": "code",
   "execution_count": 18,
   "metadata": {},
   "outputs": [
    {
     "name": "stdout",
     "output_type": "stream",
     "text": [
      "Model accuracy score with 100 decision-trees : 0.8674\n"
     ]
    }
   ],
   "source": [
    "# instantiate the classifier with n_estimators = 100\n",
    "\n",
    "rfc_100 = RandomForestClassifier(n_estimators=100, random_state=0)\n",
    "\n",
    "\n",
    "\n",
    "# fit the model to the training set\n",
    "\n",
    "rfc_100.fit(X_train, y_train)\n",
    "\n",
    "\n",
    "\n",
    "# Predict on the test set results\n",
    "\n",
    "y_pred_100 = rfc_100.predict(X_test)\n",
    "\n",
    "\n",
    "\n",
    "# Check accuracy score \n",
    "\n",
    "print('Model accuracy score with 100 decision-trees : {0:0.4f}'. format(accuracy_score(y_test, y_pred_100)))"
   ]
  },
  {
   "cell_type": "code",
   "execution_count": 20,
   "metadata": {},
   "outputs": [
    {
     "name": "stdout",
     "output_type": "stream",
     "text": [
      "              precision    recall  f1-score   support\n",
      "\n",
      "           0       0.81      0.90      0.86      2174\n",
      "           1       0.92      0.84      0.88      2826\n",
      "\n",
      "    accuracy                           0.87      5000\n",
      "   macro avg       0.87      0.87      0.87      5000\n",
      "weighted avg       0.87      0.87      0.87      5000\n",
      "\n"
     ]
    }
   ],
   "source": [
    "from sklearn.metrics import classification_report\n",
    "\n",
    "print(classification_report(y_test, y_pred_100))"
   ]
  },
  {
   "cell_type": "markdown",
   "metadata": {},
   "source": [
    "Feature selection"
   ]
  },
  {
   "cell_type": "code",
   "execution_count": 3,
   "metadata": {},
   "outputs": [],
   "source": [
    "# On importe le dataset avec toutes les colonnes pour faire une feature selection\n",
    "\n",
    "data = pd.read_csv(\"../data/DoS_0709_new_columns.csv\",\n",
    "        index_col=False,\n",
    "    )"
   ]
  },
  {
   "cell_type": "code",
   "execution_count": 4,
   "metadata": {},
   "outputs": [
    {
     "name": "stdout",
     "output_type": "stream",
     "text": [
      "Nombre de lignes avant nettoyage :  4753433\n",
      "Nombre de lignes après nettoyage :  4518383\n"
     ]
    }
   ],
   "source": [
    "dataset_prep.clean_dataset(data)\n",
    "data = dataset_prep.sample_dataset(data, 50000)"
   ]
  },
  {
   "cell_type": "code",
   "execution_count": 5,
   "metadata": {},
   "outputs": [
    {
     "data": {
      "text/plain": [
       "13    28468\n",
       "0     21532\n",
       "Name: label, dtype: int64"
      ]
     },
     "execution_count": 5,
     "metadata": {},
     "output_type": "execute_result"
    }
   ],
   "source": [
    "data[\"label\"].value_counts()"
   ]
  },
  {
   "cell_type": "code",
   "execution_count": 6,
   "metadata": {},
   "outputs": [],
   "source": [
    "from sklearn.model_selection import train_test_split\n",
    "\n",
    "X = np.array(data.drop([\"label\"], axis=1))\n",
    "y = np.array(data[\"label\"])\n",
    "\n",
    "for i in range(len(y)):\n",
    "    if y[i] == 13:\n",
    "        y[i] = 1\n",
    "\n",
    "# Séparation en données d'entrainement et de test\n",
    "X_train, X_test, y_train, y_test = train_test_split(X, y, test_size=0.1)"
   ]
  },
  {
   "cell_type": "code",
   "execution_count": 8,
   "metadata": {},
   "outputs": [
    {
     "data": {
      "text/plain": [
       "RandomForestClassifier(random_state=0)"
      ]
     },
     "execution_count": 8,
     "metadata": {},
     "output_type": "execute_result"
    }
   ],
   "source": [
    "# import Random Forest classifier\n",
    "\n",
    "from sklearn.ensemble import RandomForestClassifier\n",
    "\n",
    "# create the classifier with n_estimators = 100\n",
    "\n",
    "clf = RandomForestClassifier(n_estimators=100, random_state=0)\n",
    "\n",
    "\n",
    "\n",
    "# fit the model to the training set\n",
    "\n",
    "clf.fit(X_train, y_train)"
   ]
  },
  {
   "cell_type": "code",
   "execution_count": 9,
   "metadata": {},
   "outputs": [
    {
     "name": "stdout",
     "output_type": "stream",
     "text": [
      "Index(['type', 'rcvTime', 'sendTime', 'sender', 'senderPseudo', 'messageID',\n",
      "       'labelRec', 'receiver', 'moduleid', 'pos_x_send', 'pos_y_send',\n",
      "       'pos_noise_x', 'pos_noise_y', 'spd_x_send', 'spd_y_send', 'spd_noise_x',\n",
      "       'spd_noise_y', 'acl_x_send', 'acl_y_send', 'acl_noise_x', 'acl_noise_y',\n",
      "       'hed_x_send', 'hed_y_send', 'hed_noise_x', 'hed_noise_y', 'scenario',\n",
      "       'pos_x_send_f', 'pos_y_send_f', 'spd_x_send_f', 'spd_y_send_f',\n",
      "       'acl_x_send_f', 'acl_y_send_f', 'hed_x_send_f', 'hed_y_send_f',\n",
      "       'pos_x_rec', 'pos_y_rec', 'spd_x_rec', 'spd_y_rec', 'acl_x_rec',\n",
      "       'acl_y_rec', 'hed_x_rec', 'hed_y_rec', 'pos_x_rec_f', 'pos_y_rec_f',\n",
      "       'spd_x_rec_f', 'spd_y_rec_f', 'acl_x_rec_f', 'acl_y_rec_f',\n",
      "       'hed_x_rec_f', 'hed_y_rec_f', 'max_speed1', 'max_speed2',\n",
      "       'nb_packets_sent', 'frequency1', 'frequency2', 'time_diff',\n",
      "       'distRealSR1', 'distRealSR2', 'diffSpdSR1', 'diffSpdSR2', 'diffAclSR1',\n",
      "       'diffAclSR2', 'diffHedSR1', 'diffHedSR2', 'deltaPosRec1',\n",
      "       'deltaPosRec2', 'deltaSpdRec1', 'deltaSpdRec2', 'deltaAclRec1',\n",
      "       'deltaAclRec2', 'deltaHedRec1', 'deltaHedRec2', 'deltaPos1',\n",
      "       'deltaPos2', 'deltaSpd1', 'deltaSpd2', 'deltaAcl1', 'deltaAcl2',\n",
      "       'deltaHed1', 'deltaHed2', 'distance', 'difSpeed', 'estAoA'],\n",
      "      dtype='object')\n"
     ]
    }
   ],
   "source": [
    "print(data.drop([\"label\"], axis=1).columns)"
   ]
  },
  {
   "cell_type": "code",
   "execution_count": 10,
   "metadata": {},
   "outputs": [
    {
     "data": {
      "text/plain": [
       "time_diff          0.616775\n",
       "nb_packets_sent    0.216895\n",
       "max_speed2         0.010222\n",
       "max_speed1         0.009850\n",
       "sender             0.007070\n",
       "senderPseudo       0.006823\n",
       "rcvTime            0.004741\n",
       "messageID          0.004704\n",
       "sendTime           0.004600\n",
       "hed_noise_x        0.004287\n",
       "hed_noise_y        0.003947\n",
       "pos_x_send_f       0.003864\n",
       "moduleid           0.003610\n",
       "frequency1         0.003581\n",
       "hed_y_send         0.003520\n",
       "dtype: float64"
      ]
     },
     "execution_count": 10,
     "metadata": {},
     "output_type": "execute_result"
    }
   ],
   "source": [
    "# view the feature scores\n",
    "\n",
    "feature_scores = pd.Series(clf.feature_importances_, index=data.drop([\"label\"], axis=1).columns).sort_values(ascending=False)\n",
    "\n",
    "feature_scores[:15]"
   ]
  },
  {
   "cell_type": "code",
   "execution_count": 15,
   "metadata": {},
   "outputs": [],
   "source": [
    "selected_columns = [\"time_diff\",\n",
    "\"nb_packets_sent\",\n",
    "\"max_speed1\",\n",
    "\"max_speed2\",\n",
    "\"hed_noise_x\",\n",
    "\"sendTime\",\n",
    "\"rcvTime\",\n",
    "\"hed_noise_y\",\n",
    "]"
   ]
  },
  {
   "cell_type": "code",
   "execution_count": 16,
   "metadata": {},
   "outputs": [
    {
     "data": {
      "text/html": [
       "<div>\n",
       "<style scoped>\n",
       "    .dataframe tbody tr th:only-of-type {\n",
       "        vertical-align: middle;\n",
       "    }\n",
       "\n",
       "    .dataframe tbody tr th {\n",
       "        vertical-align: top;\n",
       "    }\n",
       "\n",
       "    .dataframe thead th {\n",
       "        text-align: right;\n",
       "    }\n",
       "</style>\n",
       "<table border=\"1\" class=\"dataframe\">\n",
       "  <thead>\n",
       "    <tr style=\"text-align: right;\">\n",
       "      <th></th>\n",
       "      <th>time_diff</th>\n",
       "      <th>nb_packets_sent</th>\n",
       "      <th>max_speed1</th>\n",
       "      <th>max_speed2</th>\n",
       "      <th>hed_noise_x</th>\n",
       "      <th>sendTime</th>\n",
       "      <th>rcvTime</th>\n",
       "      <th>hed_noise_y</th>\n",
       "    </tr>\n",
       "  </thead>\n",
       "  <tbody>\n",
       "    <tr>\n",
       "      <th>4303919</th>\n",
       "      <td>0.499989</td>\n",
       "      <td>3987</td>\n",
       "      <td>2.844516</td>\n",
       "      <td>0.000084</td>\n",
       "      <td>10.009405</td>\n",
       "      <td>31849.123586</td>\n",
       "      <td>31849.123586</td>\n",
       "      <td>10.009405</td>\n",
       "    </tr>\n",
       "    <tr>\n",
       "      <th>465063</th>\n",
       "      <td>0.499996</td>\n",
       "      <td>1754</td>\n",
       "      <td>15.580770</td>\n",
       "      <td>15.574555</td>\n",
       "      <td>5.146283</td>\n",
       "      <td>26602.020234</td>\n",
       "      <td>26602.020234</td>\n",
       "      <td>7.167790</td>\n",
       "    </tr>\n",
       "    <tr>\n",
       "      <th>2768324</th>\n",
       "      <td>1.000010</td>\n",
       "      <td>1703</td>\n",
       "      <td>10.132631</td>\n",
       "      <td>10.107281</td>\n",
       "      <td>0.259030</td>\n",
       "      <td>30035.937842</td>\n",
       "      <td>30035.937842</td>\n",
       "      <td>0.480312</td>\n",
       "    </tr>\n",
       "    <tr>\n",
       "      <th>1119575</th>\n",
       "      <td>0.999996</td>\n",
       "      <td>281</td>\n",
       "      <td>16.811452</td>\n",
       "      <td>13.421082</td>\n",
       "      <td>11.794527</td>\n",
       "      <td>27696.325480</td>\n",
       "      <td>27696.325480</td>\n",
       "      <td>15.402174</td>\n",
       "    </tr>\n",
       "    <tr>\n",
       "      <th>2819481</th>\n",
       "      <td>0.250001</td>\n",
       "      <td>3932</td>\n",
       "      <td>12.011449</td>\n",
       "      <td>4.318957</td>\n",
       "      <td>7.207966</td>\n",
       "      <td>30013.710952</td>\n",
       "      <td>30013.710952</td>\n",
       "      <td>10.472565</td>\n",
       "    </tr>\n",
       "  </tbody>\n",
       "</table>\n",
       "</div>"
      ],
      "text/plain": [
       "         time_diff  nb_packets_sent  max_speed1  max_speed2  hed_noise_x  \\\n",
       "4303919   0.499989             3987    2.844516    0.000084    10.009405   \n",
       "465063    0.499996             1754   15.580770   15.574555     5.146283   \n",
       "2768324   1.000010             1703   10.132631   10.107281     0.259030   \n",
       "1119575   0.999996              281   16.811452   13.421082    11.794527   \n",
       "2819481   0.250001             3932   12.011449    4.318957     7.207966   \n",
       "\n",
       "             sendTime       rcvTime  hed_noise_y  \n",
       "4303919  31849.123586  31849.123586    10.009405  \n",
       "465063   26602.020234  26602.020234     7.167790  \n",
       "2768324  30035.937842  30035.937842     0.480312  \n",
       "1119575  27696.325480  27696.325480    15.402174  \n",
       "2819481  30013.710952  30013.710952    10.472565  "
      ]
     },
     "execution_count": 16,
     "metadata": {},
     "output_type": "execute_result"
    }
   ],
   "source": [
    "data = data[selected_columns]\n",
    "data.head()"
   ]
  },
  {
   "cell_type": "code",
   "execution_count": 17,
   "metadata": {},
   "outputs": [],
   "source": [
    "from sklearn.model_selection import train_test_split\n",
    "\n",
    "X = np.array(data)\n",
    "\n",
    "# Séparation en données d'entrainement et de test\n",
    "X_train, X_test, y_train, y_test = train_test_split(X, y, test_size=0.1)"
   ]
  },
  {
   "cell_type": "code",
   "execution_count": 22,
   "metadata": {},
   "outputs": [
    {
     "name": "stdout",
     "output_type": "stream",
     "text": [
      "Model accuracy score with 10 decision-trees : 0.9994\n",
      "              precision    recall  f1-score   support\n",
      "\n",
      "           0       1.00      1.00      1.00      2225\n",
      "           1       1.00      1.00      1.00      2775\n",
      "\n",
      "    accuracy                           1.00      5000\n",
      "   macro avg       1.00      1.00      1.00      5000\n",
      "weighted avg       1.00      1.00      1.00      5000\n",
      "\n"
     ]
    }
   ],
   "source": [
    "# import Random Forest classifier\n",
    "from sklearn.ensemble import RandomForestClassifier\n",
    "from sklearn.metrics import classification_report\n",
    "\n",
    "# instantiate the classifier \n",
    "rfc = RandomForestClassifier(random_state=0)\n",
    "\n",
    "# fit the model\n",
    "rfc.fit(X_train, y_train)\n",
    "\n",
    "# Predict the Test set results\n",
    "y_pred = rfc.predict(X_test)\n",
    "\n",
    "# Check accuracy score \n",
    "from sklearn.metrics import accuracy_score\n",
    "\n",
    "print('Model accuracy score with 10 decision-trees : {0:0.4f}'. format(accuracy_score(y_test, y_pred)))\n",
    "\n",
    "print(classification_report(y_test, y_pred))"
   ]
  },
  {
   "cell_type": "code",
   "execution_count": 24,
   "metadata": {},
   "outputs": [
    {
     "name": "stdout",
     "output_type": "stream",
     "text": [
      "Model accuracy score with 100 decision-trees : 0.9994\n"
     ]
    }
   ],
   "source": [
    "# instantiate the classifier with n_estimators = 100\n",
    "rfc_100 = RandomForestClassifier(n_estimators=100, random_state=0)\n",
    "\n",
    "# fit the model to the training set\n",
    "rfc_100.fit(X_train, y_train)\n",
    "\n",
    "# Predict on the test set results\n",
    "y_pred_100 = rfc_100.predict(X_test)\n",
    "\n",
    "# Check accuracy score \n",
    "print('Model accuracy score with 100 decision-trees : {0:0.4f}'. format(accuracy_score(y_test, y_pred_100)))"
   ]
  },
  {
   "cell_type": "code",
   "execution_count": 25,
   "metadata": {},
   "outputs": [
    {
     "name": "stdout",
     "output_type": "stream",
     "text": [
      "              precision    recall  f1-score   support\n",
      "\n",
      "           0       1.00      1.00      1.00      2225\n",
      "           1       1.00      1.00      1.00      2775\n",
      "\n",
      "    accuracy                           1.00      5000\n",
      "   macro avg       1.00      1.00      1.00      5000\n",
      "weighted avg       1.00      1.00      1.00      5000\n",
      "\n"
     ]
    }
   ],
   "source": [
    "print(classification_report(y_test, y_pred_100))"
   ]
  }
 ],
 "metadata": {
  "kernelspec": {
   "display_name": "Python 3.8.3 64-bit",
   "language": "python",
   "name": "python3"
  },
  "language_info": {
   "codemirror_mode": {
    "name": "ipython",
    "version": 3
   },
   "file_extension": ".py",
   "mimetype": "text/x-python",
   "name": "python",
   "nbconvert_exporter": "python",
   "pygments_lexer": "ipython3",
   "version": "3.8.3 (tags/v3.8.3:6f8c832, May 13 2020, 22:37:02) [MSC v.1924 64 bit (AMD64)]"
  },
  "orig_nbformat": 4,
  "vscode": {
   "interpreter": {
    "hash": "570feb405e2e27c949193ac68f46852414290d515b0ba6e5d90d076ed2284471"
   }
  }
 },
 "nbformat": 4,
 "nbformat_minor": 2
}

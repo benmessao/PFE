{
 "cells": [
  {
   "attachments": {},
   "cell_type": "markdown",
   "metadata": {},
   "source": [
    "### Préparation des données"
   ]
  },
  {
   "cell_type": "code",
   "execution_count": 9,
   "metadata": {},
   "outputs": [],
   "source": [
    "import pandas as pd\n",
    "import numpy as np\n",
    "from sklearn.model_selection import train_test_split\n",
    "\n",
    "# receiver, sender, sender pseudo, message Id, scenario , a supprimé\n",
    "def import_dataset(dataset_path, usecols):\n",
    "    data = pd.read_csv(\n",
    "        dataset_path,\n",
    "        usecols=usecols,\n",
    "        index_col=False\n",
    "    )\n",
    "    return data\n",
    "\n",
    "\n",
    "def clean_dataset(dataset):\n",
    "    print(\"Nombre de lignes avant nettoyage : \", dataset.shape[0])\n",
    "\n",
    "    # On remplace les données infinies par nan si elles existent\n",
    "    dataset.replace([np.inf, -np.inf], np.nan, inplace=True)\n",
    "\n",
    "    # Drop les lignes avec nan\n",
    "\n",
    "    dataset.dropna(inplace=True)\n",
    "    print(\"Nombre de lignes après nettoyage : \", dataset.shape[0])\n",
    "\n",
    "\n",
    "def sample_dataset(dataset, sample_nb):\n",
    "    return dataset.sample(sample_nb)\n",
    "\n",
    "\n",
    "def data_preparation(dataset, test_size=0.1):\n",
    "    # Transformation en array numpy\n",
    "    X = np.array(dataset.drop([\"label\"], axis=1))\n",
    "    y = np.array(dataset[\"label\"])\n",
    "\n",
    "    for i in range(len(y)):\n",
    "        if y[i] == 13:\n",
    "            y[i] = 1\n",
    "\n",
    "    # Séparation en données d'entrainement et de test\n",
    "    X_train, X_test, y_train, y_test = train_test_split(X, y, test_size=0.1)\n",
    "\n",
    "    return X_train, X_test, y_train, y_test\n",
    "\n"
   ]
  },
  {
   "cell_type": "code",
   "execution_count": 10,
   "metadata": {},
   "outputs": [
    {
     "name": "stdout",
     "output_type": "stream",
     "text": [
      "Nombre de lignes avant nettoyage :  1242779\n",
      "Nombre de lignes après nettoyage :  1224816\n"
     ]
    }
   ],
   "source": [
    "#liste des path :\n",
    "# \"./data/1416/merged1.csv\"\n",
    "# \"./data/1416/merged2.csv\"\n",
    "# \"./data/1416/merged3.csv\"\n",
    "# \"./data/1416/merged4.csv\"\n",
    "# \"./data/1416/merged5.csv\"\n",
    "# \"./data/1416/data1416.csv\"\n",
    "dataset_path = \"./data/1416/merged1.csv\"\n",
    "\n",
    "usecols = [ \"sendTime\",\n",
    "            \"rcvTime\",\n",
    "            \"pos_y_rec_f\",\n",
    "            \"pos_y_rec\",\n",
    "            \"pos_x_rec_f\",\n",
    "            \"pos_x_rec\",\n",
    "            \"pos_y_send_f\",\n",
    "            \"pos_y_send\",\n",
    "            \"pos_x_send_f\",\n",
    "            \"pos_x_send\",\n",
    "            \"label\"\n",
    "        ]\n",
    "\"\"\"\n",
    "usecols = [ \"sendTime\",\n",
    "            \"rcvTime\",\n",
    "            \"label\"\n",
    "        ]\n",
    "\"\"\"\n",
    "data = import_dataset(dataset_path, usecols)\n",
    "clean_dataset(data)\n",
    "X_train, X_test, y_train, y_test = data_preparation(data, test_size=0.1)\n"
   ]
  },
  {
   "attachments": {},
   "cell_type": "markdown",
   "metadata": {},
   "source": [
    "# Classification par clustering k-means\n",
    "https://realpython.com/k-means-clustering-python/"
   ]
  },
  {
   "cell_type": "code",
   "execution_count": 11,
   "metadata": {},
   "outputs": [],
   "source": [
    "import matplotlib.pyplot as plt\n",
    "from kneed import KneeLocator\n",
    "from sklearn.datasets import make_blobs\n",
    "from sklearn.cluster import KMeans, DBSCAN\n",
    "from sklearn.metrics import silhouette_score, classification_report, adjusted_rand_score\n",
    "from sklearn.preprocessing import StandardScaler"
   ]
  },
  {
   "attachments": {},
   "cell_type": "markdown",
   "metadata": {},
   "source": [
    "### Standardisation des données\n",
    "\n",
    "Centrée et normalisé les données :  moyenne de 0 et standard déviation de 1"
   ]
  },
  {
   "cell_type": "code",
   "execution_count": 12,
   "metadata": {},
   "outputs": [],
   "source": [
    "scaler = StandardScaler()\n",
    "scaled_X_train = scaler.fit_transform(X_train)\n",
    "scaled_X_test = scaler.fit_transform(X_test)"
   ]
  },
  {
   "attachments": {},
   "cell_type": "markdown",
   "metadata": {},
   "source": [
    "### Préparation et entraiement du modèle kmeans"
   ]
  },
  {
   "cell_type": "code",
   "execution_count": 20,
   "metadata": {},
   "outputs": [
    {
     "data": {
      "text/html": [
       "<style>#sk-container-id-4 {color: black;background-color: white;}#sk-container-id-4 pre{padding: 0;}#sk-container-id-4 div.sk-toggleable {background-color: white;}#sk-container-id-4 label.sk-toggleable__label {cursor: pointer;display: block;width: 100%;margin-bottom: 0;padding: 0.3em;box-sizing: border-box;text-align: center;}#sk-container-id-4 label.sk-toggleable__label-arrow:before {content: \"▸\";float: left;margin-right: 0.25em;color: #696969;}#sk-container-id-4 label.sk-toggleable__label-arrow:hover:before {color: black;}#sk-container-id-4 div.sk-estimator:hover label.sk-toggleable__label-arrow:before {color: black;}#sk-container-id-4 div.sk-toggleable__content {max-height: 0;max-width: 0;overflow: hidden;text-align: left;background-color: #f0f8ff;}#sk-container-id-4 div.sk-toggleable__content pre {margin: 0.2em;color: black;border-radius: 0.25em;background-color: #f0f8ff;}#sk-container-id-4 input.sk-toggleable__control:checked~div.sk-toggleable__content {max-height: 200px;max-width: 100%;overflow: auto;}#sk-container-id-4 input.sk-toggleable__control:checked~label.sk-toggleable__label-arrow:before {content: \"▾\";}#sk-container-id-4 div.sk-estimator input.sk-toggleable__control:checked~label.sk-toggleable__label {background-color: #d4ebff;}#sk-container-id-4 div.sk-label input.sk-toggleable__control:checked~label.sk-toggleable__label {background-color: #d4ebff;}#sk-container-id-4 input.sk-hidden--visually {border: 0;clip: rect(1px 1px 1px 1px);clip: rect(1px, 1px, 1px, 1px);height: 1px;margin: -1px;overflow: hidden;padding: 0;position: absolute;width: 1px;}#sk-container-id-4 div.sk-estimator {font-family: monospace;background-color: #f0f8ff;border: 1px dotted black;border-radius: 0.25em;box-sizing: border-box;margin-bottom: 0.5em;}#sk-container-id-4 div.sk-estimator:hover {background-color: #d4ebff;}#sk-container-id-4 div.sk-parallel-item::after {content: \"\";width: 100%;border-bottom: 1px solid gray;flex-grow: 1;}#sk-container-id-4 div.sk-label:hover label.sk-toggleable__label {background-color: #d4ebff;}#sk-container-id-4 div.sk-serial::before {content: \"\";position: absolute;border-left: 1px solid gray;box-sizing: border-box;top: 0;bottom: 0;left: 50%;z-index: 0;}#sk-container-id-4 div.sk-serial {display: flex;flex-direction: column;align-items: center;background-color: white;padding-right: 0.2em;padding-left: 0.2em;position: relative;}#sk-container-id-4 div.sk-item {position: relative;z-index: 1;}#sk-container-id-4 div.sk-parallel {display: flex;align-items: stretch;justify-content: center;background-color: white;position: relative;}#sk-container-id-4 div.sk-item::before, #sk-container-id-4 div.sk-parallel-item::before {content: \"\";position: absolute;border-left: 1px solid gray;box-sizing: border-box;top: 0;bottom: 0;left: 50%;z-index: -1;}#sk-container-id-4 div.sk-parallel-item {display: flex;flex-direction: column;z-index: 1;position: relative;background-color: white;}#sk-container-id-4 div.sk-parallel-item:first-child::after {align-self: flex-end;width: 50%;}#sk-container-id-4 div.sk-parallel-item:last-child::after {align-self: flex-start;width: 50%;}#sk-container-id-4 div.sk-parallel-item:only-child::after {width: 0;}#sk-container-id-4 div.sk-dashed-wrapped {border: 1px dashed gray;margin: 0 0.4em 0.5em 0.4em;box-sizing: border-box;padding-bottom: 0.4em;background-color: white;}#sk-container-id-4 div.sk-label label {font-family: monospace;font-weight: bold;display: inline-block;line-height: 1.2em;}#sk-container-id-4 div.sk-label-container {text-align: center;}#sk-container-id-4 div.sk-container {/* jupyter's `normalize.less` sets `[hidden] { display: none; }` but bootstrap.min.css set `[hidden] { display: none !important; }` so we also need the `!important` here to be able to override the default hidden behavior on the sphinx rendered scikit-learn.org. See: https://github.com/scikit-learn/scikit-learn/issues/21755 */display: inline-block !important;position: relative;}#sk-container-id-4 div.sk-text-repr-fallback {display: none;}</style><div id=\"sk-container-id-4\" class=\"sk-top-container\"><div class=\"sk-text-repr-fallback\"><pre>KMeans(init=&#x27;random&#x27;, n_clusters=2, n_init=50)</pre><b>In a Jupyter environment, please rerun this cell to show the HTML representation or trust the notebook. <br />On GitHub, the HTML representation is unable to render, please try loading this page with nbviewer.org.</b></div><div class=\"sk-container\" hidden><div class=\"sk-item\"><div class=\"sk-estimator sk-toggleable\"><input class=\"sk-toggleable__control sk-hidden--visually\" id=\"sk-estimator-id-4\" type=\"checkbox\" checked><label for=\"sk-estimator-id-4\" class=\"sk-toggleable__label sk-toggleable__label-arrow\">KMeans</label><div class=\"sk-toggleable__content\"><pre>KMeans(init=&#x27;random&#x27;, n_clusters=2, n_init=50)</pre></div></div></div></div></div>"
      ],
      "text/plain": [
       "KMeans(init='random', n_clusters=2, n_init=50)"
      ]
     },
     "execution_count": 20,
     "metadata": {},
     "output_type": "execute_result"
    }
   ],
   "source": [
    "kmeans = KMeans(init=\"random\", n_clusters=2, n_init=50, max_iter=300)\n",
    "kmeans.fit(scaled_X_train, y_train)"
   ]
  },
  {
   "cell_type": "code",
   "execution_count": 21,
   "metadata": {},
   "outputs": [
    {
     "name": "stdout",
     "output_type": "stream",
     "text": [
      "The lowest SSE (sum of the squared error) value 6568288.618476442\n",
      "The number of iterations required to converge 4\n",
      "Predict labels [1 1 0 ... 1 0 1] VS True label [1. 1. 1. ... 1. 1. 1.]\n",
      "Number of features seen during fit 10\n"
     ]
    }
   ],
   "source": [
    "print(\"The lowest SSE (sum of the squared error) value\",kmeans.inertia_)\n",
    "print(\"The number of iterations required to converge\", kmeans.n_iter_)\n",
    "print(\"Predict labels\", kmeans.labels_, \"VS True label\", y_train)\n",
    "print(\"Number of features seen during fit\", kmeans.n_features_in_)"
   ]
  },
  {
   "cell_type": "code",
   "execution_count": 22,
   "metadata": {},
   "outputs": [
    {
     "name": "stdout",
     "output_type": "stream",
     "text": [
      "predicted label [1 1 0 ... 1 1 0]\n",
      "True label [0. 1. 1. ... 1. 1. 1.]\n",
      "              precision    recall  f1-score   support\n",
      "\n",
      "         0.0       0.41      0.25      0.31     51880\n",
      "         1.0       0.57      0.74      0.65     70602\n",
      "\n",
      "    accuracy                           0.53    122482\n",
      "   macro avg       0.49      0.49      0.48    122482\n",
      "weighted avg       0.50      0.53      0.50    122482\n",
      "\n",
      "ARI -0.001867186189751843\n"
     ]
    }
   ],
   "source": [
    "y_pred=kmeans.predict(scaled_X_test)\n",
    "print(\"predicted label\", y_pred)\n",
    "print(\"True label\", y_test)\n",
    "\n",
    "print(classification_report(y_test, y_pred))\n",
    "\n",
    "# Adjusted rand index (ARI)\n",
    "ari_kmeans = adjusted_rand_score(y_train, kmeans.labels_)\n",
    "\n",
    "print(\"ARI\", ari_kmeans)"
   ]
  }
 ],
 "metadata": {
  "kernelspec": {
   "display_name": "Python 3",
   "language": "python",
   "name": "python3"
  },
  "language_info": {
   "codemirror_mode": {
    "name": "ipython",
    "version": 3
   },
   "file_extension": ".py",
   "mimetype": "text/x-python",
   "name": "python",
   "nbconvert_exporter": "python",
   "pygments_lexer": "ipython3",
   "version": "3.8.3 (tags/v3.8.3:6f8c832, May 13 2020, 22:37:02) [MSC v.1924 64 bit (AMD64)]"
  },
  "orig_nbformat": 4,
  "vscode": {
   "interpreter": {
    "hash": "570feb405e2e27c949193ac68f46852414290d515b0ba6e5d90d076ed2284471"
   }
  }
 },
 "nbformat": 4,
 "nbformat_minor": 2
}

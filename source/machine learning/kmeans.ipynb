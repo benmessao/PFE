{
 "cells": [
  {
   "attachments": {},
   "cell_type": "markdown",
   "metadata": {},
   "source": [
    "### Préparation des données"
   ]
  },
  {
   "attachments": {},
   "cell_type": "markdown",
   "metadata": {},
   "source": [
    "- merged4 + colomne 3 = 99% acc\n",
    "- merged3 + colomne 3 = 81% acc\n",
    "- merged2 + colomne 4 = 94% acc\n",
    "- merged5 + colomne 2 = 84% acc\n",
    "- merged1 + colomne 1 = 53% acc"
   ]
  },
  {
   "cell_type": "code",
   "execution_count": 9,
   "metadata": {},
   "outputs": [
    {
     "name": "stdout",
     "output_type": "stream",
     "text": [
      "Nombre de lignes avant nettoyage :  1048575\n",
      "Nombre de lignes après nettoyage :  1013977\n"
     ]
    }
   ],
   "source": [
    "import sys\n",
    "sys.path.append('../src/')\n",
    "\n",
    "import dataset_prep\n",
    "\n",
    "#liste des path :\n",
    "# \"../data/1416/merged1.csv\"\n",
    "# \"../data/1416/merged2.csv\"\n",
    "# \"../data/1416/merged3.csv\"\n",
    "# \"../data/1416/merged4.csv\"\n",
    "# \"../data/1416/merged5.csv\"\n",
    "# \"../data/1416/data1416.csv\"\n",
    "# \"../data/0709/merged1.csv\"\n",
    "dataset_path = \"../../data/0709/merged1.csv\"\n",
    "\n",
    "\n",
    "# liste des colomnes\n",
    "# receiver, sender, sender pseudo, message Id, scenario , a supprimé\n",
    "# merged1 : \"sendTime\", \"rcvTime\", \"pos_y_rec_f\", \"pos_y_rec\", \"pos_x_rec_f\", \"pos_x_rec\", \"pos_y_send_f\", \"pos_y_send\", \"pos_x_send_f\", \"pos_x_send\", \"label\"\n",
    "# merged2 : \"spd_x_send\", \"max_speed2\", \"max_speed1\", \"distance\", \"distRealSR2\", \"distRealSR1\", \"diffSpdSR2\", \"diffSpdSR1\", \"difSpeed\", \"deltaSpd2\", \"label\"\n",
    "# merged3 : \"sendTime\", \"rcvTime\", \"pos_x_rec_f\", \"max_speed1\", \"distRealSR2\", \"distRealSR1\", \"deltaSpd2\", \"deltaSpd1\", \"deltaPos2\", \"deltaPos1\", \"label\"\n",
    "# merged4 : \"pos_x_rec_f\", \"nb_packets_sent\", \"distance\", \"distRealSR2\", \"distRealSR1\", \"deltaPos2\", \"deltaPos1\", \"spd_y_send\", \"spd_x_send\", \"sendTime\", \"label\"\n",
    "# merged5 : \"pos_x_rec_f\", \"pos_x_rec\", \"nb_packets_sent\", \"distance\", \"distRealSR2\", \"distRealSR1\", \"deltaPos2\", \"deltaPos1\", \"sendTime\", \"rcvTime\", \"label\"\n",
    "# 0709 : \"time_diff\", \"nb_packets_sent\", \"max_speed1\", \"max_speed2\", \"hed_noise_x\", \"sendTime\", \"rcvTime\", \"hed_noise_y\", \"label\"\n",
    "usecols = [\"time_diff\", \"nb_packets_sent\", \"max_speed1\", \"max_speed2\", \"hed_noise_x\", \"sendTime\", \"rcvTime\", \"hed_noise_y\", \"label\"]\n",
    "\n",
    "data = dataset_prep.import_dataset(dataset_path, usecols)\n",
    "dataset_prep.clean_dataset(data)\n",
    "X_train, X_test, y_train, y_test = dataset_prep.data_preparation(data, test_size=0.1)\n"
   ]
  },
  {
   "attachments": {},
   "cell_type": "markdown",
   "metadata": {},
   "source": [
    "# Classification par clustering k-means\n",
    "https://realpython.com/k-means-clustering-python/"
   ]
  },
  {
   "cell_type": "code",
   "execution_count": 10,
   "metadata": {},
   "outputs": [],
   "source": [
    "import matplotlib.pyplot as plt\n",
    "from kneed import KneeLocator\n",
    "from sklearn.datasets import make_blobs\n",
    "from sklearn.cluster import KMeans, DBSCAN\n",
    "from sklearn.metrics import silhouette_score, classification_report, adjusted_rand_score\n",
    "from sklearn.preprocessing import StandardScaler"
   ]
  },
  {
   "attachments": {},
   "cell_type": "markdown",
   "metadata": {},
   "source": [
    "### Standardisation des données\n",
    "\n",
    "Centrée et normalisé les données :  moyenne de 0 et standard déviation de 1"
   ]
  },
  {
   "cell_type": "code",
   "execution_count": 286,
   "metadata": {},
   "outputs": [],
   "source": [
    "scaler = StandardScaler()\n",
    "scaled_X_train = scaler.fit_transform(X_train)\n",
    "scaled_X_test = scaler.fit_transform(X_test)\n",
    "\n",
    "y_train = [0 if y_train[i]==0 else 1 for i in range(len(y_train))]\n",
    "y_test = [0 if y_test[i]==0 else 1 for i in range(len(y_test))]\n"
   ]
  },
  {
   "attachments": {},
   "cell_type": "markdown",
   "metadata": {},
   "source": [
    "### Préparation et entraiement du modèle kmeans"
   ]
  },
  {
   "cell_type": "code",
   "execution_count": 287,
   "metadata": {},
   "outputs": [
    {
     "data": {
      "text/html": [
       "<style>#sk-container-id-51 {color: black;background-color: white;}#sk-container-id-51 pre{padding: 0;}#sk-container-id-51 div.sk-toggleable {background-color: white;}#sk-container-id-51 label.sk-toggleable__label {cursor: pointer;display: block;width: 100%;margin-bottom: 0;padding: 0.3em;box-sizing: border-box;text-align: center;}#sk-container-id-51 label.sk-toggleable__label-arrow:before {content: \"▸\";float: left;margin-right: 0.25em;color: #696969;}#sk-container-id-51 label.sk-toggleable__label-arrow:hover:before {color: black;}#sk-container-id-51 div.sk-estimator:hover label.sk-toggleable__label-arrow:before {color: black;}#sk-container-id-51 div.sk-toggleable__content {max-height: 0;max-width: 0;overflow: hidden;text-align: left;background-color: #f0f8ff;}#sk-container-id-51 div.sk-toggleable__content pre {margin: 0.2em;color: black;border-radius: 0.25em;background-color: #f0f8ff;}#sk-container-id-51 input.sk-toggleable__control:checked~div.sk-toggleable__content {max-height: 200px;max-width: 100%;overflow: auto;}#sk-container-id-51 input.sk-toggleable__control:checked~label.sk-toggleable__label-arrow:before {content: \"▾\";}#sk-container-id-51 div.sk-estimator input.sk-toggleable__control:checked~label.sk-toggleable__label {background-color: #d4ebff;}#sk-container-id-51 div.sk-label input.sk-toggleable__control:checked~label.sk-toggleable__label {background-color: #d4ebff;}#sk-container-id-51 input.sk-hidden--visually {border: 0;clip: rect(1px 1px 1px 1px);clip: rect(1px, 1px, 1px, 1px);height: 1px;margin: -1px;overflow: hidden;padding: 0;position: absolute;width: 1px;}#sk-container-id-51 div.sk-estimator {font-family: monospace;background-color: #f0f8ff;border: 1px dotted black;border-radius: 0.25em;box-sizing: border-box;margin-bottom: 0.5em;}#sk-container-id-51 div.sk-estimator:hover {background-color: #d4ebff;}#sk-container-id-51 div.sk-parallel-item::after {content: \"\";width: 100%;border-bottom: 1px solid gray;flex-grow: 1;}#sk-container-id-51 div.sk-label:hover label.sk-toggleable__label {background-color: #d4ebff;}#sk-container-id-51 div.sk-serial::before {content: \"\";position: absolute;border-left: 1px solid gray;box-sizing: border-box;top: 0;bottom: 0;left: 50%;z-index: 0;}#sk-container-id-51 div.sk-serial {display: flex;flex-direction: column;align-items: center;background-color: white;padding-right: 0.2em;padding-left: 0.2em;position: relative;}#sk-container-id-51 div.sk-item {position: relative;z-index: 1;}#sk-container-id-51 div.sk-parallel {display: flex;align-items: stretch;justify-content: center;background-color: white;position: relative;}#sk-container-id-51 div.sk-item::before, #sk-container-id-51 div.sk-parallel-item::before {content: \"\";position: absolute;border-left: 1px solid gray;box-sizing: border-box;top: 0;bottom: 0;left: 50%;z-index: -1;}#sk-container-id-51 div.sk-parallel-item {display: flex;flex-direction: column;z-index: 1;position: relative;background-color: white;}#sk-container-id-51 div.sk-parallel-item:first-child::after {align-self: flex-end;width: 50%;}#sk-container-id-51 div.sk-parallel-item:last-child::after {align-self: flex-start;width: 50%;}#sk-container-id-51 div.sk-parallel-item:only-child::after {width: 0;}#sk-container-id-51 div.sk-dashed-wrapped {border: 1px dashed gray;margin: 0 0.4em 0.5em 0.4em;box-sizing: border-box;padding-bottom: 0.4em;background-color: white;}#sk-container-id-51 div.sk-label label {font-family: monospace;font-weight: bold;display: inline-block;line-height: 1.2em;}#sk-container-id-51 div.sk-label-container {text-align: center;}#sk-container-id-51 div.sk-container {/* jupyter's `normalize.less` sets `[hidden] { display: none; }` but bootstrap.min.css set `[hidden] { display: none !important; }` so we also need the `!important` here to be able to override the default hidden behavior on the sphinx rendered scikit-learn.org. See: https://github.com/scikit-learn/scikit-learn/issues/21755 */display: inline-block !important;position: relative;}#sk-container-id-51 div.sk-text-repr-fallback {display: none;}</style><div id=\"sk-container-id-51\" class=\"sk-top-container\"><div class=\"sk-text-repr-fallback\"><pre>KMeans(init=&#x27;random&#x27;, n_clusters=2, n_init=100)</pre><b>In a Jupyter environment, please rerun this cell to show the HTML representation or trust the notebook. <br />On GitHub, the HTML representation is unable to render, please try loading this page with nbviewer.org.</b></div><div class=\"sk-container\" hidden><div class=\"sk-item\"><div class=\"sk-estimator sk-toggleable\"><input class=\"sk-toggleable__control sk-hidden--visually\" id=\"sk-estimator-id-51\" type=\"checkbox\" checked><label for=\"sk-estimator-id-51\" class=\"sk-toggleable__label sk-toggleable__label-arrow\">KMeans</label><div class=\"sk-toggleable__content\"><pre>KMeans(init=&#x27;random&#x27;, n_clusters=2, n_init=100)</pre></div></div></div></div></div>"
      ],
      "text/plain": [
       "KMeans(init='random', n_clusters=2, n_init=100)"
      ]
     },
     "execution_count": 287,
     "metadata": {},
     "output_type": "execute_result"
    }
   ],
   "source": [
    "kmeans = KMeans(init=\"random\", n_clusters=2, n_init=100, max_iter=300)\n",
    "kmeans.fit(scaled_X_train, y_train)"
   ]
  },
  {
   "cell_type": "code",
   "execution_count": 288,
   "metadata": {},
   "outputs": [
    {
     "name": "stdout",
     "output_type": "stream",
     "text": [
      "The lowest SSE (sum of the squared error) value 5878581.163780677\n",
      "The number of iterations required to converge 6\n",
      "Number of features seen during fit 8\n"
     ]
    }
   ],
   "source": [
    "print(\"The lowest SSE (sum of the squared error) value\",kmeans.inertia_)\n",
    "print(\"The number of iterations required to converge\", kmeans.n_iter_)\n",
    "#print(\"Predict labels\", kmeans.labels_, \"VS True label\", y_train)\n",
    "print(\"Number of features seen during fit\", kmeans.n_features_in_)"
   ]
  },
  {
   "cell_type": "code",
   "execution_count": 289,
   "metadata": {},
   "outputs": [
    {
     "name": "stdout",
     "output_type": "stream",
     "text": [
      "predicted label [0 0 0 ... 1 0 1]\n",
      "              precision    recall  f1-score   support\n",
      "\n",
      "           0       0.48      0.45      0.46     44608\n",
      "           1       0.59      0.61      0.60     56790\n",
      "\n",
      "    accuracy                           0.54    101398\n",
      "   macro avg       0.53      0.53      0.53    101398\n",
      "weighted avg       0.54      0.54      0.54    101398\n",
      "\n",
      "ARI 0.006202175616325859\n"
     ]
    }
   ],
   "source": [
    "y_pred=kmeans.predict(scaled_X_test)\n",
    "print(\"predicted label\", y_pred)\n",
    "#print(\"True label\", y_test)\n",
    "\n",
    "print(classification_report(y_test, y_pred))\n",
    "\n",
    "# Adjusted rand index (ARI)\n",
    "ari_kmeans = adjusted_rand_score(y_train, kmeans.labels_)\n",
    "\n",
    "print(\"ARI\", ari_kmeans)"
   ]
  }
 ],
 "metadata": {
  "kernelspec": {
   "display_name": "Python 3",
   "language": "python",
   "name": "python3"
  },
  "language_info": {
   "codemirror_mode": {
    "name": "ipython",
    "version": 3
   },
   "file_extension": ".py",
   "mimetype": "text/x-python",
   "name": "python",
   "nbconvert_exporter": "python",
   "pygments_lexer": "ipython3",
   "version": "3.8.3"
  },
  "orig_nbformat": 4,
  "vscode": {
   "interpreter": {
    "hash": "31f2aee4e71d21fbe5cf8b01ff0e069b9275f58929596ceb00d14d90e3e16cd6"
   }
  }
 },
 "nbformat": 4,
 "nbformat_minor": 2
}

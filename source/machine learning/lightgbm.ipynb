{
 "cells": [
  {
   "attachments": {},
   "cell_type": "markdown",
   "metadata": {},
   "source": [
    "### Préparation des données"
   ]
  },
  {
   "cell_type": "code",
   "execution_count": 2,
   "metadata": {},
   "outputs": [
    {
     "name": "stdout",
     "output_type": "stream",
     "text": [
      "Nombre de lignes avant nettoyage :  1048575\n",
      "Nombre de lignes après nettoyage :  1013977\n"
     ]
    }
   ],
   "source": [
    "import sys\n",
    "sys.path.append('../src/')\n",
    "\n",
    "import dataset_prep\n",
    "#liste des path :\n",
    "# \"../data/1416/merged1.csv\"\n",
    "# \"../data/1416/merged2.csv\"\n",
    "# \"../data/1416/merged3.csv\"\n",
    "# \"../data/1416/merged4.csv\"\n",
    "# \"../data/1416/merged5.csv\"\n",
    "# \"../data/1416/data1416.csv\"\n",
    "# \"../data/0709/merged1.csv\"\n",
    "dataset_path = \"../../data/0709/merged1.csv\"\n",
    "\n",
    "\n",
    "# liste des colomnes\n",
    "# receiver, sender, sender pseudo, message Id, scenario , a supprimé\n",
    "# merged1 : \"sendTime\", \"rcvTime\", \"pos_y_rec_f\", \"pos_y_rec\", \"pos_x_rec_f\", \"pos_x_rec\", \"pos_y_send_f\", \"pos_y_send\", \"pos_x_send_f\", \"pos_x_send\", \"label\"\n",
    "# merged2 : \"spd_x_send\", \"max_speed2\", \"max_speed1\", \"distance\", \"distRealSR2\", \"distRealSR1\", \"diffSpdSR2\", \"diffSpdSR1\", \"difSpeed\", \"deltaSpd2\", \"label\"\n",
    "# merged3 : \"sendTime\", \"rcvTime\", \"pos_x_rec_f\", \"max_speed1\", \"distRealSR2\", \"distRealSR1\", \"deltaSpd2\", \"deltaSpd1\", \"deltaPos2\", \"deltaPos1\", \"label\"\n",
    "# merged4 : \"pos_x_rec_f\", \"nb_packets_sent\", \"distance\", \"distRealSR2\", \"distRealSR1\", \"deltaPos2\", \"deltaPos1\", \"spd_y_send\", \"spd_x_send\", \"sendTime\", \"label\"\n",
    "# merged5 : \"pos_x_rec_f\", \"pos_x_rec\", \"nb_packets_sent\", \"distance\", \"distRealSR2\", \"distRealSR1\", \"deltaPos2\", \"deltaPos1\", \"sendTime\", \"rcvTime\", \"label\"\n",
    "# 0709 : \"time_diff\", \"nb_packets_sent\", \"max_speed1\", \"max_speed2\", \"hed_noise_x\", \"sendTime\", \"rcvTime\", \"hed_noise_y\", \"label\"\n",
    "usecols = [\"time_diff\", \"nb_packets_sent\", \"max_speed1\", \"max_speed2\", \"hed_noise_x\", \"sendTime\", \"rcvTime\", \"hed_noise_y\", \"label\"]\n",
    "\n",
    "data = dataset_prep.import_dataset(dataset_path, usecols)\n",
    "dataset_prep.clean_dataset(data)\n",
    "X_train, X_test, y_train, y_test = dataset_prep.data_preparation(data, test_size=0.1)"
   ]
  },
  {
   "attachments": {},
   "cell_type": "markdown",
   "metadata": {},
   "source": [
    "# Classifier LightGBM \n",
    "\n",
    "https://www.kaggle.com/code/prashant111/lightgbm-classifier-in-python\n",
    "\n",
    "https://lightgbm.readthedocs.io/en/latest/pythonapi/lightgbm.LGBMClassifier.html\n"
   ]
  },
  {
   "cell_type": "code",
   "execution_count": 201,
   "metadata": {},
   "outputs": [],
   "source": [
    "from sklearn.model_selection import train_test_split\n",
    "\n",
    "X_train, X_valid, y_train, y_valid = train_test_split(X_train,y_train, test_size=0.2)\n"
   ]
  },
  {
   "cell_type": "code",
   "execution_count": 215,
   "metadata": {},
   "outputs": [
    {
     "name": "stderr",
     "output_type": "stream",
     "text": [
      "/home/cytech/.local/lib/python3.8/site-packages/lightgbm/sklearn.py:726: UserWarning: 'early_stopping_rounds' argument is deprecated and will be removed in a future release of LightGBM. Pass 'early_stopping()' callback via 'callbacks' argument instead.\n",
      "  _log_warning(\"'early_stopping_rounds' argument is deprecated and will be removed in a future release of LightGBM. \"\n"
     ]
    },
    {
     "name": "stdout",
     "output_type": "stream",
     "text": [
      "[1]\tvalid_0's binary_logloss: 0.506625\n",
      "[2]\tvalid_0's binary_logloss: 0.387637\n",
      "[3]\tvalid_0's binary_logloss: 0.302597\n",
      "[4]\tvalid_0's binary_logloss: 0.239365\n",
      "[5]\tvalid_0's binary_logloss: 0.191142\n",
      "[6]\tvalid_0's binary_logloss: 0.153782\n",
      "[7]\tvalid_0's binary_logloss: 0.124432\n",
      "[8]\tvalid_0's binary_logloss: 0.101212\n",
      "[9]\tvalid_0's binary_logloss: 0.0825531\n",
      "[10]\tvalid_0's binary_logloss: 0.0676811\n",
      "[11]\tvalid_0's binary_logloss: 0.0556697\n",
      "[12]\tvalid_0's binary_logloss: 0.0459344\n",
      "[13]\tvalid_0's binary_logloss: 0.0380728\n",
      "[14]\tvalid_0's binary_logloss: 0.0316689\n",
      "[15]\tvalid_0's binary_logloss: 0.0264587\n",
      "[16]\tvalid_0's binary_logloss: 0.0222116\n",
      "[17]\tvalid_0's binary_logloss: 0.0187138\n",
      "[18]\tvalid_0's binary_logloss: 0.0158648\n",
      "[19]\tvalid_0's binary_logloss: 0.013539\n",
      "[20]\tvalid_0's binary_logloss: 0.0116434\n",
      "[21]\tvalid_0's binary_logloss: 0.0100198\n",
      "[22]\tvalid_0's binary_logloss: 0.00873723\n",
      "[23]\tvalid_0's binary_logloss: 0.00764344\n",
      "[24]\tvalid_0's binary_logloss: 0.00676333\n",
      "[25]\tvalid_0's binary_logloss: 0.00601583\n",
      "[26]\tvalid_0's binary_logloss: 0.00541228\n",
      "[27]\tvalid_0's binary_logloss: 0.00497027\n",
      "[28]\tvalid_0's binary_logloss: 0.00450702\n",
      "[29]\tvalid_0's binary_logloss: 0.00415811\n",
      "[30]\tvalid_0's binary_logloss: 0.00463666\n",
      "[31]\tvalid_0's binary_logloss: 0.00387227\n",
      "[32]\tvalid_0's binary_logloss: 0.00454983\n",
      "[33]\tvalid_0's binary_logloss: 0.00339207\n",
      "[34]\tvalid_0's binary_logloss: 0.00322612\n",
      "[35]\tvalid_0's binary_logloss: 0.00308257\n",
      "[36]\tvalid_0's binary_logloss: 0.00294407\n",
      "[37]\tvalid_0's binary_logloss: 0.00581006\n",
      "[38]\tvalid_0's binary_logloss: 0.00291347\n",
      "[39]\tvalid_0's binary_logloss: 0.00843553\n",
      "[40]\tvalid_0's binary_logloss: 0.00581443\n",
      "[41]\tvalid_0's binary_logloss: 0.00645247\n",
      "[42]\tvalid_0's binary_logloss: 0.004996\n",
      "[43]\tvalid_0's binary_logloss: 0.00271984\n",
      "[44]\tvalid_0's binary_logloss: 0.00396202\n",
      "[45]\tvalid_0's binary_logloss: 0.00274023\n",
      "[46]\tvalid_0's binary_logloss: 0.00266197\n",
      "[47]\tvalid_0's binary_logloss: 0.00369419\n",
      "[48]\tvalid_0's binary_logloss: 0.00235363\n",
      "[49]\tvalid_0's binary_logloss: 0.0023109\n",
      "[50]\tvalid_0's binary_logloss: 0.00298428\n",
      "[51]\tvalid_0's binary_logloss: 0.00257127\n",
      "[52]\tvalid_0's binary_logloss: 0.00212979\n",
      "[53]\tvalid_0's binary_logloss: 0.00205112\n",
      "[54]\tvalid_0's binary_logloss: 0.00203399\n",
      "[55]\tvalid_0's binary_logloss: 0.00234316\n",
      "[56]\tvalid_0's binary_logloss: 0.0022482\n",
      "[57]\tvalid_0's binary_logloss: 0.00225018\n",
      "[58]\tvalid_0's binary_logloss: 0.00202264\n",
      "[59]\tvalid_0's binary_logloss: 0.00196519\n",
      "[60]\tvalid_0's binary_logloss: 0.00192208\n",
      "[61]\tvalid_0's binary_logloss: 0.00187328\n",
      "[62]\tvalid_0's binary_logloss: 0.00184339\n",
      "[63]\tvalid_0's binary_logloss: 0.00181479\n",
      "[64]\tvalid_0's binary_logloss: 0.00177068\n",
      "[65]\tvalid_0's binary_logloss: 0.00174263\n",
      "[66]\tvalid_0's binary_logloss: 0.00171875\n",
      "[67]\tvalid_0's binary_logloss: 0.00168736\n",
      "[68]\tvalid_0's binary_logloss: 0.00318969\n",
      "[69]\tvalid_0's binary_logloss: 0.00222363\n",
      "[70]\tvalid_0's binary_logloss: 0.00162506\n",
      "[71]\tvalid_0's binary_logloss: 0.00158635\n",
      "[72]\tvalid_0's binary_logloss: 0.00155957\n",
      "[73]\tvalid_0's binary_logloss: 0.00153703\n",
      "[74]\tvalid_0's binary_logloss: 0.00151906\n",
      "[75]\tvalid_0's binary_logloss: 0.00150043\n",
      "[76]\tvalid_0's binary_logloss: 0.00148488\n",
      "[77]\tvalid_0's binary_logloss: 0.00146632\n",
      "[78]\tvalid_0's binary_logloss: 0.00144211\n",
      "[79]\tvalid_0's binary_logloss: 0.00141449\n",
      "[80]\tvalid_0's binary_logloss: 0.00139936\n",
      "[81]\tvalid_0's binary_logloss: 0.00136421\n",
      "[82]\tvalid_0's binary_logloss: 0.00133048\n",
      "[83]\tvalid_0's binary_logloss: 0.00131403\n",
      "[84]\tvalid_0's binary_logloss: 0.00130038\n",
      "[85]\tvalid_0's binary_logloss: 0.00373878\n",
      "[86]\tvalid_0's binary_logloss: 0.00373691\n",
      "[87]\tvalid_0's binary_logloss: 0.00126167\n",
      "[88]\tvalid_0's binary_logloss: 0.00125069\n",
      "[89]\tvalid_0's binary_logloss: 0.00123187\n",
      "[90]\tvalid_0's binary_logloss: 0.00122076\n",
      "[91]\tvalid_0's binary_logloss: 0.00120685\n",
      "[92]\tvalid_0's binary_logloss: 0.001182\n",
      "[93]\tvalid_0's binary_logloss: 0.00343435\n",
      "[94]\tvalid_0's binary_logloss: 0.00210217\n",
      "[95]\tvalid_0's binary_logloss: 0.00947877\n",
      "[96]\tvalid_0's binary_logloss: 0.02055\n",
      "[97]\tvalid_0's binary_logloss: 0.00361479\n",
      "[98]\tvalid_0's binary_logloss: 0.00530773\n",
      "[99]\tvalid_0's binary_logloss: 0.00228851\n",
      "[100]\tvalid_0's binary_logloss: 0.00738687\n",
      "[101]\tvalid_0's binary_logloss: 0.103512\n",
      "[102]\tvalid_0's binary_logloss: 0.00169494\n",
      "[103]\tvalid_0's binary_logloss: 0.00831209\n",
      "[104]\tvalid_0's binary_logloss: 0.018798\n",
      "[105]\tvalid_0's binary_logloss: 0.00338928\n",
      "[106]\tvalid_0's binary_logloss: 0.00150902\n",
      "[107]\tvalid_0's binary_logloss: 0.00754267\n",
      "[108]\tvalid_0's binary_logloss: 0.0033757\n",
      "[109]\tvalid_0's binary_logloss: 0.0080088\n",
      "[110]\tvalid_0's binary_logloss: 0.00855978\n",
      "[111]\tvalid_0's binary_logloss: 0.0116719\n",
      "[112]\tvalid_0's binary_logloss: 0.0190291\n",
      "[113]\tvalid_0's binary_logloss: 0.00373217\n",
      "[114]\tvalid_0's binary_logloss: 0.0332698\n",
      "[115]\tvalid_0's binary_logloss: 0.00598785\n",
      "[116]\tvalid_0's binary_logloss: 0.00730805\n",
      "[117]\tvalid_0's binary_logloss: 0.280332\n",
      "[118]\tvalid_0's binary_logloss: 0.0150169\n",
      "[119]\tvalid_0's binary_logloss: 0.0364661\n",
      "[120]\tvalid_0's binary_logloss: 0.0311673\n",
      "[121]\tvalid_0's binary_logloss: 0.0519639\n",
      "[122]\tvalid_0's binary_logloss: 0.0245448\n"
     ]
    },
    {
     "data": {
      "text/html": [
       "<style>#sk-container-id-29 {color: black;background-color: white;}#sk-container-id-29 pre{padding: 0;}#sk-container-id-29 div.sk-toggleable {background-color: white;}#sk-container-id-29 label.sk-toggleable__label {cursor: pointer;display: block;width: 100%;margin-bottom: 0;padding: 0.3em;box-sizing: border-box;text-align: center;}#sk-container-id-29 label.sk-toggleable__label-arrow:before {content: \"▸\";float: left;margin-right: 0.25em;color: #696969;}#sk-container-id-29 label.sk-toggleable__label-arrow:hover:before {color: black;}#sk-container-id-29 div.sk-estimator:hover label.sk-toggleable__label-arrow:before {color: black;}#sk-container-id-29 div.sk-toggleable__content {max-height: 0;max-width: 0;overflow: hidden;text-align: left;background-color: #f0f8ff;}#sk-container-id-29 div.sk-toggleable__content pre {margin: 0.2em;color: black;border-radius: 0.25em;background-color: #f0f8ff;}#sk-container-id-29 input.sk-toggleable__control:checked~div.sk-toggleable__content {max-height: 200px;max-width: 100%;overflow: auto;}#sk-container-id-29 input.sk-toggleable__control:checked~label.sk-toggleable__label-arrow:before {content: \"▾\";}#sk-container-id-29 div.sk-estimator input.sk-toggleable__control:checked~label.sk-toggleable__label {background-color: #d4ebff;}#sk-container-id-29 div.sk-label input.sk-toggleable__control:checked~label.sk-toggleable__label {background-color: #d4ebff;}#sk-container-id-29 input.sk-hidden--visually {border: 0;clip: rect(1px 1px 1px 1px);clip: rect(1px, 1px, 1px, 1px);height: 1px;margin: -1px;overflow: hidden;padding: 0;position: absolute;width: 1px;}#sk-container-id-29 div.sk-estimator {font-family: monospace;background-color: #f0f8ff;border: 1px dotted black;border-radius: 0.25em;box-sizing: border-box;margin-bottom: 0.5em;}#sk-container-id-29 div.sk-estimator:hover {background-color: #d4ebff;}#sk-container-id-29 div.sk-parallel-item::after {content: \"\";width: 100%;border-bottom: 1px solid gray;flex-grow: 1;}#sk-container-id-29 div.sk-label:hover label.sk-toggleable__label {background-color: #d4ebff;}#sk-container-id-29 div.sk-serial::before {content: \"\";position: absolute;border-left: 1px solid gray;box-sizing: border-box;top: 0;bottom: 0;left: 50%;z-index: 0;}#sk-container-id-29 div.sk-serial {display: flex;flex-direction: column;align-items: center;background-color: white;padding-right: 0.2em;padding-left: 0.2em;position: relative;}#sk-container-id-29 div.sk-item {position: relative;z-index: 1;}#sk-container-id-29 div.sk-parallel {display: flex;align-items: stretch;justify-content: center;background-color: white;position: relative;}#sk-container-id-29 div.sk-item::before, #sk-container-id-29 div.sk-parallel-item::before {content: \"\";position: absolute;border-left: 1px solid gray;box-sizing: border-box;top: 0;bottom: 0;left: 50%;z-index: -1;}#sk-container-id-29 div.sk-parallel-item {display: flex;flex-direction: column;z-index: 1;position: relative;background-color: white;}#sk-container-id-29 div.sk-parallel-item:first-child::after {align-self: flex-end;width: 50%;}#sk-container-id-29 div.sk-parallel-item:last-child::after {align-self: flex-start;width: 50%;}#sk-container-id-29 div.sk-parallel-item:only-child::after {width: 0;}#sk-container-id-29 div.sk-dashed-wrapped {border: 1px dashed gray;margin: 0 0.4em 0.5em 0.4em;box-sizing: border-box;padding-bottom: 0.4em;background-color: white;}#sk-container-id-29 div.sk-label label {font-family: monospace;font-weight: bold;display: inline-block;line-height: 1.2em;}#sk-container-id-29 div.sk-label-container {text-align: center;}#sk-container-id-29 div.sk-container {/* jupyter's `normalize.less` sets `[hidden] { display: none; }` but bootstrap.min.css set `[hidden] { display: none !important; }` so we also need the `!important` here to be able to override the default hidden behavior on the sphinx rendered scikit-learn.org. See: https://github.com/scikit-learn/scikit-learn/issues/21755 */display: inline-block !important;position: relative;}#sk-container-id-29 div.sk-text-repr-fallback {display: none;}</style><div id=\"sk-container-id-29\" class=\"sk-top-container\"><div class=\"sk-text-repr-fallback\"><pre>LGBMClassifier(learning_rate=0.2, n_estimators=1000, objective=&#x27;binary&#x27;)</pre><b>In a Jupyter environment, please rerun this cell to show the HTML representation or trust the notebook. <br />On GitHub, the HTML representation is unable to render, please try loading this page with nbviewer.org.</b></div><div class=\"sk-container\" hidden><div class=\"sk-item\"><div class=\"sk-estimator sk-toggleable\"><input class=\"sk-toggleable__control sk-hidden--visually\" id=\"sk-estimator-id-29\" type=\"checkbox\" checked><label for=\"sk-estimator-id-29\" class=\"sk-toggleable__label sk-toggleable__label-arrow\">LGBMClassifier</label><div class=\"sk-toggleable__content\"><pre>LGBMClassifier(learning_rate=0.2, n_estimators=1000, objective=&#x27;binary&#x27;)</pre></div></div></div></div></div>"
      ],
      "text/plain": [
       "LGBMClassifier(learning_rate=0.2, n_estimators=1000, objective='binary')"
      ]
     },
     "execution_count": 215,
     "metadata": {},
     "output_type": "execute_result"
    }
   ],
   "source": [
    "# build the lightgbm model\n",
    "import lightgbm as lgb\n",
    "clf = lgb.LGBMClassifier(boosting_type='gbdt', learning_rate=0.2, n_estimators=1000, objective='binary')\n",
    "clf.fit(X_train, y_train, eval_set=(X_valid, y_valid), early_stopping_rounds=30)"
   ]
  },
  {
   "cell_type": "code",
   "execution_count": 216,
   "metadata": {},
   "outputs": [
    {
     "name": "stdout",
     "output_type": "stream",
     "text": [
      "LightGBM Model accuracy score: 0.9999\n",
      "              precision    recall  f1-score   support\n",
      "\n",
      "           0       1.00      1.00      1.00     44420\n",
      "           1       1.00      1.00      1.00     56978\n",
      "\n",
      "    accuracy                           1.00    101398\n",
      "   macro avg       1.00      1.00      1.00    101398\n",
      "weighted avg       1.00      1.00      1.00    101398\n",
      "\n"
     ]
    }
   ],
   "source": [
    "# predict the results\n",
    "y_pred=clf.predict(X_test)\n",
    "\n",
    "# view accuracy\n",
    "from sklearn.metrics import accuracy_score, classification_report\n",
    "\n",
    "accuracy=accuracy_score(y_pred, y_test)\n",
    "print('LightGBM Model accuracy score: {0:0.4f}'.format(accuracy_score(y_test, y_pred)))\n",
    "\n",
    "print(classification_report(y_test, y_pred))"
   ]
  },
  {
   "cell_type": "code",
   "execution_count": 208,
   "metadata": {},
   "outputs": [
    {
     "name": "stdout",
     "output_type": "stream",
     "text": [
      "Training-set accuracy score: 0.9843\n",
      "              precision    recall  f1-score   support\n",
      "\n",
      "           0       0.98      0.98      0.98    319868\n",
      "           1       0.98      0.99      0.99    410195\n",
      "\n",
      "    accuracy                           0.98    730063\n",
      "   macro avg       0.98      0.98      0.98    730063\n",
      "weighted avg       0.98      0.98      0.98    730063\n",
      "\n"
     ]
    }
   ],
   "source": [
    "#prediction with train set\n",
    "y_pred_train = clf.predict(X_train)\n",
    "print('Training-set accuracy score: {0:0.4f}'. format(accuracy_score(y_train, y_pred_train)))\n",
    "\n",
    "print(classification_report(y_train, y_pred_train))\n"
   ]
  },
  {
   "cell_type": "code",
   "execution_count": 205,
   "metadata": {},
   "outputs": [
    {
     "name": "stdout",
     "output_type": "stream",
     "text": [
      "Training set score: 0.9843\n",
      "Test set score: 0.9843\n"
     ]
    }
   ],
   "source": [
    "# print the scores on training and test set\n",
    "print('Training set score: {:.4f}'.format(clf.score(X_train, y_train)))\n",
    "print('Test set score: {:.4f}'.format(clf.score(X_test, y_test)))"
   ]
  },
  {
   "cell_type": "code",
   "execution_count": 218,
   "metadata": {},
   "outputs": [
    {
     "data": {
      "text/plain": [
       "<AxesSubplot:>"
      ]
     },
     "execution_count": 218,
     "metadata": {},
     "output_type": "execute_result"
    },
    {
     "data": {
      "image/png": "[encoded data removed]",
      "text/plain": [
       "<Figure size 432x288 with 2 Axes>"
      ]
     },
     "metadata": {
      "needs_background": "light"
     },
     "output_type": "display_data"
    }
   ],
   "source": [
    "# compute the confusion matrix\n",
    "from sklearn.metrics import confusion_matrix\n",
    "import pandas as pd\n",
    "import seaborn as sns\n",
    "\n",
    "cm = confusion_matrix(y_test, y_pred)\n",
    "\n",
    "# visualize confusion matrix with seaborn heatmap\n",
    "cm_matrix = pd.DataFrame(data=cm, columns=['Actual Positive:1', 'Actual Negative:0'], index=['Predict Positive:1', 'Predict Negative:0'])\n",
    "\n",
    "sns.heatmap(cm_matrix, annot=True, fmt='d', cmap='YlGnBu')\n",
    "\n"
   ]
  },
  {
   "attachments": {},
   "cell_type": "markdown",
   "metadata": {},
   "source": [
    "# Other model using lightgbm\n",
    "\n",
    "multiclasse classification\n",
    "\n",
    "https://lightgbm.readthedocs.io/en/latest/pythonapi/lightgbm.train.html"
   ]
  },
  {
   "cell_type": "code",
   "execution_count": 211,
   "metadata": {},
   "outputs": [
    {
     "name": "stderr",
     "output_type": "stream",
     "text": [
      "/home/cytech/.local/lib/python3.8/site-packages/lightgbm/engine.py:181: UserWarning: 'early_stopping_rounds' argument is deprecated and will be removed in a future release of LightGBM. Pass 'early_stopping()' callback via 'callbacks' argument instead.\n",
      "  _log_warning(\"'early_stopping_rounds' argument is deprecated and will be removed in a future release of LightGBM. \"\n"
     ]
    },
    {
     "name": "stdout",
     "output_type": "stream",
     "text": [
      "[LightGBM] [Info] Number of positive: 410195, number of negative: 319868\n",
      "[LightGBM] [Warning] Auto-choosing row-wise multi-threading, the overhead of testing was 0.008372 seconds.\n",
      "You can set `force_row_wise=true` to remove the overhead.\n",
      "And if memory is not enough, you can set `force_col_wise=true`.\n",
      "[LightGBM] [Info] Total Bins 2026\n",
      "[LightGBM] [Info] Number of data points in the train set: 730063, number of used features: 8\n",
      "[LightGBM] [Info] [binary:BoostFromScore]: pavg=0.561862 -> initscore=0.248724\n",
      "[LightGBM] [Info] Start training from score 0.248724\n",
      "[1]\tvalid_0's binary_logloss: 0.506625\n",
      "Training until validation scores don't improve for 30 rounds\n",
      "[2]\tvalid_0's binary_logloss: 0.387637\n",
      "[3]\tvalid_0's binary_logloss: 0.302597\n",
      "[4]\tvalid_0's binary_logloss: 0.239365\n",
      "[5]\tvalid_0's binary_logloss: 0.191142\n",
      "[6]\tvalid_0's binary_logloss: 0.153782\n",
      "[7]\tvalid_0's binary_logloss: 0.124432\n",
      "[8]\tvalid_0's binary_logloss: 0.101212\n",
      "[9]\tvalid_0's binary_logloss: 0.0825531\n",
      "[10]\tvalid_0's binary_logloss: 0.0676811\n",
      "[11]\tvalid_0's binary_logloss: 0.0556697\n",
      "[12]\tvalid_0's binary_logloss: 0.0459344\n",
      "[13]\tvalid_0's binary_logloss: 0.0380728\n",
      "[14]\tvalid_0's binary_logloss: 0.0316689\n",
      "[15]\tvalid_0's binary_logloss: 0.0264587\n",
      "[16]\tvalid_0's binary_logloss: 0.0222116\n",
      "[17]\tvalid_0's binary_logloss: 0.0187138\n",
      "[18]\tvalid_0's binary_logloss: 0.0158648\n",
      "[19]\tvalid_0's binary_logloss: 0.013539\n",
      "[20]\tvalid_0's binary_logloss: 0.0116434\n",
      "[21]\tvalid_0's binary_logloss: 0.0100198\n",
      "[22]\tvalid_0's binary_logloss: 0.00873723\n",
      "[23]\tvalid_0's binary_logloss: 0.00764344\n",
      "[24]\tvalid_0's binary_logloss: 0.00676333\n",
      "[25]\tvalid_0's binary_logloss: 0.00601583\n",
      "[26]\tvalid_0's binary_logloss: 0.00541228\n",
      "[27]\tvalid_0's binary_logloss: 0.00497027\n",
      "[28]\tvalid_0's binary_logloss: 0.00450702\n",
      "[29]\tvalid_0's binary_logloss: 0.00415811\n",
      "[30]\tvalid_0's binary_logloss: 0.00463666\n",
      "[31]\tvalid_0's binary_logloss: 0.00387227\n",
      "[32]\tvalid_0's binary_logloss: 0.00454983\n",
      "[33]\tvalid_0's binary_logloss: 0.00339207\n",
      "[34]\tvalid_0's binary_logloss: 0.00322612\n",
      "[35]\tvalid_0's binary_logloss: 0.00308257\n",
      "[36]\tvalid_0's binary_logloss: 0.00294407\n",
      "[37]\tvalid_0's binary_logloss: 0.00581006\n",
      "[38]\tvalid_0's binary_logloss: 0.00291347\n",
      "[39]\tvalid_0's binary_logloss: 0.00843553\n",
      "[40]\tvalid_0's binary_logloss: 0.00581443\n",
      "[41]\tvalid_0's binary_logloss: 0.00645247\n",
      "[42]\tvalid_0's binary_logloss: 0.004996\n",
      "[43]\tvalid_0's binary_logloss: 0.00271984\n",
      "[44]\tvalid_0's binary_logloss: 0.00396202\n",
      "[45]\tvalid_0's binary_logloss: 0.00274023\n",
      "[46]\tvalid_0's binary_logloss: 0.00266197\n",
      "[47]\tvalid_0's binary_logloss: 0.00369419\n",
      "[48]\tvalid_0's binary_logloss: 0.00235363\n",
      "[49]\tvalid_0's binary_logloss: 0.0023109\n",
      "[50]\tvalid_0's binary_logloss: 0.00298428\n",
      "[51]\tvalid_0's binary_logloss: 0.00257127\n",
      "[52]\tvalid_0's binary_logloss: 0.00212979\n",
      "[53]\tvalid_0's binary_logloss: 0.00205112\n",
      "[54]\tvalid_0's binary_logloss: 0.00203399\n",
      "[55]\tvalid_0's binary_logloss: 0.00234316\n",
      "[56]\tvalid_0's binary_logloss: 0.0022482\n",
      "[57]\tvalid_0's binary_logloss: 0.00225018\n",
      "[58]\tvalid_0's binary_logloss: 0.00202264\n",
      "[59]\tvalid_0's binary_logloss: 0.00196519\n",
      "[60]\tvalid_0's binary_logloss: 0.00192208\n",
      "[61]\tvalid_0's binary_logloss: 0.00187328\n",
      "[62]\tvalid_0's binary_logloss: 0.00184339\n",
      "[63]\tvalid_0's binary_logloss: 0.00181479\n",
      "[64]\tvalid_0's binary_logloss: 0.00177068\n",
      "[65]\tvalid_0's binary_logloss: 0.00174263\n",
      "[66]\tvalid_0's binary_logloss: 0.00171875\n",
      "[67]\tvalid_0's binary_logloss: 0.00168736\n",
      "[68]\tvalid_0's binary_logloss: 0.00318969\n",
      "[69]\tvalid_0's binary_logloss: 0.00222363\n",
      "[70]\tvalid_0's binary_logloss: 0.00162506\n",
      "[71]\tvalid_0's binary_logloss: 0.00158635\n",
      "[72]\tvalid_0's binary_logloss: 0.00155957\n",
      "[73]\tvalid_0's binary_logloss: 0.00153703\n",
      "[74]\tvalid_0's binary_logloss: 0.00151906\n",
      "[75]\tvalid_0's binary_logloss: 0.00150043\n",
      "[76]\tvalid_0's binary_logloss: 0.00148488\n",
      "[77]\tvalid_0's binary_logloss: 0.00146632\n",
      "[78]\tvalid_0's binary_logloss: 0.00144211\n",
      "[79]\tvalid_0's binary_logloss: 0.00141449\n",
      "[80]\tvalid_0's binary_logloss: 0.00139936\n",
      "[81]\tvalid_0's binary_logloss: 0.00136421\n",
      "[82]\tvalid_0's binary_logloss: 0.00133048\n",
      "[83]\tvalid_0's binary_logloss: 0.00131403\n",
      "[84]\tvalid_0's binary_logloss: 0.00130038\n",
      "[85]\tvalid_0's binary_logloss: 0.00373878\n",
      "[86]\tvalid_0's binary_logloss: 0.00373691\n",
      "[87]\tvalid_0's binary_logloss: 0.00126167\n",
      "[88]\tvalid_0's binary_logloss: 0.00125069\n",
      "[89]\tvalid_0's binary_logloss: 0.00123187\n",
      "[90]\tvalid_0's binary_logloss: 0.00122076\n",
      "[91]\tvalid_0's binary_logloss: 0.00120685\n",
      "[92]\tvalid_0's binary_logloss: 0.001182\n",
      "[93]\tvalid_0's binary_logloss: 0.00343435\n",
      "[94]\tvalid_0's binary_logloss: 0.00210217\n",
      "[95]\tvalid_0's binary_logloss: 0.00947877\n",
      "[96]\tvalid_0's binary_logloss: 0.02055\n",
      "[97]\tvalid_0's binary_logloss: 0.00361479\n",
      "[98]\tvalid_0's binary_logloss: 0.00530773\n",
      "[99]\tvalid_0's binary_logloss: 0.00228851\n",
      "[100]\tvalid_0's binary_logloss: 0.00738687\n",
      "[101]\tvalid_0's binary_logloss: 0.103512\n",
      "[102]\tvalid_0's binary_logloss: 0.00169494\n",
      "[103]\tvalid_0's binary_logloss: 0.00831209\n",
      "[104]\tvalid_0's binary_logloss: 0.018798\n",
      "[105]\tvalid_0's binary_logloss: 0.00338928\n",
      "[106]\tvalid_0's binary_logloss: 0.00150902\n",
      "[107]\tvalid_0's binary_logloss: 0.00754267\n",
      "[108]\tvalid_0's binary_logloss: 0.0033757\n",
      "[109]\tvalid_0's binary_logloss: 0.0080088\n",
      "[110]\tvalid_0's binary_logloss: 0.00855978\n",
      "[111]\tvalid_0's binary_logloss: 0.0116719\n",
      "[112]\tvalid_0's binary_logloss: 0.0190291\n",
      "[113]\tvalid_0's binary_logloss: 0.00373217\n",
      "[114]\tvalid_0's binary_logloss: 0.0332698\n",
      "[115]\tvalid_0's binary_logloss: 0.00598785\n",
      "[116]\tvalid_0's binary_logloss: 0.00730805\n",
      "[117]\tvalid_0's binary_logloss: 0.280332\n",
      "[118]\tvalid_0's binary_logloss: 0.0150169\n",
      "[119]\tvalid_0's binary_logloss: 0.0364661\n",
      "[120]\tvalid_0's binary_logloss: 0.0311673\n",
      "[121]\tvalid_0's binary_logloss: 0.0519639\n",
      "[122]\tvalid_0's binary_logloss: 0.0245448\n",
      "Early stopping, best iteration is:\n",
      "[92]\tvalid_0's binary_logloss: 0.001182\n"
     ]
    }
   ],
   "source": [
    "# TODO\n",
    "# multiclass classification\n",
    "\n",
    "# defining parameters \n",
    "\n",
    "params = {\n",
    "    'boosting': 'gbdt',\n",
    "    'objective': 'binary',\n",
    "    'num_leaves': 31,\n",
    "    'learning_rate' : 0.2\n",
    "}\n",
    "\n",
    "lgb_train = lgb.Dataset(X_train, y_train)\n",
    "lgb_eval = lgb.Dataset(X_valid, y_valid, reference=lgb_train)\n",
    "# fitting the model\n",
    "model = lgb.train(params,\n",
    "                 train_set=lgb_train,\n",
    "                 valid_sets=lgb_eval,\n",
    "                 early_stopping_rounds=30,\n",
    "                 num_boost_round=1000)"
   ]
  },
  {
   "cell_type": "code",
   "execution_count": 217,
   "metadata": {},
   "outputs": [
    {
     "name": "stdout",
     "output_type": "stream",
     "text": [
      "LightGBM Model accuracy score: 0.9999\n",
      "              precision    recall  f1-score   support\n",
      "\n",
      "           0       1.00      1.00      1.00     44420\n",
      "           1       1.00      1.00      1.00     56978\n",
      "\n",
      "    accuracy                           1.00    101398\n",
      "   macro avg       1.00      1.00      1.00    101398\n",
      "weighted avg       1.00      1.00      1.00    101398\n",
      "\n"
     ]
    },
    {
     "data": {
      "text/plain": [
       "<AxesSubplot:>"
      ]
     },
     "execution_count": 217,
     "metadata": {},
     "output_type": "execute_result"
    },
    {
     "data": {
      "image/png": "[encoded data removed]",
      "text/plain": [
       "<Figure size 432x288 with 2 Axes>"
      ]
     },
     "metadata": {
      "needs_background": "light"
     },
     "output_type": "display_data"
    }
   ],
   "source": [
    "from numpy import around, argmax\n",
    "\n",
    "lgb_test = lgb.Dataset(X_test, y_test)\n",
    "\n",
    "# prediction\n",
    "y_pred = around(model.predict(X_test))\n",
    "#y_pred = argmax(model.predict(X_test), axis=1)\n",
    "\n",
    "print('LightGBM Model accuracy score: {0:0.4f}'.format(accuracy_score(y_test, y_pred)))\n",
    "print(classification_report(y_test, y_pred))\n",
    "\n",
    "cm = confusion_matrix(y_test, y_pred)\n",
    "\n",
    "# visualize confusion matrix with seaborn heatmap\n",
    "cm_matrix = pd.DataFrame(data=cm)\n",
    "\n",
    "sns.heatmap(cm_matrix, annot=True, fmt='d', cmap='YlGnBu')"
   ]
  }
 ],
 "metadata": {
  "kernelspec": {
   "display_name": "Python 3",
   "language": "python",
   "name": "python3"
  },
  "language_info": {
   "codemirror_mode": {
    "name": "ipython",
    "version": 3
   },
   "file_extension": ".py",
   "mimetype": "text/x-python",
   "name": "python",
   "nbconvert_exporter": "python",
   "pygments_lexer": "ipython3",
   "version": "3.8.10"
  },
  "orig_nbformat": 4,
  "vscode": {
   "interpreter": {
    "hash": "31f2aee4e71d21fbe5cf8b01ff0e069b9275f58929596ceb00d14d90e3e16cd6"
   }
  }
 },
 "nbformat": 4,
 "nbformat_minor": 2
}

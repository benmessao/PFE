{
 "cells": [
  {
   "attachments": {},
   "cell_type": "markdown",
   "metadata": {},
   "source": [
    "# KNN classification\n",
    "\n",
    "https://www.datacamp.com/tutorial/k-nearest-neighbor-classification-scikit-learn"
   ]
  },
  {
   "attachments": {},
   "cell_type": "markdown",
   "metadata": {},
   "source": [
    "### Récupération des données"
   ]
  },
  {
   "cell_type": "code",
   "execution_count": 61,
   "metadata": {},
   "outputs": [
    {
     "name": "stdout",
     "output_type": "stream",
     "text": [
      "Nombre de lignes avant nettoyage :  1005847\n",
      "Nombre de lignes après nettoyage :  991196\n"
     ]
    }
   ],
   "source": [
    "import sys\n",
    "sys.path.append('../src/')\n",
    "\n",
    "import dataset_prep\n",
    "\n",
    "#liste des path :\n",
    "# \"../data/1416/merged1.csv\"\n",
    "# \"../data/1416/merged2.csv\"\n",
    "# \"../data/1416/merged3.csv\"\n",
    "# \"../data/1416/merged4.csv\"\n",
    "# \"../data/1416/merged5.csv\"\n",
    "# \"../data/1416/data1416.csv\"\n",
    "# \"../data/0709/merged1.csv\"\n",
    "dataset_path = \"../../data/1416/merged5.csv\"\n",
    "\n",
    "\n",
    "# liste des colomnes\n",
    "# receiver, sender, sender pseudo, message Id, scenario , a supprimé\n",
    "# merged1 : \"sendTime\", \"rcvTime\", \"pos_y_rec_f\", \"pos_y_rec\", \"pos_x_rec_f\", \"pos_x_rec\", \"pos_y_send_f\", \"pos_y_send\", \"pos_x_send_f\", \"pos_x_send\", \"label\"\n",
    "# merged2 : \"spd_x_send\", \"max_speed2\", \"max_speed1\", \"distance\", \"distRealSR2\", \"distRealSR1\", \"diffSpdSR2\", \"diffSpdSR1\", \"difSpeed\", \"deltaSpd2\", \"label\"\n",
    "# merged3 : \"sendTime\", \"rcvTime\", \"pos_x_rec_f\", \"max_speed1\", \"distRealSR2\", \"distRealSR1\", \"deltaSpd2\", \"deltaSpd1\", \"deltaPos2\", \"deltaPos1\", \"label\"\n",
    "# merged4 : \"pos_x_rec_f\", \"nb_packets_sent\", \"distance\", \"distRealSR2\", \"distRealSR1\", \"deltaPos2\", \"deltaPos1\", \"spd_y_send\", \"spd_x_send\", \"sendTime\", \"label\"\n",
    "# merged5 : \"pos_x_rec_f\", \"pos_x_rec\", \"nb_packets_sent\", \"distance\", \"distRealSR2\", \"distRealSR1\", \"deltaPos2\", \"deltaPos1\", \"sendTime\", \"rcvTime\", \"label\"\n",
    "# 0709 : \"time_diff\", \"nb_packets_sent\", \"max_speed1\", \"max_speed2\", \"hed_noise_x\", \"sendTime\", \"rcvTime\", \"hed_noise_y\", \"label\"\n",
    "usecols = [\"pos_x_rec_f\", \"pos_x_rec\", \"nb_packets_sent\", \"distance\", \"distRealSR2\", \"distRealSR1\", \"deltaPos2\", \"deltaPos1\", \"sendTime\", \"rcvTime\", \"label\"]\n",
    "\n",
    "data = dataset_prep.import_dataset(dataset_path, usecols)\n",
    "dataset_prep.clean_dataset(data)\n",
    "X_train, X_test, y_train, y_test = dataset_prep.data_preparation(data, test_size=0.1)"
   ]
  },
  {
   "cell_type": "code",
   "execution_count": 22,
   "metadata": {},
   "outputs": [
    {
     "data": {
      "text/html": [
       "<div>\n",
       "<style scoped>\n",
       "    .dataframe tbody tr th:only-of-type {\n",
       "        vertical-align: middle;\n",
       "    }\n",
       "\n",
       "    .dataframe tbody tr th {\n",
       "        vertical-align: top;\n",
       "    }\n",
       "\n",
       "    .dataframe thead th {\n",
       "        text-align: right;\n",
       "    }\n",
       "</style>\n",
       "<table border=\"1\" class=\"dataframe\">\n",
       "  <thead>\n",
       "    <tr style=\"text-align: right;\">\n",
       "      <th></th>\n",
       "      <th>rcvTime</th>\n",
       "      <th>sendTime</th>\n",
       "      <th>hed_noise_x</th>\n",
       "      <th>hed_noise_y</th>\n",
       "      <th>label</th>\n",
       "      <th>max_speed1</th>\n",
       "      <th>max_speed2</th>\n",
       "      <th>nb_packets_sent</th>\n",
       "      <th>time_diff</th>\n",
       "    </tr>\n",
       "  </thead>\n",
       "  <tbody>\n",
       "    <tr>\n",
       "      <th>1</th>\n",
       "      <td>50405.602879</td>\n",
       "      <td>50405.602879</td>\n",
       "      <td>4.315103</td>\n",
       "      <td>4.814600</td>\n",
       "      <td>0.0</td>\n",
       "      <td>12.286536</td>\n",
       "      <td>1.224964</td>\n",
       "      <td>186</td>\n",
       "      <td>1.000009</td>\n",
       "    </tr>\n",
       "    <tr>\n",
       "      <th>2</th>\n",
       "      <td>50406.602874</td>\n",
       "      <td>50406.602874</td>\n",
       "      <td>4.735134</td>\n",
       "      <td>5.573435</td>\n",
       "      <td>0.0</td>\n",
       "      <td>12.286536</td>\n",
       "      <td>1.224964</td>\n",
       "      <td>186</td>\n",
       "      <td>0.999996</td>\n",
       "    </tr>\n",
       "    <tr>\n",
       "      <th>3</th>\n",
       "      <td>50407.602870</td>\n",
       "      <td>50407.602870</td>\n",
       "      <td>5.201640</td>\n",
       "      <td>6.462807</td>\n",
       "      <td>0.0</td>\n",
       "      <td>12.286536</td>\n",
       "      <td>1.224964</td>\n",
       "      <td>186</td>\n",
       "      <td>0.999996</td>\n",
       "    </tr>\n",
       "    <tr>\n",
       "      <th>4</th>\n",
       "      <td>50408.602879</td>\n",
       "      <td>50408.602879</td>\n",
       "      <td>5.701234</td>\n",
       "      <td>7.467518</td>\n",
       "      <td>0.0</td>\n",
       "      <td>12.286536</td>\n",
       "      <td>1.224964</td>\n",
       "      <td>186</td>\n",
       "      <td>1.000009</td>\n",
       "    </tr>\n",
       "    <tr>\n",
       "      <th>5</th>\n",
       "      <td>50409.602875</td>\n",
       "      <td>50409.602875</td>\n",
       "      <td>7.603997</td>\n",
       "      <td>7.417752</td>\n",
       "      <td>0.0</td>\n",
       "      <td>12.286536</td>\n",
       "      <td>1.224964</td>\n",
       "      <td>186</td>\n",
       "      <td>0.999996</td>\n",
       "    </tr>\n",
       "    <tr>\n",
       "      <th>...</th>\n",
       "      <td>...</td>\n",
       "      <td>...</td>\n",
       "      <td>...</td>\n",
       "      <td>...</td>\n",
       "      <td>...</td>\n",
       "      <td>...</td>\n",
       "      <td>...</td>\n",
       "      <td>...</td>\n",
       "      <td>...</td>\n",
       "    </tr>\n",
       "    <tr>\n",
       "      <th>100</th>\n",
       "      <td>50423.602876</td>\n",
       "      <td>50423.602876</td>\n",
       "      <td>14.510531</td>\n",
       "      <td>5.119260</td>\n",
       "      <td>0.0</td>\n",
       "      <td>12.286536</td>\n",
       "      <td>1.224964</td>\n",
       "      <td>186</td>\n",
       "      <td>0.999997</td>\n",
       "    </tr>\n",
       "    <tr>\n",
       "      <th>101</th>\n",
       "      <td>50424.602880</td>\n",
       "      <td>50424.602880</td>\n",
       "      <td>14.510973</td>\n",
       "      <td>5.119300</td>\n",
       "      <td>0.0</td>\n",
       "      <td>12.286536</td>\n",
       "      <td>1.224964</td>\n",
       "      <td>186</td>\n",
       "      <td>1.000004</td>\n",
       "    </tr>\n",
       "    <tr>\n",
       "      <th>102</th>\n",
       "      <td>50425.602872</td>\n",
       "      <td>50425.602872</td>\n",
       "      <td>14.577533</td>\n",
       "      <td>5.125334</td>\n",
       "      <td>0.0</td>\n",
       "      <td>12.286536</td>\n",
       "      <td>1.224964</td>\n",
       "      <td>186</td>\n",
       "      <td>0.999991</td>\n",
       "    </tr>\n",
       "    <tr>\n",
       "      <th>104</th>\n",
       "      <td>50414.602878</td>\n",
       "      <td>50414.602878</td>\n",
       "      <td>15.141623</td>\n",
       "      <td>3.661491</td>\n",
       "      <td>0.0</td>\n",
       "      <td>12.286536</td>\n",
       "      <td>1.224964</td>\n",
       "      <td>186</td>\n",
       "      <td>1.000007</td>\n",
       "    </tr>\n",
       "    <tr>\n",
       "      <th>105</th>\n",
       "      <td>50415.602872</td>\n",
       "      <td>50415.602872</td>\n",
       "      <td>15.172181</td>\n",
       "      <td>3.879284</td>\n",
       "      <td>0.0</td>\n",
       "      <td>12.286536</td>\n",
       "      <td>1.224964</td>\n",
       "      <td>186</td>\n",
       "      <td>0.999994</td>\n",
       "    </tr>\n",
       "  </tbody>\n",
       "</table>\n",
       "<p>100 rows × 9 columns</p>\n",
       "</div>"
      ],
      "text/plain": [
       "          rcvTime      sendTime  hed_noise_x  hed_noise_y  label  max_speed1  \\\n",
       "1    50405.602879  50405.602879     4.315103     4.814600    0.0   12.286536   \n",
       "2    50406.602874  50406.602874     4.735134     5.573435    0.0   12.286536   \n",
       "3    50407.602870  50407.602870     5.201640     6.462807    0.0   12.286536   \n",
       "4    50408.602879  50408.602879     5.701234     7.467518    0.0   12.286536   \n",
       "5    50409.602875  50409.602875     7.603997     7.417752    0.0   12.286536   \n",
       "..            ...           ...          ...          ...    ...         ...   \n",
       "100  50423.602876  50423.602876    14.510531     5.119260    0.0   12.286536   \n",
       "101  50424.602880  50424.602880    14.510973     5.119300    0.0   12.286536   \n",
       "102  50425.602872  50425.602872    14.577533     5.125334    0.0   12.286536   \n",
       "104  50414.602878  50414.602878    15.141623     3.661491    0.0   12.286536   \n",
       "105  50415.602872  50415.602872    15.172181     3.879284    0.0   12.286536   \n",
       "\n",
       "     max_speed2  nb_packets_sent  time_diff  \n",
       "1      1.224964              186   1.000009  \n",
       "2      1.224964              186   0.999996  \n",
       "3      1.224964              186   0.999996  \n",
       "4      1.224964              186   1.000009  \n",
       "5      1.224964              186   0.999996  \n",
       "..          ...              ...        ...  \n",
       "100    1.224964              186   0.999997  \n",
       "101    1.224964              186   1.000004  \n",
       "102    1.224964              186   0.999991  \n",
       "104    1.224964              186   1.000007  \n",
       "105    1.224964              186   0.999994  \n",
       "\n",
       "[100 rows x 9 columns]"
      ]
     },
     "execution_count": 22,
     "metadata": {},
     "output_type": "execute_result"
    }
   ],
   "source": [
    "data[:100]"
   ]
  },
  {
   "attachments": {},
   "cell_type": "markdown",
   "metadata": {},
   "source": [
    "### Le modèle"
   ]
  },
  {
   "cell_type": "code",
   "execution_count": 62,
   "metadata": {},
   "outputs": [
    {
     "name": "stdout",
     "output_type": "stream",
     "text": [
      "[ 0.  0.  0.  0.  0.  0.  0.  0. 19. 19.]\n",
      "[ 0.  0.  0.  0.  0.  0.  0.  0. 19. 19.]\n"
     ]
    }
   ],
   "source": [
    "from sklearn.neighbors import KNeighborsClassifier\n",
    "\n",
    "model = KNeighborsClassifier(n_neighbors=2, n_jobs=4)\n",
    "\n",
    "# Train the model using the training sets\n",
    "model.fit(X_train, y_train)\n",
    "\n",
    "#Predict Output\n",
    "predicted= model.predict(X_test) \n",
    "print(predicted[:10])\n",
    "print(y_test[:10])"
   ]
  },
  {
   "attachments": {},
   "cell_type": "markdown",
   "metadata": {},
   "source": [
    "### Evaluation"
   ]
  },
  {
   "attachments": {},
   "cell_type": "markdown",
   "metadata": {},
   "source": [
    "0709 merged1 => 99.99%\n",
    "1416 merged1 => 99,99%\n",
    "1416 merged2 => 99.99%\n",
    "1416 merged3 => 99,97%\n",
    "1416 merged4 => 99,99%\n",
    "1416 merged5 => 99.96%"
   ]
  },
  {
   "cell_type": "code",
   "execution_count": 63,
   "metadata": {},
   "outputs": [
    {
     "name": "stdout",
     "output_type": "stream",
     "text": [
      "Accuracy: 0.9965193704600485\n"
     ]
    }
   ],
   "source": [
    "#Import scikit-learn metrics module for accuracy calculation\n",
    "from sklearn import metrics\n",
    "# Model Accuracy, how often is the classifier correct?\n",
    "print(\"Accuracy:\",metrics.accuracy_score(y_test, predicted))"
   ]
  },
  {
   "attachments": {},
   "cell_type": "markdown",
   "metadata": {},
   "source": [
    "# Multiclasse knn"
   ]
  },
  {
   "cell_type": "code",
   "execution_count": 57,
   "metadata": {},
   "outputs": [
    {
     "name": "stdout",
     "output_type": "stream",
     "text": [
      "Nombre de lignes avant nettoyage :  5703046\n",
      "Nombre de lignes après nettoyage :  5546048\n",
      "[ 0.  0.  0.  0. 15.  0.  0.  0.  0.  0.]\n",
      "[ 0.  0.  0.  0. 15.  0.  0.  0.  0.  0.]\n",
      "Accuracy: 0.9951208517773911\n"
     ]
    }
   ],
   "source": [
    "dataset_path = \"../../data/1416/data1416.csv\"\n",
    "\n",
    "usecols = [\"time_diff\", \"nb_packets_sent\", \"max_speed1\", \"max_speed2\", \"hed_noise_x\", \"sendTime\", \"rcvTime\", \"hed_noise_y\", \"label\"]\n",
    "\n",
    "data = dataset_prep.import_dataset(dataset_path, usecols)\n",
    "dataset_prep.clean_dataset(data)\n",
    "X_train, X_test, y_train, y_test = dataset_prep.data_preparation(data, test_size=0.1)\n",
    "\n",
    "\n",
    "model = KNeighborsClassifier(n_neighbors=6, n_jobs=4)\n",
    "\n",
    "# Train the model using the training sets\n",
    "model.fit(X_train, y_train)\n",
    "\n",
    "#Predict Output\n",
    "predicted= model.predict(X_test) \n",
    "print(predicted[:10])\n",
    "print(y_test[:10])\n",
    "\n",
    "# Model Accuracy, how often is the classifier correct?\n",
    "print(\"Accuracy:\",metrics.accuracy_score(y_test, predicted))"
   ]
  }
 ],
 "metadata": {
  "kernelspec": {
   "display_name": "Python 3",
   "language": "python",
   "name": "python3"
  },
  "language_info": {
   "codemirror_mode": {
    "name": "ipython",
    "version": 3
   },
   "file_extension": ".py",
   "mimetype": "text/x-python",
   "name": "python",
   "nbconvert_exporter": "python",
   "pygments_lexer": "ipython3",
   "version": "3.8.10"
  },
  "orig_nbformat": 4,
  "vscode": {
   "interpreter": {
    "hash": "31f2aee4e71d21fbe5cf8b01ff0e069b9275f58929596ceb00d14d90e3e16cd6"
   }
  }
 },
 "nbformat": 4,
 "nbformat_minor": 2
}

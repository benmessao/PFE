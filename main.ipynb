{
 "cells": [
  {
   "cell_type": "markdown",
   "metadata": {},
   "source": [
    "## Préparation des données"
   ]
  },
  {
   "cell_type": "code",
   "execution_count": 31,
   "metadata": {},
   "outputs": [],
   "source": [
    "import pandas as pd\n",
    "import numpy as np\n",
    "import sys\n",
    "import os\n",
    "sys.path.append('./source/src/')\n",
    "import dataset_prep\n",
    "from dataset_prep import *\n",
    "from new_features import *\n",
    "\n",
    "\n",
    "sys.path.append('./source/deep learning/')\n",
    "from models import *\n",
    "from litterature import *\n",
    "\n",
    "from tensorflow import keras\n",
    "from keras import layers, applications, utils, models, optimizers, Input, callbacks\n",
    "from keras.models import Sequential\n",
    "from keras.layers import Dense, SimpleRNN\n",
    "from sklearn.preprocessing import MinMaxScaler\n",
    "from sklearn.metrics import mean_squared_error\n",
    "import math\n",
    "import matplotlib.pyplot as plt\n",
    "from sklearn.model_selection import train_test_split\n",
    "from sklearn.metrics import confusion_matrix, classification_report\n",
    "import seaborn as sns"
   ]
  },
  {
   "cell_type": "code",
   "execution_count": 6,
   "metadata": {},
   "outputs": [],
   "source": [
    "# Chemin du dossier contenant tous les .csv\n",
    "data_folder = './data'"
   ]
  },
  {
   "attachments": {},
   "cell_type": "markdown",
   "metadata": {},
   "source": [
    "# Création des csv avec les nouvelles features"
   ]
  },
  {
   "attachments": {},
   "cell_type": "markdown",
   "metadata": {},
   "source": [
    "Nécessite les csv suivants : \n",
    " - `merged1.csv`  (DoS - 13)\n",
    " - `merged2.csv`   (DoS Random - 14)\n",
    " - `merged3.csv`   (DoS Disruptive - 15)\n",
    " - `merged4.csv`   (Dos Random Sybil - 18)\n",
    " - `merged5.csv`   (Dos Disruptive Sybil - 19)"
   ]
  },
  {
   "cell_type": "code",
   "execution_count": null,
   "metadata": {},
   "outputs": [],
   "source": [
    "# DoS - 13\n",
    "df_dos_random = pd.read_csv(data_folder+'/1416/merged1.csv')\n",
    "# Create a new csv file with new features from merged2.csv\n",
    "new_features(df_dos_random).to_csv(os.path.join(data_folder + '', 'DoS_0709_new_columns.csv'), index=False)"
   ]
  },
  {
   "cell_type": "code",
   "execution_count": 10,
   "metadata": {},
   "outputs": [
    {
     "data": {
      "text/plain": [
       "<bound method IndexOpsMixin.value_counts of 0          13\n",
       "1          13\n",
       "2          13\n",
       "3          13\n",
       "4          13\n",
       "           ..\n",
       "1242774     0\n",
       "1242775     0\n",
       "1242776     0\n",
       "1242777     0\n",
       "1242778    13\n",
       "Name: labelRec, Length: 1242779, dtype: int64>"
      ]
     },
     "execution_count": 10,
     "metadata": {},
     "output_type": "execute_result"
    }
   ],
   "source": [
    "# Vérifiaction des labels\n",
    "df_dos_random.labelRec.value_counts"
   ]
  },
  {
   "attachments": {},
   "cell_type": "markdown",
   "metadata": {},
   "source": [
    "# Dataframe selection \n",
    "\n",
    "Importation de la base de données"
   ]
  },
  {
   "cell_type": "code",
   "execution_count": 23,
   "metadata": {},
   "outputs": [],
   "source": [
    "# Colonnes choisies - label, sender & sendTime obligatoires\n",
    "# Colonnes supprimées pour le test : \"distRealSR2\", \"senderPseudo\", \"sender\", \"sendTime\", \"scenario\", \"rcvTime\"\n",
    "\n",
    "# selected_columns = [\n",
    "# \"nb_packets_sent\",\n",
    "# \"distance\",\n",
    "# \"distRealSR1\",\n",
    "# \"pos_y_rec_f\",\n",
    "# \"pos_y_rec\",\n",
    "# \"pos_x_rec_f\",\n",
    "# \"pos_x_rec\",\n",
    "# \"pos_x_send\",\n",
    "# \"pos_y_send\",\n",
    "# \"spd_x_send\",\n",
    "# \"spd_y_send\",\n",
    "# \"sendTime\",\n",
    "# \"receiver\",\n",
    "# \"sender\",\n",
    "# \"messageID\",\n",
    "# \"label\"\n",
    "# ]\n",
    "selected_columns = [\n",
    "\"distance\",\n",
    "\"pos_x_send\",\n",
    "\"pos_y_send\",\n",
    "\"pos_x_send_f\",\n",
    "\"pos_y_send_f\",\n",
    "\"spd_x_send\",\n",
    "\"spd_y_send\",\n",
    "\"sendTime\",\n",
    "\"sender\",\n",
    "\"label\"\n",
    "]\n",
    "\n",
    "input_sequence_shape = len(selected_columns)-2 # On drop label et sender dans la création de séquences\n",
    "\n",
    "data_type = {\n",
    "    \"label\":\"int8\",\n",
    "    \"sender\":\"int16\",\n",
    "    \"receiver\":\"int16\",\n",
    "    \"nb_packets_sent\":\"int16\"\n",
    "    \n",
    "}"
   ]
  },
  {
   "cell_type": "code",
   "execution_count": 25,
   "metadata": {},
   "outputs": [
    {
     "name": "stdout",
     "output_type": "stream",
     "text": [
      "Nombre de lignes avant nettoyage :  1242779\n",
      "Nombre de lignes après nettoyage :  1233657\n"
     ]
    }
   ],
   "source": [
    "# DoS (13)\n",
    "df_13 = dataset_prep.import_dataset(\"./data/1416/merged1.csv\", selected_columns, data_type)\n",
    "df_13.name = 'DoS'"
   ]
  },
  {
   "cell_type": "code",
   "execution_count": null,
   "metadata": {},
   "outputs": [],
   "source": [
    "# DoS Random (14)\n",
    "df_14 = dataset_prep.import_dataset(data_folder + '/DoS_Random_0709_new_columns.csv', selected_columns, data_type)\n",
    "df_14.name = 'DoS Random'"
   ]
  },
  {
   "cell_type": "code",
   "execution_count": null,
   "metadata": {},
   "outputs": [],
   "source": [
    "# DoS Disruptive (15)\n",
    "df_15 = dataset_prep.import_dataset(data_folder + '/DoS_Disruptive_0709_new_columns.csv', selected_columns)\n",
    "df_15.name = 'DoS Disruptive'"
   ]
  },
  {
   "cell_type": "code",
   "execution_count": null,
   "metadata": {},
   "outputs": [],
   "source": [
    "# DoS Random Sybil (18)\n",
    "df_18 = dataset_prep.import_dataset(data_folder + '/DoS_Random_Sybil_0709_new_columns.csv', selected_columns)\n",
    "df_18.name = 'DoS Random Sybil'"
   ]
  },
  {
   "cell_type": "code",
   "execution_count": null,
   "metadata": {},
   "outputs": [],
   "source": [
    "# DoS Disruptive Sybil (19)\n",
    "df_19 = dataset_prep.import_dataset(data_folder + '/DoS_Disruptive_Sybil_0709_new_columns.csv', selected_columns)\n",
    "df_19.name = 'DoS Disruptive Sybil'"
   ]
  },
  {
   "cell_type": "code",
   "execution_count": null,
   "metadata": {},
   "outputs": [],
   "source": [
    "df.label.value_counts()"
   ]
  },
  {
   "cell_type": "code",
   "execution_count": null,
   "metadata": {},
   "outputs": [],
   "source": [
    "df.info(verbose=True, memory_usage='deep', show_counts=True)"
   ]
  },
  {
   "attachments": {},
   "cell_type": "markdown",
   "metadata": {},
   "source": [
    "# Initialisation des données "
   ]
  },
  {
   "cell_type": "code",
   "execution_count": 26,
   "metadata": {},
   "outputs": [
    {
     "name": "stdout",
     "output_type": "stream",
     "text": [
      "Nombre de séquences :  120781\n",
      "X_train :  (108702, 20, 8)\n",
      "y_train :  (108702,)\n",
      "X_test :  (12079, 20, 8)\n",
      "y_test :  (12079,)\n"
     ]
    }
   ],
   "source": [
    "# Séparation en données d'entrainement et de test\n",
    "X_train, X_test, y_train, y_test = dataset_prep.data_preparation(df_13, sample=False)"
   ]
  },
  {
   "attachments": {},
   "cell_type": "markdown",
   "metadata": {},
   "source": [
    "# Modèles"
   ]
  },
  {
   "attachments": {},
   "cell_type": "markdown",
   "metadata": {},
   "source": [
    "### Etude individuelle d'un model\n",
    "\n",
    "- dense_network(input_sequence_shape) : 3-sende layers\n",
    "- stacked_RNN_small(hidden_units, dense_units, input_shape, activation) : 2 stacked RNN\n",
    "- stacked_LSTM_small(input_sequence_shape) : 2 stacked LSTM\n",
    "- mix_rnn_lstm(input_sequence_shape) : simple LSTM + 2-stacked RNN\n",
    "- simple_GRU(input_sequence_shape) : simple GRU (256)\n",
    "- stacked_GRU(input_sequence_shape) : 3-stacked GRU\n",
    "- stacked_LSTM(input_sequence_shape) : 3-stacked LSTM\n",
    "- stacked_RNN(input_sequence_shape) : 3-stacked RNN"
   ]
  },
  {
   "cell_type": "code",
   "execution_count": 27,
   "metadata": {},
   "outputs": [],
   "source": [
    "# Choix et compilation du modèle\n",
    "simple_model = dense_network(input_sequence_shape)\n",
    "\n",
    "callback = keras.callbacks.EarlyStopping(monitor='val_accuracy', patience=5, restore_best_weights=True)\n",
    "#opt = keras.optimizers.SGD(learning_rate=0.01)\n",
    "simple_model.compile(loss='binary_crossentropy', optimizer=\"adam\", metrics='accuracy')"
   ]
  },
  {
   "cell_type": "code",
   "execution_count": null,
   "metadata": {},
   "outputs": [],
   "source": [
    "history = simple_model.fit(X_train, y_train, epochs=20, batch_size=128, validation_split=0.3, callbacks=[callback])"
   ]
  },
  {
   "attachments": {},
   "cell_type": "markdown",
   "metadata": {},
   "source": [
    "Affichage des schémas & matrice"
   ]
  },
  {
   "cell_type": "code",
   "execution_count": null,
   "metadata": {},
   "outputs": [],
   "source": [
    "history_df = pd.DataFrame(history.history)\n",
    "history_df.loc[:, ['accuracy', 'val_accuracy']].plot()"
   ]
  },
  {
   "cell_type": "code",
   "execution_count": null,
   "metadata": {},
   "outputs": [],
   "source": [
    "history_df.loc[:, ['loss', 'val_loss']].plot()"
   ]
  },
  {
   "cell_type": "code",
   "execution_count": 257,
   "metadata": {},
   "outputs": [
    {
     "name": "stdout",
     "output_type": "stream",
     "text": [
      "7/7 [==============================] - 0s 15ms/step - loss: 0.2873 - accuracy: 0.5606\n",
      "Evaluation du modèle : [0.2872598171234131, 0.560606062412262]\n",
      "7/7 [==============================] - 0s 16ms/step\n"
     ]
    },
    {
     "data": {
      "text/plain": [
       "Text(33.0, 0.5, 'True Labels')"
      ]
     },
     "execution_count": 257,
     "metadata": {},
     "output_type": "execute_result"
    },
    {
     "data": {
      "image/png": "[encoded data removed]",
      "text/plain": [
       "<Figure size 432x432 with 1 Axes>"
      ]
     },
     "metadata": {
      "needs_background": "light"
     },
     "output_type": "display_data"
    }
   ],
   "source": [
    "print(f\"Evaluation du modèle : {simple_model.evaluate(X_test, y_test)}\")\n",
    "y_pred = simple_model.predict(X_test)\n",
    "preds = np.round(y_pred).astype(int)\n",
    "cm = confusion_matrix(y_test, preds)\n",
    "fig, ax = plt.subplots(figsize=(6,6)) \n",
    "sns.heatmap(cm, annot=True, cbar=False, cmap='Blues')\n",
    "plt.xlabel('Predicted Labels')\n",
    "plt.ylabel('True Labels')"
   ]
  },
  {
   "attachments": {},
   "cell_type": "markdown",
   "metadata": {},
   "source": [
    "## Tous les modèles\n",
    "\n",
    "### Entrainement des modèles pour chaque dataset"
   ]
  },
  {
   "cell_type": "code",
   "execution_count": null,
   "metadata": {},
   "outputs": [],
   "source": [
    "# attack_types = [13, 14, 15, 18, 19]\n",
    "attack_types = [13, 14]\n",
    "# dataframes = [df_13, df_14, df_15, df_18, df_19]\n",
    "dataframes = [df_13, df_14]"
   ]
  },
  {
   "cell_type": "code",
   "execution_count": null,
   "metadata": {},
   "outputs": [],
   "source": [
    "EPOCHS = 20\n",
    "VAL_SPLIT = 0.3\n",
    "ADAM = keras.optimizers.Adam(learning_rate=0.0003)\n",
    "callback = keras.callbacks.EarlyStopping(monitor='val_accuracy', patience=4, restore_best_weights=True)"
   ]
  },
  {
   "cell_type": "code",
   "execution_count": null,
   "metadata": {},
   "outputs": [],
   "source": [
    "evaluation_dataframe = pd.DataFrame()\n",
    "for i in range(len(dataframes)):\n",
    "    X_train, X_test, y_train, y_test = dataset_prep.data_preparation(dataframes[i], sample=False)\n",
    "\n",
    "    # 2-stacked RNN\n",
    "    print(\"\\nTraining 2 stacked RNN model\\n\")\n",
    "    rnn_model = stacked_RNN_small(input_sequence_shape=input_sequence_shape)\n",
    "    rnn_model.compile(loss='binary_crossentropy', optimizer='adam', metrics='accuracy')\n",
    "    history = rnn_model.fit(X_train, y_train, epochs=EPOCHS, batch_size=128, validation_split=VAL_SPLIT, callbacks=[callback])\n",
    "    eval=rnn_model.evaluate(X_test, y_test)\n",
    "    evaluation_dataframe = pd.concat([evaluation_dataframe, pd.DataFrame({'dataset':[attack_types[i]], 'modele':['2-stacked-rnn'], 'accuracy':[eval[1]]})])\n",
    "\n",
    "    # stacked LSTM small\n",
    "    print(\"\\nTraining stacked small LSTM model\\n\")\n",
    "    lstm_model = stacked_LSTM_small(input_sequence_shape)\n",
    "    opt = keras.optimizers.SGD(learning_rate=0.01)\n",
    "    lstm_model.compile(loss='binary_crossentropy', optimizer=opt, metrics='accuracy')\n",
    "    history = lstm_model.fit(X_train, y_train, epochs=EPOCHS, batch_size=32, validation_split=VAL_SPLIT, callbacks=[callback])\n",
    "    eval=lstm_model.evaluate(X_test, y_test)\n",
    "    evaluation_dataframe = pd.concat([evaluation_dataframe, pd.DataFrame({'dataset':[attack_types[i]], 'modele':['stacked-small-lstm'], 'accuracy':[eval[1]]})])\n",
    "\n",
    "    # mix lstm rnn\n",
    "    print(\"\\nTraining RNN-LSTM model\\n\")\n",
    "    lstm_rnn_model = mix_rnn_lstm(input_sequence_shape)\n",
    "    opt = keras.optimizers.SGD(learning_rate=0.01)\n",
    "    lstm_rnn_model.compile(loss='binary_crossentropy', optimizer=opt, metrics='accuracy')\n",
    "    history = lstm_rnn_model.fit(X_train, y_train, epochs=EPOCHS, batch_size=32, validation_split=VAL_SPLIT, callbacks=[callback])\n",
    "    eval=lstm_rnn_model.evaluate(X_test, y_test)\n",
    "    evaluation_dataframe = pd.concat([evaluation_dataframe, pd.DataFrame({'dataset':[attack_types[i]], 'modele':['lstm-rnn'], 'accuracy':[eval[1]]})])\n",
    "\n",
    "    # 3 Stacked GRU\n",
    "    print(\"\\nTraining 3 stacked GRU\\n\")\n",
    "    stacked_GRU_model = stacked_GRU(input_sequence_shape)\n",
    "    opt = keras.optimizers.SGD(learning_rate=0.01)\n",
    "    stacked_GRU_model.compile(loss='binary_crossentropy', optimizer=opt, metrics='accuracy')\n",
    "    history = stacked_GRU_model.fit(X_train, y_train, epochs=EPOCHS, batch_size=64, validation_split=VAL_SPLIT, callbacks=[callback])\n",
    "    eval=stacked_GRU_model.evaluate(X_test, y_test)\n",
    "    evaluation_dataframe = pd.concat([evaluation_dataframe, pd.DataFrame({'dataset':[attack_types[i]], 'modele':['3-stacked-GRU'], 'accuracy':[eval[1]]})])\n",
    "\n",
    "    # simple GRU\n",
    "    print(\"\\nTraining simple GRU\\n\")\n",
    "    simple_GRU_model = simple_GRU(input_sequence_shape)\n",
    "    opt = keras.optimizers.SGD(learning_rate=0.01)\n",
    "    simple_GRU_model.compile(loss='binary_crossentropy', optimizer=opt, metrics='accuracy')\n",
    "    history = simple_GRU_model.fit(X_train, y_train, epochs=EPOCHS, batch_size=64, validation_split=VAL_SPLIT, callbacks=[callback])\n",
    "    eval=simple_GRU_model.evaluate(X_test, y_test)\n",
    "    evaluation_dataframe = pd.concat([evaluation_dataframe, pd.DataFrame({'dataset':[attack_types[i]], 'modele':['simple-gru'], 'accuracy':[eval[1]]})])\n",
    "\n",
    "    # stacked LSTM\n",
    "    print(\"\\nTraining 3 stacked LSTM\\n\")\n",
    "    stacked_LSTM_model = stacked_LSTM(input_sequence_shape)\n",
    "    stacked_LSTM_model.compile(loss='mean_absolute_error', optimizer=ADAM, metrics='accuracy')\n",
    "    history = stacked_LSTM_model.fit(X_train, y_train, epochs=EPOCHS, batch_size=64, validation_split=VAL_SPLIT, callbacks=[callback])\n",
    "    eval = stacked_LSTM_model.evaluate(X_test, y_test)\n",
    "    evaluation_dataframe = pd.concat([evaluation_dataframe, pd.DataFrame({'dataset':[attack_types[i]], 'modele':['3-stacked-LSTM'], 'accuracy':[eval[1]]})])"
   ]
  },
  {
   "attachments": {},
   "cell_type": "markdown",
   "metadata": {},
   "source": [
    "# Modèle de littérature\n",
    "\n",
    "### Préparation des données \n",
    "\n",
    "Modèle CNN LSTM"
   ]
  },
  {
   "cell_type": "code",
   "execution_count": null,
   "metadata": {},
   "outputs": [],
   "source": [
    "# Séparation en données d'entrainement et de test\n",
    "X_train, X_test, y_train, y_test = dataset_prep.data_preparation_cnnlstm(df, sample=False)"
   ]
  },
  {
   "cell_type": "code",
   "execution_count": null,
   "metadata": {},
   "outputs": [],
   "source": [
    "#input shape cnn lstm : X_train.shape[1:]\n",
    "litterature_model = CNN_LSTM_1(X_train.shape[1:])\n",
    "\n",
    "callback = keras.callbacks.EarlyStopping(monitor='val_accuracy', patience=5, restore_best_weights=True)\n",
    "history = litterature_model.fit(X_train, y_train, epochs=10, batch_size=64, validation_split=0.3, callbacks=[callback])"
   ]
  },
  {
   "cell_type": "code",
   "execution_count": null,
   "metadata": {},
   "outputs": [],
   "source": [
    "print(f\"Evaluation du modèle : {litterature_model.evaluate(X_test, y_test)}\")\n",
    "\n",
    "y_pred = litterature_model.predict(X_test)\n",
    "preds = np.round(y_pred).astype(int)\n",
    "\n",
    "cm = confusion_matrix(y_test, preds, normalize='all')\n",
    "fig, ax = plt.subplots(figsize=(6,6)) \n",
    "\n",
    "sns.heatmap(cm, annot=True, cbar=False, cmap='Blues')\n",
    "plt.xlabel('Predicted Labels')\n",
    "plt.ylabel('True Labels')"
   ]
  },
  {
   "cell_type": "code",
   "execution_count": null,
   "metadata": {},
   "outputs": [],
   "source": [
    "history_df = pd.DataFrame(history.history)\n",
    "history_df.loc[:, ['accuracy', 'val_accuracy']].plot()"
   ]
  },
  {
   "cell_type": "code",
   "execution_count": null,
   "metadata": {},
   "outputs": [],
   "source": [
    "history_df.loc[:, ['loss', 'val_loss']].plot()"
   ]
  },
  {
   "attachments": {},
   "cell_type": "markdown",
   "metadata": {},
   "source": [
    "### Entrainement des modèles de littérature "
   ]
  },
  {
   "cell_type": "code",
   "execution_count": null,
   "metadata": {},
   "outputs": [],
   "source": [
    "EPOCHS = 20\n",
    "VAL_SPLIT = 0.3\n",
    "callback = keras.callbacks.EarlyStopping(monitor='val_accuracy', patience=4, restore_best_weights=True)\n",
    "\n",
    "evaluation_litterature = pd.DataFrame()\n",
    "for i in range(len(dataframes)):\n",
    "    X_train, X_test, y_train, y_test = dataset_prep.data_preparation(dataframes[i], sample=False)\n",
    "\n",
    "    # CNN LSTM n°2\n",
    "    # 43%\n",
    "    print(\"\\nTraining CNN_LSTM_2 model\\n\")\n",
    "    CNN_LSTM_2_model = CNN_LSTM_2(input_sequence_shape=X_train.shape[1:])\n",
    "    history = CNN_LSTM_2_model.fit(X_train, y_train, epochs=EPOCHS, batch_size=128, validation_split=VAL_SPLIT, callbacks=[callback])\n",
    "    eval=CNN_LSTM_2_model.evaluate(X_test, y_test)\n",
    "    evaluation_litterature = pd.concat([evaluation_litterature, pd.DataFrame({'dataset':[attack_types[i]], 'modele':['2-stacked-rnn'], 'accuracy':[eval[1]]})])\n",
    "    \n",
    "    # 3 stacked LSTM\n",
    "    #83,50%\n",
    "    print(\"\\nTraining 3_LSTM model\\n\")\n",
    "    three_LSTM_model = three_LSTM(input_sequence_shape=X_train.shape[1:])\n",
    "    history = three_LSTM_model.fit(X_train, y_train, epochs=EPOCHS, batch_size=128, validation_split=VAL_SPLIT, callbacks=[callback])\n",
    "    eval=three_LSTM_model.evaluate(X_test, y_test)\n",
    "    evaluation_litterature = pd.concat([evaluation_litterature, pd.DataFrame({'dataset':[attack_types[i]], 'modele':['2-stacked-rnn'], 'accuracy':[eval[1]]})])\n",
    "    \n",
    "    # 4 stacked LSTM\n",
    "    #83,79%\n",
    "    print(\"\\nTraining 4_LSTM model\\n\")\n",
    "    four_LSTM_model = four_LSTM(input_sequence_shape=X_train.shape[1:])\n",
    "    history = four_LSTM_model.fit(X_train, y_train, epochs=EPOCHS, batch_size=128, validation_split=VAL_SPLIT, callbacks=[callback])\n",
    "    eval=four_LSTM_model.evaluate(X_test, y_test)\n",
    "    evaluation_litterature = pd.concat([evaluation_litterature, pd.DataFrame({'dataset':[attack_types[i]], 'modele':['2-stacked-rnn'], 'accuracy':[eval[1]]})])\n",
    "    \n",
    "    # 5 stacked LSTM\n",
    "    #83,57%\n",
    "    print(\"\\nTraining 5_LSTM model\\n\")\n",
    "    five_LSTM_model = five_LSTM(input_sequence_shape=X_train.shape[1:])\n",
    "    history = five_LSTM_model.fit(X_train, y_train, epochs=EPOCHS, batch_size=128, validation_split=VAL_SPLIT, callbacks=[callback])\n",
    "    eval=five_LSTM_model.evaluate(X_test, y_test)\n",
    "    evaluation_litterature = pd.concat([evaluation_litterature, pd.DataFrame({'dataset':[attack_types[i]], 'modele':['2-stacked-rnn'], 'accuracy':[eval[1]]})])\n",
    "    \n",
    "    # 4 stacked LSTM n°2\n",
    "    #83,59%\n",
    "    print(\"\\nTraining LSTM model\\n\")\n",
    "    LSTM_model = LSTM_1(input_sequence_shape=X_train.shape[1:])\n",
    "    history = LSTM_model.fit(X_train, y_train, epochs=EPOCHS, batch_size=128, validation_split=VAL_SPLIT, callbacks=[callback])\n",
    "    eval=LSTM_model.evaluate(X_test, y_test)\n",
    "    evaluation_litterature = pd.concat([evaluation_litterature, pd.DataFrame({'dataset':[attack_types[i]], 'modele':['2-stacked-rnn'], 'accuracy':[eval[1]]})])\n",
    "    \n",
    "    # CNN LSTM n°3\n",
    "    #44,06%\n",
    "    print(\"\\nTraining CNN_LSTM_3 model\\n\")\n",
    "    CNN_LSTM_3_model = CNN_LSTM_3(input_sequence_shape=X_train.shape[1:])\n",
    "    history = CNN_LSTM_3_model.fit(X_train, y_train, epochs=EPOCHS, batch_size=128, validation_split=VAL_SPLIT, callbacks=[callback])\n",
    "    eval=CNN_LSTM_3_model.evaluate(X_test, y_test)\n",
    "    evaluation_litterature = pd.concat([evaluation_litterature, pd.DataFrame({'dataset':[attack_types[i]], 'modele':['2-stacked-rnn'], 'accuracy':[eval[1]]})])\n",
    "    "
   ]
  },
  {
   "cell_type": "code",
   "execution_count": null,
   "metadata": {},
   "outputs": [],
   "source": [
    "evaluation_litterature.to_csv('results_litterature.csv')"
   ]
  }
 ],
 "metadata": {
  "kernelspec": {
   "display_name": "cy",
   "language": "python",
   "name": "python3"
  },
  "language_info": {
   "codemirror_mode": {
    "name": "ipython",
    "version": 3
   },
   "file_extension": ".py",
   "mimetype": "text/x-python",
   "name": "python",
   "nbconvert_exporter": "python",
   "pygments_lexer": "ipython3",
   "version": "3.8.10"
  },
  "orig_nbformat": 4,
  "vscode": {
   "interpreter": {
    "hash": "62676a739a12458da1789023e3b8ff577b389322e46d1a1cbf9699674fd76d84"
   }
  }
 },
 "nbformat": 4,
 "nbformat_minor": 2
}
